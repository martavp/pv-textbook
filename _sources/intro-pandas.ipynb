{
 "cells": [
  {
   "cell_type": "markdown",
   "metadata": {},
   "source": [
    "# Introduction to `pandas`"
   ]
  },
  {
   "cell_type": "markdown",
   "metadata": {},
   "source": [
    ":::{note}\n",
    "This material is mostly adapted from the following resources:\n",
    "- [Earth and Environmental Data Science: Pandas](https://earth-env-data-science.github.io/lectures/pandas/pandas_intro.html)\n",
    "- [Python Programming for Data Science: Pandas](https://www.tomasbeuzen.com/python-programming-for-data-science/chapters/chapter7-pandas.html)\n",
    "- [Data Science for Energy System Modelling: Introduction to pandas](https://fneum.github.io/data-science-for-esm/03-workshop-pandas.html)\n",
    ":::"
   ]
  },
  {
   "cell_type": "markdown",
   "metadata": {},
   "source": [
    "<img src=\"https://pandas.pydata.org/static/img/pandas.svg\" width=\"300px\" />\n",
    "\n",
    "[Pandas](http://pandas.pydata.org/) is a an open source library providing high-performance, easy-to-use data structures and data analysis tools. Pandas is particularly suited to the analysis of _tabular_ data, i.e. data that can can go into a table. In other words, if you can imagine the data in an Excel spreadsheet, then Pandas is the tool for the job.\n",
    "\n",
    "- A fast and efficient DataFrame object for data manipulation with indexing;\n",
    "- Tools for reading and writing data: CSV and text files, Excel, SQL;\n",
    "- Intelligent data alignment and integrated handling of missing data;\n",
    "- Flexible reshaping and pivoting of data sets;\n",
    "- Intelligent label-based slicing, indexing, and subsetting of large data sets;\n",
    "- High performance aggregating, merging, joining or transforming data;\n",
    "- Hierarchical indexing provides an intuitive way of working with high-dimensional data;\n",
    "- Time series-functionality: date-based indexing, frequency conversion, moving windows, date shifting and lagging;"
   ]
  },
  {
   "cell_type": "markdown",
   "metadata": {},
   "source": [
    "<img src=\"https://media.geeksforgeeks.org/wp-content/cdn-uploads/creating_dataframe1.png\" width=\"720px\" />"
   ]
  },
  {
   "cell_type": "markdown",
   "metadata": {},
   "source": [
    ":::{note}\n",
    "Documentation for this package is available at https://pandas.pydata.org/docs/.\n",
    ":::"
   ]
  },
  {
   "cell_type": "markdown",
   "metadata": {},
   "source": [
    ":::{note}\n",
    "If you have not yet set up Python on your computer, you can execute this tutorial in your browser via [Google Colab](https://colab.research.google.com/). Click on the rocket in the top right corner and launch \"Colab\". If that doesn't work download the `.ipynb` file and import it in [Google Colab](https://colab.research.google.com/).\n",
    "\n",
    "Then install `pandas` and `numpy` by executing the following command in a Jupyter cell at the top of the notebook.\n",
    "\n",
    "```sh\n",
    "!pip install pandas numpy\n",
    "```\n",
    ":::"
   ]
  },
  {
   "cell_type": "code",
   "execution_count": 1,
   "metadata": {},
   "outputs": [],
   "source": [
    "import pandas as pd\n",
    "import numpy as np"
   ]
  },
  {
   "cell_type": "markdown",
   "metadata": {
    "tags": []
   },
   "source": [
    "## Pandas Data Structures: Series\n",
    "\n",
    "A Series represents a one-dimensional array of data. The main difference between a Series and numpy array is that a Series has an **index**. The index contains the labels that we use to access the data.\n",
    "\n",
    "There are many ways to [create a Series](https://pandas.pydata.org/pandas-docs/stable/dsintro.html#series). We will just show a few. The core constructor is [`pd.Series()`](https://pandas.pydata.org/docs/reference/api/pandas.Series.html).\n",
    "\n",
    "(Data are from Wikipedia's [List of photovoltaic power stations](https://en.wikipedia.org/wiki/List_of_photovoltaic_power_stations).)"
   ]
  },
  {
   "cell_type": "code",
   "execution_count": 2,
   "metadata": {},
   "outputs": [
    {
     "data": {
      "text/plain": [
       "Gonghe Talatan    10380\n",
       "Midong             3500\n",
       "Bhadla             2245\n",
       "dtype: int64"
      ]
     },
     "execution_count": 2,
     "metadata": {},
     "output_type": "execute_result"
    }
   ],
   "source": [
    "names = [\"Gonghe Talatan\", \"Midong\",\"Bhadla\"]\n",
    "values = [10380, 3500, 2245]\n",
    "s = pd.Series(values, index=names)\n",
    "s"
   ]
  },
  {
   "cell_type": "code",
   "execution_count": 3,
   "metadata": {},
   "outputs": [
    {
     "data": {
      "text/plain": [
       "Gonghe Talatan    10380\n",
       "Midong             3500\n",
       "Bhadla             2245\n",
       "dtype: int64"
      ]
     },
     "execution_count": 3,
     "metadata": {},
     "output_type": "execute_result"
    }
   ],
   "source": [
    "dictionary = {\n",
    "    \"Gonghe Talatan\": 10380, \n",
    "    \"Midong\": 3500,\n",
    "    \"Bhadla\": 2245\n",
    "}\n",
    "s = pd.Series(dictionary)\n",
    "s"
   ]
  },
  {
   "cell_type": "markdown",
   "metadata": {},
   "source": [
    "Arithmetic operations and most `numpy` functions can be applied to `pd.Series`.\n",
    "An important point is that the Series keep their index during such operations."
   ]
  },
  {
   "cell_type": "code",
   "execution_count": 4,
   "metadata": {},
   "outputs": [
    {
     "data": {
      "text/plain": [
       "Gonghe Talatan    0.090768\n",
       "Midong            0.137938\n",
       "Bhadla            0.162858\n",
       "dtype: float64"
      ]
     },
     "execution_count": 4,
     "metadata": {},
     "output_type": "execute_result"
    }
   ],
   "source": [
    "np.log(s) / s**0.5"
   ]
  },
  {
   "cell_type": "markdown",
   "metadata": {},
   "source": [
    "We can access the underlying index object if we need to:"
   ]
  },
  {
   "cell_type": "code",
   "execution_count": 5,
   "metadata": {},
   "outputs": [
    {
     "data": {
      "text/plain": [
       "Index(['Gonghe Talatan', 'Midong', 'Bhadla'], dtype='object')"
      ]
     },
     "execution_count": 5,
     "metadata": {},
     "output_type": "execute_result"
    }
   ],
   "source": [
    "s.index"
   ]
  },
  {
   "cell_type": "markdown",
   "metadata": {},
   "source": [
    "We can get values back out using the index via the `.loc` attribute"
   ]
  },
  {
   "cell_type": "code",
   "execution_count": 6,
   "metadata": {},
   "outputs": [
    {
     "data": {
      "text/plain": [
       "2245"
      ]
     },
     "execution_count": 6,
     "metadata": {},
     "output_type": "execute_result"
    }
   ],
   "source": [
    "s.loc[\"Bhadla\"]"
   ]
  },
  {
   "cell_type": "markdown",
   "metadata": {},
   "source": [
    "Or by raw position using `.iloc`"
   ]
  },
  {
   "cell_type": "code",
   "execution_count": 7,
   "metadata": {},
   "outputs": [
    {
     "data": {
      "text/plain": [
       "2245"
      ]
     },
     "execution_count": 7,
     "metadata": {},
     "output_type": "execute_result"
    }
   ],
   "source": [
    "s.iloc[2]"
   ]
  },
  {
   "cell_type": "markdown",
   "metadata": {},
   "source": [
    "We can pass a list or array to loc to get multiple rows back:"
   ]
  },
  {
   "cell_type": "code",
   "execution_count": 8,
   "metadata": {},
   "outputs": [
    {
     "data": {
      "text/plain": [
       "Gonghe Talatan    10380\n",
       "Midong             3500\n",
       "dtype: int64"
      ]
     },
     "execution_count": 8,
     "metadata": {},
     "output_type": "execute_result"
    }
   ],
   "source": [
    "s.loc[['Gonghe Talatan', 'Midong']]"
   ]
  },
  {
   "cell_type": "markdown",
   "metadata": {},
   "source": [
    "And we can even use slice notation"
   ]
  },
  {
   "cell_type": "code",
   "execution_count": 9,
   "metadata": {},
   "outputs": [
    {
     "data": {
      "text/plain": [
       "Gonghe Talatan    10380\n",
       "Midong             3500\n",
       "dtype: int64"
      ]
     },
     "execution_count": 9,
     "metadata": {},
     "output_type": "execute_result"
    }
   ],
   "source": [
    "s.loc['Gonghe Talatan': 'Midong']"
   ]
  },
  {
   "cell_type": "code",
   "execution_count": 10,
   "metadata": {},
   "outputs": [
    {
     "data": {
      "text/plain": [
       "Gonghe Talatan    10380\n",
       "Midong             3500\n",
       "dtype: int64"
      ]
     },
     "execution_count": 10,
     "metadata": {},
     "output_type": "execute_result"
    }
   ],
   "source": [
    "s.iloc[:2]"
   ]
  },
  {
   "cell_type": "markdown",
   "metadata": {},
   "source": [
    "If we need to, we can always get the raw data back out as well"
   ]
  },
  {
   "cell_type": "code",
   "execution_count": 11,
   "metadata": {},
   "outputs": [
    {
     "data": {
      "text/plain": [
       "array([10380,  3500,  2245], dtype=int64)"
      ]
     },
     "execution_count": 11,
     "metadata": {},
     "output_type": "execute_result"
    }
   ],
   "source": [
    "s.values  # a numpy array"
   ]
  },
  {
   "cell_type": "markdown",
   "metadata": {},
   "source": [
    "## Pandas Data Structures: DataFrame\n",
    "\n",
    "There is a lot more to Series, but they are limit to a single **column**. A more useful Pandas data structure is the **DataFrame**. A DataFrame is basically a bunch of series that share the same index. It's a lot like a table in a spreadsheet.\n",
    "\n",
    "The core constructor is `pd.DataFrame()`\n",
    "\n",
    "Below we create a DataFrame."
   ]
  },
  {
   "cell_type": "code",
   "execution_count": 12,
   "metadata": {},
   "outputs": [
    {
     "data": {
      "text/html": [
       "<div>\n",
       "<style scoped>\n",
       "    .dataframe tbody tr th:only-of-type {\n",
       "        vertical-align: middle;\n",
       "    }\n",
       "\n",
       "    .dataframe tbody tr th {\n",
       "        vertical-align: top;\n",
       "    }\n",
       "\n",
       "    .dataframe thead th {\n",
       "        text-align: right;\n",
       "    }\n",
       "</style>\n",
       "<table border=\"1\" class=\"dataframe\">\n",
       "  <thead>\n",
       "    <tr style=\"text-align: right;\">\n",
       "      <th></th>\n",
       "      <th>capacity</th>\n",
       "      <th>type</th>\n",
       "      <th>start_year</th>\n",
       "      <th>end_year</th>\n",
       "    </tr>\n",
       "  </thead>\n",
       "  <tbody>\n",
       "    <tr>\n",
       "      <td>Gonghe Talatan</td>\n",
       "      <td>10380</td>\n",
       "      <td>photovoltaic</td>\n",
       "      <td>2023</td>\n",
       "      <td>NaN</td>\n",
       "    </tr>\n",
       "    <tr>\n",
       "      <td>Midong</td>\n",
       "      <td>3500</td>\n",
       "      <td>photovoltaic</td>\n",
       "      <td>2024</td>\n",
       "      <td>NaN</td>\n",
       "    </tr>\n",
       "    <tr>\n",
       "      <td>Bhadla</td>\n",
       "      <td>2245</td>\n",
       "      <td>photovoltaic</td>\n",
       "      <td>2018</td>\n",
       "      <td>NaN</td>\n",
       "    </tr>\n",
       "  </tbody>\n",
       "</table>\n",
       "</div>"
      ],
      "text/plain": [
       "                capacity          type  start_year  end_year\n",
       "Gonghe Talatan     10380  photovoltaic        2023       NaN\n",
       "Midong              3500  photovoltaic        2024       NaN\n",
       "Bhadla              2245  photovoltaic        2018       NaN"
      ]
     },
     "execution_count": 12,
     "metadata": {},
     "output_type": "execute_result"
    }
   ],
   "source": [
    "# first we create a dictionary\n",
    "data = {\n",
    "    \"capacity\": [10380,  3500,  2245],  # MW\n",
    "    \"type\": [\"photovoltaic\", \"photovoltaic\", \"photovoltaic\"],\n",
    "    \"start_year\": [2023, 2024, 2018],\n",
    "    \"end_year\": [np.nan, np.nan, np.nan],\n",
    "}\n",
    "df = pd.DataFrame(data, index=[\"Gonghe Talatan\", \"Midong\",\"Bhadla\"])\n",
    "df"
   ]
  },
  {
   "cell_type": "markdown",
   "metadata": {},
   "source": [
    "We can also switch columns and rows very easily."
   ]
  },
  {
   "cell_type": "code",
   "execution_count": 13,
   "metadata": {},
   "outputs": [
    {
     "data": {
      "text/html": [
       "<div>\n",
       "<style scoped>\n",
       "    .dataframe tbody tr th:only-of-type {\n",
       "        vertical-align: middle;\n",
       "    }\n",
       "\n",
       "    .dataframe tbody tr th {\n",
       "        vertical-align: top;\n",
       "    }\n",
       "\n",
       "    .dataframe thead th {\n",
       "        text-align: right;\n",
       "    }\n",
       "</style>\n",
       "<table border=\"1\" class=\"dataframe\">\n",
       "  <thead>\n",
       "    <tr style=\"text-align: right;\">\n",
       "      <th></th>\n",
       "      <th>Gonghe Talatan</th>\n",
       "      <th>Midong</th>\n",
       "      <th>Bhadla</th>\n",
       "    </tr>\n",
       "  </thead>\n",
       "  <tbody>\n",
       "    <tr>\n",
       "      <td>capacity</td>\n",
       "      <td>10380</td>\n",
       "      <td>3500</td>\n",
       "      <td>2245</td>\n",
       "    </tr>\n",
       "    <tr>\n",
       "      <td>type</td>\n",
       "      <td>photovoltaic</td>\n",
       "      <td>photovoltaic</td>\n",
       "      <td>photovoltaic</td>\n",
       "    </tr>\n",
       "    <tr>\n",
       "      <td>start_year</td>\n",
       "      <td>2023</td>\n",
       "      <td>2024</td>\n",
       "      <td>2018</td>\n",
       "    </tr>\n",
       "    <tr>\n",
       "      <td>end_year</td>\n",
       "      <td>NaN</td>\n",
       "      <td>NaN</td>\n",
       "      <td>NaN</td>\n",
       "    </tr>\n",
       "  </tbody>\n",
       "</table>\n",
       "</div>"
      ],
      "text/plain": [
       "           Gonghe Talatan        Midong        Bhadla\n",
       "capacity            10380          3500          2245\n",
       "type         photovoltaic  photovoltaic  photovoltaic\n",
       "start_year           2023          2024          2018\n",
       "end_year              NaN           NaN           NaN"
      ]
     },
     "execution_count": 13,
     "metadata": {},
     "output_type": "execute_result"
    }
   ],
   "source": [
    "df.T"
   ]
  },
  {
   "cell_type": "markdown",
   "metadata": {},
   "source": [
    "A wide range of statistical functions are available on both Series and DataFrames."
   ]
  },
  {
   "cell_type": "code",
   "execution_count": 14,
   "metadata": {},
   "outputs": [
    {
     "data": {
      "text/plain": [
       "capacity              2245\n",
       "type          photovoltaic\n",
       "start_year            2018\n",
       "end_year              None\n",
       "dtype: object"
      ]
     },
     "execution_count": 14,
     "metadata": {},
     "output_type": "execute_result"
    }
   ],
   "source": [
    "df.min()"
   ]
  },
  {
   "cell_type": "code",
   "execution_count": 15,
   "metadata": {},
   "outputs": [
    {
     "data": {
      "text/plain": [
       "capacity      5375.000000\n",
       "start_year    2021.666667\n",
       "end_year              NaN\n",
       "dtype: float64"
      ]
     },
     "execution_count": 15,
     "metadata": {},
     "output_type": "execute_result"
    }
   ],
   "source": [
    "df.mean(numeric_only=True)"
   ]
  },
  {
   "cell_type": "code",
   "execution_count": 16,
   "metadata": {},
   "outputs": [
    {
     "data": {
      "text/plain": [
       "capacity      4379.64325\n",
       "start_year       3.21455\n",
       "end_year             NaN\n",
       "dtype: float64"
      ]
     },
     "execution_count": 16,
     "metadata": {},
     "output_type": "execute_result"
    }
   ],
   "source": [
    "df.std(numeric_only=True)"
   ]
  },
  {
   "cell_type": "code",
   "execution_count": 17,
   "metadata": {},
   "outputs": [
    {
     "data": {
      "text/html": [
       "<div>\n",
       "<style scoped>\n",
       "    .dataframe tbody tr th:only-of-type {\n",
       "        vertical-align: middle;\n",
       "    }\n",
       "\n",
       "    .dataframe tbody tr th {\n",
       "        vertical-align: top;\n",
       "    }\n",
       "\n",
       "    .dataframe thead th {\n",
       "        text-align: right;\n",
       "    }\n",
       "</style>\n",
       "<table border=\"1\" class=\"dataframe\">\n",
       "  <thead>\n",
       "    <tr style=\"text-align: right;\">\n",
       "      <th></th>\n",
       "      <th>capacity</th>\n",
       "      <th>start_year</th>\n",
       "      <th>end_year</th>\n",
       "    </tr>\n",
       "  </thead>\n",
       "  <tbody>\n",
       "    <tr>\n",
       "      <td>count</td>\n",
       "      <td>3.00000</td>\n",
       "      <td>3.000000</td>\n",
       "      <td>0.0</td>\n",
       "    </tr>\n",
       "    <tr>\n",
       "      <td>mean</td>\n",
       "      <td>5375.00000</td>\n",
       "      <td>2021.666667</td>\n",
       "      <td>NaN</td>\n",
       "    </tr>\n",
       "    <tr>\n",
       "      <td>std</td>\n",
       "      <td>4379.64325</td>\n",
       "      <td>3.214550</td>\n",
       "      <td>NaN</td>\n",
       "    </tr>\n",
       "    <tr>\n",
       "      <td>min</td>\n",
       "      <td>2245.00000</td>\n",
       "      <td>2018.000000</td>\n",
       "      <td>NaN</td>\n",
       "    </tr>\n",
       "    <tr>\n",
       "      <td>25%</td>\n",
       "      <td>2872.50000</td>\n",
       "      <td>2020.500000</td>\n",
       "      <td>NaN</td>\n",
       "    </tr>\n",
       "    <tr>\n",
       "      <td>50%</td>\n",
       "      <td>3500.00000</td>\n",
       "      <td>2023.000000</td>\n",
       "      <td>NaN</td>\n",
       "    </tr>\n",
       "    <tr>\n",
       "      <td>75%</td>\n",
       "      <td>6940.00000</td>\n",
       "      <td>2023.500000</td>\n",
       "      <td>NaN</td>\n",
       "    </tr>\n",
       "    <tr>\n",
       "      <td>max</td>\n",
       "      <td>10380.00000</td>\n",
       "      <td>2024.000000</td>\n",
       "      <td>NaN</td>\n",
       "    </tr>\n",
       "  </tbody>\n",
       "</table>\n",
       "</div>"
      ],
      "text/plain": [
       "          capacity   start_year  end_year\n",
       "count      3.00000     3.000000       0.0\n",
       "mean    5375.00000  2021.666667       NaN\n",
       "std     4379.64325     3.214550       NaN\n",
       "min     2245.00000  2018.000000       NaN\n",
       "25%     2872.50000  2020.500000       NaN\n",
       "50%     3500.00000  2023.000000       NaN\n",
       "75%     6940.00000  2023.500000       NaN\n",
       "max    10380.00000  2024.000000       NaN"
      ]
     },
     "execution_count": 17,
     "metadata": {},
     "output_type": "execute_result"
    }
   ],
   "source": [
    "df.describe()"
   ]
  },
  {
   "cell_type": "markdown",
   "metadata": {},
   "source": [
    "We can get a single column as a Series using python's getitem syntax on the DataFrame object."
   ]
  },
  {
   "cell_type": "code",
   "execution_count": 18,
   "metadata": {},
   "outputs": [
    {
     "data": {
      "text/plain": [
       "Gonghe Talatan    10380\n",
       "Midong             3500\n",
       "Bhadla             2245\n",
       "Name: capacity, dtype: int64"
      ]
     },
     "execution_count": 18,
     "metadata": {},
     "output_type": "execute_result"
    }
   ],
   "source": [
    "df[\"capacity\"]"
   ]
  },
  {
   "cell_type": "markdown",
   "metadata": {},
   "source": [
    "...or using attribute syntax."
   ]
  },
  {
   "cell_type": "code",
   "execution_count": 19,
   "metadata": {},
   "outputs": [
    {
     "data": {
      "text/plain": [
       "Gonghe Talatan    10380\n",
       "Midong             3500\n",
       "Bhadla             2245\n",
       "Name: capacity, dtype: int64"
      ]
     },
     "execution_count": 19,
     "metadata": {},
     "output_type": "execute_result"
    }
   ],
   "source": [
    "df.capacity"
   ]
  },
  {
   "cell_type": "markdown",
   "metadata": {},
   "source": [
    "Indexing works very similar to series"
   ]
  },
  {
   "cell_type": "code",
   "execution_count": 20,
   "metadata": {},
   "outputs": [
    {
     "data": {
      "text/plain": [
       "capacity              2245\n",
       "type          photovoltaic\n",
       "start_year            2018\n",
       "end_year               NaN\n",
       "Name: Bhadla, dtype: object"
      ]
     },
     "execution_count": 20,
     "metadata": {},
     "output_type": "execute_result"
    }
   ],
   "source": [
    "df.loc[\"Bhadla\"]"
   ]
  },
  {
   "cell_type": "code",
   "execution_count": 21,
   "metadata": {},
   "outputs": [
    {
     "data": {
      "text/plain": [
       "capacity              2245\n",
       "type          photovoltaic\n",
       "start_year            2018\n",
       "end_year               NaN\n",
       "Name: Bhadla, dtype: object"
      ]
     },
     "execution_count": 21,
     "metadata": {},
     "output_type": "execute_result"
    }
   ],
   "source": [
    "df.iloc[2]"
   ]
  },
  {
   "cell_type": "markdown",
   "metadata": {},
   "source": [
    "But we can also specify the column(s) and row(s) we want to access"
   ]
  },
  {
   "cell_type": "code",
   "execution_count": 22,
   "metadata": {},
   "outputs": [
    {
     "data": {
      "text/plain": [
       "2018"
      ]
     },
     "execution_count": 22,
     "metadata": {},
     "output_type": "execute_result"
    }
   ],
   "source": [
    "df.loc[\"Bhadla\", \"start_year\"]"
   ]
  },
  {
   "cell_type": "code",
   "execution_count": 23,
   "metadata": {},
   "outputs": [
    {
     "data": {
      "text/html": [
       "<div>\n",
       "<style scoped>\n",
       "    .dataframe tbody tr th:only-of-type {\n",
       "        vertical-align: middle;\n",
       "    }\n",
       "\n",
       "    .dataframe tbody tr th {\n",
       "        vertical-align: top;\n",
       "    }\n",
       "\n",
       "    .dataframe thead th {\n",
       "        text-align: right;\n",
       "    }\n",
       "</style>\n",
       "<table border=\"1\" class=\"dataframe\">\n",
       "  <thead>\n",
       "    <tr style=\"text-align: right;\">\n",
       "      <th></th>\n",
       "      <th>start_year</th>\n",
       "      <th>end_year</th>\n",
       "    </tr>\n",
       "  </thead>\n",
       "  <tbody>\n",
       "    <tr>\n",
       "      <td>Midong</td>\n",
       "      <td>2024</td>\n",
       "      <td>NaN</td>\n",
       "    </tr>\n",
       "    <tr>\n",
       "      <td>Bhadla</td>\n",
       "      <td>2018</td>\n",
       "      <td>NaN</td>\n",
       "    </tr>\n",
       "  </tbody>\n",
       "</table>\n",
       "</div>"
      ],
      "text/plain": [
       "        start_year  end_year\n",
       "Midong        2024       NaN\n",
       "Bhadla        2018       NaN"
      ]
     },
     "execution_count": 23,
     "metadata": {},
     "output_type": "execute_result"
    }
   ],
   "source": [
    "df.loc[[\"Midong\", \"Bhadla\"], [\"start_year\", \"end_year\"]]"
   ]
  },
  {
   "cell_type": "code",
   "execution_count": 24,
   "metadata": {},
   "outputs": [
    {
     "data": {
      "text/plain": [
       "Gonghe Talatan    8304.0\n",
       "Midong            2800.0\n",
       "Bhadla            1796.0\n",
       "Name: capacity, dtype: float64"
      ]
     },
     "execution_count": 24,
     "metadata": {},
     "output_type": "execute_result"
    }
   ],
   "source": [
    "df.capacity * 0.8"
   ]
  },
  {
   "cell_type": "markdown",
   "metadata": {},
   "source": [
    "Which we can easily add as another column to the DataFrame:"
   ]
  },
  {
   "cell_type": "code",
   "execution_count": 25,
   "metadata": {},
   "outputs": [
    {
     "data": {
      "text/html": [
       "<div>\n",
       "<style scoped>\n",
       "    .dataframe tbody tr th:only-of-type {\n",
       "        vertical-align: middle;\n",
       "    }\n",
       "\n",
       "    .dataframe tbody tr th {\n",
       "        vertical-align: top;\n",
       "    }\n",
       "\n",
       "    .dataframe thead th {\n",
       "        text-align: right;\n",
       "    }\n",
       "</style>\n",
       "<table border=\"1\" class=\"dataframe\">\n",
       "  <thead>\n",
       "    <tr style=\"text-align: right;\">\n",
       "      <th></th>\n",
       "      <th>capacity</th>\n",
       "      <th>type</th>\n",
       "      <th>start_year</th>\n",
       "      <th>end_year</th>\n",
       "      <th>reduced_capacity</th>\n",
       "    </tr>\n",
       "  </thead>\n",
       "  <tbody>\n",
       "    <tr>\n",
       "      <td>Gonghe Talatan</td>\n",
       "      <td>10380</td>\n",
       "      <td>photovoltaic</td>\n",
       "      <td>2023</td>\n",
       "      <td>NaN</td>\n",
       "      <td>8304.0</td>\n",
       "    </tr>\n",
       "    <tr>\n",
       "      <td>Midong</td>\n",
       "      <td>3500</td>\n",
       "      <td>photovoltaic</td>\n",
       "      <td>2024</td>\n",
       "      <td>NaN</td>\n",
       "      <td>2800.0</td>\n",
       "    </tr>\n",
       "    <tr>\n",
       "      <td>Bhadla</td>\n",
       "      <td>2245</td>\n",
       "      <td>photovoltaic</td>\n",
       "      <td>2018</td>\n",
       "      <td>NaN</td>\n",
       "      <td>1796.0</td>\n",
       "    </tr>\n",
       "  </tbody>\n",
       "</table>\n",
       "</div>"
      ],
      "text/plain": [
       "                capacity          type  start_year  end_year  reduced_capacity\n",
       "Gonghe Talatan     10380  photovoltaic        2023       NaN            8304.0\n",
       "Midong              3500  photovoltaic        2024       NaN            2800.0\n",
       "Bhadla              2245  photovoltaic        2018       NaN            1796.0"
      ]
     },
     "execution_count": 25,
     "metadata": {},
     "output_type": "execute_result"
    }
   ],
   "source": [
    "df[\"reduced_capacity\"] = df.capacity * 0.8\n",
    "df"
   ]
  },
  {
   "cell_type": "markdown",
   "metadata": {},
   "source": [
    "We can also remove columns or rows from a DataFrame:"
   ]
  },
  {
   "cell_type": "code",
   "execution_count": 26,
   "metadata": {},
   "outputs": [
    {
     "data": {
      "text/html": [
       "<div>\n",
       "<style scoped>\n",
       "    .dataframe tbody tr th:only-of-type {\n",
       "        vertical-align: middle;\n",
       "    }\n",
       "\n",
       "    .dataframe tbody tr th {\n",
       "        vertical-align: top;\n",
       "    }\n",
       "\n",
       "    .dataframe thead th {\n",
       "        text-align: right;\n",
       "    }\n",
       "</style>\n",
       "<table border=\"1\" class=\"dataframe\">\n",
       "  <thead>\n",
       "    <tr style=\"text-align: right;\">\n",
       "      <th></th>\n",
       "      <th>capacity</th>\n",
       "      <th>type</th>\n",
       "      <th>start_year</th>\n",
       "      <th>end_year</th>\n",
       "    </tr>\n",
       "  </thead>\n",
       "  <tbody>\n",
       "    <tr>\n",
       "      <td>Gonghe Talatan</td>\n",
       "      <td>10380</td>\n",
       "      <td>photovoltaic</td>\n",
       "      <td>2023</td>\n",
       "      <td>NaN</td>\n",
       "    </tr>\n",
       "    <tr>\n",
       "      <td>Midong</td>\n",
       "      <td>3500</td>\n",
       "      <td>photovoltaic</td>\n",
       "      <td>2024</td>\n",
       "      <td>NaN</td>\n",
       "    </tr>\n",
       "    <tr>\n",
       "      <td>Bhadla</td>\n",
       "      <td>2245</td>\n",
       "      <td>photovoltaic</td>\n",
       "      <td>2018</td>\n",
       "      <td>NaN</td>\n",
       "    </tr>\n",
       "  </tbody>\n",
       "</table>\n",
       "</div>"
      ],
      "text/plain": [
       "                capacity          type  start_year  end_year\n",
       "Gonghe Talatan     10380  photovoltaic        2023       NaN\n",
       "Midong              3500  photovoltaic        2024       NaN\n",
       "Bhadla              2245  photovoltaic        2018       NaN"
      ]
     },
     "execution_count": 26,
     "metadata": {},
     "output_type": "execute_result"
    }
   ],
   "source": [
    "df.drop(\"reduced_capacity\", axis=\"columns\")"
   ]
  },
  {
   "cell_type": "markdown",
   "metadata": {},
   "source": [
    "We can update the variable `df` by either overwriting `df` or passing an `inplace` keyword:"
   ]
  },
  {
   "cell_type": "code",
   "execution_count": 27,
   "metadata": {},
   "outputs": [],
   "source": [
    "df.drop(\"reduced_capacity\", axis=\"columns\", inplace=True)"
   ]
  },
  {
   "cell_type": "raw",
   "metadata": {},
   "source": [
    "df = df.drop(\"reduced_capacity\", axis='columns')"
   ]
  },
  {
   "cell_type": "markdown",
   "metadata": {},
   "source": [
    "We can also drop columns with only NaN values"
   ]
  },
  {
   "cell_type": "code",
   "execution_count": 28,
   "metadata": {},
   "outputs": [
    {
     "data": {
      "text/html": [
       "<div>\n",
       "<style scoped>\n",
       "    .dataframe tbody tr th:only-of-type {\n",
       "        vertical-align: middle;\n",
       "    }\n",
       "\n",
       "    .dataframe tbody tr th {\n",
       "        vertical-align: top;\n",
       "    }\n",
       "\n",
       "    .dataframe thead th {\n",
       "        text-align: right;\n",
       "    }\n",
       "</style>\n",
       "<table border=\"1\" class=\"dataframe\">\n",
       "  <thead>\n",
       "    <tr style=\"text-align: right;\">\n",
       "      <th></th>\n",
       "      <th>capacity</th>\n",
       "      <th>type</th>\n",
       "      <th>start_year</th>\n",
       "    </tr>\n",
       "  </thead>\n",
       "  <tbody>\n",
       "    <tr>\n",
       "      <td>Gonghe Talatan</td>\n",
       "      <td>10380</td>\n",
       "      <td>photovoltaic</td>\n",
       "      <td>2023</td>\n",
       "    </tr>\n",
       "    <tr>\n",
       "      <td>Midong</td>\n",
       "      <td>3500</td>\n",
       "      <td>photovoltaic</td>\n",
       "      <td>2024</td>\n",
       "    </tr>\n",
       "    <tr>\n",
       "      <td>Bhadla</td>\n",
       "      <td>2245</td>\n",
       "      <td>photovoltaic</td>\n",
       "      <td>2018</td>\n",
       "    </tr>\n",
       "  </tbody>\n",
       "</table>\n",
       "</div>"
      ],
      "text/plain": [
       "                capacity          type  start_year\n",
       "Gonghe Talatan     10380  photovoltaic        2023\n",
       "Midong              3500  photovoltaic        2024\n",
       "Bhadla              2245  photovoltaic        2018"
      ]
     },
     "execution_count": 28,
     "metadata": {},
     "output_type": "execute_result"
    }
   ],
   "source": [
    "df.dropna(axis=1)"
   ]
  },
  {
   "cell_type": "markdown",
   "metadata": {},
   "source": [
    "Or fill it up with default \"fallback\" data:"
   ]
  },
  {
   "cell_type": "code",
   "execution_count": 29,
   "metadata": {},
   "outputs": [
    {
     "data": {
      "text/html": [
       "<div>\n",
       "<style scoped>\n",
       "    .dataframe tbody tr th:only-of-type {\n",
       "        vertical-align: middle;\n",
       "    }\n",
       "\n",
       "    .dataframe tbody tr th {\n",
       "        vertical-align: top;\n",
       "    }\n",
       "\n",
       "    .dataframe thead th {\n",
       "        text-align: right;\n",
       "    }\n",
       "</style>\n",
       "<table border=\"1\" class=\"dataframe\">\n",
       "  <thead>\n",
       "    <tr style=\"text-align: right;\">\n",
       "      <th></th>\n",
       "      <th>capacity</th>\n",
       "      <th>type</th>\n",
       "      <th>start_year</th>\n",
       "      <th>end_year</th>\n",
       "    </tr>\n",
       "  </thead>\n",
       "  <tbody>\n",
       "    <tr>\n",
       "      <td>Gonghe Talatan</td>\n",
       "      <td>10380</td>\n",
       "      <td>photovoltaic</td>\n",
       "      <td>2023</td>\n",
       "      <td>2050.0</td>\n",
       "    </tr>\n",
       "    <tr>\n",
       "      <td>Midong</td>\n",
       "      <td>3500</td>\n",
       "      <td>photovoltaic</td>\n",
       "      <td>2024</td>\n",
       "      <td>2050.0</td>\n",
       "    </tr>\n",
       "    <tr>\n",
       "      <td>Bhadla</td>\n",
       "      <td>2245</td>\n",
       "      <td>photovoltaic</td>\n",
       "      <td>2018</td>\n",
       "      <td>2050.0</td>\n",
       "    </tr>\n",
       "  </tbody>\n",
       "</table>\n",
       "</div>"
      ],
      "text/plain": [
       "                capacity          type  start_year  end_year\n",
       "Gonghe Talatan     10380  photovoltaic        2023    2050.0\n",
       "Midong              3500  photovoltaic        2024    2050.0\n",
       "Bhadla              2245  photovoltaic        2018    2050.0"
      ]
     },
     "execution_count": 29,
     "metadata": {},
     "output_type": "execute_result"
    }
   ],
   "source": [
    "df.fillna(2050)"
   ]
  },
  {
   "cell_type": "markdown",
   "metadata": {},
   "source": [
    "Say, we already have one value for `end_year` and want to fill up the missing data:"
   ]
  },
  {
   "cell_type": "code",
   "execution_count": 30,
   "metadata": {},
   "outputs": [],
   "source": [
    "df.loc[\"Bhadla\", \"end_year\"] = 2050"
   ]
  },
  {
   "cell_type": "code",
   "execution_count": 31,
   "metadata": {},
   "outputs": [
    {
     "data": {
      "text/html": [
       "<div>\n",
       "<style scoped>\n",
       "    .dataframe tbody tr th:only-of-type {\n",
       "        vertical-align: middle;\n",
       "    }\n",
       "\n",
       "    .dataframe tbody tr th {\n",
       "        vertical-align: top;\n",
       "    }\n",
       "\n",
       "    .dataframe thead th {\n",
       "        text-align: right;\n",
       "    }\n",
       "</style>\n",
       "<table border=\"1\" class=\"dataframe\">\n",
       "  <thead>\n",
       "    <tr style=\"text-align: right;\">\n",
       "      <th></th>\n",
       "      <th>capacity</th>\n",
       "      <th>type</th>\n",
       "      <th>start_year</th>\n",
       "      <th>end_year</th>\n",
       "    </tr>\n",
       "  </thead>\n",
       "  <tbody>\n",
       "    <tr>\n",
       "      <td>Gonghe Talatan</td>\n",
       "      <td>10380</td>\n",
       "      <td>photovoltaic</td>\n",
       "      <td>2023</td>\n",
       "      <td>2050.0</td>\n",
       "    </tr>\n",
       "    <tr>\n",
       "      <td>Midong</td>\n",
       "      <td>3500</td>\n",
       "      <td>photovoltaic</td>\n",
       "      <td>2024</td>\n",
       "      <td>2050.0</td>\n",
       "    </tr>\n",
       "    <tr>\n",
       "      <td>Bhadla</td>\n",
       "      <td>2245</td>\n",
       "      <td>photovoltaic</td>\n",
       "      <td>2018</td>\n",
       "      <td>2050.0</td>\n",
       "    </tr>\n",
       "  </tbody>\n",
       "</table>\n",
       "</div>"
      ],
      "text/plain": [
       "                capacity          type  start_year  end_year\n",
       "Gonghe Talatan     10380  photovoltaic        2023    2050.0\n",
       "Midong              3500  photovoltaic        2024    2050.0\n",
       "Bhadla              2245  photovoltaic        2018    2050.0"
      ]
     },
     "execution_count": 31,
     "metadata": {},
     "output_type": "execute_result"
    }
   ],
   "source": [
    "# backward (upwards) fill from non-nan values\n",
    "df.fillna(method=\"bfill\")"
   ]
  },
  {
   "cell_type": "markdown",
   "metadata": {},
   "source": [
    "## Sorting Data"
   ]
  },
  {
   "cell_type": "markdown",
   "metadata": {},
   "source": [
    "We can also sort the entries in dataframes, e.g. alphabetically by index or numerically by column values"
   ]
  },
  {
   "cell_type": "code",
   "execution_count": 32,
   "metadata": {},
   "outputs": [
    {
     "data": {
      "text/html": [
       "<div>\n",
       "<style scoped>\n",
       "    .dataframe tbody tr th:only-of-type {\n",
       "        vertical-align: middle;\n",
       "    }\n",
       "\n",
       "    .dataframe tbody tr th {\n",
       "        vertical-align: top;\n",
       "    }\n",
       "\n",
       "    .dataframe thead th {\n",
       "        text-align: right;\n",
       "    }\n",
       "</style>\n",
       "<table border=\"1\" class=\"dataframe\">\n",
       "  <thead>\n",
       "    <tr style=\"text-align: right;\">\n",
       "      <th></th>\n",
       "      <th>capacity</th>\n",
       "      <th>type</th>\n",
       "      <th>start_year</th>\n",
       "      <th>end_year</th>\n",
       "    </tr>\n",
       "  </thead>\n",
       "  <tbody>\n",
       "    <tr>\n",
       "      <td>Bhadla</td>\n",
       "      <td>2245</td>\n",
       "      <td>photovoltaic</td>\n",
       "      <td>2018</td>\n",
       "      <td>2050.0</td>\n",
       "    </tr>\n",
       "    <tr>\n",
       "      <td>Gonghe Talatan</td>\n",
       "      <td>10380</td>\n",
       "      <td>photovoltaic</td>\n",
       "      <td>2023</td>\n",
       "      <td>NaN</td>\n",
       "    </tr>\n",
       "    <tr>\n",
       "      <td>Midong</td>\n",
       "      <td>3500</td>\n",
       "      <td>photovoltaic</td>\n",
       "      <td>2024</td>\n",
       "      <td>NaN</td>\n",
       "    </tr>\n",
       "  </tbody>\n",
       "</table>\n",
       "</div>"
      ],
      "text/plain": [
       "                capacity          type  start_year  end_year\n",
       "Bhadla              2245  photovoltaic        2018    2050.0\n",
       "Gonghe Talatan     10380  photovoltaic        2023       NaN\n",
       "Midong              3500  photovoltaic        2024       NaN"
      ]
     },
     "execution_count": 32,
     "metadata": {},
     "output_type": "execute_result"
    }
   ],
   "source": [
    "df.sort_index()"
   ]
  },
  {
   "cell_type": "code",
   "execution_count": 33,
   "metadata": {},
   "outputs": [
    {
     "data": {
      "text/html": [
       "<div>\n",
       "<style scoped>\n",
       "    .dataframe tbody tr th:only-of-type {\n",
       "        vertical-align: middle;\n",
       "    }\n",
       "\n",
       "    .dataframe tbody tr th {\n",
       "        vertical-align: top;\n",
       "    }\n",
       "\n",
       "    .dataframe thead th {\n",
       "        text-align: right;\n",
       "    }\n",
       "</style>\n",
       "<table border=\"1\" class=\"dataframe\">\n",
       "  <thead>\n",
       "    <tr style=\"text-align: right;\">\n",
       "      <th></th>\n",
       "      <th>capacity</th>\n",
       "      <th>type</th>\n",
       "      <th>start_year</th>\n",
       "      <th>end_year</th>\n",
       "    </tr>\n",
       "  </thead>\n",
       "  <tbody>\n",
       "    <tr>\n",
       "      <td>Gonghe Talatan</td>\n",
       "      <td>10380</td>\n",
       "      <td>photovoltaic</td>\n",
       "      <td>2023</td>\n",
       "      <td>NaN</td>\n",
       "    </tr>\n",
       "    <tr>\n",
       "      <td>Midong</td>\n",
       "      <td>3500</td>\n",
       "      <td>photovoltaic</td>\n",
       "      <td>2024</td>\n",
       "      <td>NaN</td>\n",
       "    </tr>\n",
       "    <tr>\n",
       "      <td>Bhadla</td>\n",
       "      <td>2245</td>\n",
       "      <td>photovoltaic</td>\n",
       "      <td>2018</td>\n",
       "      <td>2050.0</td>\n",
       "    </tr>\n",
       "  </tbody>\n",
       "</table>\n",
       "</div>"
      ],
      "text/plain": [
       "                capacity          type  start_year  end_year\n",
       "Gonghe Talatan     10380  photovoltaic        2023       NaN\n",
       "Midong              3500  photovoltaic        2024       NaN\n",
       "Bhadla              2245  photovoltaic        2018    2050.0"
      ]
     },
     "execution_count": 33,
     "metadata": {},
     "output_type": "execute_result"
    }
   ],
   "source": [
    "df.sort_values(by=\"capacity\", ascending=False)"
   ]
  },
  {
   "cell_type": "markdown",
   "metadata": {},
   "source": [
    "If we make a calculation using columns from the DataFrame, it will keep the same index:"
   ]
  },
  {
   "cell_type": "markdown",
   "metadata": {},
   "source": [
    "## Merging Data\n",
    "\n",
    "Pandas supports a wide range of methods for merging different datasets. These are described extensively in the [documentation](https://pandas.pydata.org/pandas-docs/stable/merging.html). Here we just give a few examples."
   ]
  },
  {
   "cell_type": "code",
   "execution_count": 34,
   "metadata": {},
   "outputs": [
    {
     "data": {
      "text/html": [
       "<div>\n",
       "<style scoped>\n",
       "    .dataframe tbody tr th:only-of-type {\n",
       "        vertical-align: middle;\n",
       "    }\n",
       "\n",
       "    .dataframe tbody tr th {\n",
       "        vertical-align: top;\n",
       "    }\n",
       "\n",
       "    .dataframe thead th {\n",
       "        text-align: right;\n",
       "    }\n",
       "</style>\n",
       "<table border=\"1\" class=\"dataframe\">\n",
       "  <thead>\n",
       "    <tr style=\"text-align: right;\">\n",
       "      <th></th>\n",
       "      <th>capacity</th>\n",
       "      <th>type</th>\n",
       "      <th>start_year</th>\n",
       "    </tr>\n",
       "  </thead>\n",
       "  <tbody>\n",
       "    <tr>\n",
       "      <td>Pavagada</td>\n",
       "      <td>2050</td>\n",
       "      <td>photovoltaic</td>\n",
       "      <td>2019</td>\n",
       "    </tr>\n",
       "    <tr>\n",
       "      <td>Benban</td>\n",
       "      <td>1650</td>\n",
       "      <td>photovoltaic</td>\n",
       "      <td>2019</td>\n",
       "    </tr>\n",
       "    <tr>\n",
       "      <td>Kalyon Karapinar</td>\n",
       "      <td>1350</td>\n",
       "      <td>photovoltaic</td>\n",
       "      <td>2021</td>\n",
       "    </tr>\n",
       "  </tbody>\n",
       "</table>\n",
       "</div>"
      ],
      "text/plain": [
       "                  capacity          type  start_year\n",
       "Pavagada              2050  photovoltaic        2019\n",
       "Benban                1650  photovoltaic        2019\n",
       "Kalyon Karapinar      1350  photovoltaic        2021"
      ]
     },
     "execution_count": 34,
     "metadata": {},
     "output_type": "execute_result"
    }
   ],
   "source": [
    "data = {\n",
    "    \"capacity\": [2050, 1650, 1350],  # MW\n",
    "    \"type\": [\"photovoltaic\", \"photovoltaic\",\"photovoltaic\",],\n",
    "    \"start_year\": [2019, 2019, 2021],\n",
    "}\n",
    "df2 = pd.DataFrame(data, index=[\"Pavagada\", \"Benban\", \"Kalyon Karapinar\"])\n",
    "df2"
   ]
  },
  {
   "cell_type": "markdown",
   "metadata": {},
   "source": [
    "We can now add this additional data to the `df` object"
   ]
  },
  {
   "cell_type": "code",
   "execution_count": 35,
   "metadata": {},
   "outputs": [
    {
     "name": "stderr",
     "output_type": "stream",
     "text": [
      "C:\\ProgramData\\Anaconda3\\lib\\site-packages\\ipykernel_launcher.py:1: FutureWarning: Sorting because non-concatenation axis is not aligned. A future version\n",
      "of pandas will change to not sort by default.\n",
      "\n",
      "To accept the future behavior, pass 'sort=False'.\n",
      "\n",
      "To retain the current behavior and silence the warning, pass 'sort=True'.\n",
      "\n",
      "  \"\"\"Entry point for launching an IPython kernel.\n"
     ]
    },
    {
     "data": {
      "text/html": [
       "<div>\n",
       "<style scoped>\n",
       "    .dataframe tbody tr th:only-of-type {\n",
       "        vertical-align: middle;\n",
       "    }\n",
       "\n",
       "    .dataframe tbody tr th {\n",
       "        vertical-align: top;\n",
       "    }\n",
       "\n",
       "    .dataframe thead th {\n",
       "        text-align: right;\n",
       "    }\n",
       "</style>\n",
       "<table border=\"1\" class=\"dataframe\">\n",
       "  <thead>\n",
       "    <tr style=\"text-align: right;\">\n",
       "      <th></th>\n",
       "      <th>capacity</th>\n",
       "      <th>end_year</th>\n",
       "      <th>start_year</th>\n",
       "      <th>type</th>\n",
       "    </tr>\n",
       "  </thead>\n",
       "  <tbody>\n",
       "    <tr>\n",
       "      <td>Gonghe Talatan</td>\n",
       "      <td>10380</td>\n",
       "      <td>NaN</td>\n",
       "      <td>2023</td>\n",
       "      <td>photovoltaic</td>\n",
       "    </tr>\n",
       "    <tr>\n",
       "      <td>Midong</td>\n",
       "      <td>3500</td>\n",
       "      <td>NaN</td>\n",
       "      <td>2024</td>\n",
       "      <td>photovoltaic</td>\n",
       "    </tr>\n",
       "    <tr>\n",
       "      <td>Bhadla</td>\n",
       "      <td>2245</td>\n",
       "      <td>2050.0</td>\n",
       "      <td>2018</td>\n",
       "      <td>photovoltaic</td>\n",
       "    </tr>\n",
       "    <tr>\n",
       "      <td>Pavagada</td>\n",
       "      <td>2050</td>\n",
       "      <td>NaN</td>\n",
       "      <td>2019</td>\n",
       "      <td>photovoltaic</td>\n",
       "    </tr>\n",
       "    <tr>\n",
       "      <td>Benban</td>\n",
       "      <td>1650</td>\n",
       "      <td>NaN</td>\n",
       "      <td>2019</td>\n",
       "      <td>photovoltaic</td>\n",
       "    </tr>\n",
       "    <tr>\n",
       "      <td>Kalyon Karapinar</td>\n",
       "      <td>1350</td>\n",
       "      <td>NaN</td>\n",
       "      <td>2021</td>\n",
       "      <td>photovoltaic</td>\n",
       "    </tr>\n",
       "  </tbody>\n",
       "</table>\n",
       "</div>"
      ],
      "text/plain": [
       "                  capacity  end_year  start_year          type\n",
       "Gonghe Talatan       10380       NaN        2023  photovoltaic\n",
       "Midong                3500       NaN        2024  photovoltaic\n",
       "Bhadla                2245    2050.0        2018  photovoltaic\n",
       "Pavagada              2050       NaN        2019  photovoltaic\n",
       "Benban                1650       NaN        2019  photovoltaic\n",
       "Kalyon Karapinar      1350       NaN        2021  photovoltaic"
      ]
     },
     "execution_count": 35,
     "metadata": {},
     "output_type": "execute_result"
    }
   ],
   "source": [
    "df = pd.concat([df, df2])\n",
    "df"
   ]
  },
  {
   "cell_type": "markdown",
   "metadata": {
    "tags": []
   },
   "source": [
    "## Filtering Data"
   ]
  },
  {
   "cell_type": "markdown",
   "metadata": {},
   "source": [
    "We can also filter a DataFrame using a boolean series obtained from a condition. This is very useful to build subsets of the DataFrame."
   ]
  },
  {
   "cell_type": "code",
   "execution_count": 36,
   "metadata": {},
   "outputs": [
    {
     "data": {
      "text/plain": [
       "Gonghe Talatan       True\n",
       "Midong               True\n",
       "Bhadla               True\n",
       "Pavagada             True\n",
       "Benban              False\n",
       "Kalyon Karapinar    False\n",
       "Name: capacity, dtype: bool"
      ]
     },
     "execution_count": 36,
     "metadata": {},
     "output_type": "execute_result"
    }
   ],
   "source": [
    "df.capacity > 2000"
   ]
  },
  {
   "cell_type": "code",
   "execution_count": 37,
   "metadata": {},
   "outputs": [
    {
     "data": {
      "text/html": [
       "<div>\n",
       "<style scoped>\n",
       "    .dataframe tbody tr th:only-of-type {\n",
       "        vertical-align: middle;\n",
       "    }\n",
       "\n",
       "    .dataframe tbody tr th {\n",
       "        vertical-align: top;\n",
       "    }\n",
       "\n",
       "    .dataframe thead th {\n",
       "        text-align: right;\n",
       "    }\n",
       "</style>\n",
       "<table border=\"1\" class=\"dataframe\">\n",
       "  <thead>\n",
       "    <tr style=\"text-align: right;\">\n",
       "      <th></th>\n",
       "      <th>capacity</th>\n",
       "      <th>end_year</th>\n",
       "      <th>start_year</th>\n",
       "      <th>type</th>\n",
       "    </tr>\n",
       "  </thead>\n",
       "  <tbody>\n",
       "    <tr>\n",
       "      <td>Gonghe Talatan</td>\n",
       "      <td>10380</td>\n",
       "      <td>NaN</td>\n",
       "      <td>2023</td>\n",
       "      <td>photovoltaic</td>\n",
       "    </tr>\n",
       "    <tr>\n",
       "      <td>Midong</td>\n",
       "      <td>3500</td>\n",
       "      <td>NaN</td>\n",
       "      <td>2024</td>\n",
       "      <td>photovoltaic</td>\n",
       "    </tr>\n",
       "    <tr>\n",
       "      <td>Bhadla</td>\n",
       "      <td>2245</td>\n",
       "      <td>2050.0</td>\n",
       "      <td>2018</td>\n",
       "      <td>photovoltaic</td>\n",
       "    </tr>\n",
       "    <tr>\n",
       "      <td>Pavagada</td>\n",
       "      <td>2050</td>\n",
       "      <td>NaN</td>\n",
       "      <td>2019</td>\n",
       "      <td>photovoltaic</td>\n",
       "    </tr>\n",
       "  </tbody>\n",
       "</table>\n",
       "</div>"
      ],
      "text/plain": [
       "                capacity  end_year  start_year          type\n",
       "Gonghe Talatan     10380       NaN        2023  photovoltaic\n",
       "Midong              3500       NaN        2024  photovoltaic\n",
       "Bhadla              2245    2050.0        2018  photovoltaic\n",
       "Pavagada            2050       NaN        2019  photovoltaic"
      ]
     },
     "execution_count": 37,
     "metadata": {},
     "output_type": "execute_result"
    }
   ],
   "source": [
    "df[df.capacity > 2000]"
   ]
  },
  {
   "cell_type": "markdown",
   "metadata": {},
   "source": [
    "We can also combine multiple conditions, but we need to wrap the conditions with brackets!"
   ]
  },
  {
   "cell_type": "code",
   "execution_count": 38,
   "metadata": {},
   "outputs": [
    {
     "data": {
      "text/html": [
       "<div>\n",
       "<style scoped>\n",
       "    .dataframe tbody tr th:only-of-type {\n",
       "        vertical-align: middle;\n",
       "    }\n",
       "\n",
       "    .dataframe tbody tr th {\n",
       "        vertical-align: top;\n",
       "    }\n",
       "\n",
       "    .dataframe thead th {\n",
       "        text-align: right;\n",
       "    }\n",
       "</style>\n",
       "<table border=\"1\" class=\"dataframe\">\n",
       "  <thead>\n",
       "    <tr style=\"text-align: right;\">\n",
       "      <th></th>\n",
       "      <th>capacity</th>\n",
       "      <th>end_year</th>\n",
       "      <th>start_year</th>\n",
       "      <th>type</th>\n",
       "    </tr>\n",
       "  </thead>\n",
       "  <tbody>\n",
       "    <tr>\n",
       "      <td>Gonghe Talatan</td>\n",
       "      <td>10380</td>\n",
       "      <td>NaN</td>\n",
       "      <td>2023</td>\n",
       "      <td>photovoltaic</td>\n",
       "    </tr>\n",
       "    <tr>\n",
       "      <td>Midong</td>\n",
       "      <td>3500</td>\n",
       "      <td>NaN</td>\n",
       "      <td>2024</td>\n",
       "      <td>photovoltaic</td>\n",
       "    </tr>\n",
       "  </tbody>\n",
       "</table>\n",
       "</div>"
      ],
      "text/plain": [
       "                capacity  end_year  start_year          type\n",
       "Gonghe Talatan     10380       NaN        2023  photovoltaic\n",
       "Midong              3500       NaN        2024  photovoltaic"
      ]
     },
     "execution_count": 38,
     "metadata": {},
     "output_type": "execute_result"
    }
   ],
   "source": [
    "df[(df.capacity > 2000) & (df.start_year >= 2020)]"
   ]
  },
  {
   "cell_type": "markdown",
   "metadata": {},
   "source": [
    "Or we make [SQL-like](https://en.wikipedia.org/wiki/SQL) queries:"
   ]
  },
  {
   "cell_type": "code",
   "execution_count": 39,
   "metadata": {},
   "outputs": [
    {
     "data": {
      "text/html": [
       "<div>\n",
       "<style scoped>\n",
       "    .dataframe tbody tr th:only-of-type {\n",
       "        vertical-align: middle;\n",
       "    }\n",
       "\n",
       "    .dataframe tbody tr th {\n",
       "        vertical-align: top;\n",
       "    }\n",
       "\n",
       "    .dataframe thead th {\n",
       "        text-align: right;\n",
       "    }\n",
       "</style>\n",
       "<table border=\"1\" class=\"dataframe\">\n",
       "  <thead>\n",
       "    <tr style=\"text-align: right;\">\n",
       "      <th></th>\n",
       "      <th>capacity</th>\n",
       "      <th>end_year</th>\n",
       "      <th>start_year</th>\n",
       "      <th>type</th>\n",
       "    </tr>\n",
       "  </thead>\n",
       "  <tbody>\n",
       "    <tr>\n",
       "      <td>Pavagada</td>\n",
       "      <td>2050</td>\n",
       "      <td>NaN</td>\n",
       "      <td>2019</td>\n",
       "      <td>photovoltaic</td>\n",
       "    </tr>\n",
       "    <tr>\n",
       "      <td>Benban</td>\n",
       "      <td>1650</td>\n",
       "      <td>NaN</td>\n",
       "      <td>2019</td>\n",
       "      <td>photovoltaic</td>\n",
       "    </tr>\n",
       "  </tbody>\n",
       "</table>\n",
       "</div>"
      ],
      "text/plain": [
       "          capacity  end_year  start_year          type\n",
       "Pavagada      2050       NaN        2019  photovoltaic\n",
       "Benban        1650       NaN        2019  photovoltaic"
      ]
     },
     "execution_count": 39,
     "metadata": {},
     "output_type": "execute_result"
    }
   ],
   "source": [
    "df.query(\"start_year == 2019\")"
   ]
  },
  {
   "cell_type": "code",
   "execution_count": 40,
   "metadata": {},
   "outputs": [
    {
     "data": {
      "text/html": [
       "<div>\n",
       "<style scoped>\n",
       "    .dataframe tbody tr th:only-of-type {\n",
       "        vertical-align: middle;\n",
       "    }\n",
       "\n",
       "    .dataframe tbody tr th {\n",
       "        vertical-align: top;\n",
       "    }\n",
       "\n",
       "    .dataframe thead th {\n",
       "        text-align: right;\n",
       "    }\n",
       "</style>\n",
       "<table border=\"1\" class=\"dataframe\">\n",
       "  <thead>\n",
       "    <tr style=\"text-align: right;\">\n",
       "      <th></th>\n",
       "      <th>capacity</th>\n",
       "      <th>end_year</th>\n",
       "      <th>start_year</th>\n",
       "      <th>type</th>\n",
       "    </tr>\n",
       "  </thead>\n",
       "  <tbody>\n",
       "    <tr>\n",
       "      <td>Pavagada</td>\n",
       "      <td>2050</td>\n",
       "      <td>NaN</td>\n",
       "      <td>2019</td>\n",
       "      <td>photovoltaic</td>\n",
       "    </tr>\n",
       "  </tbody>\n",
       "</table>\n",
       "</div>"
      ],
      "text/plain": [
       "          capacity  end_year  start_year          type\n",
       "Pavagada      2050       NaN        2019  photovoltaic"
      ]
     },
     "execution_count": 40,
     "metadata": {},
     "output_type": "execute_result"
    }
   ],
   "source": [
    "threshold = 2000\n",
    "df.query(\"start_year == 2019 and capacity > @threshold\")"
   ]
  },
  {
   "cell_type": "markdown",
   "metadata": {},
   "source": [
    "## Modifying Values\n",
    "\n",
    "In many cases, we want to modify values in a dataframe based on some rule. To modify values, we need to use `.loc` or `.iloc`"
   ]
  },
  {
   "cell_type": "code",
   "execution_count": 41,
   "metadata": {},
   "outputs": [
    {
     "data": {
      "text/html": [
       "<div>\n",
       "<style scoped>\n",
       "    .dataframe tbody tr th:only-of-type {\n",
       "        vertical-align: middle;\n",
       "    }\n",
       "\n",
       "    .dataframe tbody tr th {\n",
       "        vertical-align: top;\n",
       "    }\n",
       "\n",
       "    .dataframe thead th {\n",
       "        text-align: right;\n",
       "    }\n",
       "</style>\n",
       "<table border=\"1\" class=\"dataframe\">\n",
       "  <thead>\n",
       "    <tr style=\"text-align: right;\">\n",
       "      <th></th>\n",
       "      <th>capacity</th>\n",
       "      <th>end_year</th>\n",
       "      <th>start_year</th>\n",
       "      <th>type</th>\n",
       "    </tr>\n",
       "  </thead>\n",
       "  <tbody>\n",
       "    <tr>\n",
       "      <td>Gonghe Talatan</td>\n",
       "      <td>10380</td>\n",
       "      <td>NaN</td>\n",
       "      <td>2023</td>\n",
       "      <td>photovoltaic</td>\n",
       "    </tr>\n",
       "    <tr>\n",
       "      <td>Midong</td>\n",
       "      <td>3500</td>\n",
       "      <td>NaN</td>\n",
       "      <td>2024</td>\n",
       "      <td>photovoltaic</td>\n",
       "    </tr>\n",
       "    <tr>\n",
       "      <td>Bhadla</td>\n",
       "      <td>2745</td>\n",
       "      <td>2050.0</td>\n",
       "      <td>2018</td>\n",
       "      <td>photovoltaic</td>\n",
       "    </tr>\n",
       "    <tr>\n",
       "      <td>Pavagada</td>\n",
       "      <td>2050</td>\n",
       "      <td>NaN</td>\n",
       "      <td>2019</td>\n",
       "      <td>photovoltaic</td>\n",
       "    </tr>\n",
       "    <tr>\n",
       "      <td>Benban</td>\n",
       "      <td>1650</td>\n",
       "      <td>NaN</td>\n",
       "      <td>2019</td>\n",
       "      <td>photovoltaic</td>\n",
       "    </tr>\n",
       "    <tr>\n",
       "      <td>Kalyon Karapinar</td>\n",
       "      <td>1350</td>\n",
       "      <td>NaN</td>\n",
       "      <td>2021</td>\n",
       "      <td>photovoltaic</td>\n",
       "    </tr>\n",
       "  </tbody>\n",
       "</table>\n",
       "</div>"
      ],
      "text/plain": [
       "                  capacity  end_year  start_year          type\n",
       "Gonghe Talatan       10380       NaN        2023  photovoltaic\n",
       "Midong                3500       NaN        2024  photovoltaic\n",
       "Bhadla                2745    2050.0        2018  photovoltaic\n",
       "Pavagada              2050       NaN        2019  photovoltaic\n",
       "Benban                1650       NaN        2019  photovoltaic\n",
       "Kalyon Karapinar      1350       NaN        2021  photovoltaic"
      ]
     },
     "execution_count": 41,
     "metadata": {},
     "output_type": "execute_result"
    }
   ],
   "source": [
    "df.loc[\"Bhadla\", \"capacity\"] += 500\n",
    "df"
   ]
  },
  {
   "cell_type": "markdown",
   "metadata": {
    "tags": []
   },
   "source": [
    "## Applying Functions"
   ]
  },
  {
   "cell_type": "markdown",
   "metadata": {},
   "source": [
    "Sometimes it can be useful apply a function to all values of a column/row. For instance, we might be interested in normalised capacities relative to the largest PV power plant:"
   ]
  },
  {
   "cell_type": "code",
   "execution_count": 42,
   "metadata": {},
   "outputs": [
    {
     "data": {
      "text/plain": [
       "Gonghe Talatan      1.000000\n",
       "Midong              0.337187\n",
       "Bhadla              0.264451\n",
       "Pavagada            0.197495\n",
       "Benban              0.158960\n",
       "Kalyon Karapinar    0.130058\n",
       "Name: capacity, dtype: float64"
      ]
     },
     "execution_count": 42,
     "metadata": {},
     "output_type": "execute_result"
    }
   ],
   "source": [
    "df.capacity.apply(lambda x: x / df.capacity.max())"
   ]
  },
  {
   "cell_type": "code",
   "execution_count": 43,
   "metadata": {},
   "outputs": [
    {
     "data": {
      "text/plain": [
       "Gonghe Talatan      1.000000\n",
       "Midong              0.337187\n",
       "Bhadla              0.264451\n",
       "Pavagada            0.197495\n",
       "Benban              0.158960\n",
       "Kalyon Karapinar    0.130058\n",
       "Name: capacity, dtype: float64"
      ]
     },
     "execution_count": 43,
     "metadata": {},
     "output_type": "execute_result"
    }
   ],
   "source": [
    "df.capacity.map(lambda x: x / df.capacity.max())"
   ]
  },
  {
   "cell_type": "markdown",
   "metadata": {},
   "source": [
    "For simple functions, there's often an easier alternative:"
   ]
  },
  {
   "cell_type": "code",
   "execution_count": 44,
   "metadata": {},
   "outputs": [
    {
     "data": {
      "text/plain": [
       "Gonghe Talatan      1.000000\n",
       "Midong              0.337187\n",
       "Bhadla              0.264451\n",
       "Pavagada            0.197495\n",
       "Benban              0.158960\n",
       "Kalyon Karapinar    0.130058\n",
       "Name: capacity, dtype: float64"
      ]
     },
     "execution_count": 44,
     "metadata": {},
     "output_type": "execute_result"
    }
   ],
   "source": [
    "df.capacity / df.capacity.max()"
   ]
  },
  {
   "cell_type": "markdown",
   "metadata": {},
   "source": [
    "But `.apply()` and `.map()` often give you more flexibility."
   ]
  },
  {
   "cell_type": "markdown",
   "metadata": {},
   "source": [
    "## Renaming Indices and Columns"
   ]
  },
  {
   "cell_type": "markdown",
   "metadata": {},
   "source": [
    "Sometimes it can be useful to rename columns:"
   ]
  },
  {
   "cell_type": "code",
   "execution_count": 45,
   "metadata": {},
   "outputs": [
    {
     "data": {
      "text/html": [
       "<div>\n",
       "<style scoped>\n",
       "    .dataframe tbody tr th:only-of-type {\n",
       "        vertical-align: middle;\n",
       "    }\n",
       "\n",
       "    .dataframe tbody tr th {\n",
       "        vertical-align: top;\n",
       "    }\n",
       "\n",
       "    .dataframe thead th {\n",
       "        text-align: right;\n",
       "    }\n",
       "</style>\n",
       "<table border=\"1\" class=\"dataframe\">\n",
       "  <thead>\n",
       "    <tr style=\"text-align: right;\">\n",
       "      <th></th>\n",
       "      <th>capacity</th>\n",
       "      <th>decommission</th>\n",
       "      <th>commission</th>\n",
       "      <th>type</th>\n",
       "    </tr>\n",
       "  </thead>\n",
       "  <tbody>\n",
       "    <tr>\n",
       "      <td>Gonghe Talatan</td>\n",
       "      <td>10380</td>\n",
       "      <td>NaN</td>\n",
       "      <td>2023</td>\n",
       "      <td>photovoltaic</td>\n",
       "    </tr>\n",
       "    <tr>\n",
       "      <td>Midong</td>\n",
       "      <td>3500</td>\n",
       "      <td>NaN</td>\n",
       "      <td>2024</td>\n",
       "      <td>photovoltaic</td>\n",
       "    </tr>\n",
       "    <tr>\n",
       "      <td>Bhadla</td>\n",
       "      <td>2745</td>\n",
       "      <td>2050.0</td>\n",
       "      <td>2018</td>\n",
       "      <td>photovoltaic</td>\n",
       "    </tr>\n",
       "    <tr>\n",
       "      <td>Pavagada</td>\n",
       "      <td>2050</td>\n",
       "      <td>NaN</td>\n",
       "      <td>2019</td>\n",
       "      <td>photovoltaic</td>\n",
       "    </tr>\n",
       "    <tr>\n",
       "      <td>Benban</td>\n",
       "      <td>1650</td>\n",
       "      <td>NaN</td>\n",
       "      <td>2019</td>\n",
       "      <td>photovoltaic</td>\n",
       "    </tr>\n",
       "    <tr>\n",
       "      <td>Kalyon Karapinar</td>\n",
       "      <td>1350</td>\n",
       "      <td>NaN</td>\n",
       "      <td>2021</td>\n",
       "      <td>photovoltaic</td>\n",
       "    </tr>\n",
       "  </tbody>\n",
       "</table>\n",
       "</div>"
      ],
      "text/plain": [
       "                  capacity  decommission  commission          type\n",
       "Gonghe Talatan       10380           NaN        2023  photovoltaic\n",
       "Midong                3500           NaN        2024  photovoltaic\n",
       "Bhadla                2745        2050.0        2018  photovoltaic\n",
       "Pavagada              2050           NaN        2019  photovoltaic\n",
       "Benban                1650           NaN        2019  photovoltaic\n",
       "Kalyon Karapinar      1350           NaN        2021  photovoltaic"
      ]
     },
     "execution_count": 45,
     "metadata": {},
     "output_type": "execute_result"
    }
   ],
   "source": [
    "df.rename(columns=dict(start_year=\"commission\", end_year=\"decommission\"))"
   ]
  },
  {
   "cell_type": "markdown",
   "metadata": {},
   "source": [
    "## Replacing Values"
   ]
  },
  {
   "cell_type": "markdown",
   "metadata": {},
   "source": [
    "Sometimes it can be useful to replace values:"
   ]
  },
  {
   "cell_type": "code",
   "execution_count": 46,
   "metadata": {},
   "outputs": [
    {
     "data": {
      "text/html": [
       "<div>\n",
       "<style scoped>\n",
       "    .dataframe tbody tr th:only-of-type {\n",
       "        vertical-align: middle;\n",
       "    }\n",
       "\n",
       "    .dataframe tbody tr th {\n",
       "        vertical-align: top;\n",
       "    }\n",
       "\n",
       "    .dataframe thead th {\n",
       "        text-align: right;\n",
       "    }\n",
       "</style>\n",
       "<table border=\"1\" class=\"dataframe\">\n",
       "  <thead>\n",
       "    <tr style=\"text-align: right;\">\n",
       "      <th></th>\n",
       "      <th>capacity</th>\n",
       "      <th>end_year</th>\n",
       "      <th>start_year</th>\n",
       "      <th>type</th>\n",
       "    </tr>\n",
       "  </thead>\n",
       "  <tbody>\n",
       "    <tr>\n",
       "      <td>Gonghe Talatan</td>\n",
       "      <td>10380</td>\n",
       "      <td>NaN</td>\n",
       "      <td>2023</td>\n",
       "      <td>PV</td>\n",
       "    </tr>\n",
       "    <tr>\n",
       "      <td>Midong</td>\n",
       "      <td>3500</td>\n",
       "      <td>NaN</td>\n",
       "      <td>2024</td>\n",
       "      <td>PV</td>\n",
       "    </tr>\n",
       "    <tr>\n",
       "      <td>Bhadla</td>\n",
       "      <td>2745</td>\n",
       "      <td>2050.0</td>\n",
       "      <td>2018</td>\n",
       "      <td>PV</td>\n",
       "    </tr>\n",
       "    <tr>\n",
       "      <td>Pavagada</td>\n",
       "      <td>2050</td>\n",
       "      <td>NaN</td>\n",
       "      <td>2019</td>\n",
       "      <td>PV</td>\n",
       "    </tr>\n",
       "    <tr>\n",
       "      <td>Benban</td>\n",
       "      <td>1650</td>\n",
       "      <td>NaN</td>\n",
       "      <td>2019</td>\n",
       "      <td>PV</td>\n",
       "    </tr>\n",
       "    <tr>\n",
       "      <td>Kalyon Karapinar</td>\n",
       "      <td>1350</td>\n",
       "      <td>NaN</td>\n",
       "      <td>2021</td>\n",
       "      <td>PV</td>\n",
       "    </tr>\n",
       "  </tbody>\n",
       "</table>\n",
       "</div>"
      ],
      "text/plain": [
       "                  capacity  end_year  start_year type\n",
       "Gonghe Talatan       10380       NaN        2023   PV\n",
       "Midong                3500       NaN        2024   PV\n",
       "Bhadla                2745    2050.0        2018   PV\n",
       "Pavagada              2050       NaN        2019   PV\n",
       "Benban                1650       NaN        2019   PV\n",
       "Kalyon Karapinar      1350       NaN        2021   PV"
      ]
     },
     "execution_count": 46,
     "metadata": {},
     "output_type": "execute_result"
    }
   ],
   "source": [
    "df.replace({\"photovoltaic\": \"PV\"})"
   ]
  },
  {
   "cell_type": "markdown",
   "metadata": {},
   "source": [
    "## Plotting\n",
    "\n",
    "DataFrames have all kinds of [useful plotting](https://pandas.pydata.org/pandas-docs/stable/visualization.html) built in. Note that we do not even have to import `matplotlib` for this."
   ]
  },
  {
   "cell_type": "code",
   "execution_count": 47,
   "metadata": {},
   "outputs": [
    {
     "data": {
      "text/plain": [
       "<matplotlib.axes._subplots.AxesSubplot at 0x213ea4c2b08>"
      ]
     },
     "execution_count": 47,
     "metadata": {},
     "output_type": "execute_result"
    }
   ],
   "source": [
    "df.plot(kind=\"scatter\", x=\"start_year\", y=\"capacity\")"
   ]
  },
  {
   "cell_type": "code",
   "execution_count": 48,
   "metadata": {},
   "outputs": [
    {
     "data": {
      "text/plain": [
       "<matplotlib.axes._subplots.AxesSubplot at 0x213ea9f5508>"
      ]
     },
     "execution_count": 48,
     "metadata": {},
     "output_type": "execute_result"
    },
    {
     "data": {
      "image/png": "[encoded data removed]",
      "text/plain": [
       "<Figure size 432x288 with 1 Axes>"
      ]
     },
     "metadata": {
      "needs_background": "light"
     },
     "output_type": "display_data"
    }
   ],
   "source": [
    "df.capacity.plot.barh(color=\"green\")"
   ]
  },
  {
   "cell_type": "markdown",
   "metadata": {},
   "source": [
    "## Reading and Writing Files"
   ]
  },
  {
   "cell_type": "markdown",
   "metadata": {},
   "source": [
    "To read data into pandas, we can use for instance the [`pd.read_csv()`](https://pandas.pydata.org/pandas-docs/stable/generated/pandas.read_csv.html) function. This function is incredibly powerful and complex with a multitude of settings. You can use it to extract data from almost any text file."
   ]
  },
  {
   "cell_type": "markdown",
   "metadata": {},
   "source": [
    "The `pd.read_csv()` function can take a path to a local file as an input, or even a link to an online text file."
   ]
  },
  {
   "cell_type": "markdown",
   "metadata": {},
   "source": [
    "Let's import a file containing data measured at a weather station."
   ]
  },
  {
   "cell_type": "code",
   "execution_count": 49,
   "metadata": {},
   "outputs": [],
   "source": [
    "fn = \"weather_station_data.csv\""
   ]
  },
  {
   "cell_type": "code",
   "execution_count": 50,
   "metadata": {},
   "outputs": [
    {
     "data": {
      "text/html": [
       "<div>\n",
       "<style scoped>\n",
       "    .dataframe tbody tr th:only-of-type {\n",
       "        vertical-align: middle;\n",
       "    }\n",
       "\n",
       "    .dataframe tbody tr th {\n",
       "        vertical-align: top;\n",
       "    }\n",
       "\n",
       "    .dataframe thead th {\n",
       "        text-align: right;\n",
       "    }\n",
       "</style>\n",
       "<table border=\"1\" class=\"dataframe\">\n",
       "  <thead>\n",
       "    <tr style=\"text-align: right;\">\n",
       "      <th></th>\n",
       "      <th>GHI (W.m-2)</th>\n",
       "      <th>DHI (W.m-2)</th>\n",
       "      <th>Ambient Temperature (Deg C)</th>\n",
       "      <th>Relative Humidity (%)</th>\n",
       "      <th>wind velocity (m.s-1)</th>\n",
       "      <th>wind direction (deg)</th>\n",
       "    </tr>\n",
       "  </thead>\n",
       "  <tbody>\n",
       "    <tr>\n",
       "      <td>2024-01-01 00:00:00+00:00</td>\n",
       "      <td>3.290</td>\n",
       "      <td>2.187</td>\n",
       "      <td>5.428</td>\n",
       "      <td>95.4</td>\n",
       "      <td>2.409</td>\n",
       "      <td>120.8</td>\n",
       "    </tr>\n",
       "    <tr>\n",
       "      <td>2024-01-01 00:05:00+00:00</td>\n",
       "      <td>3.201</td>\n",
       "      <td>2.013</td>\n",
       "      <td>5.425</td>\n",
       "      <td>95.4</td>\n",
       "      <td>2.951</td>\n",
       "      <td>123.8</td>\n",
       "    </tr>\n",
       "    <tr>\n",
       "      <td>2024-01-01 00:10:00+00:00</td>\n",
       "      <td>3.308</td>\n",
       "      <td>2.203</td>\n",
       "      <td>5.456</td>\n",
       "      <td>95.5</td>\n",
       "      <td>2.648</td>\n",
       "      <td>124.9</td>\n",
       "    </tr>\n",
       "    <tr>\n",
       "      <td>2024-01-01 00:15:00+00:00</td>\n",
       "      <td>3.010</td>\n",
       "      <td>1.796</td>\n",
       "      <td>5.470</td>\n",
       "      <td>95.5</td>\n",
       "      <td>2.723</td>\n",
       "      <td>122.0</td>\n",
       "    </tr>\n",
       "    <tr>\n",
       "      <td>2024-01-01 00:20:00+00:00</td>\n",
       "      <td>3.479</td>\n",
       "      <td>2.370</td>\n",
       "      <td>5.491</td>\n",
       "      <td>95.4</td>\n",
       "      <td>2.478</td>\n",
       "      <td>125.5</td>\n",
       "    </tr>\n",
       "  </tbody>\n",
       "</table>\n",
       "</div>"
      ],
      "text/plain": [
       "                           GHI (W.m-2)  DHI (W.m-2)  \\\n",
       "2024-01-01 00:00:00+00:00        3.290        2.187   \n",
       "2024-01-01 00:05:00+00:00        3.201        2.013   \n",
       "2024-01-01 00:10:00+00:00        3.308        2.203   \n",
       "2024-01-01 00:15:00+00:00        3.010        1.796   \n",
       "2024-01-01 00:20:00+00:00        3.479        2.370   \n",
       "\n",
       "                           Ambient Temperature (Deg C)  Relative Humidity (%)  \\\n",
       "2024-01-01 00:00:00+00:00                        5.428                   95.4   \n",
       "2024-01-01 00:05:00+00:00                        5.425                   95.4   \n",
       "2024-01-01 00:10:00+00:00                        5.456                   95.5   \n",
       "2024-01-01 00:15:00+00:00                        5.470                   95.5   \n",
       "2024-01-01 00:20:00+00:00                        5.491                   95.4   \n",
       "\n",
       "                           wind velocity (m.s-1)  wind direction (deg)  \n",
       "2024-01-01 00:00:00+00:00                  2.409                 120.8  \n",
       "2024-01-01 00:05:00+00:00                  2.951                 123.8  \n",
       "2024-01-01 00:10:00+00:00                  2.648                 124.9  \n",
       "2024-01-01 00:15:00+00:00                  2.723                 122.0  \n",
       "2024-01-01 00:20:00+00:00                  2.478                 125.5  "
      ]
     },
     "execution_count": 50,
     "metadata": {},
     "output_type": "execute_result"
    }
   ],
   "source": [
    "df = pd.read_csv(fn, index_col=0)\n",
    "df.iloc[:5, :10]"
   ]
  },
  {
   "cell_type": "code",
   "execution_count": 51,
   "metadata": {},
   "outputs": [
    {
     "name": "stdout",
     "output_type": "stream",
     "text": [
      "<class 'pandas.core.frame.DataFrame'>\n",
      "Index: 52704 entries, 2024-01-01 00:00:00+00:00 to 2024-07-01 23:55:00+00:00\n",
      "Data columns (total 6 columns):\n",
      "GHI (W.m-2)                    52249 non-null float64\n",
      "DHI (W.m-2)                    52249 non-null float64\n",
      "Ambient Temperature (Deg C)    52249 non-null float64\n",
      "Relative Humidity (%)          52249 non-null float64\n",
      "wind velocity (m.s-1)          52274 non-null float64\n",
      "wind direction (deg)           52274 non-null float64\n",
      "dtypes: float64(6)\n",
      "memory usage: 2.8+ MB\n"
     ]
    }
   ],
   "source": [
    "df.info()"
   ]
  },
  {
   "cell_type": "code",
   "execution_count": 52,
   "metadata": {},
   "outputs": [
    {
     "data": {
      "text/html": [
       "<div>\n",
       "<style scoped>\n",
       "    .dataframe tbody tr th:only-of-type {\n",
       "        vertical-align: middle;\n",
       "    }\n",
       "\n",
       "    .dataframe tbody tr th {\n",
       "        vertical-align: top;\n",
       "    }\n",
       "\n",
       "    .dataframe thead th {\n",
       "        text-align: right;\n",
       "    }\n",
       "</style>\n",
       "<table border=\"1\" class=\"dataframe\">\n",
       "  <thead>\n",
       "    <tr style=\"text-align: right;\">\n",
       "      <th></th>\n",
       "      <th>GHI (W.m-2)</th>\n",
       "      <th>DHI (W.m-2)</th>\n",
       "      <th>Ambient Temperature (Deg C)</th>\n",
       "      <th>Relative Humidity (%)</th>\n",
       "      <th>wind velocity (m.s-1)</th>\n",
       "      <th>wind direction (deg)</th>\n",
       "    </tr>\n",
       "  </thead>\n",
       "  <tbody>\n",
       "    <tr>\n",
       "      <td>count</td>\n",
       "      <td>52249.000000</td>\n",
       "      <td>52249.000000</td>\n",
       "      <td>52249.000000</td>\n",
       "      <td>52249.000000</td>\n",
       "      <td>52274.000000</td>\n",
       "      <td>52274.000000</td>\n",
       "    </tr>\n",
       "    <tr>\n",
       "      <td>mean</td>\n",
       "      <td>125.476227</td>\n",
       "      <td>64.949393</td>\n",
       "      <td>7.658637</td>\n",
       "      <td>81.494715</td>\n",
       "      <td>2.822048</td>\n",
       "      <td>172.038209</td>\n",
       "    </tr>\n",
       "    <tr>\n",
       "      <td>std</td>\n",
       "      <td>205.015278</td>\n",
       "      <td>94.282571</td>\n",
       "      <td>6.425798</td>\n",
       "      <td>13.194039</td>\n",
       "      <td>1.618026</td>\n",
       "      <td>91.322030</td>\n",
       "    </tr>\n",
       "    <tr>\n",
       "      <td>min</td>\n",
       "      <td>0.933000</td>\n",
       "      <td>0.474000</td>\n",
       "      <td>-13.290000</td>\n",
       "      <td>27.650000</td>\n",
       "      <td>0.000000</td>\n",
       "      <td>0.000000</td>\n",
       "    </tr>\n",
       "    <tr>\n",
       "      <td>25%</td>\n",
       "      <td>3.631000</td>\n",
       "      <td>2.414000</td>\n",
       "      <td>3.609000</td>\n",
       "      <td>75.200000</td>\n",
       "      <td>1.630250</td>\n",
       "      <td>93.600000</td>\n",
       "    </tr>\n",
       "    <tr>\n",
       "      <td>50%</td>\n",
       "      <td>13.220000</td>\n",
       "      <td>11.850000</td>\n",
       "      <td>7.053000</td>\n",
       "      <td>85.400000</td>\n",
       "      <td>2.629000</td>\n",
       "      <td>174.900000</td>\n",
       "    </tr>\n",
       "    <tr>\n",
       "      <td>75%</td>\n",
       "      <td>158.400000</td>\n",
       "      <td>94.900000</td>\n",
       "      <td>11.930000</td>\n",
       "      <td>91.200000</td>\n",
       "      <td>3.779000</td>\n",
       "      <td>248.600000</td>\n",
       "    </tr>\n",
       "    <tr>\n",
       "      <td>max</td>\n",
       "      <td>1246.000000</td>\n",
       "      <td>645.100000</td>\n",
       "      <td>26.710000</td>\n",
       "      <td>100.000000</td>\n",
       "      <td>13.180000</td>\n",
       "      <td>360.000000</td>\n",
       "    </tr>\n",
       "  </tbody>\n",
       "</table>\n",
       "</div>"
      ],
      "text/plain": [
       "        GHI (W.m-2)   DHI (W.m-2)  Ambient Temperature (Deg C)  \\\n",
       "count  52249.000000  52249.000000                 52249.000000   \n",
       "mean     125.476227     64.949393                     7.658637   \n",
       "std      205.015278     94.282571                     6.425798   \n",
       "min        0.933000      0.474000                   -13.290000   \n",
       "25%        3.631000      2.414000                     3.609000   \n",
       "50%       13.220000     11.850000                     7.053000   \n",
       "75%      158.400000     94.900000                    11.930000   \n",
       "max     1246.000000    645.100000                    26.710000   \n",
       "\n",
       "       Relative Humidity (%)  wind velocity (m.s-1)  wind direction (deg)  \n",
       "count           52249.000000           52274.000000          52274.000000  \n",
       "mean               81.494715               2.822048            172.038209  \n",
       "std                13.194039               1.618026             91.322030  \n",
       "min                27.650000               0.000000              0.000000  \n",
       "25%                75.200000               1.630250             93.600000  \n",
       "50%                85.400000               2.629000            174.900000  \n",
       "75%                91.200000               3.779000            248.600000  \n",
       "max               100.000000              13.180000            360.000000  "
      ]
     },
     "execution_count": 52,
     "metadata": {},
     "output_type": "execute_result"
    }
   ],
   "source": [
    "df.describe()"
   ]
  },
  {
   "cell_type": "markdown",
   "metadata": {},
   "source": [
    "Sometimes, we also want to store a DataFrame for later use. There are many different file formats tabular data can be stored in,  including HTML, JSON, Excel, Parquet, Feather, etc. Here, let's say we want to store the DataFrame as CSV (comma-separated values) file under the name \"data.csv\"."
   ]
  },
  {
   "cell_type": "code",
   "execution_count": 53,
   "metadata": {},
   "outputs": [],
   "source": [
    "df.to_csv(\"data.csv\")"
   ]
  }
 ],
 "metadata": {
  "kernelspec": {
   "display_name": "Python 3",
   "language": "python",
   "name": "python3"
  },
  "language_info": {
   "codemirror_mode": {
    "name": "ipython",
    "version": 3
   },
   "file_extension": ".py",
   "mimetype": "text/x-python",
   "name": "python",
   "nbconvert_exporter": "python",
   "pygments_lexer": "ipython3",
   "version": "3.7.4"
  },
  "vscode": {
   "interpreter": {
    "hash": "69786ae8c799a179d39b18fbc76c1e4e4ca1662535939a7096f8f45ee1440c35"
   }
  }
 },
 "nbformat": 4,
 "nbformat_minor": 4
}
