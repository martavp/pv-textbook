{
 "cells": [
  {
   "cell_type": "markdown",
   "metadata": {},
   "source": [
    "# Problem 2.20"
   ]
  },
  {
   "cell_type": "markdown",
   "metadata": {},
   "source": [
    "**Fundamentals of Solar Cells and Photovoltaic Systems Engineering**\n",
    "\n",
    "**Solutions Manual - Chapter 2**\n",
    "\n",
    "**Problem 2.20**"
   ]
  },
  {
   "cell_type": "markdown",
   "metadata": {},
   "source": [
    "**Using pvlib-python, satellite data from PVGIS, and assuming a PV installation located in Wellington, New Zealand (41°17′20″ S, 174°46′38″ E):**\n",
    "\n",
    "**(a) Calculate the interannual variability of the daily solar horizontal irradiation $G_d(0)$ on March 21**\n",
    "\n",
    "**(b) Calculate the interannual variability of the monthly mean of the daily solar horizontal irradiation $G_{dM}(0)$ in March.**\n",
    "\n",
    "**(c) Calculate the interannual variability of the annual mean of the daily solar horizontal irradiation $G_{dY}(0)$.**\n",
    "\n",
    "**(d) Discuss the previous results.**\n"
   ]
  },
  {
   "cell_type": "markdown",
   "metadata": {},
   "source": [
    "We start by importing several packages that will be useful, including [pandas](https://pandas.pydata.org/) and [matplotlib.pyplot](https://matplotlib.org/stable/index.html) to plot the results."
   ]
  },
  {
   "cell_type": "code",
   "execution_count": 4,
   "metadata": {
    "ExecuteTime": {
     "end_time": "2023-06-08T07:42:19.773457300Z",
     "start_time": "2023-06-08T07:42:17.874018300Z"
    }
   },
   "outputs": [],
   "source": [
    "import requests\n",
    "import datetime as dt\n",
    "from pathlib import Path\n",
    "import matplotlib.pyplot as plt\n",
    "from matplotlib import ticker\n",
    "import pandas as pd"
   ]
  },
  {
   "cell_type": "markdown",
   "metadata": {},
   "source": [
    "We define a function to retrieve data from PVGIS.\n",
    "More details regarding how to download data from PVGIS using an APi can be found in [PVGIS API](https://joint-research-centre.ec.europa.eu/pvgis-photovoltaic-geographical-information-system/getting-started-pvgis/api-non-interactive-service_en)"
   ]
  },
  {
   "cell_type": "code",
   "execution_count": 5,
   "metadata": {
    "ExecuteTime": {
     "end_time": "2023-06-08T07:42:19.800334100Z",
     "start_time": "2023-06-08T07:42:19.773457300Z"
    }
   },
   "outputs": [],
   "source": [
    "def read_radiation_pvgis(raddatabase, lat, lon):\n",
    "    params = {'lat': lat, \n",
    "              'lon': lon, \n",
    "              'browser': 1, \n",
    "              'outputformat': 'csv', \n",
    "              'raddatabase': raddatabase}\n",
    "    \n",
    "    series_file = Path(f'data/anual_series_{lat}_{lon}_{raddatabase}.csv')\n",
    "\n",
    "    if not series_file.exists():\n",
    "        resp_series = requests.get('https://re.jrc.ec.europa.eu/api/v5_2/seriescalc', params=params)\n",
    "        with open(series_file, 'wb') as f:\n",
    "            f.write(resp_series.content)\n",
    "    \n",
    "    series = pd.read_csv(series_file, \n",
    "                         skiprows=8, \n",
    "                         index_col='time', \n",
    "                         skipfooter=10, \n",
    "                         engine='python',\n",
    "                         parse_dates=True, \n",
    "                         date_format='%Y%m%d:%H%M')\n",
    "    \n",
    "    series = series.rename({'G(i)': 'ghi'}, axis='columns')\n",
    "    series['hour'] = series.index.hour\n",
    "\n",
    "    return series"
   ]
  },
  {
   "cell_type": "markdown",
   "metadata": {},
   "source": [
    "We start by defining the location and downloading reanalysis data from PVGIS."
   ]
  },
  {
   "cell_type": "code",
   "execution_count": 6,
   "metadata": {
    "ExecuteTime": {
     "end_time": "2023-06-08T07:42:21.332982300Z",
     "start_time": "2023-06-08T07:42:19.800334100Z"
    }
   },
   "outputs": [
    {
     "ename": "TypeError",
     "evalue": "read_csv() got an unexpected keyword argument 'date_format'",
     "output_type": "error",
     "traceback": [
      "\u001b[1;31m---------------------------------------------------------------------------\u001b[0m",
      "\u001b[1;31mTypeError\u001b[0m                                 Traceback (most recent call last)",
      "\u001b[1;32m~\\AppData\\Local\\Temp\\ipykernel_10012\\153052493.py\u001b[0m in \u001b[0;36m<module>\u001b[1;34m\u001b[0m\n\u001b[0;32m      1\u001b[0m \u001b[0mlatitude\u001b[0m\u001b[1;33m,\u001b[0m \u001b[0mlongitude\u001b[0m \u001b[1;33m=\u001b[0m \u001b[1;33m-\u001b[0m\u001b[1;36m41.29\u001b[0m\u001b[1;33m,\u001b[0m \u001b[1;36m174.77\u001b[0m \u001b[1;31m# Wellington, New Zealand\u001b[0m\u001b[1;33m\u001b[0m\u001b[1;33m\u001b[0m\u001b[0m\n\u001b[1;32m----> 2\u001b[1;33m \u001b[0msatellite\u001b[0m \u001b[1;33m=\u001b[0m \u001b[0mread_radiation_pvgis\u001b[0m\u001b[1;33m(\u001b[0m\u001b[0mraddatabase\u001b[0m\u001b[1;33m=\u001b[0m\u001b[1;34m'PVGIS-ERA5'\u001b[0m\u001b[1;33m,\u001b[0m \u001b[0mlat\u001b[0m\u001b[1;33m=\u001b[0m\u001b[0mlatitude\u001b[0m\u001b[1;33m,\u001b[0m \u001b[0mlon\u001b[0m\u001b[1;33m=\u001b[0m\u001b[0mlongitude\u001b[0m\u001b[1;33m)\u001b[0m\u001b[1;33m\u001b[0m\u001b[1;33m\u001b[0m\u001b[0m\n\u001b[0m",
      "\u001b[1;32m~\\AppData\\Local\\Temp\\ipykernel_10012\\1594075790.py\u001b[0m in \u001b[0;36mread_radiation_pvgis\u001b[1;34m(raddatabase, lat, lon)\u001b[0m\n\u001b[0;32m     19\u001b[0m                          \u001b[0mengine\u001b[0m\u001b[1;33m=\u001b[0m\u001b[1;34m'python'\u001b[0m\u001b[1;33m,\u001b[0m\u001b[1;33m\u001b[0m\u001b[1;33m\u001b[0m\u001b[0m\n\u001b[0;32m     20\u001b[0m                          \u001b[0mparse_dates\u001b[0m\u001b[1;33m=\u001b[0m\u001b[1;32mTrue\u001b[0m\u001b[1;33m,\u001b[0m\u001b[1;33m\u001b[0m\u001b[1;33m\u001b[0m\u001b[0m\n\u001b[1;32m---> 21\u001b[1;33m                          date_format='%Y%m%d:%H%M')\n\u001b[0m\u001b[0;32m     22\u001b[0m \u001b[1;33m\u001b[0m\u001b[0m\n\u001b[0;32m     23\u001b[0m     \u001b[0mseries\u001b[0m \u001b[1;33m=\u001b[0m \u001b[0mseries\u001b[0m\u001b[1;33m.\u001b[0m\u001b[0mrename\u001b[0m\u001b[1;33m(\u001b[0m\u001b[1;33m{\u001b[0m\u001b[1;34m'G(i)'\u001b[0m\u001b[1;33m:\u001b[0m \u001b[1;34m'ghi'\u001b[0m\u001b[1;33m}\u001b[0m\u001b[1;33m,\u001b[0m \u001b[0maxis\u001b[0m\u001b[1;33m=\u001b[0m\u001b[1;34m'columns'\u001b[0m\u001b[1;33m)\u001b[0m\u001b[1;33m\u001b[0m\u001b[1;33m\u001b[0m\u001b[0m\n",
      "\u001b[1;32m~\\.conda\\envs\\env_pv_textbook\\lib\\site-packages\\pandas\\util\\_decorators.py\u001b[0m in \u001b[0;36mwrapper\u001b[1;34m(*args, **kwargs)\u001b[0m\n\u001b[0;32m    309\u001b[0m                     \u001b[0mstacklevel\u001b[0m\u001b[1;33m=\u001b[0m\u001b[0mstacklevel\u001b[0m\u001b[1;33m,\u001b[0m\u001b[1;33m\u001b[0m\u001b[1;33m\u001b[0m\u001b[0m\n\u001b[0;32m    310\u001b[0m                 )\n\u001b[1;32m--> 311\u001b[1;33m             \u001b[1;32mreturn\u001b[0m \u001b[0mfunc\u001b[0m\u001b[1;33m(\u001b[0m\u001b[1;33m*\u001b[0m\u001b[0margs\u001b[0m\u001b[1;33m,\u001b[0m \u001b[1;33m**\u001b[0m\u001b[0mkwargs\u001b[0m\u001b[1;33m)\u001b[0m\u001b[1;33m\u001b[0m\u001b[1;33m\u001b[0m\u001b[0m\n\u001b[0m\u001b[0;32m    312\u001b[0m \u001b[1;33m\u001b[0m\u001b[0m\n\u001b[0;32m    313\u001b[0m         \u001b[1;32mreturn\u001b[0m \u001b[0mwrapper\u001b[0m\u001b[1;33m\u001b[0m\u001b[1;33m\u001b[0m\u001b[0m\n",
      "\u001b[1;31mTypeError\u001b[0m: read_csv() got an unexpected keyword argument 'date_format'"
     ]
    }
   ],
   "source": [
    "latitude, longitude = -41.29, 174.77 # Wellington, New Zealand\n",
    "satellite = read_radiation_pvgis(raddatabase='PVGIS-ERA5', lat=latitude, lon=longitude)"
   ]
  },
  {
   "cell_type": "markdown",
   "metadata": {},
   "source": [
    "We calculate the irradiation in every day (the value corresponding to March 21), the average daily irradiation in March and the annually-average daily irradiation. "
   ]
  },
  {
   "cell_type": "code",
   "execution_count": null,
   "metadata": {
    "ExecuteTime": {
     "end_time": "2023-06-08T07:42:22.239015900Z",
     "start_time": "2023-06-08T07:42:21.332982300Z"
    }
   },
   "outputs": [],
   "source": [
    "satellite_days = satellite.resample('D').sum() /1000 # kWh\n",
    "\n",
    "# Variability vs time-aggregation\n",
    "fig, ax = plt.subplots(nrows=1, ncols=1, figsize=(12, 8))\n",
    "\n",
    "satellite_days[satellite_days.index.dayofyear == 80].ghi.plot(ax=ax, label='Daily irradiation March 21', marker='o') #March 21 corresponds to day 80\n",
    "satellite_days.resample('M').mean()[satellite_days.resample('M').mean().index.month == 3].ghi.plot(ax=ax, label='Average daily irradiation in March', marker='o')\n",
    "satellite_days.resample('Y').mean().ghi.plot(ax=ax, label='Annually average daily irradiation', marker='o')\n",
    "ax.set_ylabel('Daily irradiation [$kWh/m^2$]')\n",
    "ax.set_xlabel('')\n",
    "ax.legend()"
   ]
  },
  {
   "cell_type": "code",
   "execution_count": null,
   "metadata": {
    "ExecuteTime": {
     "end_time": "2023-06-08T07:42:22.402308600Z",
     "start_time": "2023-06-08T07:42:22.247048200Z"
    }
   },
   "outputs": [],
   "source": [
    "day_mean = satellite_days[satellite_days.index.dayofyear == 80].ghi.mean()\n",
    "day_std_n = 100*satellite_days[satellite_days.index.dayofyear == 80].ghi.std()/satellite_days[satellite_days.index.dayofyear == 80].ghi.mean()\n",
    "\n",
    "month_mean = satellite_days.resample('M').mean()[satellite_days.resample('M').mean().index.month == 3].ghi.mean()\n",
    "month_std_n = 100*satellite_days.resample('M').mean()[satellite_days.resample('M').mean().index.month == 3].ghi.std()/satellite_days.resample('M').mean()[satellite_days.resample('M').mean().index.month == 3].ghi.mean()\n",
    "\n",
    "year_mean = satellite_days.resample('Y').mean().ghi.mean()\n",
    "year_std_n = 100**satellite_days.resample('Y').mean().ghi.std()/satellite_days.resample('Y').mean().ghi.mean()\n",
    "\n",
    "print(f'Average daily irradiation 21 March= {round(day_mean,2)} kWh/m2')\n",
    "print(f'Normalized standard deviation for daily irradiation 21 March= {round(day_std_n,1)} %')\n",
    "\n",
    "print(f'Average daily irradiation in March= {round(month_mean)} kWh/m2')\n",
    "print(f'Normalized standard deviation for average daily irradiation in March= {round(month_std_n,1)} %')\n",
    "\n",
    "print(f'Anually-average daily irradiation = {round(year_mean)} kWh/m2')\n",
    "print(f'Normalized standard deviation for nnually-average daily irradiation= {round(year_std_n,1)} %')\n"
   ]
  },
  {
   "cell_type": "markdown",
   "metadata": {},
   "source": [
    "The analysis of the data shows that:\n",
    "\n",
    "(i) there is high interannual variability for the daily irradiation on March 21, hence it is difficult to forecast the output of a PV system on a specific day\n",
    "\n",
    "(ii) the interannual variability is lower when we look at the average daily irradiation in March, hence it would be easier to forecast the monthly value of irradiation \n",
    "\n",
    "(iii) the interannual variability of the annually-averaged daily irradiation is significantly lower indicating that there would be significantly less uncertainty when forecasting annual electricity generation from a PV installation than when trying to forecast the electricity output on a particular date."
   ]
  }
 ],
 "metadata": {
  "kernelspec": {
   "display_name": "Python 3 (ipykernel)",
   "language": "python",
   "name": "python3"
  },
  "language_info": {
   "codemirror_mode": {
    "name": "ipython",
    "version": 3
   },
   "file_extension": ".py",
   "mimetype": "text/x-python",
   "name": "python",
   "nbconvert_exporter": "python",
   "pygments_lexer": "ipython3",
   "version": "3.7.12"
  }
 },
 "nbformat": 4,
 "nbformat_minor": 4
}
