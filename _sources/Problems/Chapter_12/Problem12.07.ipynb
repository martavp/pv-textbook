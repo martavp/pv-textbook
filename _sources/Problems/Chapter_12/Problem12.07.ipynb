{
 "cells": [
  {
   "cell_type": "markdown",
   "metadata": {},
   "source": [
    "# Problem 12.7"
   ]
  },
  {
   "cell_type": "markdown",
   "metadata": {},
   "source": [
    "**Fundamentals of Solar Cells and Photovoltaic Systems Engineering**\n",
    "\n",
    "**Solutions Manual - Chapter 12**\n",
    "\n",
    "**Problem 12.7**\n"
   ]
  },
  {
   "cell_type": "markdown",
   "metadata": {},
   "source": [
    "**Using the QE of a silicon solar cell, calculate the photogenerated current density $J_L$ under the reference spectrum AM1.5G and compare it to the $J_L$ obtained from irradiance spectra produced by a Xe-arc lamp and a quartz tungsten halogen lamp. Then, calculate the error produced using a solar simulator based on Xe-arc or quartz tungsten lamps. The tabulated spectra and QE are provided in the online repository of this book.**\n",
    "\n",
    "**Note that the error may be large because the Xe-arc and the quartz W halogen lamps are not placed at the right distance from the measuring plane. Let us assume that the spectral irradiance of the two lamps decreases homogeneously by 1% throughout the whole wavelength range for each cm of separation that is added between the lamp and the measuring plane. How far should each lamp be located with respect to the initial position to produce the same $J_L$ that the AM1.5G solar?**"
   ]
  },
  {
   "cell_type": "markdown",
   "metadata": {},
   "source": [
    "We will use the package [pandas](https://pandas.pydata.org/) to handle the data and [matplotlib.pyplot](https://matplotlib.org/stable/index.html) to plot the results."
   ]
  },
  {
   "cell_type": "code",
   "execution_count": 11,
   "metadata": {},
   "outputs": [],
   "source": [
    "import pandas as pd\n",
    "import numpy as np\n",
    "import matplotlib.pyplot as plt"
   ]
  },
  {
   "cell_type": "markdown",
   "metadata": {},
   "source": [
    "We start by importing the data for the solar spectra."
   ]
  },
  {
   "cell_type": "code",
   "execution_count": 12,
   "metadata": {},
   "outputs": [
    {
     "data": {
      "text/html": [
       "<div>\n",
       "<style scoped>\n",
       "    .dataframe tbody tr th:only-of-type {\n",
       "        vertical-align: middle;\n",
       "    }\n",
       "\n",
       "    .dataframe tbody tr th {\n",
       "        vertical-align: top;\n",
       "    }\n",
       "\n",
       "    .dataframe thead th {\n",
       "        text-align: right;\n",
       "    }\n",
       "</style>\n",
       "<table border=\"1\" class=\"dataframe\">\n",
       "  <thead>\n",
       "    <tr style=\"text-align: right;\">\n",
       "      <th></th>\n",
       "      <th>AM0</th>\n",
       "      <th>AM1.5G</th>\n",
       "      <th>AM1.5D</th>\n",
       "    </tr>\n",
       "  </thead>\n",
       "  <tbody>\n",
       "    <tr>\n",
       "      <th>Wvlgth nm</th>\n",
       "      <td>Etr W*m-2*nm-1</td>\n",
       "      <td>Global tilt  W*m-2*nm-1</td>\n",
       "      <td>Direct+circumsolar W*m-2*nm-1</td>\n",
       "    </tr>\n",
       "    <tr>\n",
       "      <th>280</th>\n",
       "      <td>8.20E-02</td>\n",
       "      <td>4.73E-23</td>\n",
       "      <td>2.54E-26</td>\n",
       "    </tr>\n",
       "    <tr>\n",
       "      <th>280.5</th>\n",
       "      <td>9.90E-02</td>\n",
       "      <td>1.23E-21</td>\n",
       "      <td>1.09E-24</td>\n",
       "    </tr>\n",
       "    <tr>\n",
       "      <th>281</th>\n",
       "      <td>1.50E-01</td>\n",
       "      <td>5.69E-21</td>\n",
       "      <td>6.13E-24</td>\n",
       "    </tr>\n",
       "    <tr>\n",
       "      <th>281.5</th>\n",
       "      <td>2.12E-01</td>\n",
       "      <td>1.57E-19</td>\n",
       "      <td>2.75E-22</td>\n",
       "    </tr>\n",
       "    <tr>\n",
       "      <th>...</th>\n",
       "      <td>...</td>\n",
       "      <td>...</td>\n",
       "      <td>...</td>\n",
       "    </tr>\n",
       "    <tr>\n",
       "      <th>3980</th>\n",
       "      <td>8.84E-03</td>\n",
       "      <td>7.39E-03</td>\n",
       "      <td>7.40E-03</td>\n",
       "    </tr>\n",
       "    <tr>\n",
       "      <th>3985</th>\n",
       "      <td>8.80E-03</td>\n",
       "      <td>7.43E-03</td>\n",
       "      <td>7.45E-03</td>\n",
       "    </tr>\n",
       "    <tr>\n",
       "      <th>3990</th>\n",
       "      <td>8.78E-03</td>\n",
       "      <td>7.37E-03</td>\n",
       "      <td>7.39E-03</td>\n",
       "    </tr>\n",
       "    <tr>\n",
       "      <th>3995</th>\n",
       "      <td>8.70E-03</td>\n",
       "      <td>7.21E-03</td>\n",
       "      <td>7.23E-03</td>\n",
       "    </tr>\n",
       "    <tr>\n",
       "      <th>4000</th>\n",
       "      <td>8.68E-03</td>\n",
       "      <td>7.10E-03</td>\n",
       "      <td>7.12E-03</td>\n",
       "    </tr>\n",
       "  </tbody>\n",
       "</table>\n",
       "<p>2003 rows × 3 columns</p>\n",
       "</div>"
      ],
      "text/plain": [
       "                      AM0                   AM1.5G  \\\n",
       "Wvlgth nm  Etr W*m-2*nm-1  Global tilt  W*m-2*nm-1   \n",
       "280              8.20E-02                 4.73E-23   \n",
       "280.5            9.90E-02                 1.23E-21   \n",
       "281              1.50E-01                 5.69E-21   \n",
       "281.5            2.12E-01                 1.57E-19   \n",
       "...                   ...                      ...   \n",
       "3980             8.84E-03                 7.39E-03   \n",
       "3985             8.80E-03                 7.43E-03   \n",
       "3990             8.78E-03                 7.37E-03   \n",
       "3995             8.70E-03                 7.21E-03   \n",
       "4000             8.68E-03                 7.10E-03   \n",
       "\n",
       "                                  AM1.5D  \n",
       "Wvlgth nm  Direct+circumsolar W*m-2*nm-1  \n",
       "280                             2.54E-26  \n",
       "280.5                           1.09E-24  \n",
       "281                             6.13E-24  \n",
       "281.5                           2.75E-22  \n",
       "...                                  ...  \n",
       "3980                            7.40E-03  \n",
       "3985                            7.45E-03  \n",
       "3990                            7.39E-03  \n",
       "3995                            7.23E-03  \n",
       "4000                            7.12E-03  \n",
       "\n",
       "[2003 rows x 3 columns]"
      ]
     },
     "execution_count": 12,
     "metadata": {},
     "output_type": "execute_result"
    }
   ],
   "source": [
    "reference = pd.read_csv('data/Reference_spectrum_ASTM-G173-03.csv', index_col=0, header=0) \n",
    "reference"
   ]
  },
  {
   "cell_type": "code",
   "execution_count": 13,
   "metadata": {},
   "outputs": [],
   "source": [
    "reference.drop(reference.index[0], inplace=True)   # remove row including information on units\n",
    "reference=reference.astype(float)                  # convert values to float for easy operation\n",
    "reference.index=reference.index.astype(float)      # convert indexes to float for easy operation"
   ]
  },
  {
   "cell_type": "markdown",
   "metadata": {},
   "source": [
    "We import the data for the Xe-arc lamp."
   ]
  },
  {
   "cell_type": "code",
   "execution_count": 14,
   "metadata": {},
   "outputs": [
    {
     "data": {
      "text/html": [
       "<div>\n",
       "<style scoped>\n",
       "    .dataframe tbody tr th:only-of-type {\n",
       "        vertical-align: middle;\n",
       "    }\n",
       "\n",
       "    .dataframe tbody tr th {\n",
       "        vertical-align: top;\n",
       "    }\n",
       "\n",
       "    .dataframe thead th {\n",
       "        text-align: right;\n",
       "    }\n",
       "</style>\n",
       "<table border=\"1\" class=\"dataframe\">\n",
       "  <thead>\n",
       "    <tr style=\"text-align: right;\">\n",
       "      <th></th>\n",
       "      <th>Xe arc lamp (W*m-2*nm-1)</th>\n",
       "    </tr>\n",
       "    <tr>\n",
       "      <th>wavelength (nm)</th>\n",
       "      <th></th>\n",
       "    </tr>\n",
       "  </thead>\n",
       "  <tbody>\n",
       "    <tr>\n",
       "      <th>300.36966</th>\n",
       "      <td>0.000793</td>\n",
       "    </tr>\n",
       "    <tr>\n",
       "      <th>300.58005</th>\n",
       "      <td>0.000816</td>\n",
       "    </tr>\n",
       "    <tr>\n",
       "      <th>300.79044</th>\n",
       "      <td>0.000837</td>\n",
       "    </tr>\n",
       "    <tr>\n",
       "      <th>301.00082</th>\n",
       "      <td>0.000858</td>\n",
       "    </tr>\n",
       "    <tr>\n",
       "      <th>301.21124</th>\n",
       "      <td>0.000876</td>\n",
       "    </tr>\n",
       "    <tr>\n",
       "      <th>...</th>\n",
       "      <td>...</td>\n",
       "    </tr>\n",
       "    <tr>\n",
       "      <th>1199.77246</th>\n",
       "      <td>0.213920</td>\n",
       "    </tr>\n",
       "    <tr>\n",
       "      <th>1199.84302</th>\n",
       "      <td>0.213600</td>\n",
       "    </tr>\n",
       "    <tr>\n",
       "      <th>1199.91345</th>\n",
       "      <td>0.213280</td>\n",
       "    </tr>\n",
       "    <tr>\n",
       "      <th>1199.98401</th>\n",
       "      <td>0.212960</td>\n",
       "    </tr>\n",
       "    <tr>\n",
       "      <th>1200.05444</th>\n",
       "      <td>0.212640</td>\n",
       "    </tr>\n",
       "  </tbody>\n",
       "</table>\n",
       "<p>6283 rows × 1 columns</p>\n",
       "</div>"
      ],
      "text/plain": [
       "                 Xe arc lamp (W*m-2*nm-1)\n",
       "wavelength (nm)                          \n",
       "300.36966                        0.000793\n",
       "300.58005                        0.000816\n",
       "300.79044                        0.000837\n",
       "301.00082                        0.000858\n",
       "301.21124                        0.000876\n",
       "...                                   ...\n",
       "1199.77246                       0.213920\n",
       "1199.84302                       0.213600\n",
       "1199.91345                       0.213280\n",
       "1199.98401                       0.212960\n",
       "1200.05444                       0.212640\n",
       "\n",
       "[6283 rows x 1 columns]"
      ]
     },
     "execution_count": 14,
     "metadata": {},
     "output_type": "execute_result"
    }
   ],
   "source": [
    "xe_arc = pd.read_csv('data/Xe lamp spectral irradiance.csv', index_col=0, header=0) \n",
    "xe_arc"
   ]
  },
  {
   "cell_type": "markdown",
   "metadata": {},
   "source": [
    "We import the data for the quartz tungsten lamp."
   ]
  },
  {
   "cell_type": "code",
   "execution_count": 15,
   "metadata": {},
   "outputs": [
    {
     "data": {
      "text/html": [
       "<div>\n",
       "<style scoped>\n",
       "    .dataframe tbody tr th:only-of-type {\n",
       "        vertical-align: middle;\n",
       "    }\n",
       "\n",
       "    .dataframe tbody tr th {\n",
       "        vertical-align: top;\n",
       "    }\n",
       "\n",
       "    .dataframe thead th {\n",
       "        text-align: right;\n",
       "    }\n",
       "</style>\n",
       "<table border=\"1\" class=\"dataframe\">\n",
       "  <thead>\n",
       "    <tr style=\"text-align: right;\">\n",
       "      <th></th>\n",
       "      <th>W halogen lamp (W*m-2*nm-1)</th>\n",
       "    </tr>\n",
       "    <tr>\n",
       "      <th>wavelength (nm)</th>\n",
       "      <th></th>\n",
       "    </tr>\n",
       "  </thead>\n",
       "  <tbody>\n",
       "    <tr>\n",
       "      <th>300</th>\n",
       "      <td>0.000001</td>\n",
       "    </tr>\n",
       "    <tr>\n",
       "      <th>301</th>\n",
       "      <td>0.000010</td>\n",
       "    </tr>\n",
       "    <tr>\n",
       "      <th>302</th>\n",
       "      <td>0.000100</td>\n",
       "    </tr>\n",
       "    <tr>\n",
       "      <th>303</th>\n",
       "      <td>0.000200</td>\n",
       "    </tr>\n",
       "    <tr>\n",
       "      <th>304</th>\n",
       "      <td>0.000300</td>\n",
       "    </tr>\n",
       "    <tr>\n",
       "      <th>...</th>\n",
       "      <td>...</td>\n",
       "    </tr>\n",
       "    <tr>\n",
       "      <th>1196</th>\n",
       "      <td>0.654304</td>\n",
       "    </tr>\n",
       "    <tr>\n",
       "      <th>1197</th>\n",
       "      <td>0.653941</td>\n",
       "    </tr>\n",
       "    <tr>\n",
       "      <th>1198</th>\n",
       "      <td>0.651544</td>\n",
       "    </tr>\n",
       "    <tr>\n",
       "      <th>1199</th>\n",
       "      <td>0.647531</td>\n",
       "    </tr>\n",
       "    <tr>\n",
       "      <th>1200</th>\n",
       "      <td>0.644677</td>\n",
       "    </tr>\n",
       "  </tbody>\n",
       "</table>\n",
       "<p>901 rows × 1 columns</p>\n",
       "</div>"
      ],
      "text/plain": [
       "                 W halogen lamp (W*m-2*nm-1)\n",
       "wavelength (nm)                             \n",
       "300                                 0.000001\n",
       "301                                 0.000010\n",
       "302                                 0.000100\n",
       "303                                 0.000200\n",
       "304                                 0.000300\n",
       "...                                      ...\n",
       "1196                                0.654304\n",
       "1197                                0.653941\n",
       "1198                                0.651544\n",
       "1199                                0.647531\n",
       "1200                                0.644677\n",
       "\n",
       "[901 rows x 1 columns]"
      ]
     },
     "execution_count": 15,
     "metadata": {},
     "output_type": "execute_result"
    }
   ],
   "source": [
    "quartz_w = pd.read_csv('data/W lamp spectral irradiance.csv', index_col=0, header=0) \n",
    "quartz_w"
   ]
  },
  {
   "cell_type": "markdown",
   "metadata": {},
   "source": [
    "We can also plot the AM1.5G spectra, the Xe-arc lamp, and the quarz tungsten lamp spectra."
   ]
  },
  {
   "cell_type": "code",
   "execution_count": 16,
   "metadata": {},
   "outputs": [
    {
     "data": {
      "text/plain": [
       "<matplotlib.legend.Legend at 0x2d988dbf3c8>"
      ]
     },
     "execution_count": 16,
     "metadata": {},
     "output_type": "execute_result"
    },
    {
     "data": {
      "image/png": "[encoded data removed]",
      "text/plain": [
       "<Figure size 432x288 with 1 Axes>"
      ]
     },
     "metadata": {
      "needs_background": "light"
     },
     "output_type": "display_data"
    }
   ],
   "source": [
    "plt.plot(reference['AM1.5G'], \n",
    "         linewidth=2, label='AM1.5G')\n",
    "plt.plot(xe_arc, \n",
    "         linewidth=2, label='Xe-arc lamp')\n",
    "plt.plot(quartz_w, \n",
    "         linewidth=2, label='Quartz tungsten lamp')\n",
    "plt.ylabel('Spectral distribution (Etr W*m-2*nm-1)')\n",
    "plt.xlabel('Wavelength (nm)')\n",
    "plt.xlim([250,1300])\n",
    "plt.legend()"
   ]
  },
  {
   "cell_type": "markdown",
   "metadata": {},
   "source": [
    "We define the relevant constants and import the QE of the silicon solar cell."
   ]
  },
  {
   "cell_type": "code",
   "execution_count": 17,
   "metadata": {},
   "outputs": [],
   "source": [
    "h=6.63*10**(-34)   # [J·s] Planck constant\n",
    "e=1.60*10**(-19)   # [C] electron charge\n",
    "c =299792458       #[m/s] Light speed"
   ]
  },
  {
   "cell_type": "code",
   "execution_count": 38,
   "metadata": {},
   "outputs": [
    {
     "data": {
      "text/html": [
       "<div>\n",
       "<style scoped>\n",
       "    .dataframe tbody tr th:only-of-type {\n",
       "        vertical-align: middle;\n",
       "    }\n",
       "\n",
       "    .dataframe tbody tr th {\n",
       "        vertical-align: top;\n",
       "    }\n",
       "\n",
       "    .dataframe thead th {\n",
       "        text-align: right;\n",
       "    }\n",
       "</style>\n",
       "<table border=\"1\" class=\"dataframe\">\n",
       "  <thead>\n",
       "    <tr style=\"text-align: right;\">\n",
       "      <th></th>\n",
       "      <th>QE Silicon Solar cell</th>\n",
       "    </tr>\n",
       "    <tr>\n",
       "      <th>nm</th>\n",
       "      <th></th>\n",
       "    </tr>\n",
       "  </thead>\n",
       "  <tbody>\n",
       "    <tr>\n",
       "      <th>305</th>\n",
       "      <td>0.185579</td>\n",
       "    </tr>\n",
       "    <tr>\n",
       "      <th>310</th>\n",
       "      <td>0.243200</td>\n",
       "    </tr>\n",
       "    <tr>\n",
       "      <th>315</th>\n",
       "      <td>0.298992</td>\n",
       "    </tr>\n",
       "    <tr>\n",
       "      <th>320</th>\n",
       "      <td>0.353041</td>\n",
       "    </tr>\n",
       "    <tr>\n",
       "      <th>325</th>\n",
       "      <td>0.405425</td>\n",
       "    </tr>\n",
       "    <tr>\n",
       "      <th>...</th>\n",
       "      <td>...</td>\n",
       "    </tr>\n",
       "    <tr>\n",
       "      <th>1130</th>\n",
       "      <td>0.081951</td>\n",
       "    </tr>\n",
       "    <tr>\n",
       "      <th>1135</th>\n",
       "      <td>0.067769</td>\n",
       "    </tr>\n",
       "    <tr>\n",
       "      <th>1140</th>\n",
       "      <td>0.053712</td>\n",
       "    </tr>\n",
       "    <tr>\n",
       "      <th>1145</th>\n",
       "      <td>0.039777</td>\n",
       "    </tr>\n",
       "    <tr>\n",
       "      <th>1150</th>\n",
       "      <td>0.025964</td>\n",
       "    </tr>\n",
       "  </tbody>\n",
       "</table>\n",
       "<p>170 rows × 1 columns</p>\n",
       "</div>"
      ],
      "text/plain": [
       "      QE Silicon Solar cell\n",
       "nm                         \n",
       "305                0.185579\n",
       "310                0.243200\n",
       "315                0.298992\n",
       "320                0.353041\n",
       "325                0.405425\n",
       "...                     ...\n",
       "1130               0.081951\n",
       "1135               0.067769\n",
       "1140               0.053712\n",
       "1145               0.039777\n",
       "1150               0.025964\n",
       "\n",
       "[170 rows x 1 columns]"
      ]
     },
     "execution_count": 38,
     "metadata": {},
     "output_type": "execute_result"
    }
   ],
   "source": [
    "QE = pd.read_csv('data/QE_Silicon.csv', index_col=0, header=0) \n",
    "QE"
   ]
  },
  {
   "cell_type": "markdown",
   "metadata": {},
   "source": [
    "We calculate the Spectral Response (SR) of the silicon solar cell and plot it. "
   ]
  },
  {
   "cell_type": "code",
   "execution_count": 19,
   "metadata": {},
   "outputs": [
    {
     "data": {
      "image/png": "[encoded data removed]",
      "text/plain": [
       "<Figure size 432x288 with 1 Axes>"
      ]
     },
     "metadata": {
      "needs_background": "light"
     },
     "output_type": "display_data"
    }
   ],
   "source": [
    "SR=pd.Series(index=QE.index,\n",
    "            data=[QE.loc[i,'QE Silicon Solar cell']*e*i*0.000000001/(h*c) for i in QE.index])\n",
    "plt.plot(SR, \n",
    "         linewidth=2)\n",
    "plt.ylabel('Spectral response, $SR$')\n",
    "plt.xlabel(r'Wavelength, $\\lambda$ (nm)');"
   ]
  },
  {
   "cell_type": "markdown",
   "metadata": {},
   "source": [
    "For the reference AM1.5G, we interpolate the spectrum at those datapoints included in the SR, and integrate to obtain the short-circuit current density using Eq. 3.5.\n",
    "\n",
    "$J=\\int SR(\\lambda) \\cdot G(\\lambda) \\ d\\lambda$\n"
   ]
  },
  {
   "cell_type": "code",
   "execution_count": 20,
   "metadata": {},
   "outputs": [
    {
     "name": "stdout",
     "output_type": "stream",
     "text": [
      "Photocurrent density = 36.7 mA/cm2\n"
     ]
    }
   ],
   "source": [
    "spectra=reference['AM1.5G']\n",
    "spectra_interpolated=np.interp(SR.index, spectra.index, spectra.values)\n",
    "\n",
    "J_reference = np.trapz([x*y for x,y in zip(SR, spectra_interpolated)], x=SR.index)*1000/10000 # A-> mA ; m2 -> cm2\n",
    "print('Photocurrent density = ' + str(J_reference.round(1)) + ' mA/cm2')\n"
   ]
  },
  {
   "cell_type": "markdown",
   "metadata": {},
   "source": [
    "We repeat the calculation for the Xe-arc lamp spectra."
   ]
  },
  {
   "cell_type": "code",
   "execution_count": 21,
   "metadata": {},
   "outputs": [
    {
     "name": "stdout",
     "output_type": "stream",
     "text": [
      "Photocurrent density = 27.1 mA/cm2\n"
     ]
    }
   ],
   "source": [
    "spectra=xe_arc['Xe arc lamp (W*m-2*nm-1)']\n",
    "spectra_interpolated=np.interp(SR.index, spectra.index, spectra.values)\n",
    "\n",
    "J_xe_arc = np.trapz([x*y for x,y in zip(SR, spectra_interpolated)], x=SR.index)*1000/10000 # A-> mA ; m2 -> cm2\n",
    "print('Photocurrent density = ' + str(J_xe_arc.round(1)) + ' mA/cm2')"
   ]
  },
  {
   "cell_type": "markdown",
   "metadata": {},
   "source": [
    "We calculate the error when determining the photocurrent density using the Xe-arc lamp."
   ]
  },
  {
   "cell_type": "code",
   "execution_count": 26,
   "metadata": {},
   "outputs": [
    {
     "name": "stdout",
     "output_type": "stream",
     "text": [
      "Error = 26.0 %\n"
     ]
    }
   ],
   "source": [
    "error_xe_arc=1-J_xe_arc/J_reference\n",
    "print('Error = ' + str(100*error_xe_arc.round(2)) + ' %')"
   ]
  },
  {
   "cell_type": "markdown",
   "metadata": {},
   "source": [
    "Hence, the Xe-arc lamp should be moved 26 cm closer. "
   ]
  },
  {
   "cell_type": "markdown",
   "metadata": {},
   "source": [
    "We repeat the calculation for the quartz tungsten lamp spectra."
   ]
  },
  {
   "cell_type": "code",
   "execution_count": 35,
   "metadata": {},
   "outputs": [
    {
     "name": "stdout",
     "output_type": "stream",
     "text": [
      "Photocurrent density = 26.9 mA/cm2\n"
     ]
    }
   ],
   "source": [
    "spectra=quartz_w['W halogen lamp (W*m-2*nm-1)']\n",
    "spectra_interpolated=np.interp(SR.index, spectra.index, spectra.values)\n",
    "\n",
    "J_quartz_w = np.trapz([x*y for x,y in zip(SR, spectra_interpolated)], x=SR.index)*1000/10000 # A-> mA ; m2 -> cm2\n",
    "print('Photocurrent density = ' + str(J_quartz_w.round(1)) + ' mA/cm2')"
   ]
  },
  {
   "cell_type": "markdown",
   "metadata": {},
   "source": [
    "We calculate the error when determining the photocurrent density using the quartz tungsten lamp."
   ]
  },
  {
   "cell_type": "code",
   "execution_count": 36,
   "metadata": {},
   "outputs": [
    {
     "name": "stdout",
     "output_type": "stream",
     "text": [
      "Error = 27.0 %\n"
     ]
    }
   ],
   "source": [
    "error_quartz_w=1-J_quartz_w/J_reference\n",
    "print('Error = ' + str(100*error_quartz_w.round(2)) + ' %')"
   ]
  },
  {
   "cell_type": "markdown",
   "metadata": {},
   "source": [
    "Hence, the quartz tungsten lamp should be moved 27 cm closer. "
   ]
  },
  {
   "cell_type": "code",
   "execution_count": null,
   "metadata": {},
   "outputs": [],
   "source": []
  }
 ],
 "metadata": {
  "kernelspec": {
   "display_name": "Python 3 (ipykernel)",
   "language": "python",
   "name": "python3"
  },
  "language_info": {
   "codemirror_mode": {
    "name": "ipython",
    "version": 3
   },
   "file_extension": ".py",
   "mimetype": "text/x-python",
   "name": "python",
   "nbconvert_exporter": "python",
   "pygments_lexer": "ipython3",
   "version": "3.7.12"
  }
 },
 "nbformat": 4,
 "nbformat_minor": 4
}
