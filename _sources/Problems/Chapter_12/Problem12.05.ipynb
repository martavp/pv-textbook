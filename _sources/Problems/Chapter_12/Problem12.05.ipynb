{
 "cells": [
  {
   "cell_type": "markdown",
   "metadata": {},
   "source": [
    "**Fundamentals of Solar Cells and Photovoltaic Systems Engineering**\n",
    "\n",
    "**Solutions Manual - Chapter 12**\n",
    "\n",
    "**Problem 12.5**\n"
   ]
  },
  {
   "cell_type": "markdown",
   "metadata": {},
   "source": [
    "**The tabulated data provided in the online repository of this book includes hourly irradiance data for the different solar irradiance components measured in Madrid (Spain),  on June 10 at a fixed plane at a tilt of 35⁰, which is very close to the optimum inclination (for maximum energy capture throughout the year) at such latitude.**\n",
    "\n",
    "**(a) For every hour, estimate the diffuse irradiance from the global and direct components and compare them to the experimentally measured diffuse irradiance. Calculating the root-mean-square error (RMSE) between both.**\n",
    "\n",
    "**(b) What are the typical instruments used to obtain such experimental data?**"
   ]
  },
  {
   "cell_type": "markdown",
   "metadata": {},
   "source": [
    "We will use the package [pandas](https://pandas.pydata.org/) to handle the data and [matplotlib.pyplot](https://matplotlib.org/stable/index.html) to plot the results."
   ]
  },
  {
   "cell_type": "code",
   "execution_count": 6,
   "metadata": {},
   "outputs": [],
   "source": [
    "import pandas as pd\n",
    "import numpy as np\n",
    "import matplotlib.pyplot as plt"
   ]
  },
  {
   "cell_type": "markdown",
   "metadata": {},
   "source": [
    "We start by importing the measured solar irradiance components."
   ]
  },
  {
   "cell_type": "code",
   "execution_count": 13,
   "metadata": {},
   "outputs": [
    {
     "data": {
      "text/html": [
       "<div>\n",
       "<style scoped>\n",
       "    .dataframe tbody tr th:only-of-type {\n",
       "        vertical-align: middle;\n",
       "    }\n",
       "\n",
       "    .dataframe tbody tr th {\n",
       "        vertical-align: top;\n",
       "    }\n",
       "\n",
       "    .dataframe thead th {\n",
       "        text-align: right;\n",
       "    }\n",
       "</style>\n",
       "<table border=\"1\" class=\"dataframe\">\n",
       "  <thead>\n",
       "    <tr style=\"text-align: right;\">\n",
       "      <th></th>\n",
       "      <th>Gb(i)</th>\n",
       "    </tr>\n",
       "    <tr>\n",
       "      <th>time(UTC+1)</th>\n",
       "      <th></th>\n",
       "    </tr>\n",
       "  </thead>\n",
       "  <tbody>\n",
       "    <tr>\n",
       "      <th>00:00</th>\n",
       "      <td>0.00</td>\n",
       "    </tr>\n",
       "    <tr>\n",
       "      <th>01:00</th>\n",
       "      <td>0.00</td>\n",
       "    </tr>\n",
       "    <tr>\n",
       "      <th>02:00</th>\n",
       "      <td>0.00</td>\n",
       "    </tr>\n",
       "    <tr>\n",
       "      <th>03:00</th>\n",
       "      <td>0.00</td>\n",
       "    </tr>\n",
       "    <tr>\n",
       "      <th>04:00</th>\n",
       "      <td>0.00</td>\n",
       "    </tr>\n",
       "    <tr>\n",
       "      <th>05:00</th>\n",
       "      <td>0.00</td>\n",
       "    </tr>\n",
       "    <tr>\n",
       "      <th>06:00</th>\n",
       "      <td>0.00</td>\n",
       "    </tr>\n",
       "    <tr>\n",
       "      <th>07:00</th>\n",
       "      <td>5.90</td>\n",
       "    </tr>\n",
       "    <tr>\n",
       "      <th>08:00</th>\n",
       "      <td>131.87</td>\n",
       "    </tr>\n",
       "    <tr>\n",
       "      <th>09:00</th>\n",
       "      <td>291.56</td>\n",
       "    </tr>\n",
       "    <tr>\n",
       "      <th>10:00</th>\n",
       "      <td>439.15</td>\n",
       "    </tr>\n",
       "    <tr>\n",
       "      <th>11:00</th>\n",
       "      <td>569.09</td>\n",
       "    </tr>\n",
       "    <tr>\n",
       "      <th>12:00</th>\n",
       "      <td>633.52</td>\n",
       "    </tr>\n",
       "    <tr>\n",
       "      <th>13:00</th>\n",
       "      <td>653.63</td>\n",
       "    </tr>\n",
       "    <tr>\n",
       "      <th>14:00</th>\n",
       "      <td>610.45</td>\n",
       "    </tr>\n",
       "    <tr>\n",
       "      <th>15:00</th>\n",
       "      <td>533.22</td>\n",
       "    </tr>\n",
       "    <tr>\n",
       "      <th>16:00</th>\n",
       "      <td>423.96</td>\n",
       "    </tr>\n",
       "    <tr>\n",
       "      <th>17:00</th>\n",
       "      <td>286.50</td>\n",
       "    </tr>\n",
       "    <tr>\n",
       "      <th>18:00</th>\n",
       "      <td>140.95</td>\n",
       "    </tr>\n",
       "    <tr>\n",
       "      <th>19:00</th>\n",
       "      <td>21.13</td>\n",
       "    </tr>\n",
       "    <tr>\n",
       "      <th>20:00</th>\n",
       "      <td>0.00</td>\n",
       "    </tr>\n",
       "    <tr>\n",
       "      <th>21:00</th>\n",
       "      <td>0.00</td>\n",
       "    </tr>\n",
       "    <tr>\n",
       "      <th>22:00</th>\n",
       "      <td>0.00</td>\n",
       "    </tr>\n",
       "    <tr>\n",
       "      <th>23:00</th>\n",
       "      <td>0.00</td>\n",
       "    </tr>\n",
       "  </tbody>\n",
       "</table>\n",
       "</div>"
      ],
      "text/plain": [
       "              Gb(i)\n",
       "time(UTC+1)        \n",
       "00:00          0.00\n",
       "01:00          0.00\n",
       "02:00          0.00\n",
       "03:00          0.00\n",
       "04:00          0.00\n",
       "05:00          0.00\n",
       "06:00          0.00\n",
       "07:00          5.90\n",
       "08:00        131.87\n",
       "09:00        291.56\n",
       "10:00        439.15\n",
       "11:00        569.09\n",
       "12:00        633.52\n",
       "13:00        653.63\n",
       "14:00        610.45\n",
       "15:00        533.22\n",
       "16:00        423.96\n",
       "17:00        286.50\n",
       "18:00        140.95\n",
       "19:00         21.13\n",
       "20:00          0.00\n",
       "21:00          0.00\n",
       "22:00          0.00\n",
       "23:00          0.00"
      ]
     },
     "execution_count": 13,
     "metadata": {},
     "output_type": "execute_result"
    }
   ],
   "source": [
    "G = pd.read_csv('data/Global_35deg.csv', index_col=0, header=0) \n",
    "B = pd.read_csv('data/Direct_35deg.csv', index_col=0, header=0) \n",
    "D = pd.read_csv('data/Diffuse_35deg.csv', index_col=0, header=0) \n",
    "B"
   ]
  },
  {
   "cell_type": "markdown",
   "metadata": {},
   "source": [
    "We can estimated the diffuse irradiance $D$ by substracting the direct irradiance $B$ from the global irradiance $G$."
   ]
  },
  {
   "cell_type": "code",
   "execution_count": 15,
   "metadata": {},
   "outputs": [
    {
     "data": {
      "text/plain": [
       "time(UTC+1)\n",
       "00:00      0.00\n",
       "01:00      0.00\n",
       "02:00      0.00\n",
       "03:00      0.00\n",
       "04:00      0.00\n",
       "05:00      0.00\n",
       "06:00     13.34\n",
       "07:00     57.23\n",
       "08:00    106.95\n",
       "09:00    147.89\n",
       "10:00    183.18\n",
       "11:00    206.35\n",
       "12:00    233.26\n",
       "13:00    244.38\n",
       "14:00    244.52\n",
       "15:00    234.24\n",
       "16:00    211.69\n",
       "17:00    172.14\n",
       "18:00    124.94\n",
       "19:00     69.31\n",
       "20:00     24.39\n",
       "21:00      0.00\n",
       "22:00      0.00\n",
       "23:00      0.00\n",
       "dtype: float64"
      ]
     },
     "execution_count": 15,
     "metadata": {},
     "output_type": "execute_result"
    }
   ],
   "source": [
    "D_estimated = G['G(i)']-B['Gb(i)']\n",
    "D_estimated"
   ]
  },
  {
   "cell_type": "markdown",
   "metadata": {},
   "source": [
    "We can plot the measured and estimated irradiance components. "
   ]
  },
  {
   "cell_type": "code",
   "execution_count": 23,
   "metadata": {},
   "outputs": [
    {
     "data": {
      "text/plain": [
       "<matplotlib.legend.Legend at 0x216bb2cbc08>"
      ]
     },
     "execution_count": 23,
     "metadata": {},
     "output_type": "execute_result"
    },
    {
     "data": {
      "image/png": "[encoded data removed]",
      "text/plain": [
       "<Figure size 432x288 with 1 Axes>"
      ]
     },
     "metadata": {
      "needs_background": "light"
     },
     "output_type": "display_data"
    }
   ],
   "source": [
    "plt.plot(G['G(i)'], \n",
    "         linewidth=2, label='Global')\n",
    "plt.plot(B['Gb(i)'], \n",
    "         linewidth=2, label='Direct')\n",
    "plt.plot(D['Gd(i)'],\n",
    "         linewidth=2, label='Diffuse (measured)')\n",
    "plt.plot(D_estimated,\n",
    "         linewidth=2, linestyle='--',label='Diffuse (estimated)')\n",
    "plt.ylabel('Irradiance (W/m2)')\n",
    "#plt.xlabel('Wavelength (nm)')\n",
    "#plt.xlim([250,1300])\n",
    "plt.xticks(rotation=70)\n",
    "plt.legend()"
   ]
  },
  {
   "cell_type": "markdown",
   "metadata": {},
   "source": [
    "We calculate the root-mean square error (RMSE) between the estimated and measured diffuse irradiance. "
   ]
  },
  {
   "cell_type": "code",
   "execution_count": 29,
   "metadata": {},
   "outputs": [
    {
     "name": "stdout",
     "output_type": "stream",
     "text": [
      "The RMSE is 8.41\n"
     ]
    }
   ],
   "source": [
    "RMSE=np.sqrt(((D['Gd(i)']-D_estimated)**2).mean())\n",
    "RMSE\n",
    "print('The RMSE is ' + str(RMSE.round(2)))"
   ]
  },
  {
   "cell_type": "markdown",
   "metadata": {},
   "source": [
    "**(b) What are the typical instruments used to obtain such experimental data?**"
   ]
  },
  {
   "cell_type": "markdown",
   "metadata": {},
   "source": [
    "Global irradiance is measured using a pyranometer, Direct irradiance using a pyrheliometer. Diffuse irradiance can be measured using a pyranometer toghether with an element to block direct irradiance. "
   ]
  },
  {
   "cell_type": "code",
   "execution_count": null,
   "metadata": {},
   "outputs": [],
   "source": []
  }
 ],
 "metadata": {
  "kernelspec": {
   "display_name": "Python 3 (ipykernel)",
   "language": "python",
   "name": "python3"
  },
  "language_info": {
   "codemirror_mode": {
    "name": "ipython",
    "version": 3
   },
   "file_extension": ".py",
   "mimetype": "text/x-python",
   "name": "python",
   "nbconvert_exporter": "python",
   "pygments_lexer": "ipython3",
   "version": "3.7.12"
  }
 },
 "nbformat": 4,
 "nbformat_minor": 4
}
