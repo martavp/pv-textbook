{
 "cells": [
  {
   "cell_type": "markdown",
   "metadata": {},
   "source": [
    "# Problem 15.9"
   ]
  },
  {
   "cell_type": "markdown",
   "metadata": {},
   "source": [
    "**Fundamentals of Solar Cells and Photovoltaic Systems Engineering**\n",
    "\n",
    "**Solutions Manual - Chapter 15**\n",
    "\n",
    "**Problem 15.9**\n"
   ]
  },
  {
   "cell_type": "markdown",
   "metadata": {},
   "source": [
    "**Consider now the QE of the triple-junction solar cell at EOL and the loss of transmittance curve for the degraded coverglass (tabulated data is provided in the online repository of this book). Quantify the current loss in each subcell with respect to the results in Problem 15.8. Which is the subcell that has decreased its current the most?  What is the current balance in this case?**"
   ]
  },
  {
   "cell_type": "markdown",
   "metadata": {},
   "source": [
    "We will use the package [pandas](https://pandas.pydata.org/) to handle the data and [matplotlib.pyplot](https://matplotlib.org/stable/index.html) to plot the results."
   ]
  },
  {
   "cell_type": "code",
   "execution_count": 1,
   "metadata": {},
   "outputs": [],
   "source": [
    "import pandas as pd\n",
    "import numpy as np\n",
    "import matplotlib.pyplot as plt"
   ]
  },
  {
   "cell_type": "markdown",
   "metadata": {},
   "source": [
    "We start by importing the data for the solar spectra."
   ]
  },
  {
   "cell_type": "code",
   "execution_count": 2,
   "metadata": {},
   "outputs": [
    {
     "data": {
      "text/html": [
       "<div>\n",
       "<style scoped>\n",
       "    .dataframe tbody tr th:only-of-type {\n",
       "        vertical-align: middle;\n",
       "    }\n",
       "\n",
       "    .dataframe tbody tr th {\n",
       "        vertical-align: top;\n",
       "    }\n",
       "\n",
       "    .dataframe thead th {\n",
       "        text-align: right;\n",
       "    }\n",
       "</style>\n",
       "<table border=\"1\" class=\"dataframe\">\n",
       "  <thead>\n",
       "    <tr style=\"text-align: right;\">\n",
       "      <th></th>\n",
       "      <th>AM0</th>\n",
       "      <th>AM1.5G</th>\n",
       "      <th>AM1.5D</th>\n",
       "    </tr>\n",
       "  </thead>\n",
       "  <tbody>\n",
       "    <tr>\n",
       "      <th>Wvlgth nm</th>\n",
       "      <td>Etr W*m-2*nm-1</td>\n",
       "      <td>Global tilt  W*m-2*nm-1</td>\n",
       "      <td>Direct+circumsolar W*m-2*nm-1</td>\n",
       "    </tr>\n",
       "    <tr>\n",
       "      <th>280</th>\n",
       "      <td>8.20E-02</td>\n",
       "      <td>4.73E-23</td>\n",
       "      <td>2.54E-26</td>\n",
       "    </tr>\n",
       "    <tr>\n",
       "      <th>280.5</th>\n",
       "      <td>9.90E-02</td>\n",
       "      <td>1.23E-21</td>\n",
       "      <td>1.09E-24</td>\n",
       "    </tr>\n",
       "    <tr>\n",
       "      <th>281</th>\n",
       "      <td>1.50E-01</td>\n",
       "      <td>5.69E-21</td>\n",
       "      <td>6.13E-24</td>\n",
       "    </tr>\n",
       "    <tr>\n",
       "      <th>281.5</th>\n",
       "      <td>2.12E-01</td>\n",
       "      <td>1.57E-19</td>\n",
       "      <td>2.75E-22</td>\n",
       "    </tr>\n",
       "    <tr>\n",
       "      <th>...</th>\n",
       "      <td>...</td>\n",
       "      <td>...</td>\n",
       "      <td>...</td>\n",
       "    </tr>\n",
       "    <tr>\n",
       "      <th>3980</th>\n",
       "      <td>8.84E-03</td>\n",
       "      <td>7.39E-03</td>\n",
       "      <td>7.40E-03</td>\n",
       "    </tr>\n",
       "    <tr>\n",
       "      <th>3985</th>\n",
       "      <td>8.80E-03</td>\n",
       "      <td>7.43E-03</td>\n",
       "      <td>7.45E-03</td>\n",
       "    </tr>\n",
       "    <tr>\n",
       "      <th>3990</th>\n",
       "      <td>8.78E-03</td>\n",
       "      <td>7.37E-03</td>\n",
       "      <td>7.39E-03</td>\n",
       "    </tr>\n",
       "    <tr>\n",
       "      <th>3995</th>\n",
       "      <td>8.70E-03</td>\n",
       "      <td>7.21E-03</td>\n",
       "      <td>7.23E-03</td>\n",
       "    </tr>\n",
       "    <tr>\n",
       "      <th>4000</th>\n",
       "      <td>8.68E-03</td>\n",
       "      <td>7.10E-03</td>\n",
       "      <td>7.12E-03</td>\n",
       "    </tr>\n",
       "  </tbody>\n",
       "</table>\n",
       "<p>2003 rows × 3 columns</p>\n",
       "</div>"
      ],
      "text/plain": [
       "                      AM0                   AM1.5G  \\\n",
       "Wvlgth nm  Etr W*m-2*nm-1  Global tilt  W*m-2*nm-1   \n",
       "280              8.20E-02                 4.73E-23   \n",
       "280.5            9.90E-02                 1.23E-21   \n",
       "281              1.50E-01                 5.69E-21   \n",
       "281.5            2.12E-01                 1.57E-19   \n",
       "...                   ...                      ...   \n",
       "3980             8.84E-03                 7.39E-03   \n",
       "3985             8.80E-03                 7.43E-03   \n",
       "3990             8.78E-03                 7.37E-03   \n",
       "3995             8.70E-03                 7.21E-03   \n",
       "4000             8.68E-03                 7.10E-03   \n",
       "\n",
       "                                  AM1.5D  \n",
       "Wvlgth nm  Direct+circumsolar W*m-2*nm-1  \n",
       "280                             2.54E-26  \n",
       "280.5                           1.09E-24  \n",
       "281                             6.13E-24  \n",
       "281.5                           2.75E-22  \n",
       "...                                  ...  \n",
       "3980                            7.40E-03  \n",
       "3985                            7.45E-03  \n",
       "3990                            7.39E-03  \n",
       "3995                            7.23E-03  \n",
       "4000                            7.12E-03  \n",
       "\n",
       "[2003 rows x 3 columns]"
      ]
     },
     "execution_count": 2,
     "metadata": {},
     "output_type": "execute_result"
    }
   ],
   "source": [
    "datafile = pd.read_csv('data/Reference_spectrum_ASTM-G173-03.csv', index_col=0, header=0) \n",
    "datafile"
   ]
  },
  {
   "cell_type": "code",
   "execution_count": 3,
   "metadata": {},
   "outputs": [],
   "source": [
    "datafile.drop(datafile.index[0], inplace=True)   #remove row including information on units\n",
    "datafile=datafile.astype(float)                  #convert values to float for easy operation\n",
    "datafile.index=datafile.index.astype(float)      #convert indexes to float for easy operation"
   ]
  },
  {
   "cell_type": "markdown",
   "metadata": {},
   "source": [
    "We can also plot the three spectra"
   ]
  },
  {
   "cell_type": "code",
   "execution_count": 4,
   "metadata": {},
   "outputs": [
    {
     "data": {
      "text/plain": [
       "<matplotlib.legend.Legend at 0x14d2ce544c8>"
      ]
     },
     "execution_count": 4,
     "metadata": {},
     "output_type": "execute_result"
    },
    {
     "data": {
      "image/png": "[encoded data removed]",
      "text/plain": [
       "<Figure size 432x288 with 1 Axes>"
      ]
     },
     "metadata": {
      "needs_background": "light"
     },
     "output_type": "display_data"
    }
   ],
   "source": [
    "plt.plot(datafile, \n",
    "         linewidth=2, label=datafile.columns)\n",
    "plt.ylabel('Spectral distribution (Etr W*m-2*nm-1)')\n",
    "plt.xlabel('Wavelength (nm)')\n",
    "plt.legend()"
   ]
  },
  {
   "cell_type": "markdown",
   "metadata": {},
   "source": [
    "We define the relevant constants and import the QE of the triple junction solar cell at EOL."
   ]
  },
  {
   "cell_type": "code",
   "execution_count": 5,
   "metadata": {},
   "outputs": [],
   "source": [
    "h=6.63*10**(-34)   # [J·s] Planck constant\n",
    "e=1.60*10**(-19)   # [C] electron charge\n",
    "c =299792458       #[m/s] Light speed"
   ]
  },
  {
   "cell_type": "code",
   "execution_count": 6,
   "metadata": {},
   "outputs": [],
   "source": [
    "QE_top = pd.read_csv('data/EQE_TC_EOL.txt', \n",
    "                     header=None, index_col=0, sep='\\t').dropna().squeeze() #import dataframe and convert into series\n",
    "QE_mid = pd.read_csv('data/EQE_MC_EOL.txt', \n",
    "                     header=None, index_col=0, sep='\\t').squeeze() #import dataframe and convert into series \n",
    "QE_bot = pd.read_csv('data/EQE_BC_EOL.txt', \n",
    "                     header=None, index_col=0, sep='\\t').squeeze() #import dataframe and convert into series "
   ]
  },
  {
   "cell_type": "markdown",
   "metadata": {},
   "source": [
    "We can plot the Quantum Efficiency."
   ]
  },
  {
   "cell_type": "code",
   "execution_count": 7,
   "metadata": {},
   "outputs": [
    {
     "data": {
      "text/plain": [
       "<matplotlib.legend.Legend at 0x14d2d652dc8>"
      ]
     },
     "execution_count": 7,
     "metadata": {},
     "output_type": "execute_result"
    },
    {
     "data": {
      "image/png": "[encoded data removed]",
      "text/plain": [
       "<Figure size 432x288 with 1 Axes>"
      ]
     },
     "metadata": {
      "needs_background": "light"
     },
     "output_type": "display_data"
    }
   ],
   "source": [
    "plt.plot(QE_top, linewidth=0, label='top subcell', marker='.', markersize=10, color='#5FA1D8') #ligthblue\n",
    "plt.plot(QE_mid, linewidth=0, label='middle subcell', marker='.', markersize=10, color='#498F34') #green\n",
    "plt.plot(QE_bot, linewidth=0, label='bottom subcell', marker='.', markersize=10, color='#B31F20') #darkred\n",
    "plt.ylabel('Quantum Efficiency (QE)')\n",
    "plt.xlabel('Wavelength, $\\lambda$ (nm)');\n",
    "plt.legend(loc='lower right')"
   ]
  },
  {
   "cell_type": "markdown",
   "metadata": {},
   "source": [
    "We import the transmisttance of the coverglass at the BOL and the degradation and plot both."
   ]
  },
  {
   "cell_type": "code",
   "execution_count": 11,
   "metadata": {},
   "outputs": [
    {
     "data": {
      "image/png": "[encoded data removed]",
      "text/plain": [
       "<Figure size 432x288 with 1 Axes>"
      ]
     },
     "metadata": {
      "needs_background": "light"
     },
     "output_type": "display_data"
    }
   ],
   "source": [
    "# transmittance coverglass at the BOL\n",
    "T_coverglass = pd.read_csv('data/TransmissionCoverGlass_BOL.txt', \n",
    "                     header=None, index_col=0, sep='\\t').squeeze() #import dataframe and convert into serie\n",
    "\n",
    "#loss of transmittance curve for the degraded coverglass\n",
    "T_losses = pd.read_csv('data/T_losses_EOL.txt', \n",
    "                     header=None, index_col=0, sep='\\t').squeeze() #import dataframe and convert into serie\n",
    "plt.plot(T_coverglass, linewidth=2, label='transmittance BOL')\n",
    "plt.plot(T_losses, linewidth=2, label='loss of transmittance EOL')\n",
    "plt.ylabel('Transmittance (%)')\n",
    "plt.legend()\n",
    "plt.xlabel('Wavelength, $\\lambda$ (nm)');"
   ]
  },
  {
   "cell_type": "markdown",
   "metadata": {},
   "source": [
    "For the top subcell, we calculate the spectral response, interpolate the spectrum, and integrate to obtain the short-circuit current density.\n",
    "\n",
    "$J=\\int SR(\\lambda) \\cdot G(\\lambda) \\cdot T_{coverglass}(\\lambda) T_{losses}(\\lambda) \\ d\\lambda$\n",
    "\n",
    "In this case, we assume the extraterrestrial irradiance AM0 and multiply it by the transmittance of the coverglass and the transmittance losses."
   ]
  },
  {
   "cell_type": "code",
   "execution_count": 12,
   "metadata": {},
   "outputs": [
    {
     "name": "stdout",
     "output_type": "stream",
     "text": [
      "Photocurrent density top = 9.8 mA/cm2\n"
     ]
    }
   ],
   "source": [
    "QE=QE_top\n",
    "SR=pd.Series(index=QE.index,\n",
    "            data=[QE.loc[i]*e*i*0.000000001/(h*c) for i in QE.index])\n",
    "\n",
    "spectrum='AM0'\n",
    "spectra=datafile[spectrum]\n",
    "spectra_interpolated=np.interp(SR.index, spectra.index, spectra.values)\n",
    "T_coverglass_interpolated=np.interp(SR.index, T_coverglass.index, T_coverglass.values)\n",
    "T_losses_interpolated=np.interp(SR.index, T_losses.index, T_losses.values)\n",
    "J_top = np.trapz([x*y*z*w for x,y,z,w in zip(SR, spectra_interpolated,T_coverglass_interpolated, T_losses_interpolated)], x=SR.index)*1000/10000 # A-> mA ; m2 -> cm2\n",
    "print('Photocurrent density top = ' + str(J_top.round(1)) + ' mA/cm2')"
   ]
  },
  {
   "cell_type": "markdown",
   "metadata": {},
   "source": [
    "We repeat the analysis for the middle subcell."
   ]
  },
  {
   "cell_type": "code",
   "execution_count": 13,
   "metadata": {},
   "outputs": [
    {
     "name": "stdout",
     "output_type": "stream",
     "text": [
      "Photocurrent density middle = 11.3 mA/cm2\n"
     ]
    }
   ],
   "source": [
    "QE=QE_mid\n",
    "SR=pd.Series(index=QE.index,\n",
    "            data=[QE.loc[i]*e*i*0.000000001/(h*c) for i in QE.index])\n",
    "\n",
    "spectra=datafile[spectrum]\n",
    "spectra_interpolated=np.interp(SR.index, spectra.index, spectra.values)\n",
    "T_coverglass_interpolated=np.interp(SR.index, T_coverglass.index, T_coverglass.values)\n",
    "T_losses_interpolated=np.interp(SR.index, T_losses.index, T_losses.values)\n",
    "J_mid = np.trapz([x*y*z*w for x,y,z,w in zip(SR, spectra_interpolated,T_coverglass_interpolated, T_losses_interpolated)], x=SR.index)*1000/10000 # A-> mA ; m2 -> cm2\n",
    "print('Photocurrent density middle = ' + str(J_mid.round(1)) + ' mA/cm2')"
   ]
  },
  {
   "cell_type": "markdown",
   "metadata": {},
   "source": [
    "We repeat the analysis for the bottom subcell."
   ]
  },
  {
   "cell_type": "code",
   "execution_count": 14,
   "metadata": {},
   "outputs": [
    {
     "name": "stdout",
     "output_type": "stream",
     "text": [
      "Photocurrent density bottom = 26.6 mA/cm2\n"
     ]
    }
   ],
   "source": [
    "QE=QE_bot\n",
    "SR=pd.Series(index=QE.index,\n",
    "            data=[QE.loc[i]*e*i*0.000000001/(h*c) for i in QE.index])\n",
    "\n",
    "spectra=datafile[spectrum]\n",
    "spectra_interpolated=np.interp(SR.index, spectra.index, spectra.values)\n",
    "T_coverglass_interpolated=np.interp(SR.index, T_coverglass.index, T_coverglass.values)\n",
    "T_losses_interpolated=np.interp(SR.index, T_losses.index, T_losses.values)\n",
    "J_bot = np.trapz([x*y*z*w for x,y,z,w in zip(SR, spectra_interpolated,T_coverglass_interpolated, T_losses_interpolated)], x=SR.index)*1000/10000 # A-> mA ; m2 -> cm2\n",
    "\n",
    "print('Photocurrent density bottom = ' + str(J_bot.round(1)) + ' mA/cm2')"
   ]
  },
  {
   "cell_type": "markdown",
   "metadata": {},
   "source": [
    "The current balance of the top and middle subcells ($J_{SC,top}$/$J_{SC,middle}$) can be calculated as follows:"
   ]
  },
  {
   "cell_type": "code",
   "execution_count": 15,
   "metadata": {},
   "outputs": [
    {
     "data": {
      "text/plain": [
       "0.8663378059190533"
      ]
     },
     "execution_count": 15,
     "metadata": {},
     "output_type": "execute_result"
    }
   ],
   "source": [
    "J_top/J_mid"
   ]
  },
  {
   "cell_type": "markdown",
   "metadata": {},
   "source": [
    "Comparing with the short-circuit current produced at the BOL (Problem 15.8), the middle subcell is the subcell which has degraded the most with a 69% of remaining photogenerated current density versus 94% and 98% for the top and bottom subcells respectively, even though the coverglass degradation occurs in the UV region."
   ]
  },
  {
   "cell_type": "code",
   "execution_count": 16,
   "metadata": {},
   "outputs": [
    {
     "data": {
      "text/plain": [
       "0.9357678912138229"
      ]
     },
     "execution_count": 16,
     "metadata": {},
     "output_type": "execute_result"
    }
   ],
   "source": [
    "J_top/10.5"
   ]
  },
  {
   "cell_type": "code",
   "execution_count": 17,
   "metadata": {},
   "outputs": [
    {
     "data": {
      "text/plain": [
       "0.6873631209172923"
      ]
     },
     "execution_count": 17,
     "metadata": {},
     "output_type": "execute_result"
    }
   ],
   "source": [
    "J_mid/16.5"
   ]
  },
  {
   "cell_type": "code",
   "execution_count": 18,
   "metadata": {},
   "outputs": [
    {
     "data": {
      "text/plain": [
       "0.9690000719194425"
      ]
     },
     "execution_count": 18,
     "metadata": {},
     "output_type": "execute_result"
    }
   ],
   "source": [
    "J_bot/27.4"
   ]
  },
  {
   "cell_type": "code",
   "execution_count": null,
   "metadata": {},
   "outputs": [],
   "source": []
  }
 ],
 "metadata": {
  "kernelspec": {
   "display_name": "Python 3 (ipykernel)",
   "language": "python",
   "name": "python3"
  },
  "language_info": {
   "codemirror_mode": {
    "name": "ipython",
    "version": 3
   },
   "file_extension": ".py",
   "mimetype": "text/x-python",
   "name": "python",
   "nbconvert_exporter": "python",
   "pygments_lexer": "ipython3",
   "version": "3.7.12"
  }
 },
 "nbformat": 4,
 "nbformat_minor": 4
}
