{
 "cells": [
  {
   "cell_type": "markdown",
   "metadata": {},
   "source": [
    "# Problem 14.7"
   ]
  },
  {
   "cell_type": "markdown",
   "metadata": {},
   "source": [
    "**Fundamentals of Solar Cells and Photovoltaic Systems Engineering**\n",
    "\n",
    "**Solutions Manual**\n",
    "\n",
    "**Problem 14.7**\n"
   ]
  },
  {
   "cell_type": "markdown",
   "metadata": {},
   "source": [
    "**The objective of this problem is to calculate the local correlation length for wind velocity and solar radiation. \n",
    "We will use the reanalysis dataset ERA5 and weather data corresponding to 2013 that can be downloaded from** https://zenodo.org/record/6382570\n",
    "\n",
    "**(a) Select one location in Europe, identify in which grid cell is located and calculate the distance from the other grid cells.**\n",
    "\n",
    "**(b) Calculate the Person correlation coefficient from the wind velocity time series and plot the coefficients vs the distance.**\n",
    "\n",
    "**(c) Fit the data to an exponential curve and determine the correlation length.**\n",
    "\n",
    "**(d) Repeat sections (b) and (c) using the solar irradiation time series.**"
   ]
  },
  {
   "cell_type": "markdown",
   "metadata": {},
   "source": [
    "We will use the packages [numpy](https://numpy.org/) to operate with arrays and [matplotlib.pyplot](https://matplotlib.org/stable/index.html) to plot the results"
   ]
  },
  {
   "cell_type": "code",
   "execution_count": 1,
   "metadata": {},
   "outputs": [],
   "source": [
    "import numpy as np\n",
    "import matplotlib.pyplot as  plt\n",
    "import pandas as pd\n",
    "import numpy as np\n",
    "from netCDF4 import Dataset\n",
    "import geopy.distance"
   ]
  },
  {
   "cell_type": "markdown",
   "metadata": {},
   "source": [
    "We load the reanlysis data containing information on wind velocity, solar irradiation, latitude and longitude of the grid cells."
   ]
  },
  {
   "cell_type": "code",
   "execution_count": 2,
   "metadata": {},
   "outputs": [],
   "source": [
    "nc = Dataset('../../../../../../Downloads/europe-2013-era5.nc')"
   ]
  },
  {
   "cell_type": "markdown",
   "metadata": {},
   "source": [
    "We define a data frame that will use to store the calculated results."
   ]
  },
  {
   "cell_type": "code",
   "execution_count": 3,
   "metadata": {},
   "outputs": [],
   "source": [
    "data=pd.DataFrame(data=None, \n",
    "                  index=None, \n",
    "                  columns=['lon', \n",
    "                           'lat', \n",
    "                           'distance',\n",
    "                           'rho_wind', \n",
    "                           'rho_radiation'], \n",
    "                  dtype=float)"
   ]
  },
  {
   "cell_type": "markdown",
   "metadata": {},
   "source": [
    "As an example, we select Paris. Using the latitude and longitude of this city, the grid cell containing it can be identified."
   ]
  },
  {
   "cell_type": "code",
   "execution_count": 4,
   "metadata": {},
   "outputs": [],
   "source": [
    "latitude = 48.86 #Paris\n",
    "longitude = 2.34\n",
    "index_lat = np.argmin(np.abs(nc.variables['lat'][:].data-latitude))\n",
    "index_lon = np.argmin(np.abs(nc.variables['lon'][:].data-longitude))\n",
    "lon_ref=nc.variables['lon'][index_lon].data\n",
    "lat_ref=nc.variables['lat'][index_lat].data"
   ]
  },
  {
   "cell_type": "markdown",
   "metadata": {},
   "source": [
    "The wind velocity and solar radiation in the reference grid cell can be calculated. "
   ]
  },
  {
   "cell_type": "code",
   "execution_count": 5,
   "metadata": {},
   "outputs": [],
   "source": [
    "wind_ref=nc.variables['wnd100m'][:,index_lat,index_lon].data\n",
    "radiation_ref = nc.variables['influx_direct'][:,index_lat,index_lon].data+nc.variables['influx_diffuse'][:,index_lat,index_lon].data"
   ]
  },
  {
   "cell_type": "markdown",
   "metadata": {},
   "source": [
    "For the remaining grid cells, the distance to the reference grid cell, and the correlation coefficient for the wind and solar irradiation time series can be calculated and saved in the data frame. (this can take a few minutes)\n",
    "\n",
    "To reduce computational time, we select one grid cell every 10 in both latitude and longitud."
   ]
  },
  {
   "cell_type": "code",
   "execution_count": 6,
   "metadata": {},
   "outputs": [],
   "source": [
    "i_min=max(0,index_lon-75)\n",
    "i_max=min(len(nc.variables['lon'][:].data),index_lon+75)\n",
    "j_min=max(0,index_lat-75)\n",
    "j_max=min(len(nc.variables['lat'][:].data),index_lat+75)\n",
    "k=0\n",
    "for i in np.arange(i_min,i_max, 10):        \n",
    "    for j in np.arange(j_min,j_max, 10):    \n",
    "        k=k+1\n",
    "        lon=nc.variables['lon'][i].data\n",
    "        data.loc[k, 'lon'] = lon\n",
    "        \n",
    "        lat=nc.variables['lat'][j].data\n",
    "        data.loc[k, 'lat'] = lat\n",
    "\n",
    "        distance = geopy.distance.geodesic((lat,lon), (lat_ref,lon_ref)).km\n",
    "        data.loc[k, 'distance'] = distance\n",
    "        \n",
    "        wind = nc.variables['wnd100m'][:,j,i]\n",
    "        radiation = nc.variables['influx_direct'][:,j,i].data+nc.variables['influx_diffuse'][:,j,i].data\n",
    "        data.loc[k,'rho_wind'] = np.corrcoef(wind,wind_ref)[0,1]\n",
    "        data.loc[k,'rho_radiation'] = np.corrcoef(radiation,radiation_ref)[0,1]\n"
   ]
  },
  {
   "cell_type": "markdown",
   "metadata": {},
   "source": [
    "The correlation coefficient for wind time series can be plotted as a function of the distance. "
   ]
  },
  {
   "cell_type": "code",
   "execution_count": 7,
   "metadata": {},
   "outputs": [
    {
     "data": {
      "text/plain": [
       "Text(0.5, 0, 'distance (km)')"
      ]
     },
     "execution_count": 7,
     "metadata": {},
     "output_type": "execute_result"
    },
    {
     "data": {
      "image/png": "[encoded data removed]",
      "text/plain": [
       "<Figure size 432x288 with 1 Axes>"
      ]
     },
     "metadata": {
      "needs_background": "light"
     },
     "output_type": "display_data"
    }
   ],
   "source": [
    "plt.plot(data['distance'],data['rho_wind'],\n",
    "         marker='.', \n",
    "         markersize=2,\n",
    "         linewidth=0,\n",
    "         color='dodgerblue')\n",
    "plt.ylim([-0.2,1])\n",
    "plt.xlim([0,3000])\n",
    "plt.ylabel(r'Correlation coefficient $\\rho_{g_t^{R_i},g_t^{R_j}}$')\n",
    "plt.xlabel('distance (km)')"
   ]
  },
  {
   "cell_type": "markdown",
   "metadata": {},
   "source": [
    "The correlation coefficient can be approach to follow the formula $\\rho_{i,j}=exp(\\frac{-1}{\\xi_c}·d_{i,j}$) where $\\xi_c$ is the correlation length. \n",
    "We can check that $\\xi_c$ =650km fits nicely the data points for Paris. "
   ]
  },
  {
   "cell_type": "code",
   "execution_count": 27,
   "metadata": {},
   "outputs": [
    {
     "data": {
      "text/plain": [
       "[<matplotlib.lines.Line2D at 0x1f5a53e9608>]"
      ]
     },
     "execution_count": 27,
     "metadata": {},
     "output_type": "execute_result"
    },
    {
     "data": {
      "image/png": "[encoded data removed]",
      "text/plain": [
       "<Figure size 432x288 with 1 Axes>"
      ]
     },
     "metadata": {
      "needs_background": "light"
     },
     "output_type": "display_data"
    }
   ],
   "source": [
    "dis=np.arange(0,3000,200)\n",
    "CL_wind=650\n",
    "cor_theo_wind=[np.exp(-(1/CL_wind)*d) for d in dis]\n",
    "\n",
    "plt.plot(data['distance'],data['rho_wind'],\n",
    "         marker='.', \n",
    "         markersize=2,\n",
    "         linewidth=0,\n",
    "         color='dodgerblue')\n",
    "plt.ylim([-0.2,1])\n",
    "plt.xlim([0,3000])\n",
    "plt.ylabel(r'Correlation coefficient $\\rho_{g_t^{R_i},g_t^{R_j}}$')\n",
    "plt.xlabel('distance (km)')\n",
    "plt.plot(dis,cor_theo_wind, 'gray', linewidth=3)"
   ]
  },
  {
   "cell_type": "markdown",
   "metadata": {},
   "source": [
    "We can plot now the correlation coefficient for solar irradiation and show that the correlation length is much larger in this case."
   ]
  },
  {
   "cell_type": "code",
   "execution_count": 28,
   "metadata": {},
   "outputs": [
    {
     "data": {
      "text/plain": [
       "Text(0.5, 0, 'distance (km)')"
      ]
     },
     "execution_count": 28,
     "metadata": {},
     "output_type": "execute_result"
    },
    {
     "data": {
      "image/png": "[encoded data removed]",
      "text/plain": [
       "<Figure size 432x288 with 1 Axes>"
      ]
     },
     "metadata": {
      "needs_background": "light"
     },
     "output_type": "display_data"
    }
   ],
   "source": [
    "plt.plot(data['distance'],data['rho_radiation'],\n",
    "         marker='.', \n",
    "         markersize=2,\n",
    "         linewidth=0,\n",
    "         color='orange')\n",
    "plt.ylim([-0.2,1])\n",
    "plt.xlim([0,3000])\n",
    "plt.ylabel(r'Correlation coefficient $\\rho_{g_t^{R_i},g_t^{R_j}}$')\n",
    "plt.xlabel('distance (km)')"
   ]
  },
  {
   "cell_type": "code",
   "execution_count": null,
   "metadata": {},
   "outputs": [],
   "source": []
  }
 ],
 "metadata": {
  "kernelspec": {
   "display_name": "Python 3 (ipykernel)",
   "language": "python",
   "name": "python3"
  },
  "language_info": {
   "codemirror_mode": {
    "name": "ipython",
    "version": 3
   },
   "file_extension": ".py",
   "mimetype": "text/x-python",
   "name": "python",
   "nbconvert_exporter": "python",
   "pygments_lexer": "ipython3",
   "version": "3.7.12"
  }
 },
 "nbformat": 4,
 "nbformat_minor": 4
}
