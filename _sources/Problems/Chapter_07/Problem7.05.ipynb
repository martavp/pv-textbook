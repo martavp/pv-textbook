{
 "cells": [
  {
   "cell_type": "markdown",
   "metadata": {},
   "source": [
    "**Fundamentals of Solar Cells and Photovoltaic Systems Engineering**\n",
    "\n",
    "**Solutions Manual - Chapter 7**\n",
    "\n",
    "**Problem 7.5**\n"
   ]
  },
  {
   "cell_type": "markdown",
   "metadata": {},
   "source": [
    "**Use pvlib to estimate the single-diode model parameters for the LG345N1W-A5 module at STC. Compare them with the parameters you obtained in Problem 7.4. Finally, use pvlib again to plot the resulting I-V curve using 100 points and mark the maximum power point.**\n",
    "\n",
    "*Hint: the function ivtools.sdm.fit_desoto fits the five single-diode model parameters to the I-V parameters provided by the manufacturer at STC. The function solves a system of non-linear equations using the optimize.root function of the Python Scipy library. It is recommended to use the Levenberg-Marquardt algorithm for convergence, passing the argument root_kwargs={\"method\": 'lm'} to the fit_desoto function. Also, note that the diode ideality factor is managed as a part of the product n·NS·VT (nNsVth or a parameters in pvlib) instead of just n. The functions pvlib.pvsystem.i_from_v or pvsystem.singlediode solve the single diode model for any input parameters to obtain the resulting I-V curve.*\n"
   ]
  },
  {
   "cell_type": "markdown",
   "metadata": {},
   "source": [
    "We start by importing the package [pvlib](https://pvlib-python.readthedocs.io/en/stable/) and [matplotlib.pyplot](https://matplotlib.org/stable/index.html) to plot the results"
   ]
  },
  {
   "cell_type": "code",
   "execution_count": 7,
   "metadata": {},
   "outputs": [],
   "source": [
    "import pvlib\n",
    "import matplotlib.pyplot as plt"
   ]
  },
  {
   "cell_type": "markdown",
   "metadata": {},
   "source": [
    "We define the values in the manufacturer's datasheet and use the funcion pvlib.ivtools.sdm.fit_desoto()"
   ]
  },
  {
   "cell_type": "code",
   "execution_count": 8,
   "metadata": {},
   "outputs": [],
   "source": [
    "v_mp = 34.9 #V\n",
    "i_mp = 9.89 #A\n",
    "v_oc = 41.2 #V\n",
    "i_sc= 10.57 #A\n",
    "\n",
    "alpha_sc_rel = 0.03 #%/K\n",
    "beta_voc_rel = -0.27 #%/K\n",
    "'''pvlib.ivtools.sdm.fit_desoto expects thermal coefficients in absolute units [A/K] and [V/K], so the parameters given\n",
    "by the manufacturer in relative units [%/K] need conversion\n",
    "''' \n",
    "alpha_sc = alpha_sc_rel/100*i_sc #A/K\n",
    "beta_voc = beta_voc_rel/100*v_oc #V/K\n",
    "cells_in_series = 60 #Ns\n",
    "\n",
    "# The I-V parameters are given at Standard Test Conditions\n",
    "irrad_ref=1000\n",
    "temp_ref=25\n",
    "\n",
    "#The function requires knowledge of the solar cell technology. These values are used by default, which corresponds to c-Si\n",
    "EgRef=1.121 # bandgap of c-Si cells [eV]\n",
    "dEgdT=- 0.0002677 # Sensitivity of bandgap wtih temperature [eV/K]\n",
    "\n",
    "single_diode_parameters = pvlib.ivtools.sdm.fit_desoto(v_mp, \n",
    "                             i_mp, \n",
    "                             v_oc, \n",
    "                             i_sc, \n",
    "                             alpha_sc, \n",
    "                             beta_voc, \n",
    "                             cells_in_series, \n",
    "                             EgRef, \n",
    "                             dEgdT, \n",
    "                             temp_ref, \n",
    "                             irrad_ref, \n",
    "                             root_kwargs={\"method\": 'lm'})"
   ]
  },
  {
   "cell_type": "markdown",
   "metadata": {},
   "source": [
    "The 5 parameters for the single-diode model are:"
   ]
  },
  {
   "cell_type": "code",
   "execution_count": 9,
   "metadata": {},
   "outputs": [
    {
     "name": "stdout",
     "output_type": "stream",
     "text": [
      "IL = 10.58 (A) I0 = I0 = 9.552e-12 (A) Rs = 0.16 (ohms) Rp = 139.6 (ohms) n = 0.96\n"
     ]
    }
   ],
   "source": [
    "I_L=single_diode_parameters[0]['I_L_ref'] #Photocurrent [A]\n",
    "I_o=single_diode_parameters[0]['I_o_ref'] #Diode saturation current [A]\n",
    "R_s=single_diode_parameters[0]['R_s'] #Series resistance [ohm]\n",
    "R_sh=single_diode_parameters[0]['R_sh_ref'] #Parallel or shunt resistance Rp [ohm]\n",
    "nNsVth=single_diode_parameters[0]['a_ref']  #Product of diode ideality factor (n), number of cells in series (Ns)\n",
    "                                            # and thermal voltage Vt. \n",
    "#The diode ideality factor can be obtained as n = nNsVth / (Ns*Vt), where Vt = kT/q\n",
    "kB=1.38066e-23 #J/K\n",
    "q=1.60218e-19 #C\n",
    "n=nNsVth/(cells_in_series*(kB*(temp_ref+273.15)/q))\n",
    "#Print single-diode model parameters\n",
    "print(\"IL =\", round(float(I_L), 2), \"(A)\", \"I0 =\", \"I0 =\", '{:0.3e}'.format(float(I_o)), \"(A)\", \"Rs =\", round(float(R_s), 3), \"(ohms)\", \"Rp =\", round(float(R_sh), 1), \"(ohms)\", \"n =\", round(float(n), 2))\n"
   ]
  },
  {
   "cell_type": "markdown",
   "metadata": {},
   "source": [
    "Notice that the diode ideality factor is lower than 1 for fitting purposes, which has no physical sense. When fitting single-diode model parameters manually in P7.4, we assume n=1 for conventional c-Si modules. \n",
    "\n",
    "This difference in n explains the divergence in the value for I0 between the manual process and the pvlib function."
   ]
  },
  {
   "cell_type": "markdown",
   "metadata": {},
   "source": [
    "Once the parameters have been obtained, pvlib provides a function to compute the resulting I-V curve with any given number of data points. The user can choose between Lambert W exact solution or numerical optimization methods (Newton-Raphson or Brent’s bisection search)."
   ]
  },
  {
   "cell_type": "code",
   "execution_count": 10,
   "metadata": {},
   "outputs": [],
   "source": [
    "IVcurve=pvlib.pvsystem.singlediode(photocurrent=I_L, \n",
    "                             saturation_current=I_o, \n",
    "                             resistance_series=R_s, \n",
    "                             resistance_shunt=R_sh,\n",
    "                             nNsVth=nNsVth, \n",
    "                             ivcurve_pnts=100, \n",
    "                             method='lambertw')"
   ]
  },
  {
   "cell_type": "code",
   "execution_count": 11,
   "metadata": {},
   "outputs": [
    {
     "name": "stdout",
     "output_type": "stream",
     "text": [
      "Vmp = 34.9 (V) Imp = 9.89 (A) Pmax = 345.2 (W)\n"
     ]
    },
    {
     "data": {
      "image/png": "[encoded data removed]",
      "text/plain": [
       "<Figure size 640x480 with 1 Axes>"
      ]
     },
     "metadata": {},
     "output_type": "display_data"
    }
   ],
   "source": [
    "#Plot the I-V curve\n",
    "plt.plot(IVcurve['v'],IVcurve['i'],'.-', label=\"I-V curve\")\n",
    "plt.ylabel('Voltage (V)')\n",
    "plt.xlabel('Current (A)')\n",
    "\n",
    "#Identify the values of the maximum power point to mark it on the graph\n",
    "v_mp = IVcurve['v_mp']\n",
    "i_mp = IVcurve['i_mp']\n",
    "\n",
    "filled_marker_style = dict(marker='o', markersize=7,\n",
    "                           color='darkgrey',\n",
    "                           markerfacecolor='yellow',\n",
    "                           markeredgecolor='black')\n",
    "#Plot a marker at the maximum power point\n",
    "plt.plot([v_mp], [i_mp], ls='', **filled_marker_style)\n",
    "plt.annotate('$P_{max}$', xy=(36, 10), xycoords='data')\n",
    "\n",
    "#Print Pmax values\n",
    "print(\"Vmp =\", round(float(v_mp), 2), \"(V)\", \"Imp =\", round(float(i_mp), 2), \"(A)\", \"Pmax =\", round(float(v_mp * i_mp), 1), \"(W)\")"
   ]
  },
  {
   "cell_type": "code",
   "execution_count": null,
   "metadata": {},
   "outputs": [],
   "source": []
  }
 ],
 "metadata": {
  "kernelspec": {
   "display_name": "Python 3 (ipykernel)",
   "language": "python",
   "name": "python3"
  },
  "language_info": {
   "codemirror_mode": {
    "name": "ipython",
    "version": 3
   },
   "file_extension": ".py",
   "mimetype": "text/x-python",
   "name": "python",
   "nbconvert_exporter": "python",
   "pygments_lexer": "ipython3",
   "version": "3.8.8"
  }
 },
 "nbformat": 4,
 "nbformat_minor": 4
}
