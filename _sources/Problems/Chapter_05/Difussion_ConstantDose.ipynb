{
 "cells": [
  {
   "cell_type": "markdown",
   "id": "2ac35d0c",
   "metadata": {},
   "source": [
    "# Diffusion Constant Dose"
   ]
  },
  {
   "cell_type": "code",
   "execution_count": 1,
   "id": "05714381",
   "metadata": {},
   "outputs": [
    {
     "name": "stdout",
     "output_type": "stream",
     "text": [
      "Q = 5e+14 cm3\n",
      "Rsheet = 8.322 ohm/sq\n"
     ]
    },
    {
     "data": {
      "image/png": "[encoded data removed]",
      "text/plain": [
       "<Figure size 360x288 with 1 Axes>"
      ]
     },
     "metadata": {
      "needs_background": "light"
     },
     "output_type": "display_data"
    }
   ],
   "source": [
    "import numpy as np\n",
    "import matplotlib.pyplot as plt\n",
    "import math\n",
    "\n",
    "DATA_SIZE = 1000\n",
    "kB = 8.617333e-5\n",
    "q = 1.6021766e-19 #eV\n",
    "\n",
    "#Material data\n",
    "D0 = 10.5 #cm2·s-1\n",
    "Ea = 3.69 #eV\n",
    "mu = 1500 #cm2/V·s\n",
    "\n",
    "Nwafer = 1e17 #cm-3\n",
    "\n",
    "#Process data\n",
    "\n",
    "T_list = np.array([950, 950, 950], dtype='double')  #ºC\n",
    "time_list = np.array([600, 1200, 1800], dtype='double')  #s\n",
    "Qload = 5e14 #cm-3\n",
    "\n",
    "depth = 0.2e-4# cm\n",
    "\n",
    "# Define intermediate profiles to plot\n",
    "plot_profile = [1, 1, 1]\n",
    "\n",
    "\n",
    "### Calculate profiles\n",
    "\n",
    "# Temperatures in K \n",
    "T_list += 273.15  #K\n",
    "\n",
    "nSteps = len(T_list)\n",
    "\n",
    "# Make array with constant base doping profile\n",
    "Nbase = np.zeros((DATA_SIZE,2))\n",
    "Nbase[:,0] = np.linspace(0, depth, DATA_SIZE)\n",
    "Nbase[:,1] = Nwafer\n",
    "\n",
    "# Make array for profiles calculated\n",
    "Nx = np.zeros((DATA_SIZE,2))\n",
    "Nx[:,0] = np.linspace(0, depth, DATA_SIZE)\n",
    "# Array with depths in microns for plotting\n",
    "depth_um = np.zeros((DATA_SIZE))\n",
    "depth_um = Nx[:,0]*1e4\n",
    "\n",
    "\n",
    "linestyles = ('-', '--', '-.', ':')\n",
    "    \n",
    "fig = plt.figure(figsize=[5,4], tight_layout=True)\n",
    "ax = fig.add_subplot()   \n",
    "ax.set_title('Constant dose', size=14)\n",
    "fig.text(0.43, 0.85, 'Q = '+ f\"{Qload:.3}\" + 'cm$^{-3}$',horizontalalignment='center', \n",
    "         verticalalignment='top', fontsize=12) \n",
    "fig.text(0.43, 0.78, 'T$_{s}$ = '+ f\"{T_list[0]-273.15:.0f}\" + ' °C',horizontalalignment='center', \n",
    "         verticalalignment='top', fontsize=13) \n",
    "\n",
    "ax.set_xlabel('Depth ($\\mu$m)', size=14)\n",
    "ax.set_ylabel('Dopant density (cm$^{-3}$)', size=14)\n",
    "ax.ticklabel_format(axis='y', )\n",
    "#ax.set_yscale('log')\n",
    "#ax.set_ylim(Nwafer/10, Ns*1.01)\n",
    "plt.rc('xtick', labelsize=16) \n",
    "plt.rc('ytick', labelsize=16)\n",
    "\n",
    "\n",
    "\n",
    "# \n",
    "# \n",
    "\n",
    "Rsheet = 1/(q*mu*Qload)\n",
    "print(\"Q = \"+f\"{Qload:.3}\"+\" cm3\")\n",
    "print(\"Rsheet = \"+f\"{Rsheet:.3f}\"+\" ohm/sq\")\n",
    "\n",
    "for x in range(nSteps):\n",
    "    dif_coef = D0*math.exp(-Ea/(kB*T_list[x]))\n",
    "    dif_len = math.sqrt(4*dif_coef*time_list[x])\n",
    "    \n",
    "    \n",
    "    for y in range(DATA_SIZE):\n",
    "        Nx[y,1] = (2/math.sqrt(math.pi))*(Qload/dif_len)*math.exp(-(Nx[y,0]/dif_len)**2)    \n",
    "\n",
    "    \n",
    "    surface_N = (2/math.sqrt(math.pi))*(Qload/dif_len)\n",
    "    x_junc = dif_len*math.sqrt(math.log(surface_N/Nwafer))\n",
    "    \n",
    "    \n",
    "    \n",
    "    if plot_profile[x]==1:\n",
    "        trace, = ax.plot(depth_um, Nx[:,1], color='#4472C4',  linestyle=linestyles[x], label=str(time_list[x]/60) + ' min')  \n",
    "\n",
    "\n",
    "    \n",
    "ax.legend(fontsize=14)    \n",
    "\n",
    "plt.savefig(\"fig_constantDose.png\", dpi=300)"
   ]
  },
  {
   "cell_type": "code",
   "execution_count": null,
   "id": "3fd04d68",
   "metadata": {},
   "outputs": [],
   "source": []
  }
 ],
 "metadata": {
  "kernelspec": {
   "display_name": "Python 3 (ipykernel)",
   "language": "python",
   "name": "python3"
  },
  "language_info": {
   "codemirror_mode": {
    "name": "ipython",
    "version": 3
   },
   "file_extension": ".py",
   "mimetype": "text/x-python",
   "name": "python",
   "nbconvert_exporter": "python",
   "pygments_lexer": "ipython3",
   "version": "3.7.12"
  }
 },
 "nbformat": 4,
 "nbformat_minor": 5
}
