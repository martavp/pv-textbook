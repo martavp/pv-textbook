{
 "cells": [
  {
   "cell_type": "markdown",
   "metadata": {},
   "source": [
    "**Fundamentals of Solar Cells and Photovoltaic Systems Engineering**\n",
    "\n",
    "**Solutions Manual - Chapter 10**\n",
    "\n",
    "**Problem 10.10**"
   ]
  },
  {
   "cell_type": "markdown",
   "metadata": {},
   "source": [
    "**In this problem, we will reflect on the impact of the DC/AC ratio for horizontal single-axis trackers (HSAT). To that end, let us assume that the DC generation of the PV power plant is proportional to the irradianceon the PV modules. For the sake of simplicity, we neglect here other effects such as solar cell temperature.**\n",
    "\n",
    "**Using the Typical Meteorological Year (TYM), estimate the percentage of energy that would be curtailed for the location described in Problem 10.1 (latitude and longitude 40.371944⁰N, -3.7825⁰W) assuming tilt angle of 30⁰ if the DC/AC ratio is equal to 1, 1.2 and 1.4.**"
   ]
  },
  {
   "cell_type": "markdown",
   "metadata": {},
   "source": [
    "We will use the packages [pvlib](https://pvlib-python.readthedocs.io/en/stable/), [pandas](https://pandas.pydata.org/) and [matplotlib.pyplot](https://matplotlib.org/stable/index.html) to plot the results. We will also use the package [pytz](https://pypi.org/project/pytz/) to determine the time zone of the location (Madrid)."
   ]
  },
  {
   "cell_type": "code",
   "execution_count": 6,
   "metadata": {},
   "outputs": [],
   "source": [
    "import pvlib\n",
    "import pandas as pd\n",
    "import matplotlib.pyplot as plt\n",
    "import pytz\n",
    "import numpy as np"
   ]
  },
  {
   "cell_type": "markdown",
   "metadata": {},
   "source": [
    "We start by defining the location, date, and time. "
   ]
  },
  {
   "cell_type": "code",
   "execution_count": 7,
   "metadata": {},
   "outputs": [],
   "source": [
    "# Cuatro Vientos, Madrid, Spain\n",
    "lat, lon =  40.371944, -3.7825\n",
    "#altitude = 22\n",
    "\n",
    "tz = pytz.timezone('Europe/Madrid')\n",
    "# location\n",
    "location = pvlib.location.Location(lat, lon, tz=tz)"
   ]
  },
  {
   "cell_type": "markdown",
   "metadata": {},
   "source": [
    "We retrieve typical meteorological year (TMY) data from PVGIS."
   ]
  },
  {
   "cell_type": "code",
   "execution_count": 8,
   "metadata": {},
   "outputs": [],
   "source": [
    "tmy, _, _, _ = pvlib.iotools.get_pvgis_tmy(latitude=lat, longitude=lon, map_variables=True)\n",
    "\n",
    "tmy.index = tmy.index.tz_convert(tz) # use local time"
   ]
  },
  {
   "cell_type": "markdown",
   "metadata": {},
   "source": [
    "We calculate the Sun's coordinates "
   ]
  },
  {
   "cell_type": "code",
   "execution_count": 9,
   "metadata": {},
   "outputs": [],
   "source": [
    "# calculate Sun's coordinates\n",
    "solar_position = location.get_solarposition(times=tmy.index)"
   ]
  },
  {
   "cell_type": "markdown",
   "metadata": {},
   "source": [
    "We need to calculate the orientation and tilt of the PV modules in the horizontal single-axis tracker. "
   ]
  },
  {
   "cell_type": "code",
   "execution_count": 10,
   "metadata": {},
   "outputs": [
    {
     "data": {
      "image/png": "[encoded data removed]",
      "text/plain": [
       "<Figure size 432x288 with 1 Axes>"
      ]
     },
     "metadata": {
      "needs_background": "light"
     },
     "output_type": "display_data"
    }
   ],
   "source": [
    "tracker_data = pvlib.tracking.singleaxis(\n",
    "                solar_position['apparent_zenith'],\n",
    "                solar_position['azimuth'],\n",
    "                axis_azimuth=180)  # axis is aligned N-S\n",
    "tilt = tracker_data['surface_tilt'].fillna(0)\n",
    "orientation = tracker_data['surface_azimuth'].fillna(0)\n",
    "\n",
    "# plot a day to illustrate:\n",
    "tracker_data['tracker_theta'].fillna(0).head(24).plot()\n",
    "plt.ylabel('Tracker Rotation [degrees]');"
   ]
  },
  {
   "cell_type": "markdown",
   "metadata": {},
   "source": [
    "We calculate the annual radiation (or reference yield) on the PV modules."
   ]
  },
  {
   "cell_type": "code",
   "execution_count": 11,
   "metadata": {},
   "outputs": [],
   "source": [
    "# calculate irradiante at the plane of the array (poa)\n",
    "poa_irradiance = pvlib.irradiance.get_total_irradiance(surface_tilt=tilt,\n",
    "                                                        surface_azimuth=orientation,\n",
    "                                                        dni=tmy['dni'],\n",
    "                                                        ghi=tmy['ghi'],\n",
    "                                                        dhi=tmy['dhi'],\n",
    "                                                        solar_zenith=solar_position['apparent_zenith'],\n",
    "                                                        solar_azimuth=solar_position['azimuth'])    "
   ]
  },
  {
   "cell_type": "markdown",
   "metadata": {},
   "source": [
    "We calculate the percentage of energy lost for different DC/AC ratio."
   ]
  },
  {
   "cell_type": "code",
   "execution_count": 13,
   "metadata": {},
   "outputs": [
    {
     "name": "stdout",
     "output_type": "stream",
     "text": [
      "For DC/AC ratio = 1, curtailed energy represents 0.02% of available energy\n",
      "For DC/AC ratio = 1.2, curtailed energy represents 4.5% of available energy\n",
      "For DC/AC ratio = 1.4, curtailed energy represents 11.37% of available energy\n"
     ]
    }
   ],
   "source": [
    "for DC_AC in [1, 1.2, 1.4]:\n",
    "    available_G = poa_irradiance['poa_global']\n",
    "    used_G = available_G.copy()\n",
    "    used_G[used_G>1000/DC_AC]=1000/DC_AC\n",
    "    ratio = (available_G.sum()-used_G.sum())/available_G.sum()\n",
    "    print(\"For DC/AC ratio = \" + str(DC_AC) + ', curtailed energy represents ' + str(round(ratio*100,2)) + '% of available energy')"
   ]
  },
  {
   "cell_type": "markdown",
   "metadata": {},
   "source": [
    "We can make a plot with the curtailed energy as a function of the DC/AC ratio. "
   ]
  },
  {
   "cell_type": "code",
   "execution_count": 14,
   "metadata": {},
   "outputs": [
    {
     "data": {
      "image/png": "[encoded data removed]",
      "text/plain": [
       "<Figure size 432x288 with 1 Axes>"
      ]
     },
     "metadata": {
      "needs_background": "light"
     },
     "output_type": "display_data"
    }
   ],
   "source": [
    "ratio = pd.Series(dtype=float)\n",
    "for DC_AC in np.arange(1,2,0.1):\n",
    "    available_G = poa_irradiance['poa_global']\n",
    "    used_G = available_G.copy()\n",
    "    used_G[used_G>1000/DC_AC]=1000/DC_AC\n",
    "    ratio[DC_AC] = 100*(available_G.sum()-used_G.sum())/available_G.sum()\n",
    "\n",
    "ratio.plot(color='dodgerblue')\n",
    "plt.ylabel('Curtailment (%)')\n",
    "plt.xlabel('DC/AC ratio')\n",
    "plt.grid()"
   ]
  },
  {
   "cell_type": "code",
   "execution_count": null,
   "metadata": {},
   "outputs": [],
   "source": []
  }
 ],
 "metadata": {
  "kernelspec": {
   "display_name": "Python 3 (ipykernel)",
   "language": "python",
   "name": "python3"
  },
  "language_info": {
   "codemirror_mode": {
    "name": "ipython",
    "version": 3
   },
   "file_extension": ".py",
   "mimetype": "text/x-python",
   "name": "python",
   "nbconvert_exporter": "python",
   "pygments_lexer": "ipython3",
   "version": "3.7.12"
  }
 },
 "nbformat": 4,
 "nbformat_minor": 4
}
