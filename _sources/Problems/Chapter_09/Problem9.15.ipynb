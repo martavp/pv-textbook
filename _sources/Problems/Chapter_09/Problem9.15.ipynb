{
 "cells": [
  {
   "cell_type": "markdown",
   "metadata": {},
   "source": [
    "# Problem 9.15"
   ]
  },
  {
   "cell_type": "markdown",
   "metadata": {},
   "source": [
    "**Fundamentals of Solar Cells and Photovoltaic Systems Engineering**\n",
    "\n",
    "**Solutions Manual - Chapter 9**\n",
    "\n",
    "**Problem 9.15**"
   ]
  },
  {
   "cell_type": "markdown",
   "metadata": {},
   "source": [
    "**Consider a PV generator composed of PV modules TrinaTSM240PA05 which will be installed on a rooftop with 24$^{\\circ}$ tilt angle and south oriented in Los Angeles, California (34.052$^{\\circ}$N, 118.243$^{\\circ}$W)**\n",
    "\n",
    "**The capacity of the PV generator will be chosen to match, on average, the current electricity consumption of the dwelling, which is 3,000 kWh per year.**\n",
    "\n",
    "**(a) Assuming a performance ratio PR=80%, estimate the number of PV modules required for the PV generator.**\n",
    "\n",
    "**(b) Selecting the inverter 'ABB__PVI_3_0_OUTD_S_US__208V_' from the SAM database, configure the PV generator by connecting the PV modules in series and parallel to ensure compatibility with the inverter. For the cell temperature estimation, assume that the PV module is glass-glass and is mounted on an open rack.**"
   ]
  },
  {
   "cell_type": "markdown",
   "metadata": {},
   "source": [
    "We will use the packages [pvlib](https://pvlib-python.readthedocs.io/en/stable/), [pandas](https://pandas.pydata.org/) and [matplotlib.pyplot](https://matplotlib.org/stable/index.html) to plot the results. We will also use the package [pytz](https://pypi.org/project/pytz/) to determine the time zone of Los Angeles."
   ]
  },
  {
   "cell_type": "code",
   "execution_count": 1,
   "metadata": {},
   "outputs": [],
   "source": [
    "import pvlib\n",
    "import pandas as pd\n",
    "import matplotlib.pyplot as plt\n",
    "import pytz\n",
    "import math"
   ]
  },
  {
   "cell_type": "markdown",
   "metadata": {},
   "source": [
    "We start by defining the location, date, and time. "
   ]
  },
  {
   "cell_type": "code",
   "execution_count": 2,
   "metadata": {},
   "outputs": [],
   "source": [
    "# Los Angeles, California\n",
    "lat, lon =  34.052, -118.243\n",
    "\n",
    "tz = pytz.country_timezones('US')[20] \n",
    "\n",
    "# location\n",
    "location = pvlib.location.Location(lat, lon, tz=tz)"
   ]
  },
  {
   "cell_type": "markdown",
   "metadata": {},
   "source": [
    "We retrieve typical meteorological year (TMY) data from PVGIS."
   ]
  },
  {
   "cell_type": "code",
   "execution_count": 3,
   "metadata": {},
   "outputs": [],
   "source": [
    "tmy, _, _, _ = pvlib.iotools.get_pvgis_tmy(latitude=lat, longitude=lon, map_variables=True)\n",
    "\n",
    "tmy.index = tmy.index.tz_convert(tz) #use local time"
   ]
  },
  {
   "cell_type": "markdown",
   "metadata": {},
   "source": [
    "We retrieve the PV modules specifications from the database at the [NREL SAM (System Advisory Monitoring)](https://sam.nrel.gov/). "
   ]
  },
  {
   "cell_type": "code",
   "execution_count": 4,
   "metadata": {},
   "outputs": [
    {
     "name": "stdout",
     "output_type": "stream",
     "text": [
      "Module power = 241.1 W\n"
     ]
    }
   ],
   "source": [
    "sandia_modules = pvlib.pvsystem.retrieve_sam('SandiaMod')\n",
    "\n",
    "module = sandia_modules['Trina_TSM_240PA05__2013_']\n",
    "\n",
    "module_pmp=module['Impo']*module['Vmpo']\n",
    "\n",
    "print(\"Module power = \" + str(round(module_pmp,1)) + \" W\")"
   ]
  },
  {
   "cell_type": "code",
   "execution_count": 5,
   "metadata": {},
   "outputs": [
    {
     "data": {
      "text/plain": [
       "Vintage                                                          2013\n",
       "Area                                                             1.63\n",
       "Material                                                        mc-Si\n",
       "Cells_in_Series                                                    60\n",
       "Parallel_Strings                                                    1\n",
       "Isco                                                           8.8449\n",
       "Voco                                                          36.8926\n",
       "Impo                                                           8.2955\n",
       "Vmpo                                                           29.066\n",
       "Aisc                                                           0.0004\n",
       "Aimp                                                          -0.0003\n",
       "C0                                                             1.0116\n",
       "C1                                                            -0.0116\n",
       "Bvoco                                                          -0.137\n",
       "Mbvoc                                                               0\n",
       "Bvmpo                                                         -0.1441\n",
       "Mbvmp                                                               0\n",
       "N                                                              1.2073\n",
       "C2                                                           -0.07993\n",
       "C3                                                          -7.276241\n",
       "A0                                                             0.9645\n",
       "A1                                                            0.02753\n",
       "A2                                                          -0.002848\n",
       "A3                                                          -0.000144\n",
       "A4                                                           0.000022\n",
       "B0                                                                  1\n",
       "B1                                                           -0.00261\n",
       "B2                                                           0.000328\n",
       "B3                                                          -0.000015\n",
       "B4                                                                0.0\n",
       "B5                                                               -0.0\n",
       "DTC                                                              3.03\n",
       "FD                                                                  1\n",
       "A                                                             -3.5924\n",
       "B                                                             -0.1319\n",
       "C4                                                                NaN\n",
       "C5                                                                NaN\n",
       "IXO                                                               NaN\n",
       "IXXO                                                              NaN\n",
       "C6                                                                NaN\n",
       "C7                                                                NaN\n",
       "Notes               Source:  CFV Solar Test Lab.  Tested 2013.  Mo...\n",
       "Name: Trina_TSM_240PA05__2013_, dtype: object"
      ]
     },
     "execution_count": 5,
     "metadata": {},
     "output_type": "execute_result"
    }
   ],
   "source": [
    "module"
   ]
  },
  {
   "cell_type": "markdown",
   "metadata": {},
   "source": [
    "We calculate the Sun's coordinates and calculate the irradiance on the plane of array (POA)"
   ]
  },
  {
   "cell_type": "code",
   "execution_count": 6,
   "metadata": {},
   "outputs": [],
   "source": [
    "# calculate Sun's coordinates\n",
    "solar_position = location.get_solarposition(times=tmy.index)\n",
    "\n",
    "tilt = 24 \n",
    "orientation = 180 # pvlib sets orientation origin at North -> South=0\n",
    "\n",
    "# calculate irradiante at the plane of the array (poa)\n",
    "poa_irradiance = pvlib.irradiance.get_total_irradiance(surface_tilt=tilt,\n",
    "                                                        surface_azimuth=orientation,\n",
    "                                                        dni=tmy['dni'],\n",
    "                                                        ghi=tmy['ghi'],\n",
    "                                                        dhi=tmy['dhi'],\n",
    "                                                        solar_zenith=solar_position['apparent_zenith'],\n",
    "                                                        solar_azimuth=solar_position['azimuth'])\n",
    "    \n",
    "#save annual irradiation on the plane of array (POA) in kWh\n",
    "annual_irradiation = 0.001*poa_irradiance['poa_global'].sum()\n"
   ]
  },
  {
   "cell_type": "markdown",
   "metadata": {},
   "source": [
    "Assuming a PR of 80%, the number of PV modules to produce 3,000 kWh can be calculated as"
   ]
  },
  {
   "cell_type": "code",
   "execution_count": 7,
   "metadata": {},
   "outputs": [
    {
     "name": "stdout",
     "output_type": "stream",
     "text": [
      "Number of modules = 8\n",
      "PV generator nominal capacity = 1929 W\n"
     ]
    }
   ],
   "source": [
    "PR=0.8\n",
    "annual_energy_yield_per_module = module_pmp*(annual_irradiation/1000)*PR\n",
    "N_modules = math.ceil(3000/annual_energy_yield_per_module)\n",
    "generator_capacity = N_modules*module_pmp\n",
    "print(\"Number of modules = \" + str(N_modules))\n",
    "print(\"PV generator nominal capacity = \" + str(round(generator_capacity))+' W')"
   ]
  },
  {
   "cell_type": "markdown",
   "metadata": {},
   "source": [
    "We retrieve the inverter data from the SAM database."
   ]
  },
  {
   "cell_type": "code",
   "execution_count": 8,
   "metadata": {},
   "outputs": [
    {
     "data": {
      "text/plain": [
       "Vac                          208\n",
       "Pso                    18.166279\n",
       "Paco                      3000.0\n",
       "Pdco                  3142.30127\n",
       "Vdco                       310.0\n",
       "C0                     -0.000008\n",
       "C1                     -0.000011\n",
       "C2                      0.000999\n",
       "C3                     -0.000287\n",
       "Pnt                          0.1\n",
       "Vdcmax                     480.0\n",
       "Idcmax                 10.136456\n",
       "Mppt_low                   100.0\n",
       "Mppt_high                  480.0\n",
       "CEC_Date                     NaN\n",
       "CEC_Type     Utility Interactive\n",
       "Name: ABB__PVI_3_0_OUTD_S_US__208V_, dtype: object"
      ]
     },
     "execution_count": 8,
     "metadata": {},
     "output_type": "execute_result"
    }
   ],
   "source": [
    "sapm_inverters = pvlib.pvsystem.retrieve_sam('cecinverter')\n",
    "inverter = sapm_inverters['ABB__PVI_3_0_OUTD_S_US__208V_']\n",
    "inverter"
   ]
  },
  {
   "cell_type": "markdown",
   "metadata": {},
   "source": [
    "For the temperature parameters, we assume an open rack glass-glass configuration. The maximum and minimum cell temperature can be calculated as"
   ]
  },
  {
   "cell_type": "code",
   "execution_count": 9,
   "metadata": {},
   "outputs": [
    {
     "name": "stdout",
     "output_type": "stream",
     "text": [
      "Maximum cell temperature = 68.1 C\n",
      "Minimum cell temperature = 1.2 C\n"
     ]
    }
   ],
   "source": [
    "temperature_model_parameters = pvlib.temperature.TEMPERATURE_MODEL_PARAMETERS['sapm']['open_rack_glass_glass']\n",
    "\n",
    "# calculate the solar cell temperature\n",
    "cell_temperature = pvlib.temperature.sapm_cell(poa_irradiance['poa_global'],\n",
    "                                               tmy[\"temp_air\"],\n",
    "                                               tmy[\"wind_speed\"],\n",
    "                                               **temperature_model_parameters,)\n",
    "\n",
    "T_c_max=max(cell_temperature)\n",
    "T_c_min=min(cell_temperature)\n",
    "\n",
    "print(\"Maximum cell temperature = \" + str(round(T_c_max,1)) + \" C\")\n",
    "print(\"Minimum cell temperature = \" + str(round(T_c_min,1)) + \" C\")"
   ]
  },
  {
   "cell_type": "markdown",
   "metadata": {},
   "source": [
    "To evaluate the number of PV modules connected in series, we need to calculate the maximum open-circuit voltage, as well as the maximum and minimum values for the voltage at the maximum power point."
   ]
  },
  {
   "cell_type": "code",
   "execution_count": 10,
   "metadata": {},
   "outputs": [],
   "source": [
    "Voc_max=module['Voco']*(1+module['Bvoco']/100*(T_c_min-20))\n",
    "\n",
    "Vmp_max=module['Vmpo']*(1+module['Bvmpo']/100*(T_c_min-20))\n",
    "Vmp_min=module['Vmpo']*(1+module['Bvmpo']/100*(T_c_max-20))"
   ]
  },
  {
   "cell_type": "markdown",
   "metadata": {},
   "source": [
    "The maximum inverter input voltage determines the maximum number of PV modules that can be conected in series."
   ]
  },
  {
   "cell_type": "code",
   "execution_count": 11,
   "metadata": {},
   "outputs": [
    {
     "data": {
      "text/plain": [
       "12"
      ]
     },
     "execution_count": 11,
     "metadata": {},
     "output_type": "execute_result"
    }
   ],
   "source": [
    "max_modules_in_series = inverter['Vdcmax']/Voc_max\n",
    "math.floor(max_modules_in_series)"
   ]
  },
  {
   "cell_type": "markdown",
   "metadata": {},
   "source": [
    "The MPPT input range determines the maximum and minimum number of PV modules that can be connected in series. "
   ]
  },
  {
   "cell_type": "code",
   "execution_count": 12,
   "metadata": {},
   "outputs": [
    {
     "data": {
      "text/plain": [
       "16"
      ]
     },
     "execution_count": 12,
     "metadata": {},
     "output_type": "execute_result"
    }
   ],
   "source": [
    "max_modules_in_series = inverter['Mppt_high']/Vmp_max\n",
    "math.floor(max_modules_in_series)"
   ]
  },
  {
   "cell_type": "code",
   "execution_count": 13,
   "metadata": {},
   "outputs": [
    {
     "data": {
      "text/plain": [
       "4"
      ]
     },
     "execution_count": 13,
     "metadata": {},
     "output_type": "execute_result"
    }
   ],
   "source": [
    "min_modules_in_series = inverter['Mppt_low']/Vmp_min\n",
    "math.ceil(min_modules_in_series)"
   ]
  },
  {
   "cell_type": "markdown",
   "metadata": {},
   "source": [
    "Since, we need to use 8 modules, we can connect all of them in a series-connected string. The current of the string will be determined by the short-circuit current of one module. We can check that this is below the inverter maximum input current. "
   ]
  },
  {
   "cell_type": "code",
   "execution_count": 14,
   "metadata": {},
   "outputs": [
    {
     "data": {
      "text/plain": [
       "8.8449"
      ]
     },
     "execution_count": 14,
     "metadata": {},
     "output_type": "execute_result"
    }
   ],
   "source": [
    "module['Isco']"
   ]
  },
  {
   "cell_type": "code",
   "execution_count": 15,
   "metadata": {},
   "outputs": [
    {
     "data": {
      "text/plain": [
       "10.136456"
      ]
     },
     "execution_count": 15,
     "metadata": {},
     "output_type": "execute_result"
    }
   ],
   "source": [
    "inverter['Idcmax']"
   ]
  },
  {
   "cell_type": "code",
   "execution_count": null,
   "metadata": {},
   "outputs": [],
   "source": []
  }
 ],
 "metadata": {
  "kernelspec": {
   "display_name": "Python 3 (ipykernel)",
   "language": "python",
   "name": "python3"
  },
  "language_info": {
   "codemirror_mode": {
    "name": "ipython",
    "version": 3
   },
   "file_extension": ".py",
   "mimetype": "text/x-python",
   "name": "python",
   "nbconvert_exporter": "python",
   "pygments_lexer": "ipython3",
   "version": "3.7.12"
  }
 },
 "nbformat": 4,
 "nbformat_minor": 4
}
