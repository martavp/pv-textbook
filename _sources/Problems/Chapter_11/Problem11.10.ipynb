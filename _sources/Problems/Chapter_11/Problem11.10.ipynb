{
 "cells": [
  {
   "cell_type": "markdown",
   "metadata": {},
   "source": [
    "***Fundamentals of Solar Cells and Photovoltaic Systems Engineering***\n",
    "\n",
    "**Solutions Manual - Chapter 11**\n",
    "\n",
    "***Problem 11.10***\n"
   ]
  },
  {
   "cell_type": "markdown",
   "metadata": {},
   "source": [
    "**The PV panels in an unmoored FPV system are oriented to the south with an inclination of 30°. Use pvlib to estimate the reduction in irradiance at the plane of the array caused by the waves. Assume that, on a windy day, the waves produce a ±15° sine wave tilt variation with a period of 10 seconds. The FPV system is located in Qinghai Lake (Qinghai, China) and we want to evaluate losses on March 21, 2022. The water reflectivity can be assumed to be 10%.**"
   ]
  },
  {
   "cell_type": "markdown",
   "metadata": {},
   "source": [
    "We will use the packages [pvlib](https://pvlib-python.readthedocs.io/en/stable/) and [matplotlib.pyplot](https://matplotlib.org/stable/index.html) to plot the results.\n"
   ]
  },
  {
   "cell_type": "code",
   "execution_count": 14,
   "metadata": {},
   "outputs": [],
   "source": [
    "import pvlib\n",
    "import numpy as np\n",
    "import pandas as pd\n",
    "import matplotlib.pyplot as plt"
   ]
  },
  {
   "cell_type": "markdown",
   "metadata": {},
   "source": [
    "We start by defining the location, date and time. \n",
    "We will implement the calculation for every second on March 21, 2022. "
   ]
  },
  {
   "cell_type": "code",
   "execution_count": 15,
   "metadata": {},
   "outputs": [],
   "source": [
    "# Qinghai Lake, China\n",
    "lat, lon = 37, 100.13\n",
    "tz = 'Asia/Shanghai' # existing timezones can be checked using pytz.all_timezones[::20]\n",
    "\n",
    "date = '2022-03-21'\n",
    "# location\n",
    "location = pvlib.location.Location(lat, lon, tz=tz)\n",
    "\n",
    "# albedo\n",
    "albedo = 0.10 # water reflectivity\n",
    "\n",
    "# datetimes\n",
    "times = pd.date_range(start=date, freq='1S', end=pd.Timestamp(date) + pd.DateOffset(days=1), tz=tz)\n",
    "\n",
    "# generates clear-sky ghi, dni, dhi irradiances\n",
    "clearsky = location.get_clearsky(times)\n",
    "\n",
    "# calculates Sun's coordinates\n",
    "solar_position = location.get_solarposition(times=times)\n",
    "\n",
    "# surface angles alpha, beta\n",
    "orientation = 180 # pvlib sets orientation origin at North -> South=180\n",
    "\n",
    "tilt_fixed = 30\n",
    "A = 15 # ±tilt amplitude [°]\n",
    "T = 10 # wave period [s]\n",
    "t = np.arange(0, len(times))\n",
    "tilt_waving =  tilt_fixed + A*np.sin(2*np.pi*t/T)"
   ]
  },
  {
   "cell_type": "markdown",
   "metadata": {},
   "source": [
    "We calculate the effective irradiance assuming a fixed tilt and a tilt variation caused by the waves."
   ]
  },
  {
   "cell_type": "code",
   "execution_count": 16,
   "metadata": {},
   "outputs": [],
   "source": [
    "# calculates POA\n",
    "poa_fixed_irradiance = pvlib.irradiance.get_total_irradiance(\n",
    "                        surface_tilt=tilt_fixed,\n",
    "                        surface_azimuth=orientation,\n",
    "                        dni=clearsky['dni'],\n",
    "                        ghi=clearsky['ghi'],\n",
    "                        dhi=clearsky['dhi'],\n",
    "                        albedo=albedo,\n",
    "                        solar_zenith=solar_position['apparent_zenith'],\n",
    "                        solar_azimuth=solar_position['azimuth'],\n",
    "                        model='isotropic')\n",
    "\n",
    "poa_waving_irradiance = pvlib.irradiance.get_total_irradiance(\n",
    "                        surface_tilt=tilt_waving,\n",
    "                        surface_azimuth=orientation,\n",
    "                        dni=clearsky['dni'],\n",
    "                        ghi=clearsky['ghi'],\n",
    "                        dhi=clearsky['dhi'],\n",
    "                        albedo=albedo,\n",
    "                        solar_zenith=solar_position['apparent_zenith'],\n",
    "                        solar_azimuth=solar_position['azimuth'],\n",
    "                        model='isotropic')"
   ]
  },
  {
   "cell_type": "markdown",
   "metadata": {},
   "source": [
    "The daily irradiation for both fixed and waving cases is calculated"
   ]
  },
  {
   "cell_type": "code",
   "execution_count": 17,
   "metadata": {},
   "outputs": [
    {
     "name": "stdout",
     "output_type": "stream",
     "text": [
      "Fixed = 7990 Wh\n",
      "Waving = 7863 Wh\n"
     ]
    }
   ],
   "source": [
    "daily_fixed = poa_fixed_irradiance.poa_global.sum()/(60*60)\n",
    "daily_waving = poa_waving_irradiance.poa_global.sum()/(60*60)\n",
    "print(f'Fixed = {daily_fixed:.0f} Wh')\n",
    "print(f'Waving = {daily_waving:.0f} Wh')"
   ]
  },
  {
   "cell_type": "code",
   "execution_count": 18,
   "metadata": {},
   "outputs": [
    {
     "name": "stdout",
     "output_type": "stream",
     "text": [
      "Irradiance reduction due to waves = 1.6%\n"
     ]
    }
   ],
   "source": [
    "irradiance_reduction = (daily_fixed - daily_waving) / daily_fixed\n",
    "\n",
    "print(f'Irradiance reduction due to waves = {irradiance_reduction:.1%}')"
   ]
  },
  {
   "cell_type": "markdown",
   "metadata": {},
   "source": [
    "The irradiance for the waving case can be plotted, noticing the period of the perturbing wave."
   ]
  },
  {
   "cell_type": "code",
   "execution_count": 19,
   "metadata": {},
   "outputs": [
    {
     "data": {
      "text/plain": [
       "Text(0, 0.5, 'Irradiance [$W/m^2$]')"
      ]
     },
     "execution_count": 19,
     "metadata": {},
     "output_type": "execute_result"
    },
    {
     "data": {
      "image/png": "[encoded data removed]",
      "text/plain": [
       "<Figure size 432x288 with 1 Axes>"
      ]
     },
     "metadata": {
      "needs_background": "light"
     },
     "output_type": "display_data"
    }
   ],
   "source": [
    "poa_waving_irradiance[date+' 12:00':date+' 12:01'].poa_global.plot()\n",
    "plt.ylabel('Irradiance [$W/m^2$]')"
   ]
  }
 ],
 "metadata": {
  "kernelspec": {
   "display_name": "Python 3 (ipykernel)",
   "language": "python",
   "name": "python3"
  },
  "language_info": {
   "codemirror_mode": {
    "name": "ipython",
    "version": 3
   },
   "file_extension": ".py",
   "mimetype": "text/x-python",
   "name": "python",
   "nbconvert_exporter": "python",
   "pygments_lexer": "ipython3",
   "version": "3.7.12"
  }
 },
 "nbformat": 4,
 "nbformat_minor": 4
}
