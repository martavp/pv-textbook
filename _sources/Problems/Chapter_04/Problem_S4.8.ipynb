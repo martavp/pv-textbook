{
 "cells": [
  {
   "cell_type": "markdown",
   "id": "9e3d0571",
   "metadata": {},
   "source": [
    "***Fundamentals of Solar Cells and Photovoltaic Systems Engineering***\n",
    "\n",
    "**Solutions Manual - Chapter 4**\n",
    "\n",
    "***Problem 4.8***"
   ]
  },
  {
   "cell_type": "markdown",
   "id": "c3b3d6b6",
   "metadata": {},
   "source": [
    "___For a Silicon solar cell with short-circuit current I$_{sc}$ = 10 A, saturation current I$_0$=2·10$^{-9}$ A, and ideality factor n=1.2, estimate the value of series resistance Rs that produces a reduction of the maximum power of 20% with respect to a cell without Rs. Do the same for Rp. Redo both calculations for a similar cell but with I$_{sc}$=5A, and compare the results___"
   ]
  },
  {
   "cell_type": "markdown",
   "id": "7e72fb5e",
   "metadata": {},
   "source": [
    "First, we import the Python modules used, define one constant to set the I-V curve data size, and define the Boltzman constant."
   ]
  },
  {
   "cell_type": "code",
   "execution_count": 1,
   "id": "0e83057f",
   "metadata": {},
   "outputs": [],
   "source": [
    "import math\n",
    "import numpy as np\n",
    "import matplotlib.pyplot as plt\n",
    "\n",
    "DATA_SIZE = 500\n",
    "kB = 8.617333e-5  # eV·K-1"
   ]
  },
  {
   "cell_type": "markdown",
   "id": "5d016b6c",
   "metadata": {},
   "source": [
    "We define the variables for the I-V curve data"
   ]
  },
  {
   "cell_type": "code",
   "execution_count": 2,
   "id": "547eb66b",
   "metadata": {},
   "outputs": [],
   "source": [
    "# These are values in the usual range for a typical 16.6 x 16.6 cm2 Si solar cell\n",
    "IL = 10.0 # A\n",
    "I0 = 2e-9 # A\n",
    "n = 1.2\n",
    "\n",
    "temperature = 25  #ºC\n",
    "cell_area = 16.6*16.6 # cm2"
   ]
  },
  {
   "cell_type": "markdown",
   "id": "d780238d",
   "metadata": {},
   "source": [
    "Now we define a function to calculate the I-V curve of the solar cell.\n",
    "Note that we use a number of data points defined as the constant DATA_SIZE. The larger this number, the higher the precision, but also the longer computation time. Since the calculations are not very complex, you can use high numbers with almost instantaenous calculations in modern desktop computers or laptops."
   ]
  },
  {
   "cell_type": "code",
   "execution_count": 3,
   "id": "00bea3db",
   "metadata": {},
   "outputs": [],
   "source": [
    "def model_IV(IL, I0, n, Rs, Rp, temperature):\n",
    "    # Thermal voltage\n",
    "    kBT = kB*(temperature + 273.15)\n",
    "    \n",
    "    #I-V curve stored in a 2-column array: first column for voltages, second column for currents\n",
    "    IVcurve = np.zeros((DATA_SIZE,2))\n",
    "    \n",
    "    # First, we calculate the I-V curve voltage range: from -0.1 V to Voc + 0.01 V\n",
    "    # We want to have the I-V curve crossing the current and voltage axes to see the Isc and Voc\n",
    "    # Voc without Rs/Rp.\n",
    "    Voc0 = n*kBT*math.log(IL/I0)\n",
    "    \n",
    "    #Create the voltage list\n",
    "    #Voltage range used: -0.1 to Voc+0.01\n",
    "    IVcurve[:,0]= np.linspace(-0.1, Voc0+0.01, DATA_SIZE)\n",
    "    \n",
    "    #I-V curve without Rs effect\n",
    "    IVcurve[:,1] = IL - I0*(np.exp(IVcurve[:,0]/(n*kBT))-1) - IVcurve[:,0]/Rp\n",
    "    \n",
    "    #Shift voltages to include Rs effect\n",
    "    IVcurve[:,0] = IVcurve[:,0] - Rs*IVcurve[:,1]\n",
    "    \n",
    "    return IVcurve"
   ]
  },
  {
   "cell_type": "markdown",
   "id": "d44a37d8",
   "metadata": {},
   "source": [
    "We define another function to get the Pmax. Note that this function does not assume that the I-V curve is in the first quadrant. \n",
    "\n",
    "Another two functions are used to calculate the Isc and Voc and detect the quadrant. Then, the function calculating Pmax moves the I-V curve to this quadrant, if it is not there yet. "
   ]
  },
  {
   "cell_type": "code",
   "execution_count": 4,
   "id": "4c0a15e0",
   "metadata": {},
   "outputs": [],
   "source": [
    "# Obtains Isc by linear interpolation around V=0\n",
    "def get_Isc(IVdata):\n",
    "    \"\"\"Returns the Isc of the input raw I-V curve\"\"\"\n",
    "\n",
    "   # Sort data (interpolation function requires sorted data)\n",
    "    IV_sorted = IVdata.copy()\n",
    "    IV_sorted=IVdata[IVdata[:,0].argsort()] #Sort by voltages  \n",
    "    \n",
    "    Isc = np.interp(0,IV_sorted[:,0],IV_sorted[:,1])\n",
    "    \n",
    "    return Isc\n",
    "\n",
    "# Obtains Voc by linear interpolation around I=0\n",
    "def get_Voc(IVdata):\n",
    "    \"\"\"Returns the Voc of the input raw I-V curve\"\"\"\n",
    "\n",
    "   # Sort data (interpolation function requires sorted data)\n",
    "    IV_sorted = IVdata.copy()\n",
    "    IV_sorted=IVdata[IVdata[:,1].argsort()]   #Sort by currents\n",
    "    \n",
    "    Voc = np.interp(0, IV_sorted[:,1],IV_sorted[:,0])\n",
    "    \n",
    "    return Voc\n",
    "\n",
    "# Obtains the Pmax, and also the Vm and Im\n",
    "def get_Pmax(IVdata):\n",
    "  \n",
    "   # Sort data and move to 1st quadrant\n",
    "    IV_sorted = IVdata.copy()\n",
    " \n",
    "    Isc = get_Isc(IV_sorted)\n",
    "    if Isc<0:\n",
    "        Isc*=-1\n",
    "        IV_sorted[:,1]*=-1\n",
    "    \n",
    "    Voc = get_Voc(IV_sorted)\n",
    "    if Voc<0:\n",
    "        Voc*=-1\n",
    "        IV_sorted[:,0]*=-1       \n",
    " \n",
    "    IV_sorted=IV_sorted[IV_sorted[:,0].argsort()]   \n",
    "   \n",
    " \n",
    "    PV = IV_sorted.copy()\n",
    "    PV[:,1] = IV_sorted[:,0]*IV_sorted[:,1]\n",
    "    \n",
    "    Pm = np.amax(PV[:,1])\n",
    "    maxPosition = np.argmax(PV[:,1])\n",
    "    Vm = PV[maxPosition,0]\n",
    "    Im = IV_sorted[maxPosition,1]\n",
    "\n",
    "    return Pm, Vm, Im\n",
    "\n"
   ]
  },
  {
   "cell_type": "markdown",
   "id": "7c73d09b",
   "metadata": {},
   "source": [
    "We make a graph of normalized Pmax vs Rs for the two solar cells (with Isc and Isc/2) and calculate the values of Rs that cause a 20% Pmax loss"
   ]
  },
  {
   "cell_type": "code",
   "execution_count": 5,
   "id": "4f8506eb",
   "metadata": {},
   "outputs": [
    {
     "data": {
      "image/png": "[encoded data removed]",
      "text/plain": [
       "<Figure size 432x288 with 1 Axes>"
      ]
     },
     "metadata": {
      "needs_background": "light"
     },
     "output_type": "display_data"
    },
    {
     "name": "stdout",
     "output_type": "stream",
     "text": [
      "Solar cell with IL=10.0: for an Rs=0.0128 Ω (3.54 Ω·cm2) the Pmax loss is 20%\n",
      "Solar cell with IL=5.0: for an Rs=0.0257 Ω (7.08 Ω·cm2) the Pmax loss is 20%\n"
     ]
    }
   ],
   "source": [
    "# Two-column arrays for Pmax vs Rs\n",
    "# Create the Rs list in the first colum\n",
    "Rs_min = 0  # ohm\n",
    "Rs_max = 0.2 # ohm\n",
    "Pmax_vs_Rs = np.zeros((DATA_SIZE,2))\n",
    "Pmax_vs_Rs[:,0] = np.linspace(Rs_min, Rs_max, DATA_SIZE)\n",
    "Pmax_vs_Rs_halfIsc = np.zeros((DATA_SIZE,2))\n",
    "Pmax_vs_Rs_halfIsc[:,0] = np.linspace(Rs_min, Rs_max, DATA_SIZE)\n",
    "\n",
    "# Calculate the Pmax for the list of Rs\n",
    "for x in range(DATA_SIZE):\n",
    "    IV_curve = model_IV(IL, I0, n, Pmax_vs_Rs[x,0], 1e6, temperature) #Rp is assumed to be very large (1e6)\n",
    "    Pm, Vm, Im = get_Pmax(IV_curve)\n",
    "    Pmax_vs_Rs[x,1] = Pm\n",
    "\n",
    "    IV_curve = model_IV(IL/2, I0/2, n, Pmax_vs_Rs_halfIsc[x,0], 1e6, temperature) #Rp is assumed to be very large (1e6)\n",
    "    Pm, Vm, Im = get_Pmax(IV_curve)\n",
    "    Pmax_vs_Rs_halfIsc[x,1] = Pm\n",
    "\n",
    "# Normalize the Pmax: divide data by maximum value\n",
    "Pmax_vs_Rs[:,1] =  Pmax_vs_Rs[:,1]/Pmax_vs_Rs[0,1]  \n",
    "Pmax_vs_Rs_halfIsc[:,1] =  Pmax_vs_Rs_halfIsc[:,1]/Pmax_vs_Rs_halfIsc[0,1]  \n",
    "\n",
    "# Plot the data\n",
    "plt.plot(Pmax_vs_Rs[:,0], Pmax_vs_Rs[:,1], color='b', label='Isc')\n",
    "plt.plot(Pmax_vs_Rs_halfIsc[:,0], Pmax_vs_Rs_halfIsc[:,1], color='r', label='Isc/2')\n",
    "plt.xlabel('Rs (ohm)', size=14)\n",
    "plt.ylabel('Pmax (W)', size=14)\n",
    "plt.legend()\n",
    "plt.show()\n",
    "\n",
    "# Report the values\n",
    "Pm_sorted=Pmax_vs_Rs[Pmax_vs_Rs[:,1].argsort()]\n",
    "Rs_20loss = np.interp(0.8, Pm_sorted[:,1],Pm_sorted[:,0])\n",
    "sResult = \"Solar cell with IL=\"+ str(IL) + \": for an Rs=\"+ f\"{Rs_20loss:.3}\" + \" \\u03A9\" \n",
    "sResult += \" (\" + f\"{Rs_20loss*cell_area:.3}\" + \" \\u03A9·cm2) \" + \"the Pmax loss is 20%\"\n",
    "print(sResult)\n",
    "\n",
    "Pm_sorted=Pmax_vs_Rs_halfIsc[Pmax_vs_Rs_halfIsc[:,1].argsort()]\n",
    "Rs_20loss = np.interp(0.8, Pm_sorted[:,1],Pm_sorted[:,0])\n",
    "sResult = \"Solar cell with IL=\"+ str(IL/2) + \": for an Rs=\"+f\"{Rs_20loss:.3}\"+ \" \\u03A9\"\n",
    "sResult += \" (\" + f\"{Rs_20loss*cell_area:.3}\" + \" \\u03A9·cm2) \" + \"the Pmax loss is 20%\"\n",
    "print(sResult)\n",
    "    "
   ]
  },
  {
   "cell_type": "markdown",
   "id": "b501f364",
   "metadata": {},
   "source": [
    "As you can see, the Isc determines how the Rs affects the solar cell performance. For higher currents, the Rs creates a higher power loss. <br>\n",
    "IMPORTANT NOTE: the Rs is given also as a value per unit area since it is frequent to find it that way."
   ]
  },
  {
   "cell_type": "markdown",
   "id": "c888e013",
   "metadata": {},
   "source": [
    "Now we do a similar analysis with Rp."
   ]
  },
  {
   "cell_type": "code",
   "execution_count": 6,
   "id": "2e34fa0a",
   "metadata": {},
   "outputs": [
    {
     "data": {
      "image/png": "[encoded data removed]",
      "text/plain": [
       "<Figure size 432x288 with 1 Axes>"
      ]
     },
     "metadata": {
      "needs_background": "light"
     },
     "output_type": "display_data"
    },
    {
     "name": "stdout",
     "output_type": "stream",
     "text": [
      "Solar cell with IL=10.0: for an Rp=0.309 Ω (85.162 Ω·cm2) the Pmax loss is 20%\n",
      "Solar cell with IL=5.0: for an Rp=0.626 Ω (172.380 Ω·cm2) the Pmax loss is 20%\n"
     ]
    }
   ],
   "source": [
    "# Two-column arrays for Pmax vs Rs\n",
    "# Create the Rp list in the first colum\n",
    "Rp_min = 0.1 # ohm\n",
    "Rp_max = 100 # ohm\n",
    "Pmax_vs_Rp = np.zeros((DATA_SIZE,2))\n",
    "Pmax_vs_Rp[:,0] = np.linspace(Rp_min, Rp_max, DATA_SIZE)\n",
    "Pmax_vs_Rp_halfIsc = np.zeros((DATA_SIZE,2))\n",
    "Pmax_vs_Rp_halfIsc[:,0] = np.linspace(Rp_min, Rp_max, DATA_SIZE)\n",
    "\n",
    "# Calculate the Pmax for the list of Rp\n",
    "for x in range(DATA_SIZE):\n",
    "    IV_curve = model_IV(IL, I0, n, 0 , Pmax_vs_Rp[x,0], temperature ) #Rs is assumed to be very zero\n",
    "    Pm, Vm, Im = get_Pmax(IV_curve)\n",
    "    Pmax_vs_Rp[x,1] = Pm\n",
    "\n",
    "    IV_curve = model_IV(IL/2, I0/2, n, 0, Pmax_vs_Rp_halfIsc[x,0], temperature) #Rs is assumed to be very zero\n",
    "    Pm, Vm, Im = get_Pmax(IV_curve)\n",
    "    Pmax_vs_Rp_halfIsc[x,1] = Pm\n",
    "\n",
    "# Normalize: divide by max Pmax\n",
    "Pmax_vs_Rp[:,1] =  Pmax_vs_Rp[:,1]/Pmax_vs_Rp[DATA_SIZE-1,1]  \n",
    "Pmax_vs_Rp_halfIsc[:,1] =  Pmax_vs_Rp_halfIsc[:,1]/Pmax_vs_Rp_halfIsc[DATA_SIZE-1,1]  \n",
    "\n",
    "# Plot the data\n",
    "plt.plot(Pmax_vs_Rp[:,0], Pmax_vs_Rp[:,1], color='b', label='Isc')\n",
    "plt.plot(Pmax_vs_Rp_halfIsc[:,0], Pmax_vs_Rp_halfIsc[:,1], color='r', label='Isc/2')\n",
    "plt.xlabel('Rp (ohm)', size=14)\n",
    "plt.ylabel('Pmax (W)', size=14)\n",
    "# Use logarithmic scale for Rp axis to see data better\n",
    "plt.xscale(\"log\")\n",
    "plt.legend()\n",
    "plt.show()\n",
    "\n",
    "# Report values\n",
    "Pm_sorted=Pmax_vs_Rp[Pmax_vs_Rp[:,1].argsort()]\n",
    "Rp_20loss = np.interp(0.8, Pm_sorted[:,1],Pm_sorted[:,0])\n",
    "sResult = \"Solar cell with IL=\"+ str(IL) + \": for an Rp=\"+f\"{Rp_20loss:.3}\"+ \" \\u03A9\"\n",
    "sResult += \" (\" + f\"{Rp_20loss*cell_area:.3f}\" + \" \\u03A9·cm2) \" + \"the Pmax loss is 20%\"\n",
    "print(sResult)\n",
    "\n",
    "Pm_sorted=Pmax_vs_Rp_halfIsc[Pmax_vs_Rp_halfIsc[:,1].argsort()]\n",
    "Rp_20loss = np.interp(0.8, Pm_sorted[:,1],Pm_sorted[:,0])\n",
    "sResult = \"Solar cell with IL=\"+ str(IL/2) + \": for an Rp=\"+f\"{Rp_20loss:.3}\" + \" \\u03A9\"\n",
    "sResult += \" (\" + f\"{Rp_20loss*cell_area:.3f}\" + \" \\u03A9·cm2) \" + \"the Pmax loss is 20%\"\n",
    "print(sResult)\n",
    "    "
   ]
  },
  {
   "cell_type": "markdown",
   "id": "8e191e93",
   "metadata": {},
   "source": [
    "As you can see, the Isc determines how the Rp affects the solar cell performance. For lower currents, a low Rp creates a higher power loss. <br>\n",
    "IMPORTANT NOTE: the Rp is given also as a value per unit area since it is frequent to find it that way."
   ]
  }
 ],
 "metadata": {
  "kernelspec": {
   "display_name": "Python 3 (ipykernel)",
   "language": "python",
   "name": "python3"
  },
  "language_info": {
   "codemirror_mode": {
    "name": "ipython",
    "version": 3
   },
   "file_extension": ".py",
   "mimetype": "text/x-python",
   "name": "python",
   "nbconvert_exporter": "python",
   "pygments_lexer": "ipython3",
   "version": "3.9.7"
  }
 },
 "nbformat": 4,
 "nbformat_minor": 5
}
