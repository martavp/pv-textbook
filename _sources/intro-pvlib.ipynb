{
 "cells": [
  {
   "cell_type": "markdown",
   "metadata": {},
   "source": [
    "# Introduction to `pvlib`"
   ]
  },
  {
   "cell_type": "markdown",
   "metadata": {
    "tags": []
   },
   "source": [
    "\n",
    "<img src=\"https://pvlib-python.readthedocs.io/en/stable/_images/pvlib_logo_horiz.png\" width=\"300px\" />\n",
    "\n",
    "**pvlib** is a set of documented functions for simulating the performance of photovoltaic energy systems.\n",
    "\n",
    "- GitHub: <https://github.com/pvlib/pvlib-python>\n",
    "\n",
    "Documentation for this package is available at https://pvlib-python.readthedocs.io/en/stable/. You can also check out the pvlib python [examples gallery](https://pvlib-python.readthedocs.io/en/stable/auto_examples/index.html)\n",
    "\n",
    "You can ask for help and find useful discussion on the [pvlib-python Google Group](https://groups.google.com/g/pvlib-python)\n",
    "\n"
   ]
  },
  {
   "cell_type": "markdown",
   "metadata": {},
   "source": [
    ":::{note}\n",
    "This material is mostly adapted from the following resources:\n",
    "- [PVSC48-Python-Tutorial](https://github.com/PV-Tutorials/PVSC48-Python-Tutorial)\n",
    "\n",
    ":::"
   ]
  },
  {
   "cell_type": "markdown",
   "metadata": {},
   "source": [
    ":::{note}\n",
    "If you have not yet set up Python on your computer, you can execute this tutorial in your browser via [Google Colab](https://colab.research.google.com/). Click on the rocket in the top right corner and launch \"Colab\". If that doesn't work download the `.ipynb` file and import it in [Google Colab](https://colab.research.google.com/).\n",
    "\n",
    "Then install `pandas` and `numpy` by executing the following command in a Jupyter cell at the top of the notebook.\n",
    "\n",
    "```sh\n",
    "!pip install pandas numpy pvlib\n",
    "```\n",
    ":::"
   ]
  },
  {
   "cell_type": "markdown",
   "metadata": {},
   "source": [
    "The sketch below from [the Sandia PV Performance Modeling Collaborative (PVPMC)](https://pvpmc.sandia.gov/) outlines the topics covered in this introduction:\n",
    "\n",
    "<img src=\"https://github.com/martavp/pv-textbook/blob/main/pv-textbook/images/overview.png\">\n"
   ]
  },
  {
   "cell_type": "markdown",
   "metadata": {},
   "source": [
    "# 1 - Access weather data (e.g. typical meteorological year -TMY-), understand solar irradiance data, and visualize it.\n",
    "\n",
    "Typical Meteorological Year (TMY) datasets are intended to represent the weather for a typical year at a given location. \n",
    "\n",
    "TMY datasets provide hourly **solar irradiance**, **air temperature**, **wind speed**, and other weather measurements for a hypothetical year that represents more or less a \"median year\" for solar resource.  "
   ]
  },
  {
   "cell_type": "markdown",
   "metadata": {},
   "source": [
    "We start importing the packages that we will use. "
   ]
  },
  {
   "cell_type": "code",
   "execution_count": 2,
   "metadata": {},
   "outputs": [
    {
     "ename": "ModuleNotFoundError",
     "evalue": "No module named 'pvlib'",
     "output_type": "error",
     "traceback": [
      "\u001b[1;31m---------------------------------------------------------------------------\u001b[0m",
      "\u001b[1;31mModuleNotFoundError\u001b[0m                       Traceback (most recent call last)",
      "\u001b[1;32m<ipython-input-2-d5e7bd024bdb>\u001b[0m in \u001b[0;36m<module>\u001b[1;34m\u001b[0m\n\u001b[0;32m      1\u001b[0m \u001b[1;32mimport\u001b[0m \u001b[0mos\u001b[0m  \u001b[1;31m# for getting environment variables\u001b[0m\u001b[1;33m\u001b[0m\u001b[1;33m\u001b[0m\u001b[0m\n\u001b[0;32m      2\u001b[0m \u001b[1;32mimport\u001b[0m \u001b[0mpathlib\u001b[0m  \u001b[1;31m# for finding the example dataset\u001b[0m\u001b[1;33m\u001b[0m\u001b[1;33m\u001b[0m\u001b[0m\n\u001b[1;32m----> 3\u001b[1;33m \u001b[1;32mimport\u001b[0m \u001b[0mpvlib\u001b[0m\u001b[1;33m\u001b[0m\u001b[1;33m\u001b[0m\u001b[0m\n\u001b[0m\u001b[0;32m      4\u001b[0m \u001b[1;32mimport\u001b[0m \u001b[0mpandas\u001b[0m \u001b[1;32mas\u001b[0m \u001b[0mpd\u001b[0m\u001b[1;33m\u001b[0m\u001b[1;33m\u001b[0m\u001b[0m\n\u001b[0;32m      5\u001b[0m \u001b[1;32mimport\u001b[0m \u001b[0mmatplotlib\u001b[0m\u001b[1;33m.\u001b[0m\u001b[0mpyplot\u001b[0m \u001b[1;32mas\u001b[0m \u001b[0mplt\u001b[0m\u001b[1;33m\u001b[0m\u001b[1;33m\u001b[0m\u001b[0m\n",
      "\u001b[1;31mModuleNotFoundError\u001b[0m: No module named 'pvlib'"
     ]
    }
   ],
   "source": [
    "import os  # for getting environment variables\n",
    "import pathlib  # for finding the example dataset\n",
    "import pvlib\n",
    "import pandas as pd  \n",
    "import matplotlib.pyplot as plt "
   ]
  },
  {
   "cell_type": "markdown",
   "metadata": {},
   "source": [
    "**Reading a TMY dataset with pvlib**\n",
    "\n",
    "First, we'll read the TMY dataset with [`pvlib.iotools.read_tmy3()`](https://pvlib-python.readthedocs.io/en/stable/generated/pvlib.iotools.read_tmy3.html) which returns a [Pandas DataFrame](https://pandas.pydata.org/pandas-docs/stable/reference/api/pandas.DataFrame.html) of the timeseries weather data and a second output with a Python dictionary of the TMY metadata like longitude, latitude, elevation, etc.\n",
    "\n",
    "We will use the Python [`pathlib`](https://docs.python.org/3/library/pathlib.html) to get the path to the `'data'` directory which comes with the `pvlib` package. Then we can use the slash operator, `/` to make the full path to the TMY file.\n"
   ]
  },
  {
   "cell_type": "code",
   "execution_count": null,
   "metadata": {},
   "outputs": [],
   "source": [
    "help(pvlib.iotools.read_tmy3)"
   ]
  },
  {
   "cell_type": "code",
   "execution_count": null,
   "metadata": {},
   "outputs": [],
   "source": [
    "DATA_DIR = pathlib.Path(pvlib.__file__).parent / 'data'\n",
    "df_tmy, metadata = pvlib.iotools.read_tmy3(DATA_DIR / '723170TYA.CSV', \n",
    "                                            coerce_year=1990,\n",
    "                                           map_variables=True)\n",
    "metadata  # display the dictionary of metadata"
   ]
  },
  {
   "cell_type": "markdown",
   "metadata": {},
   "source": [
    "Let's display the first 4 lines of the dataframe"
   ]
  },
  {
   "cell_type": "code",
   "execution_count": null,
   "metadata": {},
   "outputs": [],
   "source": [
    "df_tmy.head(4)"
   ]
  },
  {
   "cell_type": "markdown",
   "metadata": {},
   "source": [
    "This dataset follows the standard format of handling timeseries data with pandas -- one row per timestamp, one column per measurement type.  Because TMY files represent one year of data (no leap years), that means they'll have 8760 rows.  The number of columns can vary depending on the source of the data."
   ]
  },
  {
   "cell_type": "code",
   "execution_count": null,
   "metadata": {},
   "outputs": [],
   "source": [
    "print(\"Number of rows:\", len(df_tmy))\n",
    "print(\"Number of columns:\", len(df_tmy.columns))"
   ]
  },
  {
   "cell_type": "markdown",
   "metadata": {},
   "source": [
    "You can access single rows by pointing to its number location (iloc) or by using the index name it has. In this case, the index is a dateTime"
   ]
  },
  {
   "cell_type": "code",
   "execution_count": null,
   "metadata": {},
   "outputs": [],
   "source": [
    "df_tmy.iloc[0]"
   ]
  },
  {
   "cell_type": "code",
   "execution_count": null,
   "metadata": {},
   "outputs": [],
   "source": [
    "df_tmy.loc['1990-01-01 01:00:00-05:00']"
   ]
  },
  {
   "cell_type": "markdown",
   "metadata": {},
   "source": [
    "You can also print all the column names in the dataframe"
   ]
  },
  {
   "cell_type": "code",
   "execution_count": null,
   "metadata": {},
   "outputs": [],
   "source": [
    "df_tmy.keys()"
   ]
  },
  {
   "cell_type": "markdown",
   "metadata": {},
   "source": [
    "There are 71 columns, which is quite a lot!  For now, let's focus just on the ones that are most important for PV modeling -- the irradiance, temperature, and wind speed columns, and extract them into a new DataFrame.\n",
    "\n",
    "For this NREL TMY3 dataset the units of irradiance are W/m&sup2;, air temperature is in &deg;C, and wind speed is m/s.\n"
   ]
  },
  {
   "cell_type": "code",
   "execution_count": null,
   "metadata": {},
   "outputs": [],
   "source": [
    "# GHI, DHI, DNI are irradiance measurements\n",
    "# DryBulb is the \"dry-bulb\" (ambient) temperature\n",
    "# Wspd is wind speed\n",
    "df = df_tmy[['ghi', 'dhi', 'dni', 'temp_air', 'wind_speed']]\n",
    "# show the first 15 rows:\n",
    "df.head(15)"
   ]
  },
  {
   "cell_type": "markdown",
   "metadata": {},
   "source": [
    "**Plotting time series data with pandas and matplotlib**\n",
    "\n",
    "Let's make some plots to get a better idea of what TMY data gives us.\n",
    "\n",
    "First, the three irradiance fields:"
   ]
  },
  {
   "cell_type": "code",
   "execution_count": null,
   "metadata": {},
   "outputs": [],
   "source": [
    "first_week = df.head(24*7)  # Plotting 7 days, each one has 24 hours or entries\n",
    "first_week[['ghi', 'dhi', 'dni']].plot()\n",
    "plt.ylabel('Irradiance [W/m$^2$]');"
   ]
  },
  {
   "cell_type": "markdown",
   "metadata": {},
   "source": [
    "Let's control the parameters a bit more"
   ]
  },
  {
   "cell_type": "code",
   "execution_count": null,
   "metadata": {},
   "outputs": [],
   "source": [
    "birthday = df.loc['1990-11-06':'1990-11-06']\n",
    "plt.plot(birthday['dni'], color='r') \n",
    "plt.plot(birthday['dhi'], color='g', marker='.') \n",
    "plt.plot(birthday['ghi'], color='b', marker='s') \n",
    "plt.ylabel('Irradiance [W/m$^2$]');"
   ]
  },
  {
   "cell_type": "markdown",
   "metadata": {},
   "source": [
    "We can also plot a summer week."
   ]
  },
  {
   "cell_type": "code",
   "execution_count": null,
   "metadata": {},
   "outputs": [],
   "source": [
    "summer_week = df.loc['1990-06-01':'1990-06-08']\n",
    "summer_week[['ghi', 'dhi', 'dni']].plot()\n",
    "plt.ylabel('Irradiance [W/m$^2$]');"
   ]
  },
  {
   "cell_type": "markdown",
   "metadata": {},
   "source": [
    "We can also plot the air temperature and wind speed."
   ]
  },
  {
   "cell_type": "code",
   "execution_count": null,
   "metadata": {},
   "outputs": [],
   "source": [
    "first_week['temp_air'].plot()\n",
    "plt.ylabel('Ambient Temperature [°C]');"
   ]
  },
  {
   "cell_type": "code",
   "execution_count": null,
   "metadata": {},
   "outputs": [],
   "source": [
    "first_week['wind_speed'].plot()\n",
    "plt.ylabel('Wind Speed [m/s]');"
   ]
  },
  {
   "cell_type": "markdown",
   "metadata": {},
   "source": [
    "Pandas makes it easy to roll-up timeseries data into summary values. We can use the [`DataFrame.resample()`](https://pandas.pydata.org/pandas-docs/stable/reference/api/pandas.DataFrame.resample.html) function with [`DateOffsets`](https://pandas.pydata.org/pandas-docs/stable/user_guide/timeseries.html#dateoffset-objects) like `'M'` for months.  For example, we can calculate total monthly GHI as a quick way to visualize the seasonality of solar resource:\n"
   ]
  },
  {
   "cell_type": "code",
   "execution_count": null,
   "metadata": {},
   "outputs": [],
   "source": [
    "# summing hourly irradiance (W/m^2) gives insolation (W h/m^2)\n",
    "monthly_ghi = df['ghi'].resample('M').sum()\n",
    "monthly_ghi.head(4)"
   ]
  },
  {
   "cell_type": "code",
   "execution_count": null,
   "metadata": {},
   "outputs": [],
   "source": [
    "monthly_ghi = monthly_ghi.tz_localize(None)  # don't need timezone for monthly data\n",
    "monthly_ghi.plot.bar()\n",
    "plt.ylabel('Monthly Global Horizontal Irradiation \\n[W h/m$^2$]');"
   ]
  },
  {
   "cell_type": "markdown",
   "metadata": {},
   "source": [
    "We can also take monthly averages instead of monthly sums:"
   ]
  },
  {
   "cell_type": "code",
   "execution_count": null,
   "metadata": {},
   "outputs": [],
   "source": [
    "fig, ax1 = plt.subplots()\n",
    "ax2 = ax1.twinx()  # add a second y-axis\n",
    "monthly_average_temp_wind = df[['temp_air', 'wind_speed']].resample('M').mean()\n",
    "monthly_average_temp_wind['temp_air'].plot(ax=ax1, c='tab:blue')\n",
    "monthly_average_temp_wind['wind_speed'].plot(ax=ax2, c='tab:orange')\n",
    "ax1.set_ylabel(r'Ambient Temperature [$\\degree$ C]')\n",
    "ax2.set_ylabel(r'Wind Speed [m/s]')\n",
    "ax1.legend(loc='lower left')\n",
    "ax2.legend(loc='lower right');"
   ]
  },
  {
   "cell_type": "markdown",
   "metadata": {},
   "source": [
    "# 2. Calculate plane of array (POA) irradiance"
   ]
  },
  {
   "cell_type": "markdown",
   "metadata": {},
   "source": [
    "The amount of sunlight collected by a PV panel depends on how well the panel orientation matches incoming sunlight.\n",
    "The three components of solar irradiance must be tansposed on the plane of array (POA) and added to calculate the total POA irradiance.\n",
    "\n",
    "\n",
    "**How is array orientation defined?**\n",
    "\n",
    "Two parameters define the panel orientation, one that measures the cardinal direction (North, East, South, West), and one that measures how high in the sky the panel faces:\n",
    "\n",
    "- tilt; measured in degrees from horizontal.  A flat panel is at tilt=0 and a panel standing on its edge has tilt=90.\n",
    "- azimuth; measured in degrees from North.  The direction along the horizon the panel is facing.  N=0, E=90, S=180, W=270.\n",
    "\n",
    "A fixed array has fixed tilt and azimuth, but a tracker array constantly changes its orientation to best match the sun's position.  So depending on the system configuration, tilt and azimuth may or may not be time series values."
   ]
  },
  {
   "cell_type": "code",
   "execution_count": null,
   "metadata": {},
   "outputs": [],
   "source": [
    "# First, let's make a Location object corresponding to the TMY that we have previously imported\n",
    "location = pvlib.location.Location(latitude=metadata['latitude'],\n",
    "                                   longitude=metadata['longitude'])"
   ]
  },
  {
   "cell_type": "markdown",
   "metadata": {},
   "source": [
    "Because part of the transposition process requires knowing where the sun is in the sky, let's use pvlib to calculate solar position.  TMY data represents the average weather conditions across each hour, meaning we need to calculate solar position in the middle of each hour.  pvlib calculates solar position for the exact timestamps you specify, so we need to adjust the times by half an interval (30 minutes):"
   ]
  },
  {
   "cell_type": "code",
   "execution_count": null,
   "metadata": {},
   "outputs": [],
   "source": [
    "# Note: TMY datasets are right-labeled hourly intervals, e.g. the\n",
    "# 10AM to 11AM interval is labeled 11.  We should calculate solar position in\n",
    "# the middle of the interval (10:30), so we subtract 30 minutes:\n",
    "times = df_tmy.index - pd.Timedelta('30min')\n",
    "solar_position = location.get_solarposition(times)\n",
    "# but remember to shift the index back to line up with the TMY data:\n",
    "solar_position.index += pd.Timedelta('30min')\n",
    "\n",
    "solar_position.head()"
   ]
  },
  {
   "cell_type": "markdown",
   "metadata": {},
   "source": [
    "The two values needed here are the solar zenith (how close the sun is to overhead) and azimuth (what direction along the horizon the sun is, like panel azimuth).  The difference between `apparent_zenith` and `zenith` is that `apparent_zenith` includes the effect of atmospheric refraction.\n",
    "\n",
    "Now that we have a time series of solar position that matches our irradiance data, let's run a transposition model using the convenient wrapper function [`pvlib.irradiance.get_total_irradiance`](https://pvlib-python.readthedocs.io/en/latest/generated/pvlib.irradiance.get_total_irradiance.html). The more complex transposition models like Perez and Hay Davies require additional weather inputs, so for simplicity we'll just use the basic `isotropic` model here, which is the default if nothing is passed for `model` keyword argument.  As an example, we'll model a fixed array tilted south at 20 degrees."
   ]
  },
  {
   "cell_type": "code",
   "execution_count": null,
   "metadata": {},
   "outputs": [],
   "source": [
    "df_poa = pvlib.irradiance.get_total_irradiance(\n",
    "        surface_tilt=20,  # tilted 20 degrees from horizontal\n",
    "        surface_azimuth=180,  # facing South\n",
    "        dni=df_tmy['dni'],\n",
    "        ghi=df_tmy['ghi'],\n",
    "        dhi=df_tmy['dhi'],\n",
    "        solar_zenith=solar_position['apparent_zenith'],\n",
    "        solar_azimuth=solar_position['azimuth'],\n",
    "        model='isotropic')"
   ]
  },
  {
   "cell_type": "markdown",
   "metadata": {},
   "source": [
    "`get_total_irradiance` returns a DataFrame containing each of the POA components mentioned earlier (direct, diffuse, and ground), along with the total in-plane irradiance.  "
   ]
  },
  {
   "cell_type": "code",
   "execution_count": null,
   "metadata": {},
   "outputs": [],
   "source": [
    "df_poa.keys()"
   ]
  },
  {
   "cell_type": "markdown",
   "metadata": {},
   "source": [
    "Let's visualize monthly global radiation to summarize the difference between the irradiation received by a flat panel (GHI) and that of a tilted panel (POA):"
   ]
  },
  {
   "cell_type": "code",
   "execution_count": null,
   "metadata": {},
   "outputs": [],
   "source": [
    "df = pd.DataFrame({\n",
    "    'ghi': df_tmy['ghi'],\n",
    "    'poa': df_poa['poa_global'],\n",
    "})\n",
    "df_monthly = df.resample('M').sum()\n",
    "df_monthly.plot.bar()\n",
    "plt.ylabel('Monthly irradiation [W h/m$^2$]');"
   ]
  },
  {
   "cell_type": "markdown",
   "metadata": {},
   "source": [
    "This plot shows that, compared with a flat array, a tilted array receives significantly more irradiation in the winter.  However, it comes at the cost of slightly less irradiation in the summer.  \n",
    "\n",
    "Let's look at a sunny day in winter vs a sunny day in summer. "
   ]
  },
  {
   "cell_type": "code",
   "execution_count": null,
   "metadata": {},
   "outputs": [],
   "source": [
    "df.loc['1990-01-15'].plot()\n",
    "plt.ylabel('Irradiance [W/m$^2$]');"
   ]
  },
  {
   "cell_type": "code",
   "execution_count": null,
   "metadata": {},
   "outputs": [],
   "source": [
    "df.loc['1990-07-08'].plot()\n",
    "plt.ylabel('Irradiance [W/m$^2$]');"
   ]
  },
  {
   "cell_type": "markdown",
   "metadata": {},
   "source": [
    "**Modeling POA for a tracking system**\n",
    "\n",
    "The previous section calculated the transposition assuming a fixed array tilt and azimuth.  Now we'll do the same for a tracking array that follows the sun across the sky.  The most common type of tracking array is what's called a horizonalsingle-axis tracker (HSAT) that rotates from East to West to follow the sun.  We can calculate the time-dependent orientation of a HSAT array with pvlib:"
   ]
  },
  {
   "cell_type": "code",
   "execution_count": null,
   "metadata": {},
   "outputs": [],
   "source": [
    "tracker_data = pvlib.tracking.singleaxis(\n",
    "                solar_position['apparent_zenith'],\n",
    "                solar_position['azimuth'],\n",
    "            axis_azimuth=180,  # axis is aligned N-S\n",
    "            )  # leave the rest of the singleaxis parameters like backtrack and gcr at their defaults\n",
    "tilt = tracker_data['surface_tilt'].fillna(0)\n",
    "azimuth = tracker_data['surface_azimuth'].fillna(0)\n",
    "\n",
    "# plot a day to illustrate:\n",
    "tracker_data['tracker_theta'].fillna(0).head(24).plot()\n",
    "plt.ylabel('Tracker Rotation [degrees]');"
   ]
  },
  {
   "cell_type": "markdown",
   "metadata": {},
   "source": [
    "This plot shows a single day of tracker operation.  The y-axis shows the tracker rotation from horizontal, so 0 degrees means the panels are flat.  In the morning, the trackers rotate to negative angles to face East towards the morning sun; in the afternoon they rotate to positive angles to face West towards the evening sun.  In the middle of the day, the trackers are flat because the sun is more or less overhead.\n",
    "\n",
    "Now we can model the irradiance collected by a tracking array -- we follow the same procedure as before, but using the timeseries tilt and azimuth this time:"
   ]
  },
  {
   "cell_type": "code",
   "execution_count": null,
   "metadata": {},
   "outputs": [],
   "source": [
    "df_poa_tracker = pvlib.irradiance.get_total_irradiance(\n",
    "    surface_tilt=tilt,  # time series for tracking array\n",
    "    surface_azimuth=azimuth,  # time series for tracking array\n",
    "    dni=df_tmy['dni'],\n",
    "    ghi=df_tmy['ghi'],\n",
    "    dhi=df_tmy['dhi'],\n",
    "    solar_zenith=solar_position['apparent_zenith'],\n",
    "    solar_azimuth=solar_position['azimuth'])\n",
    "tracker_poa = df_poa_tracker['poa_global']"
   ]
  },
  {
   "cell_type": "code",
   "execution_count": null,
   "metadata": {},
   "outputs": [],
   "source": [
    "df.loc['1990-01-15', 'ghi'].plot()\n",
    "tracker_poa.loc['1990-01-15'].plot()\n",
    "plt.legend()\n",
    "plt.ylabel('Irradiance [W/m$^2$]');"
   ]
  },
  {
   "cell_type": "markdown",
   "metadata": {},
   "source": [
    "The tracking system can tilt the array steeply East and West to face towards the sun in early morning and late afternoon, meaning the edges of day get much higher irradiance than for a south-facing array.\n",
    "\n",
    "Note that the POA calculations discussed above do not address the partial blocking of diffuse light in arrays with multiple tilted rows of PV modules, so the results will be slightly (typically 1-3%) optimistic relative to real conditions or to commercial modeling software. "
   ]
  },
  {
   "cell_type": "markdown",
   "metadata": {},
   "source": [
    "# 3. Calculate module temperature from ambient data. "
   ]
  },
  {
   "cell_type": "markdown",
   "metadata": {},
   "source": [
    "Here we will use the thermal model from the Sandia Array Performance Model (SAPM) to estimate cell temperature from ambient conditions.  The SAPM thermal model takes only POA irradiance, ambient temperature, and wind speed as weather inputs, but it also requires a set of parameters that characterize the thermal properties of the module of interest as the module's mounting configuration.  Parameter values covering the common system designs are provided with pvlib:"
   ]
  },
  {
   "cell_type": "code",
   "execution_count": null,
   "metadata": {},
   "outputs": [],
   "source": [
    "all_parameters = pvlib.temperature.TEMPERATURE_MODEL_PARAMETERS['sapm']\n",
    "list(all_parameters.keys())"
   ]
  },
  {
   "cell_type": "markdown",
   "metadata": {},
   "source": [
    "`open_rack_glass_polymer` is appropriate for many large-scale systems (polymer backsheet; open racking), so we will use it here:"
   ]
  },
  {
   "cell_type": "code",
   "execution_count": null,
   "metadata": {},
   "outputs": [],
   "source": [
    "parameters = all_parameters['open_rack_glass_polymer']\n",
    "# note the \"splat\" operator \"**\" which expands the dictionary \"parameters\"\n",
    "# into a comma separated list of keyword arguments\n",
    "cell_temperature = pvlib.temperature.sapm_cell(\n",
    "    tracker_poa, df_tmy['temp_air'], df_tmy['wind_speed'], **parameters)"
   ]
  },
  {
   "cell_type": "markdown",
   "metadata": {},
   "source": [
    "Let's compare ambient temperature with cell temperature.  Notice how our modeled cell temperature rises significantly above ambient temperature during the day, especially on sunny days:"
   ]
  },
  {
   "cell_type": "code",
   "execution_count": null,
   "metadata": {},
   "outputs": [],
   "source": [
    "df_tmy['temp_air'].head(24*7).plot()\n",
    "cell_temperature.head(24*7).plot()\n",
    "plt.grid()\n",
    "plt.legend(['Air Temperature', 'Cell Temperature'])\n",
    "plt.ylabel('Temperature [°C]');"
   ]
  },
  {
   "cell_type": "markdown",
   "metadata": {},
   "source": [
    "Wind speed also has an effect, but it's harder to see in a time series plot like this. To make it clearer, let's make a scatter plot:"
   ]
  },
  {
   "cell_type": "code",
   "execution_count": null,
   "metadata": {},
   "outputs": [],
   "source": [
    "temperature_difference = cell_temperature - df_tmy['temp_air']\n",
    "plt.scatter(tracker_poa, temperature_difference, c=df_tmy['wind_speed'])\n",
    "plt.colorbar()\n",
    "plt.ylabel('Temperature rise above ambient [$\\degree C$]')\n",
    "plt.xlabel('POA Irradiance [$W/m^2$]');\n",
    "plt.title('Cell temperature rise, colored by wind speed')"
   ]
  },
  {
   "cell_type": "markdown",
   "metadata": {},
   "source": [
    "The main trend is a bigger temperature difference as incident irradiance increases.  However, this plot shows that higher wind speed reduces the effect -- faster wind means more convective cooling, so a lower cell temperature than it would be in calm air.\n",
    "\n",
    "Note: the gap at the upper edge of the trend is an artifact of the low resolution of wind speed values in this TMY dataset; there are no values between 0 and 0.3 m/s."
   ]
  },
  {
   "cell_type": "markdown",
   "metadata": {},
   "source": [
    "# 4. Use POA irradiance and module temperature to model a PV module's performance. \n",
    "\n",
    "Now that we know how to obtain the plane of array (POA) irradiance and cell temperature, let's calculate the\n",
    "array's output power.\n",
    "\n",
    "Here we will use one of the more basic PV models implemented by pvlib.  The PVWatts module model requires only two array parameters -- the array size (nameplate capacity) and the array's efficiency dependence on cell temperature.  \n",
    "\n",
    "For demonstration purposes, we'll assume a 1 kW array with horizontal single axis tracking (HSAT) and a temperature coefficient of -0.4%/°C:"
   ]
  },
  {
   "cell_type": "code",
   "execution_count": null,
   "metadata": {},
   "outputs": [],
   "source": [
    "gamma_pdc = -0.004  # -0.4 %/°C \n",
    "nameplate = 1e3\n",
    "\n",
    "array_power = pvlib.pvsystem.pvwatts_dc(tracker_poa, cell_temperature, nameplate, gamma_pdc)"
   ]
  },
  {
   "cell_type": "code",
   "execution_count": null,
   "metadata": {},
   "outputs": [],
   "source": [
    "array_power.head(24*7).plot()\n",
    "plt.ylabel('Array Power [W]');"
   ]
  },
  {
   "cell_type": "markdown",
   "metadata": {},
   "source": [
    "Let's take a look at the array's response to irradiance and temperature:"
   ]
  },
  {
   "cell_type": "code",
   "execution_count": null,
   "metadata": {},
   "outputs": [],
   "source": [
    "plt.scatter(tracker_poa, array_power, c=df_tmy['temp_air'])\n",
    "plt.colorbar()\n",
    "plt.ylabel('Array Power [W]')\n",
    "plt.xlabel('POA Irradiance [W/m^2]')\n",
    "plt.title('Power vs POA, colored by amb. temp.');"
   ]
  },
  {
   "cell_type": "markdown",
   "metadata": {},
   "source": [
    "This plot shows a strong, near-linear trend of power with POA irradiance.  However, it also shows a performance change with temperature -- as ambient temperature increases, array output drops.  The gradient is smoother if we color by cell temperature:"
   ]
  },
  {
   "cell_type": "code",
   "execution_count": null,
   "metadata": {},
   "outputs": [],
   "source": [
    "plt.scatter(tracker_poa, array_power, c=cell_temperature)\n",
    "plt.colorbar()\n",
    "plt.ylabel('Array Power [W]')\n",
    "plt.xlabel('POA Irradiance [W/m^2]')\n",
    "plt.title('Power vs POA, colored by cell temp.');"
   ]
  },
  {
   "cell_type": "markdown",
   "metadata": {},
   "source": [
    "Another way of viewing the temperature effect is to compare monthly energy production with monthly POA irradiation, noticing how production dips relative to irradiation in the summertime.  Note that irradiation and production happen to be about the same scale here; that's just a coincidence because of the array size we chose."
   ]
  },
  {
   "cell_type": "code",
   "execution_count": null,
   "metadata": {},
   "outputs": [],
   "source": [
    "df_plot = pd.DataFrame({\n",
    "    'POA irradiation': tracker_poa,\n",
    "    'Production': array_power,\n",
    "})\n",
    "# summing hourly power (W) gives (W h)\n",
    "df_plot.resample('M').sum().plot.bar()\n",
    "plt.ylabel('Energy [Wh]')"
   ]
  },
  {
   "cell_type": "markdown",
   "metadata": {},
   "source": [
    "**Calculating AC Power**\n",
    "PVWatts has a simplified inverter model. Use [`pvlib.inverter.pvwatts(pdc, pdc0)`](https://pvlib-python.readthedocs.io/en/stable/generated/pvlib.inverter.pvwatts.html) to return the AC output given DC output, `pdc`, and the DC limit, `pdc0` which is the AC rated power over the nominal inverter efficiency.\n",
    "\n",
    "Recall we assumed a 1kW array, so we'll continue the hypothetical case and assume an AC size of 800W, a DC/AC ratio of 1.2. The default PVWatts nominal inverter efficiency is 0.96 which we use to get `pdc0`."
   ]
  },
  {
   "cell_type": "code",
   "execution_count": null,
   "metadata": {},
   "outputs": [],
   "source": [
    "pdc0 = 800/0.96  # W\n",
    "ac = pvlib.inverter.pvwatts(array_power, pdc0)"
   ]
  },
  {
   "cell_type": "code",
   "execution_count": null,
   "metadata": {},
   "outputs": [],
   "source": [
    "plt.rcParams['font.size'] = 14\n",
    "ax = ac.resample('D').sum().plot(figsize=(15, 10), label='AC')\n",
    "array_power.resample('D').sum().plot(ax=ax, label='DC')\n",
    "plt.title('AC Power')\n",
    "plt.ylabel('Output [Wh/day]')\n",
    "plt.grid()\n",
    "plt.legend()"
   ]
  },
  {
   "cell_type": "code",
   "execution_count": null,
   "metadata": {},
   "outputs": [],
   "source": []
  }
 ],
 "metadata": {
  "kernelspec": {
   "display_name": "Python 3",
   "language": "python",
   "name": "python3"
  },
  "language_info": {
   "codemirror_mode": {
    "name": "ipython",
    "version": 3
   },
   "file_extension": ".py",
   "mimetype": "text/x-python",
   "name": "python",
   "nbconvert_exporter": "python",
   "pygments_lexer": "ipython3",
   "version": "3.7.4"
  },
  "vscode": {
   "interpreter": {
    "hash": "69786ae8c799a179d39b18fbc76c1e4e4ca1662535939a7096f8f45ee1440c35"
   }
  }
 },
 "nbformat": 4,
 "nbformat_minor": 4
}
