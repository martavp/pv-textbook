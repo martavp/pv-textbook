{
 "cells": [
  {
   "cell_type": "markdown",
   "id": "a86c42ce",
   "metadata": {},
   "source": [
    "# Chapter 5. Calculation of diffusion profiles"
   ]
  },
  {
   "cell_type": "markdown",
   "id": "c8be521b",
   "metadata": {},
   "source": [
    "___Calculate diffusion profiles including: <br>\n",
    "· One predeposition process (constant source). <br>\n",
    "· Any number of subsequent drive-in processes (constant dose)___"
   ]
  },
  {
   "cell_type": "code",
   "execution_count": 1,
   "id": "e93ac0bb",
   "metadata": {},
   "outputs": [
    {
     "name": "stdout",
     "output_type": "stream",
     "text": [
      "Q = 1.41e+14 cm-3\n",
      "Junction depth predeposition: 0.00835 um\n",
      "Rsheet = 29.431 ohm/sq\n",
      "Ns: 1.68e+19 cm-3\n",
      "Total difussion length: 0.0949 um\n",
      "Junction depth: 0.259 um\n"
     ]
    },
    {
     "data": {
      "image/png": "[encoded data removed]",
      "text/plain": [
       "<Figure size 360x288 with 1 Axes>"
      ]
     },
     "metadata": {
      "needs_background": "light"
     },
     "output_type": "display_data"
    }
   ],
   "source": [
    "import numpy as np\n",
    "import matplotlib.pyplot as plt\n",
    "import math\n",
    "\n",
    "\n",
    "DATA_SIZE = 1000   #Size of data\n",
    "kB = 8.617333e-5\n",
    "q = 1.6021766e-19 #eV\n",
    "\n",
    "#Dopant diffusion data\n",
    "D0 = 10.5 #cm2·s-1\n",
    "Ea = 3.69 #eV\n",
    "\n",
    "# Material carrier mobility\n",
    "mu = 1500 #cm2/V·s\n",
    "\n",
    "# Wafer doping level\n",
    "Nwafer = 1e16 #cm-3\n",
    "\n",
    "# Process data: arrays of temperatures (K) and times (s)\n",
    "# The first datapoint is for the predeposition step.\n",
    "# The rest of datapoints are drive-in steps.\n",
    "# Example: \n",
    "#    predeposition (850 ºC, 20 min)\n",
    "#    drive-in (1000 ºC, 10 min)\n",
    "#    effect of Al-BSF formation\n",
    "\n",
    "# Temperatures in C\n",
    "T_list = np.array([850, 1000, 970], dtype='double')  #ºC\n",
    "# Times\n",
    "time_list = np.array([600, 600, 600], dtype='double')  #s\n",
    "# Surface doping density\n",
    "Ns = 3e20 #cm-3\n",
    "\n",
    "### Plotting settings\n",
    "# Max. depth to plot\n",
    "depth = 0.5e-4# cm\n",
    "# Define intermediate profiles to plot\n",
    "# 1 means that the result of that diffusion step is plotted\n",
    "plot_profile = [1, 1, 1]\n",
    "\n",
    "########################\n",
    "### Calculate profiles\n",
    "########################\n",
    "\n",
    "# Temperatures in K \n",
    "T_list += 273.15  #K\n",
    "\n",
    "nSteps = len(T_list)\n",
    "\n",
    "# Make array with constant base doping profile\n",
    "Nbase = np.zeros((DATA_SIZE,2))\n",
    "Nbase[:,0] = np.linspace(0, depth, DATA_SIZE)\n",
    "Nbase[:,1] = Nwafer\n",
    "\n",
    "# Make array for profiles calculated\n",
    "Nx = np.zeros((DATA_SIZE,2))\n",
    "Nx[:,0] = np.linspace(0, depth, DATA_SIZE)\n",
    "# Array with depths in microns for plotting\n",
    "depth_um = np.zeros((DATA_SIZE))\n",
    "depth_um = Nx[:,0]*1e4\n",
    "\n",
    "### 1. Predeposition\n",
    "# First point in list of steps is assumed to be a predeposition\n",
    "dif_coef = D0*math.exp(-Ea/(kB*T_list[0]))\n",
    "dif_len = math.sqrt(4*dif_coef*time_list[0])\n",
    "for x in range(DATA_SIZE):\n",
    "    Nx[x,1] = Ns*math.erfc(Nx[x,0]/dif_len)\n",
    "\n",
    "Qload = Ns*dif_len/math.sqrt(math.pi)\n",
    "x_junc = dif_len*(math.erfc(Nwafer/Ns))**-1\n",
    "Rsheet = 1/(q*mu*Qload)\n",
    "\n",
    "# Print results\n",
    "print(\"Q = \"+f\"{Qload:.3}\"+\" cm-3\")\n",
    "print(\"Junction depth predeposition: \" + f\"{x_junc*1e4:.3}\"+\" um\")\n",
    "print(\"Rsheet = \"+f\"{Rsheet:.3f}\"+\" ohm/sq\")\n",
    "\n",
    "# Plot results\n",
    "fig = plt.figure(figsize=[5,4], tight_layout=True)\n",
    "ax = fig.add_subplot()    \n",
    "ax.set_xlabel('Depth ($\\mu$m)', size=14)\n",
    "ax.set_ylabel('Dopant density (cm$^{-3}$)', size=14)\n",
    "ax.set_yscale('log')\n",
    "ax.set_ylim(Nwafer/10, Ns*10)\n",
    "ax.set_xlim(0, depth*1e4)\n",
    "\n",
    "plt.rc('xtick', labelsize=14) \n",
    "plt.rc('ytick', labelsize=14)\n",
    "\n",
    "trace, = ax.plot(depth_um, Nbase[:,1], 'r-', label='Wafer doping' )\n",
    "\n",
    "if plot_profile[0]==1:\n",
    "    trace, = ax.plot(depth_um, Nx[:,1], 'g-', label='Pre-deposition' )\n",
    "\n",
    "# 2. Drive-in steps\n",
    "# \n",
    "for x in range(nSteps-1):\n",
    "    dif_len = 0\n",
    "    for z in range(x+1):\n",
    "        dif_coef = D0*math.exp(-Ea/(kB*T_list[z+1]))\n",
    "        dif_len += dif_coef*time_list[z+1]\n",
    "    dif_len = 2*math.sqrt(dif_len)\n",
    "    for y in range(DATA_SIZE):\n",
    "        Nx[y,1] = (2/math.sqrt(math.pi))*(Qload/dif_len)*math.exp(-(Nx[y,0]/dif_len)**2) \n",
    "\n",
    "    surface_N = (2/math.sqrt(math.pi))*(Qload/dif_len)\n",
    "    x_junc = dif_len*math.sqrt(math.log(surface_N/Nwafer))\n",
    "\n",
    "        \n",
    "    if plot_profile[x]==1:\n",
    "        trace, = ax.plot(depth_um, Nx[:,1], 'b-', label='Drive-in')  \n",
    "\n",
    "# Plot junction position\n",
    "trace, = ax.plot(x_junc*1e4, np.interp(x_junc,Nx[:,0],Nx[:,1]) , 'kx', markersize=10, label='Junction')  \n",
    "# Print results of all drive-in steps\n",
    "print(\"Ns: \" + f\"{surface_N:.3}\"+\" cm-3\")\n",
    "print(\"Total difussion length: \" + f\"{dif_len*1e4:.3}\"+\" um\")\n",
    "print(\"Junction depth: \" + f\"{x_junc*1e4:.3}\"+\" um\")\n",
    "        \n",
    "ax.legend(fontsize=14)    \n",
    "\n",
    "# Save figure, in case it is needed for a nice homework report :-)\n",
    "plt.savefig(\"fig_process.png\", dpi=300)\n"
   ]
  },
  {
   "cell_type": "code",
   "execution_count": null,
   "id": "46e946e9",
   "metadata": {},
   "outputs": [],
   "source": []
  }
 ],
 "metadata": {
  "kernelspec": {
   "display_name": "Python 3 (ipykernel)",
   "language": "python",
   "name": "python3"
  },
  "language_info": {
   "codemirror_mode": {
    "name": "ipython",
    "version": 3
   },
   "file_extension": ".py",
   "mimetype": "text/x-python",
   "name": "python",
   "nbconvert_exporter": "python",
   "pygments_lexer": "ipython3",
   "version": "3.9.7"
  }
 },
 "nbformat": 4,
 "nbformat_minor": 5
}
