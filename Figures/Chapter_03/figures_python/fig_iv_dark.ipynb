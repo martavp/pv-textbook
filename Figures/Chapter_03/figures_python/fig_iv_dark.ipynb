{
 "cells": [
  {
   "cell_type": "code",
   "execution_count": 1,
   "id": "d152b387-7275-4950-a0df-442e8a741708",
   "metadata": {},
   "outputs": [],
   "source": [
    "\"\"\"\n",
    "@author: Iñigo\n",
    "\"\"\""
   ]
  },
  {
   "cell_type": "code",
   "execution_count": 1,
   "id": "93630cd5-9898-404b-992e-254c94a18e96",
   "metadata": {},
   "outputs": [],
   "source": [
    "import numpy as np\n",
    "from matplotlib import pyplot as plt\n",
    "from matplotlib.ticker import AutoMinorLocator, LogLocator\n",
    "from cycler import cycler\n",
    "import yaml\n",
    "from mpl_toolkits.axes_grid1.inset_locator import mark_inset"
   ]
  },
  {
   "cell_type": "code",
   "execution_count": 2,
   "id": "ab07af6c-b281-4ca9-a037-0d99984e049e",
   "metadata": {},
   "outputs": [],
   "source": [
    "#%% Plotting parameters\n",
    "\n",
    "DPI_SAVE = 600\n",
    "DPI_PLOT = 150\n",
    "# typical one column figure width\n",
    "FIG_WIDTH = 3.4 #8.636 cm"
   ]
  },
  {
   "cell_type": "code",
   "execution_count": 3,
   "id": "8054a442-5337-4145-83c8-60058f0e5187",
   "metadata": {},
   "outputs": [],
   "source": [
    "# load styles\n",
    "\n",
    "plt.style.use('./pv-textbook_inigo.mplstyle')"
   ]
  },
  {
   "cell_type": "code",
   "execution_count": 4,
   "id": "d102ed40-4a1e-4f99-b410-96f9ffa4d659",
   "metadata": {},
   "outputs": [
    {
     "name": "stdout",
     "output_type": "stream",
     "text": [
      "# Default colors for the book \"Fundamentals of Solar Cells \n",
      "# and Photovoltaic Systems Engineering\"\n",
      "\n",
      "color1 : '#5FA1D8' #ligthblue\n",
      "color2 : '#B31F20' #darkred\n",
      "color3 : '#498F34' #green\n",
      "color4 : '#EBD741' #darkyellow\n",
      "color5 : '#F18B45' #orange\n",
      "color6 : '#002060' #darkblue\n",
      "color7 : '#55B99D' #turqoise\n",
      "color8 : '#BDC554' #yellowgreen\n",
      "color9 : '#4472C4' #blue\n",
      "color10 : '#B9DEF3' #verylightblue\n",
      "color11 : 'black'  #black\n",
      "color12 : '#BDBDBD' #lightgray\n",
      "color13 : '#696969' #gray\n",
      "color14 : '#CD853F' #brown\n",
      "color15 : '#FF7F50' #lightpink\n"
     ]
    }
   ],
   "source": [
    "# load colors\n",
    "\n",
    "with open('./colors.yaml') as f:\n",
    "    content = f.read()\n",
    "    print (content)\n",
    "\n",
    "colors = {}\n",
    "yaml_file = open(\"./colors.yaml\", 'r')\n",
    "yaml_content = yaml.safe_load(yaml_file)\n",
    "for key, value in yaml_content.items():\n",
    "    colors[key] = value\n",
    "\n",
    "colorlist = [colors[key] for key in colors]\n",
    "plt.rcParams['axes.prop_cycle'] = cycler(color=colorlist)"
   ]
  },
  {
   "cell_type": "code",
   "execution_count": 7,
   "id": "a1a9fda3-0609-49cb-90f7-3142d14a2dfe",
   "metadata": {},
   "outputs": [
    {
     "data": {
      "image/png": "[encoded data removed]",
      "text/plain": [
       "<Figure size 357x280.5 with 1 Axes>"
      ]
     },
     "metadata": {},
     "output_type": "display_data"
    }
   ],
   "source": [
    "j0=-1e-4\n",
    "def iv(x):\n",
    "    return j0*(np.exp(x/0.026) - 1)\n",
    "v=np.linspace(-1,1,1000)\n",
    "i = iv(v)\n",
    "il= 1\n",
    "\n",
    "fig = plt.figure(figsize=(0.7*FIG_WIDTH, 0.55*FIG_WIDTH), dpi=DPI_PLOT)\n",
    "\n",
    "x_lim = -0.2,0.3\n",
    "y_lim = -1.6,1.3\n",
    "\n",
    "ax1 = fig.add_subplot(111)\n",
    "ax1.plot(v, -i, c=colors['color1'], lw=1, zorder=3)\n",
    "ax1.set_xlim(x_lim)\n",
    "ax1.set_ylim(y_lim)\n",
    "ax1.axvline(0, lw=0.1, c=colors['color11'])\n",
    "ax1.axhline(0, lw=0.1, c=colors['color11'])\n",
    "ax1.axis('off')\n",
    "\n",
    "axins = ax1.inset_axes([0.55, 0.03, 0.35, 0.45])\n",
    "axins.plot(v, -i, c=colors['color1'], lw=1, zorder=3)\n",
    "axins.set_xticks([])\n",
    "axins.set_yticks([])\n",
    "for axis in ['top','bottom','left','right']:\n",
    "    axins.spines[axis].set_linewidth(0.15)\n",
    "axins.set_xlim(-0.2, 0.05)\n",
    "axins.set_ylim(1.5*j0, -2*j0)\n",
    "axins.axvline(0, lw=0.35, c=colors['color11'])\n",
    "axins.axhline(0, lw=0.35, c=colors['color11'])\n",
    "#axins.axis('off')\n",
    "axins.set_xticklabels([])\n",
    "axins.set_yticklabels([])\n",
    "\n",
    "#ax1.indicate_inset_zoom(axins, edgecolor=\"black\", lw=0.3)\n",
    "mark_inset(ax1, axins, loc1=1, loc2=3, lw=0.15, fc=\"none\", ec='k', zorder=1)\n",
    "\n",
    "plt.tight_layout()\n",
    "\n",
    "#plt.savefig ('./iv_dark.png', dpi=DPI_SAVE)"
   ]
  },
  {
   "cell_type": "code",
   "execution_count": null,
   "id": "bf6d520e-121f-4a53-baff-d3458dd37946",
   "metadata": {},
   "outputs": [],
   "source": []
  }
 ],
 "metadata": {
  "kernelspec": {
   "display_name": "Python 3 (ipykernel)",
   "language": "python",
   "name": "python3"
  },
  "language_info": {
   "codemirror_mode": {
    "name": "ipython",
    "version": 3
   },
   "file_extension": ".py",
   "mimetype": "text/x-python",
   "name": "python",
   "nbconvert_exporter": "python",
   "pygments_lexer": "ipython3",
   "version": "3.7.11"
  }
 },
 "nbformat": 4,
 "nbformat_minor": 5
}
