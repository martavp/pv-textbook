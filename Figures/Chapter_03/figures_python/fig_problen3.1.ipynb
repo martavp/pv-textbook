{
 "cells": [
  {
   "cell_type": "code",
   "execution_count": 18,
   "id": "ffa662f6-a37a-4365-84b5-45f9ed943ec4",
   "metadata": {},
   "outputs": [],
   "source": [
    "\"\"\"\n",
    "@author: Iñigo\n",
    "\"\"\""
   ]
  },
  {
   "cell_type": "code",
   "execution_count": 18,
   "id": "8e256cfd-7f56-48a6-af07-552dda0d6107",
   "metadata": {},
   "outputs": [],
   "source": [
    "import numpy as np\n",
    "from matplotlib import pyplot as plt\n",
    "from matplotlib.ticker import AutoMinorLocator, LogLocator, NullLocator\n",
    "from cycler import cycler\n",
    "import yaml"
   ]
  },
  {
   "cell_type": "code",
   "execution_count": 2,
   "id": "ab07af6c-b281-4ca9-a037-0d99984e049e",
   "metadata": {},
   "outputs": [],
   "source": [
    "#%% Plotting parameters\n",
    "\n",
    "DPI_SAVE = 600\n",
    "DPI_PLOT = 150\n",
    "# typical one column figure width\n",
    "FIG_WIDTH = 3.4 #8.636 cm"
   ]
  },
  {
   "cell_type": "code",
   "execution_count": 3,
   "id": "8054a442-5337-4145-83c8-60058f0e5187",
   "metadata": {},
   "outputs": [],
   "source": [
    "# load styles\n",
    "\n",
    "plt.style.use('./pv-textbook_inigo.mplstyle')"
   ]
  },
  {
   "cell_type": "code",
   "execution_count": 4,
   "id": "d102ed40-4a1e-4f99-b410-96f9ffa4d659",
   "metadata": {},
   "outputs": [
    {
     "name": "stdout",
     "output_type": "stream",
     "text": [
      "# Default colors for the book \"Fundamentals of Solar Cells \n",
      "# and Photovoltaic Systems Engineering\"\n",
      "\n",
      "color1 : '#5FA1D8' #ligthblue\n",
      "color2 : '#B31F20' #darkred\n",
      "color3 : '#498F34' #green\n",
      "color4 : '#EBD741' #darkyellow\n",
      "color5 : '#F18B45' #orange\n",
      "color6 : '#002060' #darkblue\n",
      "color7 : '#55B99D' #turqoise\n",
      "color8 : '#BDC554' #yellowgreen\n",
      "color9 : '#4472C4' #blue\n",
      "color10 : '#B9DEF3' #verylightblue\n",
      "color11 : 'black'  #black\n",
      "color12 : '#BDBDBD' #lightgray\n",
      "color13 : '#696969' #gray\n",
      "color14 : '#CD853F' #brown\n",
      "color15 : '#FF7F50' #lightpink\n"
     ]
    }
   ],
   "source": [
    "# load colors\n",
    "\n",
    "with open('./colors.yaml') as f:\n",
    "    content = f.read()\n",
    "    print (content)\n",
    "\n",
    "colors = {}\n",
    "yaml_file = open(\"./colors.yaml\", 'r')\n",
    "yaml_content = yaml.safe_load(yaml_file)\n",
    "for key, value in yaml_content.items():\n",
    "    colors[key] = value\n",
    "\n",
    "colorlist = [colors[key] for key in colors]\n",
    "plt.rcParams['axes.prop_cycle'] = cycler(color=colorlist)"
   ]
  },
  {
   "cell_type": "code",
   "execution_count": 27,
   "id": "a1a9fda3-0609-49cb-90f7-3142d14a2dfe",
   "metadata": {},
   "outputs": [
    {
     "data": {
      "image/png": "[encoded data removed]",
      "text/plain": [
       "<Figure size 306x255 with 1 Axes>"
      ]
     },
     "metadata": {},
     "output_type": "display_data"
    }
   ],
   "source": [
    "fig = plt.figure(figsize=(0.6*FIG_WIDTH, 0.5*FIG_WIDTH), dpi=DPI_PLOT)\n",
    "ax = fig.add_subplot(111)\n",
    "x=np.arange(0,1,0.01)\n",
    "y=x*np.exp(x)\n",
    "ax.plot(x,y, c=colors['color1'])\n",
    "ax.set_xlabel(r'$x$')\n",
    "ax.set_ylabel('concentration of z')\n",
    "ax.set_xlim([0, None])\n",
    "ax.set_ylim([0, None])\n",
    "ax.xaxis.set_major_locator(NullLocator())\n",
    "ax.yaxis.set_major_locator(NullLocator())\n",
    "\n",
    "plt.tight_layout()\n",
    "\n",
    "#plt.savefig ('./fig_problem_3.1.png', dpi=DPI_SAVE)"
   ]
  },
  {
   "cell_type": "code",
   "execution_count": null,
   "id": "126d7c96-8c00-4d08-8cb2-42cdda1ecc12",
   "metadata": {},
   "outputs": [],
   "source": []
  },
  {
   "cell_type": "code",
   "execution_count": null,
   "id": "046d4049-3305-4858-b12e-f105380658fa",
   "metadata": {},
   "outputs": [],
   "source": []
  }
 ],
 "metadata": {
  "kernelspec": {
   "display_name": "Python 3 (ipykernel)",
   "language": "python",
   "name": "python3"
  },
  "language_info": {
   "codemirror_mode": {
    "name": "ipython",
    "version": 3
   },
   "file_extension": ".py",
   "mimetype": "text/x-python",
   "name": "python",
   "nbconvert_exporter": "python",
   "pygments_lexer": "ipython3",
   "version": "3.7.11"
  }
 },
 "nbformat": 4,
 "nbformat_minor": 5
}
