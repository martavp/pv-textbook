{
 "cells": [
  {
   "cell_type": "code",
   "execution_count": 1,
   "id": "5d0859c2-a7ca-479a-83aa-4304f2aea92c",
   "metadata": {},
   "outputs": [],
   "source": [
    "\"\"\"\n",
    "@author: Iñigo\n",
    "\"\"\""
   ]
  },
  {
   "cell_type": "code",
   "execution_count": 1,
   "id": "a3cc0db3-921d-44fd-a5bc-7bbf8f22bcef",
   "metadata": {},
   "outputs": [],
   "source": [
    "import numpy as np\n",
    "from matplotlib import pyplot as plt\n",
    "from matplotlib.ticker import AutoMinorLocator, LogLocator\n",
    "from cycler import cycler\n",
    "import yaml\n",
    "from mpl_toolkits.axes_grid1.inset_locator import mark_inset"
   ]
  },
  {
   "cell_type": "code",
   "execution_count": 2,
   "id": "ab07af6c-b281-4ca9-a037-0d99984e049e",
   "metadata": {},
   "outputs": [],
   "source": [
    "#%% Plotting parameters\n",
    "\n",
    "DPI_SAVE = 600\n",
    "DPI_PLOT = 150\n",
    "# typical one column figure width\n",
    "FIG_WIDTH = 3.4 #8.636 cm"
   ]
  },
  {
   "cell_type": "code",
   "execution_count": 3,
   "id": "8054a442-5337-4145-83c8-60058f0e5187",
   "metadata": {},
   "outputs": [],
   "source": [
    "# load styles\n",
    "\n",
    "plt.style.use('./pv-textbook_inigo.mplstyle')"
   ]
  },
  {
   "cell_type": "code",
   "execution_count": 4,
   "id": "d102ed40-4a1e-4f99-b410-96f9ffa4d659",
   "metadata": {},
   "outputs": [
    {
     "name": "stdout",
     "output_type": "stream",
     "text": [
      "# Default colors for the book \"Fundamentals of Solar Cells \n",
      "# and Photovoltaic Systems Engineering\"\n",
      "\n",
      "color1 : '#5FA1D8' #ligthblue\n",
      "color2 : '#B31F20' #darkred\n",
      "color3 : '#498F34' #green\n",
      "color4 : '#EBD741' #darkyellow\n",
      "color5 : '#F18B45' #orange\n",
      "color6 : '#002060' #darkblue\n",
      "color7 : '#55B99D' #turqoise\n",
      "color8 : '#BDC554' #yellowgreen\n",
      "color9 : '#4472C4' #blue\n",
      "color10 : '#B9DEF3' #verylightblue\n",
      "color11 : 'black'  #black\n",
      "color12 : '#BDBDBD' #lightgray\n",
      "color13 : '#696969' #gray\n",
      "color14 : '#CD853F' #brown\n",
      "color15 : '#FF7F50' #lightpink\n"
     ]
    }
   ],
   "source": [
    "# load colors\n",
    "\n",
    "with open('./colors.yaml') as f:\n",
    "    content = f.read()\n",
    "    print (content)\n",
    "\n",
    "colors = {}\n",
    "yaml_file = open(\"./colors.yaml\", 'r')\n",
    "yaml_content = yaml.safe_load(yaml_file)\n",
    "for key, value in yaml_content.items():\n",
    "    colors[key] = value\n",
    "\n",
    "colorlist = [colors[key] for key in colors]\n",
    "plt.rcParams['axes.prop_cycle'] = cycler(color=colorlist)"
   ]
  },
  {
   "cell_type": "code",
   "execution_count": 7,
   "id": "510c89aa-73d0-4b6d-ae5d-7f568ab21985",
   "metadata": {},
   "outputs": [
    {
     "data": {
      "image/png": "[encoded data removed]",
      "text/plain": [
       "<Figure size 357x280.5 with 1 Axes>"
      ]
     },
     "metadata": {},
     "output_type": "display_data"
    }
   ],
   "source": [
    "def iv(x):\n",
    "    return -10**-4*(np.exp(x/0.026) - 1)\n",
    "v=np.linspace(-1,1,1000)\n",
    "i = iv(v)\n",
    "il= 1\n",
    "\n",
    "fig = plt.figure(figsize=(0.7*FIG_WIDTH, 0.55*FIG_WIDTH), dpi=DPI_PLOT)\n",
    "\n",
    "x_lim = -0.1,0.3\n",
    "y_lim = -0.8,1.5\n",
    "\n",
    "ax2 = fig.add_subplot(111)\n",
    "ax2.plot(v, i, c=colors['color1'], lw=1, zorder=3)\n",
    "ax2.plot(v, i+il, c=colors['color2'], lw=1, zorder=3)\n",
    "ax2.set_xlim(x_lim)\n",
    "ax2.set_ylim(y_lim)\n",
    "ax2.axvline(0, lw=0.1, c=colors['color11'])\n",
    "ax2.axhline(0, lw=0.1, c=colors['color11'])\n",
    "ax2.axis('off')\n",
    "ax2.fill_between(v, i+il, 0, color=colors['color5'], alpha=0.2, where=(v>=0) & (i+il>=0))\n",
    "\n",
    "\n",
    "plt.tight_layout()\n",
    "\n",
    "#plt.savefig ('./iv_light.png', dpi=DPI_SAVE)"
   ]
  },
  {
   "cell_type": "code",
   "execution_count": null,
   "id": "bf6d520e-121f-4a53-baff-d3458dd37946",
   "metadata": {},
   "outputs": [],
   "source": []
  }
 ],
 "metadata": {
  "kernelspec": {
   "display_name": "Python 3 (ipykernel)",
   "language": "python",
   "name": "python3"
  },
  "language_info": {
   "codemirror_mode": {
    "name": "ipython",
    "version": 3
   },
   "file_extension": ".py",
   "mimetype": "text/x-python",
   "name": "python",
   "nbconvert_exporter": "python",
   "pygments_lexer": "ipython3",
   "version": "3.7.11"
  }
 },
 "nbformat": 4,
 "nbformat_minor": 5
}
