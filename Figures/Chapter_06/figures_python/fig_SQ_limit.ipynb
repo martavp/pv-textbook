{
 "cells": [
  {
   "cell_type": "raw",
   "id": "6be6049b-47ae-441d-9906-e8e8a26ca3c3",
   "metadata": {},
   "source": [
    "\"\"\"\n",
    "@author: Iñigo\n",
    "\"\"\""
   ]
  },
  {
   "cell_type": "code",
   "execution_count": 1,
   "id": "3e5ae811-2f3d-47f5-9bc0-01a0440ab377",
   "metadata": {},
   "outputs": [],
   "source": [
    "import numpy as np\n",
    "import pandas as pd\n",
    "from matplotlib import gridspec\n",
    "from matplotlib import pyplot as plt\n",
    "from matplotlib.ticker import AutoMinorLocator, LogLocator\n",
    "from cycler import cycler\n",
    "import yaml"
   ]
  },
  {
   "cell_type": "code",
   "execution_count": 2,
   "id": "ab07af6c-b281-4ca9-a037-0d99984e049e",
   "metadata": {},
   "outputs": [],
   "source": [
    "#%% Plotting parameters\n",
    "\n",
    "DPI_SAVE = 600\n",
    "DPI_PLOT = 150\n",
    "cm = 1/2.54 #to size the figure in cm"
   ]
  },
  {
   "cell_type": "code",
   "execution_count": 3,
   "id": "8054a442-5337-4145-83c8-60058f0e5187",
   "metadata": {},
   "outputs": [],
   "source": [
    "# load styles\n",
    "\n",
    "plt.style.use('./pv-textbook_inigo.mplstyle')"
   ]
  },
  {
   "cell_type": "code",
   "execution_count": 4,
   "id": "d102ed40-4a1e-4f99-b410-96f9ffa4d659",
   "metadata": {},
   "outputs": [
    {
     "name": "stdout",
     "output_type": "stream",
     "text": [
      "# Default colors for the book \"Fundamentals of Solar Cells \n",
      "# and Photovoltaic Systems Engineering\"\n",
      "\n",
      "color1 : '#5FA1D8' #ligthblue\n",
      "color2 : '#B31F20' #darkred\n",
      "color3 : '#498F34' #green\n",
      "color4 : '#EBD741' #darkyellow\n",
      "color5 : '#F18B45' #orange\n",
      "color6 : '#002060' #darkblue\n",
      "color7 : '#55B99D' #turqoise\n",
      "color8 : '#BDC554' #yellowgreen\n",
      "color9 : '#4472C4' #blue\n",
      "color10 : '#B9DEF3' #verylightblue\n",
      "color11 : 'black'  #black\n",
      "color12 : '#BDBDBD' #lightgray\n",
      "color13 : '#696969' #gray\n",
      "color14 : '#CD853F' #brown\n",
      "color15 : '#FF7F50' #lightpink\n"
     ]
    }
   ],
   "source": [
    "# load colors\n",
    "\n",
    "with open('./colors.yaml') as f:\n",
    "    content = f.read()\n",
    "    print (content)\n",
    "\n",
    "colors = {}\n",
    "yaml_file = open(\"./colors.yaml\", 'r')\n",
    "yaml_content = yaml.safe_load(yaml_file)\n",
    "for key, value in yaml_content.items():\n",
    "    colors[key] = value\n",
    "\n",
    "colorlist = [colors[key] for key in colors]\n",
    "plt.rcParams['axes.prop_cycle'] = cycler(color=colorlist)"
   ]
  },
  {
   "cell_type": "markdown",
   "id": "5babef11-3203-414c-ba12-2bd62e78c734",
   "metadata": {},
   "source": [
    "#### Import efficiency data"
   ]
  },
  {
   "cell_type": "code",
   "execution_count": 5,
   "id": "e2cdd803-5b86-43d5-8b47-904816f995db",
   "metadata": {},
   "outputs": [
    {
     "data": {
      "text/html": [
       "<div>\n",
       "<style scoped>\n",
       "    .dataframe tbody tr th:only-of-type {\n",
       "        vertical-align: middle;\n",
       "    }\n",
       "\n",
       "    .dataframe tbody tr th {\n",
       "        vertical-align: top;\n",
       "    }\n",
       "\n",
       "    .dataframe thead th {\n",
       "        text-align: right;\n",
       "    }\n",
       "</style>\n",
       "<table border=\"1\" class=\"dataframe\">\n",
       "  <thead>\n",
       "    <tr style=\"text-align: right;\">\n",
       "      <th></th>\n",
       "      <th>eff (%)</th>\n",
       "      <th>gap (eV)</th>\n",
       "      <th>marker</th>\n",
       "    </tr>\n",
       "    <tr>\n",
       "      <th>technology</th>\n",
       "      <th></th>\n",
       "      <th></th>\n",
       "      <th></th>\n",
       "    </tr>\n",
       "  </thead>\n",
       "  <tbody>\n",
       "    <tr>\n",
       "      <th>a-Si</th>\n",
       "      <td>10.2</td>\n",
       "      <td>1.75</td>\n",
       "      <td>^</td>\n",
       "    </tr>\n",
       "    <tr>\n",
       "      <th>c-Si</th>\n",
       "      <td>26.8</td>\n",
       "      <td>1.12</td>\n",
       "      <td>&gt;</td>\n",
       "    </tr>\n",
       "    <tr>\n",
       "      <th>CdTe</th>\n",
       "      <td>22.3</td>\n",
       "      <td>1.50</td>\n",
       "      <td>v</td>\n",
       "    </tr>\n",
       "    <tr>\n",
       "      <th>CIGS</th>\n",
       "      <td>23.6</td>\n",
       "      <td>1.15</td>\n",
       "      <td>X</td>\n",
       "    </tr>\n",
       "    <tr>\n",
       "      <th>dye-sensitized</th>\n",
       "      <td>13.0</td>\n",
       "      <td>1.74</td>\n",
       "      <td>P</td>\n",
       "    </tr>\n",
       "    <tr>\n",
       "      <th>GaAs</th>\n",
       "      <td>29.1</td>\n",
       "      <td>1.42</td>\n",
       "      <td>o</td>\n",
       "    </tr>\n",
       "    <tr>\n",
       "      <th>organic</th>\n",
       "      <td>19.2</td>\n",
       "      <td>1.41</td>\n",
       "      <td>&lt;</td>\n",
       "    </tr>\n",
       "    <tr>\n",
       "      <th>perovskite</th>\n",
       "      <td>26.0</td>\n",
       "      <td>1.52</td>\n",
       "      <td>d</td>\n",
       "    </tr>\n",
       "    <tr>\n",
       "      <th>quantum-dot</th>\n",
       "      <td>16.6</td>\n",
       "      <td>1.65</td>\n",
       "      <td>s</td>\n",
       "    </tr>\n",
       "  </tbody>\n",
       "</table>\n",
       "</div>"
      ],
      "text/plain": [
       "                eff (%)  gap (eV) marker\n",
       "technology                              \n",
       "a-Si               10.2      1.75      ^\n",
       "c-Si               26.8      1.12      >\n",
       "CdTe               22.3      1.50      v\n",
       "CIGS               23.6      1.15      X\n",
       "dye-sensitized     13.0      1.74      P\n",
       "GaAs               29.1      1.42      o\n",
       "organic            19.2      1.41      <\n",
       "perovskite         26.0      1.52      d\n",
       "quantum-dot        16.6      1.65      s"
      ]
     },
     "execution_count": 5,
     "metadata": {},
     "output_type": "execute_result"
    }
   ],
   "source": [
    "sgsc_eff=pd.read_csv('data/eff_sgsc_1sun_AM15G.csv', delimiter=',', header=None)\n",
    "eff_gaps=pd.read_excel('data/effs and gaps.xlsx', header=0, index_col=0)\n",
    "eff_gaps"
   ]
  },
  {
   "cell_type": "code",
   "execution_count": 6,
   "id": "22e6e6f3-e669-4f31-85f5-dd06949badd1",
   "metadata": {},
   "outputs": [
    {
     "data": {
      "text/plain": [
       "technology\n",
       "a-Si              ^\n",
       "c-Si              >\n",
       "CdTe              v\n",
       "CIGS              X\n",
       "dye-sensitized    P\n",
       "GaAs              o\n",
       "organic           <\n",
       "perovskite        d\n",
       "quantum-dot       s\n",
       "Name: marker, dtype: object"
      ]
     },
     "execution_count": 6,
     "metadata": {},
     "output_type": "execute_result"
    }
   ],
   "source": [
    "markers=eff_gaps.loc[:, 'marker']\n",
    "markers"
   ]
  },
  {
   "cell_type": "markdown",
   "id": "be8169d2-09a5-470e-ba78-86e2af3c1e7a",
   "metadata": {},
   "source": [
    "#### Plot"
   ]
  },
  {
   "cell_type": "code",
   "execution_count": 48,
   "id": "8ba6e292-3dce-413f-92b9-f94150e7feb2",
   "metadata": {},
   "outputs": [
    {
     "data": {
      "image/png": "[encoded data removed]",
      "text/plain": [
       "<Figure size 454.724x307.087 with 2 Axes>"
      ]
     },
     "metadata": {
      "needs_background": "light"
     },
     "output_type": "display_data"
    }
   ],
   "source": [
    "fig = plt.figure(figsize=(7.7*cm, 5.2*cm), dpi=DPI_PLOT)\n",
    "gs = gridspec.GridSpec(1, 2, width_ratios=[1, 0.0])\n",
    "\n",
    "ax0 = fig.add_subplot(gs[0])\n",
    "\n",
    "ax0.plot(sgsc_eff[0], sgsc_eff[1]*100, 'k')\n",
    "ax0.plot(sgsc_eff[0], sgsc_eff[1]*75, 'k--', lw=0.4)\n",
    "ax0.plot(sgsc_eff[0], sgsc_eff[1]*50, 'k--', lw=0.4)\n",
    "\n",
    "\n",
    "for tech, m in zip(eff_gaps.index, markers):\n",
    "    x, y = eff_gaps.loc[tech, 'gap (eV)'], eff_gaps.loc[tech, 'eff (%)']\n",
    "    ax0.scatter(x,y, s=9, zorder=9, marker=m, label=tech)\n",
    "    #ax.annotate(tech, [x,y], [1.1*x,1.1*y], xycoords='data', s=8) \n",
    "#text, xy, xytext=None, xycoords='data', textcoords=None\n",
    "        \n",
    "ax0.set_xlabel(\"Bandgap (eV)\")\n",
    "ax0.set_xlim([0.5, 2.5])\n",
    "ax0.xaxis.set_minor_locator(AutoMinorLocator(5))\n",
    "ax0.xaxis.set_tick_params(direction='out', which='both')\n",
    "\n",
    "ax0.set_ylabel(\"Efficiency (%)\")\n",
    "ax0.set_ylim([0, 35])\n",
    "ax0.set_yticks(np.arange(0,36,5))\n",
    "ax0.yaxis.set_minor_locator(AutoMinorLocator(5))\n",
    "ax0.yaxis.set_tick_params(direction='out', which='both')\n",
    "\n",
    "ax0.legend(loc=[0.99,0.01],labelspacing = 1.1, handletextpad=0.02, fontsize=6)\n",
    "\n",
    "props = dict(boxstyle='round', facecolor='white', edgecolor='None')\n",
    "ax0.text(1.68, 30, 'SQ', size=5)\n",
    "ax0.text(1.95,15, '75% SQ', size=5, bbox=props)\n",
    "ax0.text(2.1, 8, '50% SQ', size=5, bbox=props)\n",
    "\n",
    "ax1 = fig.add_subplot(gs[1])\n",
    "ax1.axis('off')\n",
    "\n",
    "plt.tight_layout(pad=0.01)\n",
    "\n",
    "#plt.savefig ('./SQ_limit.png', dpi=DPI_SAVE)"
   ]
  }
 ],
 "metadata": {
  "kernelspec": {
   "display_name": "Python 3 (ipykernel)",
   "language": "python",
   "name": "python3"
  },
  "language_info": {
   "codemirror_mode": {
    "name": "ipython",
    "version": 3
   },
   "file_extension": ".py",
   "mimetype": "text/x-python",
   "name": "python",
   "nbconvert_exporter": "python",
   "pygments_lexer": "ipython3",
   "version": "3.9.7"
  }
 },
 "nbformat": 4,
 "nbformat_minor": 5
}
