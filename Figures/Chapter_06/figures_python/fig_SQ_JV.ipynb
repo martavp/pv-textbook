{
 "cells": [
  {
   "cell_type": "raw",
   "id": "44586d05-8125-408d-930b-8eacd58f4ee7",
   "metadata": {},
   "source": [
    "\"\"\"\n",
    "@author: Iñigo\n",
    "\"\"\""
   ]
  },
  {
   "cell_type": "code",
   "execution_count": 1,
   "id": "ebdf02fa-6933-46de-b820-30ec46f7e600",
   "metadata": {},
   "outputs": [],
   "source": [
    "import numpy as np\n",
    "import pandas as pd\n",
    "#from scipy import interpolate\n",
    "#from scipy.constants import elementary_charge as E_CHARGE\n",
    "#from scipy.constants import Boltzmann as BOLTZMANN\n",
    "#from scipy.constants import c as LIGHT_SPEED\n",
    "#from scipy.integrate import trapz, quad\n",
    "#from scipy.interpolate import interp1d\n",
    "#import matplotlib as mpl\n",
    "from matplotlib import pyplot as plt\n",
    "#from matplotlib.ticker import AutoMinorLocator, MaxNLocator, FormatStrFormatter, MultipleLocator\n",
    "from matplotlib.ticker import AutoMinorLocator, LogLocator\n",
    "from cycler import cycler\n",
    "import yaml"
   ]
  },
  {
   "cell_type": "code",
   "execution_count": 2,
   "id": "ab07af6c-b281-4ca9-a037-0d99984e049e",
   "metadata": {},
   "outputs": [],
   "source": [
    "#%% Plotting parameters\n",
    "\n",
    "DPI_SAVE = 600\n",
    "DPI_PLOT = 150\n",
    "cm = 1/2.54 #to size the figure in cm"
   ]
  },
  {
   "cell_type": "code",
   "execution_count": 3,
   "id": "8054a442-5337-4145-83c8-60058f0e5187",
   "metadata": {},
   "outputs": [],
   "source": [
    "# load styles\n",
    "\n",
    "plt.style.use('./pv-textbook_inigo.mplstyle')"
   ]
  },
  {
   "cell_type": "code",
   "execution_count": 4,
   "id": "d102ed40-4a1e-4f99-b410-96f9ffa4d659",
   "metadata": {},
   "outputs": [
    {
     "name": "stdout",
     "output_type": "stream",
     "text": [
      "# Default colors for the book \"Fundamentals of Solar Cells \n",
      "# and Photovoltaic Systems Engineering\"\n",
      "\n",
      "color1 : '#5FA1D8' #ligthblue\n",
      "color2 : '#B31F20' #darkred\n",
      "color3 : '#498F34' #green\n",
      "color4 : '#EBD741' #darkyellow\n",
      "color5 : '#F18B45' #orange\n",
      "color6 : '#002060' #darkblue\n",
      "color7 : '#55B99D' #turqoise\n",
      "color8 : '#BDC554' #yellowgreen\n",
      "color9 : '#4472C4' #blue\n",
      "color10 : '#B9DEF3' #verylightblue\n",
      "color11 : 'black'  #black\n",
      "color12 : '#BDBDBD' #lightgray\n",
      "color13 : '#696969' #gray\n",
      "color14 : '#CD853F' #brown\n",
      "color15 : '#FF7F50' #lightpink\n"
     ]
    }
   ],
   "source": [
    "# load colors\n",
    "\n",
    "with open('./colors.yaml') as f:\n",
    "    content = f.read()\n",
    "    print (content)\n",
    "\n",
    "colors = {}\n",
    "yaml_file = open(\"./colors.yaml\", 'r')\n",
    "yaml_content = yaml.safe_load(yaml_file)\n",
    "for key, value in yaml_content.items():\n",
    "    colors[key] = value\n",
    "\n",
    "colorlist = [colors[key] for key in colors]\n",
    "plt.rcParams['axes.prop_cycle'] = cycler(color=colorlist)"
   ]
  },
  {
   "cell_type": "markdown",
   "id": "5babef11-3203-414c-ba12-2bd62e78c734",
   "metadata": {},
   "source": [
    "#### Import efficiency data"
   ]
  },
  {
   "cell_type": "code",
   "execution_count": 5,
   "id": "6adea30a-c871-43e3-8a00-7cf47e7eb894",
   "metadata": {},
   "outputs": [],
   "source": [
    "jvs={}\n",
    "p={}\n",
    "i_max={}\n",
    "v_max={}\n",
    "for gap in ['0.8', '1.3', '1.8']:\n",
    "    path='./data/jv_sgsc_AM15G_'+gap+'eV.txt'\n",
    "    jvs[gap]=pd.read_csv(path, delimiter=',', header=None, dtype='float').set_index(0)\n",
    "    p[gap]=pd.DataFrame(index=jvs[gap].index, data=(np.array(jvs[gap].index).T*np.array(jvs[gap].values).T).T)\n",
    "    v_max[gap]=p[gap].idxmax()[0]\n",
    "    i_max[gap]=jvs[gap].loc[v_max[gap]][1]"
   ]
  },
  {
   "cell_type": "markdown",
   "id": "be8169d2-09a5-470e-ba78-86e2af3c1e7a",
   "metadata": {},
   "source": [
    "#### Plot"
   ]
  },
  {
   "cell_type": "code",
   "execution_count": 20,
   "id": "8ba6e292-3dce-413f-92b9-f94150e7feb2",
   "metadata": {},
   "outputs": [
    {
     "data": {
      "image/png": "[encoded data removed]",
      "text/plain": [
       "<Figure size 401.575x307.087 with 1 Axes>"
      ]
     },
     "metadata": {
      "needs_background": "light"
     },
     "output_type": "display_data"
    }
   ],
   "source": [
    "fig = plt.figure(figsize=(6.8*cm, 5.2*cm), dpi=DPI_PLOT)\n",
    "ax = fig.add_subplot(111)\n",
    "\n",
    "for [gap,style] in zip(jvs,['-', '-.', '--']):\n",
    "    ax.plot(jvs[gap], ls=style)\n",
    "    ax.fill_between([0,v_max[gap]], i_max[gap], alpha=0.4)\n",
    "    \n",
    "for [i, gap] in enumerate (jvs):\n",
    "    text=r'$E_{\\mathrm{G}}=$'+gap+' eV'\n",
    "    xy=[v_max[gap], i_max[gap]]\n",
    "    xy_text=[v_max[gap]-0.01, i_max[gap]+1.5]\n",
    "    ax.annotate(text, xy, xy_text, size=7)\n",
    "\n",
    "#for [gap,style] in zip(jvs,['-', '-.', '--']):\n",
    "#    ax.plot(p[gap], ls=style)\n",
    "\n",
    "ax.set_xlabel(\"Voltage (V)\")\n",
    "ax.set_xlim([0., 1.9])\n",
    "ax.xaxis.set_minor_locator(AutoMinorLocator(5))\n",
    "ax.xaxis.set_tick_params(direction='out', which='both')\n",
    "\n",
    "ax.set_ylabel(r\"Photocurrent (mA/cm$^2$)\")\n",
    "ax.set_ylim([0, 60])\n",
    "ax.yaxis.set_minor_locator(AutoMinorLocator(5))\n",
    "ax.yaxis.set_tick_params(direction='out', which='both')\n",
    "\n",
    "plt.tight_layout(pad=0.01)\n",
    "\n",
    "#plt.savefig ('./SQ_eff_jv.png', dpi=DPI_SAVE)"
   ]
  },
  {
   "cell_type": "code",
   "execution_count": null,
   "id": "f28a1b43-f199-428b-a882-881d6912ad0f",
   "metadata": {},
   "outputs": [],
   "source": []
  }
 ],
 "metadata": {
  "kernelspec": {
   "display_name": "Python 3 (ipykernel)",
   "language": "python",
   "name": "python3"
  },
  "language_info": {
   "codemirror_mode": {
    "name": "ipython",
    "version": 3
   },
   "file_extension": ".py",
   "mimetype": "text/x-python",
   "name": "python",
   "nbconvert_exporter": "python",
   "pygments_lexer": "ipython3",
   "version": "3.9.7"
  }
 },
 "nbformat": 4,
 "nbformat_minor": 5
}
