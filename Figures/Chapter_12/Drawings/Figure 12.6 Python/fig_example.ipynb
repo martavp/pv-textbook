{
 "cells": [
  {
   "cell_type": "code",
   "execution_count": 2,
   "id": "2295e320-3e9e-4586-9814-d30f36348f6c",
   "metadata": {},
   "outputs": [],
   "source": [
    "import numpy as np\n",
    "import pandas as pd\n",
    "#from scipy import interpolate\n",
    "#from scipy.constants import elementary_charge as E_CHARGE\n",
    "#from scipy.constants import Boltzmann as BOLTZMANN\n",
    "#from scipy.constants import c as LIGHT_SPEED\n",
    "#from scipy.integrate import trapz, quad\n",
    "#from scipy.interpolate import interp1d\n",
    "from matplotlib import pyplot as plt\n",
    "#from matplotlib.ticker import AutoMinorLocator, MaxNLocator, FormatStrFormatter, MultipleLocator\n",
    "from matplotlib.ticker import AutoMinorLocator, LogLocator\n",
    "from cycler import cycler\n",
    "import yaml"
   ]
  },
  {
   "cell_type": "code",
   "execution_count": 4,
   "id": "ab07af6c-b281-4ca9-a037-0d99984e049e",
   "metadata": {},
   "outputs": [],
   "source": [
    "#%% Plotting parameters\n",
    "\n",
    "DPI_SAVE = 600\n",
    "DPI_PLOT = 150\n",
    "# typical one column figure width\n",
    "FIG_WIDTH = 3.4 #8.636 cm"
   ]
  },
  {
   "cell_type": "code",
   "execution_count": 3,
   "id": "8054a442-5337-4145-83c8-60058f0e5187",
   "metadata": {},
   "outputs": [],
   "source": [
    "# load styles\n",
    "\n",
    "plt.style.use('./pv-textbook_inigo.mplstyle')"
   ]
  },
  {
   "cell_type": "code",
   "execution_count": 4,
   "id": "d102ed40-4a1e-4f99-b410-96f9ffa4d659",
   "metadata": {},
   "outputs": [
    {
     "name": "stdout",
     "output_type": "stream",
     "text": [
      "# Default colors for the book \"Fundamentals of Solar Cells \n",
      "# and Photovoltaic Systems Engineering\"\n",
      "\n",
      "color1 : '#5FA1D8' #ligthblue\n",
      "color2 : '#B31F20' #darkred\n",
      "color3 : '#498F34' #green\n",
      "color4 : '#EBD741' #darkyellow\n",
      "color5 : '#F18B45' #orange\n",
      "color6 : '#002060' #darkblue\n",
      "color7 : '#55B99D' #turqoise\n",
      "color8 : '#BDC554' #yellowgreen\n",
      "color9 : '#4472C4' #blue\n",
      "color10 : '#B9DEF3' #verylightblue\n",
      "color11 : 'black'  #black\n",
      "color12 : '#BDBDBD' #lightgray\n",
      "color13 : '#696969' #gray\n",
      "color14 : '#CD853F' #brown\n",
      "color15 : '#FF7F50' #lightpink\n"
     ]
    }
   ],
   "source": [
    "# load colors\n",
    "\n",
    "with open('./colors.yaml') as f:\n",
    "    content = f.read()\n",
    "    print (content)\n",
    "\n",
    "colors = {}\n",
    "yaml_file = open(\"./colors.yaml\", 'r')\n",
    "yaml_content = yaml.safe_load(yaml_file)\n",
    "for key, value in yaml_content.items():\n",
    "    colors[key] = value\n",
    "\n",
    "colorlist = [colors[key] for key in colors]\n",
    "plt.rcParams['axes.prop_cycle'] = cycler(color=colorlist)"
   ]
  },
  {
   "cell_type": "code",
   "execution_count": 5,
   "id": "a1a9fda3-0609-49cb-90f7-3142d14a2dfe",
   "metadata": {},
   "outputs": [
    {
     "data": {
      "image/png": "[encoded data removed]",
      "text/plain": [
       "<Figure size 510x405 with 1 Axes>"
      ]
     },
     "metadata": {
      "needs_background": "light"
     },
     "output_type": "display_data"
    }
   ],
   "source": [
    "fig = plt.figure(figsize=(FIG_WIDTH, 2.7), dpi=DPI_PLOT)\n",
    "ax = fig.add_subplot(111)\n",
    "\n",
    "\n",
    "\n",
    "plt.tight_layout()\n",
    "\n",
    "#plt.savefig ('./.png', dpi=DPI_SAVE)"
   ]
  }
 ],
 "metadata": {
  "kernelspec": {
   "display_name": "Python 3 (ipykernel)",
   "language": "python",
   "name": "python3"
  },
  "language_info": {
   "codemirror_mode": {
    "name": "ipython",
    "version": 3
   },
   "file_extension": ".py",
   "mimetype": "text/x-python",
   "name": "python",
   "nbconvert_exporter": "python",
   "pygments_lexer": "ipython3",
   "version": "3.7.11"
  }
 },
 "nbformat": 4,
 "nbformat_minor": 5
}
