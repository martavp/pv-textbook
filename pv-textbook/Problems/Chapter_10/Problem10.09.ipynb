{
 "cells": [
  {
   "cell_type": "markdown",
   "metadata": {},
   "source": [
    "# Problem 10.9"
   ]
  },
  {
   "cell_type": "markdown",
   "metadata": {},
   "source": [
    "**Fundamentals of Solar Cells and Photovoltaic Systems Engineering**\n",
    "\n",
    "**Solutions Manual - Chapter 10**\n",
    "\n",
    "**Problem 10.9**"
   ]
  },
  {
   "cell_type": "markdown",
   "metadata": {},
   "source": [
    "**In this problem, we will use pvlib to evaluate the impact of selecting different GCR when using horizontal single-axis tracking (HSAT) structures. To that end, we will include the backtracking strategy on the tracker and evaluate the reduction of annual irradiation reaching the surface of the PV modules due to backtracking. Assume the same location as in Problem 10. 1 latitude and longitude 40.371944⁰N, -3.7825⁰W) and plot annual irradiation reaching the surface of the PV modules against GCR.**"
   ]
  },
  {
   "cell_type": "markdown",
   "metadata": {},
   "source": [
    "We will use the packages [pvlib](https://pvlib-python.readthedocs.io/en/stable/), [pandas](https://pandas.pydata.org/) and [matplotlib.pyplot](https://matplotlib.org/stable/index.html) to plot the results. We will also use the package [pytz](https://pypi.org/project/pytz/) to determine the time zone of the location (Madrid)."
   ]
  },
  {
   "cell_type": "code",
   "execution_count": 5,
   "metadata": {},
   "outputs": [],
   "source": [
    "import pvlib\n",
    "import pandas as pd\n",
    "import matplotlib.pyplot as plt\n",
    "import pytz\n",
    "import numpy as np"
   ]
  },
  {
   "cell_type": "markdown",
   "metadata": {},
   "source": [
    "We start by defining the location, date, and time. "
   ]
  },
  {
   "cell_type": "code",
   "execution_count": 6,
   "metadata": {},
   "outputs": [],
   "source": [
    "# Cuatro Vientos, Madrid, Spain\n",
    "lat, lon =  40.371944, -3.7825\n",
    "#altitude = 22\n",
    "\n",
    "tz = pytz.timezone('Europe/Madrid')\n",
    "# location\n",
    "location = pvlib.location.Location(lat, lon, tz=tz)"
   ]
  },
  {
   "cell_type": "markdown",
   "metadata": {},
   "source": [
    "We retrieve typical meteorological year (TMY) data from PVGIS."
   ]
  },
  {
   "cell_type": "code",
   "execution_count": 7,
   "metadata": {},
   "outputs": [],
   "source": [
    "tmy, _, _, _ = pvlib.iotools.get_pvgis_tmy(latitude=lat, longitude=lon, map_variables=True)\n",
    "\n",
    "tmy.index = tmy.index.tz_convert(tz) # use local time"
   ]
  },
  {
   "cell_type": "markdown",
   "metadata": {},
   "source": [
    "We calculate the Sun's coordinates "
   ]
  },
  {
   "cell_type": "code",
   "execution_count": 8,
   "metadata": {},
   "outputs": [],
   "source": [
    "# calculate Sun's coordinates\n",
    "solar_position = location.get_solarposition(times=tmy.index)"
   ]
  },
  {
   "cell_type": "markdown",
   "metadata": {},
   "source": [
    "We need to calculate the orientation and tilt of the PV modules in the horizontal single-axis tracker. \n",
    "\n",
    "We activate the option backtrack and use different GCR.\n",
    "\n",
    "Then, we calculate the annual radiation (or reference yield) on the PV modules."
   ]
  },
  {
   "cell_type": "code",
   "execution_count": 28,
   "metadata": {},
   "outputs": [],
   "source": [
    "GCRs = np.arange(0.1, 0.8, 0.1)\n",
    "Y_R = pd.Series(index=GCRs, dtype=float)\n",
    "\n",
    "for GCR in GCRs:\n",
    "    tracker_data = pvlib.tracking.singleaxis(\n",
    "                    solar_position['apparent_zenith'],\n",
    "                    solar_position['azimuth'],\n",
    "                    axis_azimuth=180,  # axis is aligned N-S\n",
    "                    max_angle=90, \n",
    "                    backtrack=True, \n",
    "                    gcr=GCR)\n",
    "                \n",
    "                \n",
    "    tilt = tracker_data['surface_tilt'].fillna(0)\n",
    "    orientation = tracker_data['surface_azimuth'].fillna(0)\n",
    "\n",
    "    # plot a day to illustrate:\n",
    "    #tracker_data['tracker_theta'].fillna(0).head(24).plot()\n",
    "    #plt.ylabel('Tracker Rotation [degrees]');\n",
    "    \n",
    "    # calculate irradiante at the plane of the array (poa)\n",
    "    poa_irradiance = pvlib.irradiance.get_total_irradiance(surface_tilt=tilt,\n",
    "                                                        surface_azimuth=orientation,\n",
    "                                                        dni=tmy['dni'],\n",
    "                                                        ghi=tmy['ghi'],\n",
    "                                                        dhi=tmy['dhi'],\n",
    "                                                        solar_zenith=solar_position['apparent_zenith'],\n",
    "                                                        solar_azimuth=solar_position['azimuth'])  \n",
    "\n",
    "    Y_R[GCR] = poa_irradiance['poa_global'].sum()/1000 #Wh->kWh\n",
    " "
   ]
  },
  {
   "cell_type": "markdown",
   "metadata": {},
   "source": [
    "We can make a plot with the annual irradiation (reference yield) as a function of the GCR."
   ]
  },
  {
   "cell_type": "code",
   "execution_count": 30,
   "metadata": {},
   "outputs": [
    {
     "data": {
      "image/png": "[encoded data removed]",
      "text/plain": [
       "<Figure size 432x288 with 1 Axes>"
      ]
     },
     "metadata": {
      "needs_background": "light"
     },
     "output_type": "display_data"
    }
   ],
   "source": [
    "Y_R.plot(color='dodgerblue')\n",
    "plt.ylabel('Reference Yield (kWh/m$^2$)')\n",
    "plt.xlabel('GCR')\n",
    "plt.grid()"
   ]
  },
  {
   "cell_type": "markdown",
   "metadata": {},
   "source": [
    "As we can see in the figure, there is a trade-off between the reference yield and the GCR. Similarly to what we learnt in Problem 10.4, high land costs will favor selecting high GCR. In short, we can accept a lower yield (and compensate by installing more PV modules) because we save in the required land area."
   ]
  },
  {
   "cell_type": "code",
   "execution_count": null,
   "metadata": {},
   "outputs": [],
   "source": []
  }
 ],
 "metadata": {
  "kernelspec": {
   "display_name": "Python 3 (ipykernel)",
   "language": "python",
   "name": "python3"
  },
  "language_info": {
   "codemirror_mode": {
    "name": "ipython",
    "version": 3
   },
   "file_extension": ".py",
   "mimetype": "text/x-python",
   "name": "python",
   "nbconvert_exporter": "python",
   "pygments_lexer": "ipython3",
   "version": "3.7.12"
  }
 },
 "nbformat": 4,
 "nbformat_minor": 4
}
