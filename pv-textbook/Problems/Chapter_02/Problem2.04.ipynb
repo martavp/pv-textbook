{
 "cells": [
  {
   "cell_type": "markdown",
   "metadata": {},
   "source": [
    "# Problem 2.4"
   ]
  },
  {
   "cell_type": "markdown",
   "metadata": {},
   "source": [
    "**Fundamentals of Solar Cells and Photovoltaic Systems Engineering**\n",
    "\n",
    "**Solutions Manual - Chapter 2**\n",
    "\n",
    "**Problem 2.4**\n"
   ]
  },
  {
   "cell_type": "markdown",
   "metadata": {},
   "source": [
    "**Estimate the UV content (280-400nm) and the total irradiance in the extraterrestrial reference spectrum AM0, the global reference spectrum AM1.5G, and the direct reference spectrum AM1.5D**"
   ]
  },
  {
   "cell_type": "markdown",
   "metadata": {},
   "source": [
    "We will use the package [pandas](https://pandas.pydata.org/) to handle the data and [matplotlib.pyplot](https://matplotlib.org/stable/index.html) to plot the results"
   ]
  },
  {
   "cell_type": "code",
   "execution_count": 1,
   "metadata": {
    "ExecuteTime": {
     "end_time": "2023-06-07T20:24:02.938773500Z",
     "start_time": "2023-06-07T20:24:01.854998200Z"
    }
   },
   "outputs": [],
   "source": [
    "import pandas as pd\n",
    "import numpy as np\n",
    "import matplotlib.pyplot as plt"
   ]
  },
  {
   "cell_type": "markdown",
   "metadata": {},
   "source": [
    "We start by importing the data."
   ]
  },
  {
   "cell_type": "code",
   "execution_count": 2,
   "metadata": {
    "ExecuteTime": {
     "end_time": "2023-06-07T20:24:02.997407100Z",
     "start_time": "2023-06-07T20:24:02.950100800Z"
    }
   },
   "outputs": [
    {
     "data": {
      "text/html": [
       "<div>\n",
       "<style scoped>\n",
       "    .dataframe tbody tr th:only-of-type {\n",
       "        vertical-align: middle;\n",
       "    }\n",
       "\n",
       "    .dataframe tbody tr th {\n",
       "        vertical-align: top;\n",
       "    }\n",
       "\n",
       "    .dataframe thead th {\n",
       "        text-align: right;\n",
       "    }\n",
       "</style>\n",
       "<table border=\"1\" class=\"dataframe\">\n",
       "  <thead>\n",
       "    <tr style=\"text-align: right;\">\n",
       "      <th></th>\n",
       "      <th>AM0</th>\n",
       "      <th>AM1.5G</th>\n",
       "      <th>AM1.5D</th>\n",
       "    </tr>\n",
       "  </thead>\n",
       "  <tbody>\n",
       "    <tr>\n",
       "      <th>Wvlgth nm</th>\n",
       "      <td>Etr W*m-2*nm-1</td>\n",
       "      <td>Global tilt  W*m-2*nm-1</td>\n",
       "      <td>Direct+circumsolar W*m-2*nm-1</td>\n",
       "    </tr>\n",
       "    <tr>\n",
       "      <th>280</th>\n",
       "      <td>8.20E-02</td>\n",
       "      <td>4.73E-23</td>\n",
       "      <td>2.54E-26</td>\n",
       "    </tr>\n",
       "    <tr>\n",
       "      <th>280.5</th>\n",
       "      <td>9.90E-02</td>\n",
       "      <td>1.23E-21</td>\n",
       "      <td>1.09E-24</td>\n",
       "    </tr>\n",
       "    <tr>\n",
       "      <th>281</th>\n",
       "      <td>1.50E-01</td>\n",
       "      <td>5.69E-21</td>\n",
       "      <td>6.13E-24</td>\n",
       "    </tr>\n",
       "    <tr>\n",
       "      <th>281.5</th>\n",
       "      <td>2.12E-01</td>\n",
       "      <td>1.57E-19</td>\n",
       "      <td>2.75E-22</td>\n",
       "    </tr>\n",
       "    <tr>\n",
       "      <th>...</th>\n",
       "      <td>...</td>\n",
       "      <td>...</td>\n",
       "      <td>...</td>\n",
       "    </tr>\n",
       "    <tr>\n",
       "      <th>3980</th>\n",
       "      <td>8.84E-03</td>\n",
       "      <td>7.39E-03</td>\n",
       "      <td>7.40E-03</td>\n",
       "    </tr>\n",
       "    <tr>\n",
       "      <th>3985</th>\n",
       "      <td>8.80E-03</td>\n",
       "      <td>7.43E-03</td>\n",
       "      <td>7.45E-03</td>\n",
       "    </tr>\n",
       "    <tr>\n",
       "      <th>3990</th>\n",
       "      <td>8.78E-03</td>\n",
       "      <td>7.37E-03</td>\n",
       "      <td>7.39E-03</td>\n",
       "    </tr>\n",
       "    <tr>\n",
       "      <th>3995</th>\n",
       "      <td>8.70E-03</td>\n",
       "      <td>7.21E-03</td>\n",
       "      <td>7.23E-03</td>\n",
       "    </tr>\n",
       "    <tr>\n",
       "      <th>4000</th>\n",
       "      <td>8.68E-03</td>\n",
       "      <td>7.10E-03</td>\n",
       "      <td>7.12E-03</td>\n",
       "    </tr>\n",
       "  </tbody>\n",
       "</table>\n",
       "<p>2003 rows × 3 columns</p>\n",
       "</div>"
      ],
      "text/plain": [
       "                      AM0                   AM1.5G   \n",
       "Wvlgth nm  Etr W*m-2*nm-1  Global tilt  W*m-2*nm-1  \\\n",
       "280              8.20E-02                 4.73E-23   \n",
       "280.5            9.90E-02                 1.23E-21   \n",
       "281              1.50E-01                 5.69E-21   \n",
       "281.5            2.12E-01                 1.57E-19   \n",
       "...                   ...                      ...   \n",
       "3980             8.84E-03                 7.39E-03   \n",
       "3985             8.80E-03                 7.43E-03   \n",
       "3990             8.78E-03                 7.37E-03   \n",
       "3995             8.70E-03                 7.21E-03   \n",
       "4000             8.68E-03                 7.10E-03   \n",
       "\n",
       "                                  AM1.5D  \n",
       "Wvlgth nm  Direct+circumsolar W*m-2*nm-1  \n",
       "280                             2.54E-26  \n",
       "280.5                           1.09E-24  \n",
       "281                             6.13E-24  \n",
       "281.5                           2.75E-22  \n",
       "...                                  ...  \n",
       "3980                            7.40E-03  \n",
       "3985                            7.45E-03  \n",
       "3990                            7.39E-03  \n",
       "3995                            7.23E-03  \n",
       "4000                            7.12E-03  \n",
       "\n",
       "[2003 rows x 3 columns]"
      ]
     },
     "execution_count": 2,
     "metadata": {},
     "output_type": "execute_result"
    }
   ],
   "source": [
    "datafile = pd.read_csv('data/Reference_spectrum_ASTM-G173-03.csv', index_col=0, header=0) \n",
    "datafile"
   ]
  },
  {
   "cell_type": "code",
   "execution_count": 3,
   "metadata": {
    "ExecuteTime": {
     "end_time": "2023-06-07T20:24:03.007395500Z",
     "start_time": "2023-06-07T20:24:02.997407100Z"
    }
   },
   "outputs": [],
   "source": [
    "datafile.drop(datafile.index[0], inplace=True) #remove row including information on units\n",
    "datafile=datafile.astype(float) #convert values to float for easy operation\n",
    "datafile.index=datafile.index.astype(float) #convert indexes to float for easy operation"
   ]
  },
  {
   "cell_type": "markdown",
   "metadata": {},
   "source": [
    "We start by calculating the total irradiance AM0, AM1.5G and AM1.5D."
   ]
  },
  {
   "cell_type": "code",
   "execution_count": 4,
   "metadata": {
    "ExecuteTime": {
     "end_time": "2023-06-07T20:24:03.027396700Z",
     "start_time": "2023-06-07T20:24:03.007395500Z"
    }
   },
   "outputs": [
    {
     "name": "stdout",
     "output_type": "stream",
     "text": [
      "Total irradiance in AM0 = 1348.0 W/m2\n",
      "Total irradiance in AM1.5G = 1000.5 W/m2\n",
      "Total irradiance in AM1.5D = 900.2 W/m2\n"
     ]
    }
   ],
   "source": [
    "for spectra in ['AM0', 'AM1.5G', 'AM1.5D']:\n",
    "    irradiance=np.trapz(datafile[spectra], x = datafile.index)\n",
    "    print('Total irradiance in ' + spectra + ' = ' + str(irradiance.round(1)) + ' W/m2')"
   ]
  },
  {
   "cell_type": "markdown",
   "metadata": {},
   "source": [
    "We can also plot the three spectra"
   ]
  },
  {
   "cell_type": "code",
   "execution_count": 8,
   "metadata": {
    "ExecuteTime": {
     "end_time": "2023-06-07T20:30:08.508978300Z",
     "start_time": "2023-06-07T20:30:08.016801800Z"
    }
   },
   "outputs": [
    {
     "data": {
      "text/plain": [
       "<matplotlib.legend.Legend at 0x1e8bb19dbe0>"
      ]
     },
     "execution_count": 8,
     "metadata": {},
     "output_type": "execute_result"
    },
    {
     "data": {
      "image/png": "[encoded data removed]",
      "text/plain": [
       "<Figure size 640x480 with 1 Axes>"
      ]
     },
     "metadata": {},
     "output_type": "display_data"
    }
   ],
   "source": [
    "plt.plot(datafile, linewidth=2, label=datafile.columns)\n",
    "plt.ylabel('Spectral irradiance [$W·m^{-2}·nm^{-1}$]')\n",
    "plt.xlabel('Wavelength [nm]')\n",
    "plt.legend()"
   ]
  },
  {
   "cell_type": "markdown",
   "metadata": {},
   "source": [
    "We calculate the UV content in AM0, AM1.5G, and AM1.5D."
   ]
  },
  {
   "cell_type": "code",
   "execution_count": 6,
   "metadata": {
    "ExecuteTime": {
     "end_time": "2023-06-07T20:24:03.347397300Z",
     "start_time": "2023-06-07T20:24:03.337395200Z"
    }
   },
   "outputs": [
    {
     "name": "stdout",
     "output_type": "stream",
     "text": [
      "UV irradiance in AM0 = 102.8 W/m2\n",
      "UV irradiance in AM1.5G = 46.1 W/m2\n",
      "UV irradiance in AM1.5D = 30.5 W/m2\n"
     ]
    }
   ],
   "source": [
    "index=datafile.index<=400\n",
    "for spectra in ['AM0', 'AM1.5G', 'AM1.5D']:\n",
    "    irradiance=np.trapz(datafile[spectra][index], x = datafile.index[index])\n",
    "    print('UV irradiance in ' + spectra + ' = ' + str(irradiance.round(1)) + ' W/m2')"
   ]
  }
 ],
 "metadata": {
  "kernelspec": {
   "display_name": "Python 3 (ipykernel)",
   "language": "python",
   "name": "python3"
  },
  "language_info": {
   "codemirror_mode": {
    "name": "ipython",
    "version": 3
   },
   "file_extension": ".py",
   "mimetype": "text/x-python",
   "name": "python",
   "nbconvert_exporter": "python",
   "pygments_lexer": "ipython3",
   "version": "3.7.12"
  }
 },
 "nbformat": 4,
 "nbformat_minor": 4
}
