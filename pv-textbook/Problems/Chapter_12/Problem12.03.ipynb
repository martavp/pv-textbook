{
 "cells": [
  {
   "cell_type": "markdown",
   "id": "a679f49f",
   "metadata": {},
   "source": [
    "# Problem 12.3"
   ]
  },
  {
   "cell_type": "markdown",
   "id": "9e3d0571",
   "metadata": {},
   "source": [
    "***Fundamentals of Solar Cells and Photovoltaic Systems Engineering***\n",
    "\n",
    "**Solutions Manual - Chapter 12**\n",
    "\n",
    "***Problem 12.3***\n",
    "\n"
   ]
  },
  {
   "cell_type": "markdown",
   "id": "c3b3d6b6",
   "metadata": {},
   "source": [
    "**Similar to Problem S12.1, obtain now the main parameters from the experimentally measured IV curve under illumination at at 25 $^{\\circ}$C provided in this book’s online repository, which corresponds to a 10 cm$^2$ solar cell. Estimate the short-circuit current $I_{SC}$, open-circuit voltage $V_{OC}$, voltage and current of the maximum power point $V_{mp}$ and $I_{mp}$, fill factor $FF$, and efficiency $\\eta$.**\n",
    "\n",
    "**Estimate the efficiency based on a pair of data points included in the measurement and with the fitted value. What is the difference between the two estimated efficiency values?**"
   ]
  },
  {
   "cell_type": "markdown",
   "id": "7e72fb5e",
   "metadata": {},
   "source": [
    "We will follow a similar approach to that of Problem 4.11. First, we import the Python modules used and define the Boltzman constant"
   ]
  },
  {
   "cell_type": "code",
   "execution_count": 42,
   "id": "0e83057f",
   "metadata": {},
   "outputs": [],
   "source": [
    "import numpy as np\n",
    "import pandas as pd\n",
    "import matplotlib.pyplot as plt\n",
    "\n",
    "kB = 8.617333e-5"
   ]
  },
  {
   "cell_type": "markdown",
   "id": "d44a37d8",
   "metadata": {},
   "source": [
    "#### Function to extract the I-V curve parameters\n",
    "The algorithm is from: <br>\n",
    "* Cotfas, D.T., Cotfas, P.A., Kaplanis, S., 2013. Methods to determine the dc parameters of solar cells: A critical review. Renew. Sustain. Energy Rev. 28, 588–596. https://doi.org/10.1016/j.rser.2013.08.017\n",
    "\n",
    "Note that this function does not assume that the I-V curve is in the first quadrant. \n",
    "\n",
    "Another two functions are used to calculate the Isc and Voc and detect the quadrant. Then, the function calculating Pmax moves the I-V curve to this quadrant, if it is not there yet. "
   ]
  },
  {
   "cell_type": "code",
   "execution_count": 43,
   "id": "ff265feb",
   "metadata": {},
   "outputs": [],
   "source": [
    "# Input data:\n",
    "# · experimental I-V curve\n",
    "# · temperature\n",
    "# · number of points around Isc to calculate the I-V slope\n",
    "# · number of points around Voc to calculate the I-V slope\n",
    "\n",
    "def get_IV_params(rawIV, temperature):\n",
    "    # Thermal voltage\n",
    "    kBT = 8.617333e-5*(temperature + 273.15)\n",
    "    \n",
    "    ## 1) Prepare the I-V curve to be in 1st quadrant and \n",
    "    ##    with increasing values of voltage\n",
    "    # Move I-V curve to first quadrant if it is not there yet\n",
    "    # Sort data and move to first quadrant\n",
    "    IV_1stq = rawIV.copy()\n",
    "    Isc = get_Isc(IV_1stq)\n",
    "    if Isc<0:\n",
    "        Isc*=-1\n",
    "        IV_1stq[:,1]*=-1\n",
    "    \n",
    "    Voc = get_Voc(IV_1stq)\n",
    "    if Voc<0:\n",
    "        Voc*=-1\n",
    "        IV_1stq[:,0]*=-1    \n",
    "\n",
    "    # Sort I-V curve data to have increasing values of voltage\n",
    "    IV_1stq=IV_1stq[IV_1stq[:,0].argsort()]     \n",
    "    ##\n",
    "    \n",
    "    ## 2) Algorithm for the 5-point method\n",
    "    ##\n",
    "    \n",
    "    # Calculate Rp as the inverse of the slope at V=0\n",
    "    # The function \"getSlope_atIsc\" returns the slope and the linear function to be plotted later\n",
    "    slopeIsc, slopeFitIsc = getSlope_atIsc(IV_1stq)\n",
    "    Rp = -1/slopeIsc\n",
    "   \n",
    "     # Calculate the maximum power and V, I at maximum power point\n",
    "    Pm, Vm, Im = get_Pmax(rawIV)\n",
    "    \n",
    "    # Calculate the slope at Voc as intermediate parameter\n",
    "    # The function \"getSlope_atVoc\" returns the slope and the linear function to be plotted later\n",
    "    slopeVoc, slopeFitVoc = getSlope_atVoc(IV_1stq)\n",
    "    \n",
    "    # Intermediate calculations in the 5-point algorithm\n",
    "    Rs0 = -1/slopeVoc\n",
    "    \n",
    "    A = Vm + Rs0*Im-Voc\n",
    "    B = np.log(Isc-Vm/Rp-Im)-np.log(Isc-Voc/Rp)\n",
    "    C = Im/(Isc-Voc/Rp)\n",
    "    n = A/(kBT*(B+C))    \n",
    "    \n",
    "    I0 = (Isc-Voc/Rp)*np.exp(-Voc/(n*kBT))\n",
    "  \n",
    "    Rs = Rs0 -n*(kBT/I0)*np.exp(-Voc/(n*kBT))\n",
    "   \n",
    "    IL = Isc*(1+Rs/Rp) + I0*(np.exp(Isc*Rs/(n*kBT))-1)\n",
    "\n",
    "\n",
    "    return IL, I0, n, Rs, Rp, slopeFitIsc, slopeFitVoc"
   ]
  },
  {
   "cell_type": "markdown",
   "id": "19ae0c48",
   "metadata": {},
   "source": [
    "And ancillary functions to serve \"get_IV_params\""
   ]
  },
  {
   "cell_type": "code",
   "execution_count": 44,
   "id": "4c0a15e0",
   "metadata": {},
   "outputs": [],
   "source": [
    "# Obtains Isc by linear interpolation around V=0\n",
    "def get_Isc(IVdata):\n",
    "    \"\"\"Returns the Isc of the input raw I-V curve\"\"\"\n",
    "\n",
    "   # Sort data\n",
    "    IV_sorted = IVdata.copy()\n",
    "    IV_sorted=IVdata[IVdata[:,0].argsort()]   # Sort by voltages\n",
    "    \n",
    "    Isc = np.interp(0,IV_sorted[:,0],IV_sorted[:,1])\n",
    "    \n",
    "    return Isc\n",
    "\n",
    "# Obtains Voc by linear interpolation around I=0\n",
    "def get_Voc(IVdata):\n",
    "    \"\"\"Returns the Voc of the input raw I-V curve\"\"\"\n",
    "\n",
    "   # Sort data\n",
    "    IV_sorted = IVdata.copy()\n",
    "    IV_sorted=IVdata[IVdata[:,1].argsort()]   # Sort by currents\n",
    "    \n",
    "    Voc = np.interp(0, IV_sorted[:,1],IV_sorted[:,0])\n",
    "    \n",
    "    return Voc\n",
    "\n",
    "# Obtains the Pmax, and also the Vm and Im\n",
    "def get_Pmax(IVdata):\n",
    "  \n",
    "   # Sort data and move to 1st quadrant\n",
    "    IV_sorted = IVdata.copy()\n",
    " \n",
    "    Isc = get_Isc(IV_sorted)\n",
    "    if Isc<0:\n",
    "        Isc*=-1\n",
    "        IV_sorted[:,1]*=-1\n",
    "    \n",
    "    Voc = get_Voc(IV_sorted)\n",
    "    if Voc<0:\n",
    "        Voc*=-1\n",
    "        IV_sorted[:,0]*=-1       \n",
    " \n",
    "    IV_sorted=IV_sorted[IV_sorted[:,0].argsort()]   \n",
    "   \n",
    " \n",
    "    PV = IV_sorted.copy()\n",
    "    PV[:,1] = IV_sorted[:,0]*IV_sorted[:,1]\n",
    "    \n",
    "    Pm = np.amax(PV[:,1])\n",
    "    maxPosition = np.argmax(PV[:,1])\n",
    "    Vm = PV[maxPosition,0]\n",
    "    Im = IV_sorted[maxPosition,1]\n",
    "\n",
    "    return Pm, Vm, Im\n",
    "\n",
    "# Determines the slope of the I-V curve around Voc\n",
    "# I-V curve is assumed to be in 1st quadrant\n",
    "def getSlope_atVoc(data):\n",
    "  \n",
    "    # Find the first negative current point\n",
    "    # Determine the range for the fit according to nPnts\n",
    "    rI = np.where(data[:,1] <= 0)\n",
    "    rangeI = np.asarray(rI)  \n",
    "    rangeI = rangeI.flatten()   \n",
    "    \n",
    "    indexEnd = rangeI[0] + 2\n",
    "    if indexEnd > len(data[:,0])-1:\n",
    "        indexEnd = len(data[:,0])-1\n",
    "    indexStart = rangeI[0] - 2\n",
    "    if indexStart < 0:\n",
    "        indexStart=0\n",
    "    \n",
    "    # Fit to a polynomial of degree 1\n",
    "    polyCoeffs = np.polyfit(data[indexStart:indexEnd+1,0],data[indexStart:indexEnd+1,1],1)\n",
    "\n",
    "    slope = polyCoeffs[0]\n",
    "   \n",
    "    # Create array with fit line\n",
    "    slopeFitVoc = np.zeros((50,2))\n",
    "    slopeFitVoc[:,0]=np.linspace(data[indexStart,0],data[indexEnd,0],50)\n",
    "    slopeFitVoc[:,1] = np.polyval(polyCoeffs, slopeFitVoc[:,0])\n",
    "\n",
    "    return slope, slopeFitVoc\n",
    "\n",
    "# Returns the slope of I-V curve at Isc using\n",
    "# a linear fit for a V range of +-Vrange     \n",
    "def getSlope_atIsc(data):\n",
    "    \n",
    "    # Get data indexes in the Vrange\n",
    "    rV = np.where(data[:,0] <= 0)\n",
    "    rangeV = np.asarray(rV)  \n",
    "    rangeV = rangeV.flatten()   \n",
    "\n",
    "    indexStart = rangeV[-1] -5   \n",
    "    if indexStart < 0:\n",
    "        indexStart=0\n",
    "    indexEnd = rangeV[-1] + 5\n",
    "    if indexEnd > len(data[:,0])-1:\n",
    "        indexEnd = len(data[:,0])-1\n",
    " \n",
    "    # Fit to a polynomial of degree 1\n",
    "    polyCoeffs = np.polyfit(data[indexStart:indexEnd+1,0],data[indexStart:indexEnd+1,1],1)\n",
    "    #Take the slope from the linear fit\n",
    "    slope = polyCoeffs[0]\n",
    " \n",
    "    # Create array with fit line\n",
    "    slopeFitIsc = np.zeros((50,2))\n",
    "    slopeFitIsc[:,0]=np.linspace(data[indexStart,0],data[indexEnd,0],50)\n",
    "    slopeFitIsc[:,1] = np.polyval(polyCoeffs, slopeFitIsc[:,0])\n",
    "\n",
    "\n",
    "    return slope, slopeFitIsc\n"
   ]
  },
  {
   "cell_type": "markdown",
   "id": "7c73d09b",
   "metadata": {},
   "source": [
    "Now we can load the measured I-V curve and test the parameter extraction method"
   ]
  },
  {
   "cell_type": "code",
   "execution_count": 45,
   "id": "ca6ca4ce",
   "metadata": {},
   "outputs": [
    {
     "data": {
      "text/html": [
       "<div>\n",
       "<style scoped>\n",
       "    .dataframe tbody tr th:only-of-type {\n",
       "        vertical-align: middle;\n",
       "    }\n",
       "\n",
       "    .dataframe tbody tr th {\n",
       "        vertical-align: top;\n",
       "    }\n",
       "\n",
       "    .dataframe thead th {\n",
       "        text-align: right;\n",
       "    }\n",
       "</style>\n",
       "<table border=\"1\" class=\"dataframe\">\n",
       "  <thead>\n",
       "    <tr style=\"text-align: right;\">\n",
       "      <th></th>\n",
       "      <th>V (V)</th>\n",
       "      <th>I (A)</th>\n",
       "    </tr>\n",
       "  </thead>\n",
       "  <tbody>\n",
       "    <tr>\n",
       "      <th>0</th>\n",
       "      <td>-0.3000</td>\n",
       "      <td>0.226923</td>\n",
       "    </tr>\n",
       "    <tr>\n",
       "      <th>1</th>\n",
       "      <td>-0.2555</td>\n",
       "      <td>0.226572</td>\n",
       "    </tr>\n",
       "    <tr>\n",
       "      <th>2</th>\n",
       "      <td>-0.2110</td>\n",
       "      <td>0.226254</td>\n",
       "    </tr>\n",
       "    <tr>\n",
       "      <th>3</th>\n",
       "      <td>-0.1665</td>\n",
       "      <td>0.225777</td>\n",
       "    </tr>\n",
       "    <tr>\n",
       "      <th>4</th>\n",
       "      <td>-0.1219</td>\n",
       "      <td>0.225872</td>\n",
       "    </tr>\n",
       "  </tbody>\n",
       "</table>\n",
       "</div>"
      ],
      "text/plain": [
       "    V (V)     I (A)\n",
       "0 -0.3000  0.226923\n",
       "1 -0.2555  0.226572\n",
       "2 -0.2110  0.226254\n",
       "3 -0.1665  0.225777\n",
       "4 -0.1219  0.225872"
      ]
     },
     "execution_count": 45,
     "metadata": {},
     "output_type": "execute_result"
    }
   ],
   "source": [
    "temperature = 25 #C\n",
    "illum_IV = pd.read_csv('data/Illumination_I_V_curve.csv',  header=0) \n",
    "illum_IV.head()"
   ]
  },
  {
   "cell_type": "markdown",
   "id": "e053e83d",
   "metadata": {},
   "source": [
    "We start by extracting the parameters used in the single-diode model of the solar cell."
   ]
  },
  {
   "cell_type": "code",
   "execution_count": 46,
   "id": "944d0be7",
   "metadata": {},
   "outputs": [
    {
     "name": "stdout",
     "output_type": "stream",
     "text": [
      "Rp = 322.470\n",
      "Rs = -2.433e-02\n",
      "I0 = 4.55e-09\n",
      "n = 2.074\n",
      "IL = 0.225\n"
     ]
    }
   ],
   "source": [
    "IL_extr, I0_extr, n_extr, Rs_extr, Rp_extr, slopeFitIsc, slopeFitVoc = get_IV_params(illum_IV.values, temperature)\n",
    "\n",
    "# Print the results \n",
    "print(\"Rp = \" + f\"{Rp_extr:.3f}\")\n",
    "print(\"Rs = \" + f\"{Rs_extr:.3e}\")\n",
    "print(\"I0 = \" + f\"{I0_extr:.3}\") \n",
    "print(\"n = \" + f\"{n_extr:.3f}\")\n",
    "print(\"IL = \" + f\"{IL_extr:.3f}\")\n"
   ]
  },
  {
   "cell_type": "markdown",
   "id": "5a81f336",
   "metadata": {},
   "source": [
    "We can also extract short-circuit current $I_{SC}$, open-circuit voltage $V_{OC}$, voltage and current of the maximum power point $V_{mp}$ and $I_{mp}$, fill factor $FF$, and efficiency $\\eta$."
   ]
  },
  {
   "cell_type": "code",
   "execution_count": 47,
   "id": "510f916e",
   "metadata": {},
   "outputs": [
    {
     "name": "stdout",
     "output_type": "stream",
     "text": [
      "Isc = 0.225 A\n",
      "Voc = 0.944 V\n",
      "Vmp = 0.800 V\n",
      "Imp = 0.209 A\n",
      "FF = 0.787\n",
      "Eff = 0.167\n"
     ]
    }
   ],
   "source": [
    "Isc=get_Isc(illum_IV.values)\n",
    "print(\"Isc = \" + f\"{Isc:.3f}\" + \" A\")\n",
    "Voc=get_Voc(illum_IV.values)\n",
    "print(\"Voc = \" + f\"{Voc:.3f}\"+ \" V\")\n",
    "Pm,Vm,Im = get_Pmax(illum_IV.values)\n",
    "print(\"Vmp = \" + f\"{Vm:.3f}\"+ \" V\")\n",
    "print(\"Imp = \" + f\"{Im:.3f}\"+\" A\")\n",
    "FF=(Vm*Im)/(Voc*Isc)\n",
    "print(\"FF = \" + f\"{FF:.3f}\")\n",
    "Eff=Pm/(1000*10/10000)\n",
    "print(\"Eff = \" + f\"{Eff:.3f}\")"
   ]
  },
  {
   "cell_type": "markdown",
   "id": "1f681713",
   "metadata": {},
   "source": [
    "We can calculate the efficiency directly from the measured data and we check that we get the same value as previously calculated. "
   ]
  },
  {
   "cell_type": "code",
   "execution_count": 48,
   "id": "87098051",
   "metadata": {},
   "outputs": [
    {
     "name": "stdout",
     "output_type": "stream",
     "text": [
      "Eff from direct measurements = 0.167\n"
     ]
    }
   ],
   "source": [
    "illum_IV['P (W)']=illum_IV['V (V)']*illum_IV['I (A)']\n",
    "Eff_m=illum_IV['P (W)'].max()/(1000*10/10000)\n",
    "print(\"Eff from direct measurements = \" + f\"{Eff_m:.3f}\")"
   ]
  }
 ],
 "metadata": {
  "kernelspec": {
   "display_name": "Python 3 (ipykernel)",
   "language": "python",
   "name": "python3"
  },
  "language_info": {
   "codemirror_mode": {
    "name": "ipython",
    "version": 3
   },
   "file_extension": ".py",
   "mimetype": "text/x-python",
   "name": "python",
   "nbconvert_exporter": "python",
   "pygments_lexer": "ipython3",
   "version": "3.7.12"
  },
  "vscode": {
   "interpreter": {
    "hash": "aee8b7b246df8f9039afb4144a1f6fd8d2ca17a180786b69acc140d282b71a49"
   }
  }
 },
 "nbformat": 4,
 "nbformat_minor": 5
}
