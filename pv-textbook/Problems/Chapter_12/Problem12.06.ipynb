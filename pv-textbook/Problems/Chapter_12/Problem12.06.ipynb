{
 "cells": [
  {
   "cell_type": "markdown",
   "metadata": {},
   "source": [
    "# Problem 12.6"
   ]
  },
  {
   "cell_type": "markdown",
   "metadata": {},
   "source": [
    "**Fundamentals of Solar Cells and Photovoltaic Systems Engineering**\n",
    "\n",
    "**Solutions Manual - Chapter 12**\n",
    "\n",
    "**Problem 12.6**\n"
   ]
  },
  {
   "cell_type": "markdown",
   "metadata": {},
   "source": [
    "**We will now compare the results of the solar irradiance components on a  35⁰-tilted plane with those obtained at the normal plane (measured using a 2-axis tracking system).**\n",
    "\n",
    "**(a) Using the tabulated data for the solar irradiance components at the normal plane provided in the online repository of this book,  calculate the diffuse irradiance from the global and direct components and calculate the RMSE with respect to the experimentally measured diffuse irradiance.**\n",
    "\n",
    "**(b) Calculate the percentage increase in the cumulative day irradiation of every component (global, direct and diffuse) when the irradiance values are acquired at the normal plane (using a 2-axis tracking system) with respect to a fixed plane at 35⁰.**\n"
   ]
  },
  {
   "cell_type": "markdown",
   "metadata": {},
   "source": [
    "We will use the package [pandas](https://pandas.pydata.org/) to handle the data and [matplotlib.pyplot](https://matplotlib.org/stable/index.html) to plot the results."
   ]
  },
  {
   "cell_type": "code",
   "execution_count": 1,
   "metadata": {},
   "outputs": [],
   "source": [
    "import pandas as pd\n",
    "import numpy as np\n",
    "import matplotlib.pyplot as plt"
   ]
  },
  {
   "cell_type": "markdown",
   "metadata": {},
   "source": [
    "We start by importing the measured solar irradiance components."
   ]
  },
  {
   "cell_type": "code",
   "execution_count": 2,
   "metadata": {},
   "outputs": [
    {
     "data": {
      "text/html": [
       "<div>\n",
       "<style scoped>\n",
       "    .dataframe tbody tr th:only-of-type {\n",
       "        vertical-align: middle;\n",
       "    }\n",
       "\n",
       "    .dataframe tbody tr th {\n",
       "        vertical-align: top;\n",
       "    }\n",
       "\n",
       "    .dataframe thead th {\n",
       "        text-align: right;\n",
       "    }\n",
       "</style>\n",
       "<table border=\"1\" class=\"dataframe\">\n",
       "  <thead>\n",
       "    <tr style=\"text-align: right;\">\n",
       "      <th></th>\n",
       "      <th>G(n)</th>\n",
       "    </tr>\n",
       "    <tr>\n",
       "      <th>time(UTC+1)</th>\n",
       "      <th></th>\n",
       "    </tr>\n",
       "  </thead>\n",
       "  <tbody>\n",
       "    <tr>\n",
       "      <th>00:00</th>\n",
       "      <td>0.00</td>\n",
       "    </tr>\n",
       "    <tr>\n",
       "      <th>01:00</th>\n",
       "      <td>0.00</td>\n",
       "    </tr>\n",
       "    <tr>\n",
       "      <th>02:00</th>\n",
       "      <td>0.00</td>\n",
       "    </tr>\n",
       "    <tr>\n",
       "      <th>03:00</th>\n",
       "      <td>0.00</td>\n",
       "    </tr>\n",
       "    <tr>\n",
       "      <th>04:00</th>\n",
       "      <td>0.00</td>\n",
       "    </tr>\n",
       "    <tr>\n",
       "      <th>05:00</th>\n",
       "      <td>0.00</td>\n",
       "    </tr>\n",
       "    <tr>\n",
       "      <th>06:00</th>\n",
       "      <td>7.32</td>\n",
       "    </tr>\n",
       "    <tr>\n",
       "      <th>07:00</th>\n",
       "      <td>501.73</td>\n",
       "    </tr>\n",
       "    <tr>\n",
       "      <th>08:00</th>\n",
       "      <td>710.20</td>\n",
       "    </tr>\n",
       "    <tr>\n",
       "      <th>09:00</th>\n",
       "      <td>824.01</td>\n",
       "    </tr>\n",
       "    <tr>\n",
       "      <th>10:00</th>\n",
       "      <td>878.76</td>\n",
       "    </tr>\n",
       "    <tr>\n",
       "      <th>11:00</th>\n",
       "      <td>917.63</td>\n",
       "    </tr>\n",
       "    <tr>\n",
       "      <th>12:00</th>\n",
       "      <td>925.71</td>\n",
       "    </tr>\n",
       "    <tr>\n",
       "      <th>13:00</th>\n",
       "      <td>925.23</td>\n",
       "    </tr>\n",
       "    <tr>\n",
       "      <th>14:00</th>\n",
       "      <td>902.60</td>\n",
       "    </tr>\n",
       "    <tr>\n",
       "      <th>15:00</th>\n",
       "      <td>882.13</td>\n",
       "    </tr>\n",
       "    <tr>\n",
       "      <th>16:00</th>\n",
       "      <td>851.88</td>\n",
       "    </tr>\n",
       "    <tr>\n",
       "      <th>17:00</th>\n",
       "      <td>786.07</td>\n",
       "    </tr>\n",
       "    <tr>\n",
       "      <th>18:00</th>\n",
       "      <td>674.93</td>\n",
       "    </tr>\n",
       "    <tr>\n",
       "      <th>19:00</th>\n",
       "      <td>500.10</td>\n",
       "    </tr>\n",
       "    <tr>\n",
       "      <th>20:00</th>\n",
       "      <td>212.07</td>\n",
       "    </tr>\n",
       "    <tr>\n",
       "      <th>21:00</th>\n",
       "      <td>0.00</td>\n",
       "    </tr>\n",
       "    <tr>\n",
       "      <th>22:00</th>\n",
       "      <td>0.00</td>\n",
       "    </tr>\n",
       "    <tr>\n",
       "      <th>23:00</th>\n",
       "      <td>0.00</td>\n",
       "    </tr>\n",
       "  </tbody>\n",
       "</table>\n",
       "</div>"
      ],
      "text/plain": [
       "               G(n)\n",
       "time(UTC+1)        \n",
       "00:00          0.00\n",
       "01:00          0.00\n",
       "02:00          0.00\n",
       "03:00          0.00\n",
       "04:00          0.00\n",
       "05:00          0.00\n",
       "06:00          7.32\n",
       "07:00        501.73\n",
       "08:00        710.20\n",
       "09:00        824.01\n",
       "10:00        878.76\n",
       "11:00        917.63\n",
       "12:00        925.71\n",
       "13:00        925.23\n",
       "14:00        902.60\n",
       "15:00        882.13\n",
       "16:00        851.88\n",
       "17:00        786.07\n",
       "18:00        674.93\n",
       "19:00        500.10\n",
       "20:00        212.07\n",
       "21:00          0.00\n",
       "22:00          0.00\n",
       "23:00          0.00"
      ]
     },
     "execution_count": 2,
     "metadata": {},
     "output_type": "execute_result"
    }
   ],
   "source": [
    "G_normal = pd.read_csv('data/Global_2-axis.csv', index_col=0, header=0) \n",
    "B_normal = pd.read_csv('data/Direct_2-axis.csv', index_col=0, header=0) \n",
    "D_normal = pd.read_csv('data/Diffuse_2-axis.csv', index_col=0, header=0) \n",
    "\n",
    "G_normal"
   ]
  },
  {
   "cell_type": "markdown",
   "metadata": {},
   "source": [
    "We can estimated the diffuse irradiance $D$ by substracting the direct irradiance $B$ from the global irradiance $G$."
   ]
  },
  {
   "cell_type": "code",
   "execution_count": 3,
   "metadata": {},
   "outputs": [
    {
     "data": {
      "text/plain": [
       "time(UTC+1)\n",
       "00:00      0.00\n",
       "01:00      0.00\n",
       "02:00      0.00\n",
       "03:00      0.00\n",
       "04:00      0.00\n",
       "05:00      0.00\n",
       "06:00      7.32\n",
       "07:00    138.64\n",
       "08:00    190.80\n",
       "09:00    212.49\n",
       "10:00    222.97\n",
       "11:00    223.29\n",
       "12:00    234.33\n",
       "13:00    239.43\n",
       "14:00    244.45\n",
       "15:00    248.33\n",
       "16:00    246.44\n",
       "17:00    228.76\n",
       "18:00    198.15\n",
       "19:00    145.92\n",
       "20:00     56.51\n",
       "21:00      0.00\n",
       "22:00      0.00\n",
       "23:00      0.00\n",
       "dtype: float64"
      ]
     },
     "execution_count": 3,
     "metadata": {},
     "output_type": "execute_result"
    }
   ],
   "source": [
    "D_normal_estimated = G_normal['G(n)']-B_normal['Gb(n)']\n",
    "D_normal_estimated"
   ]
  },
  {
   "cell_type": "markdown",
   "metadata": {},
   "source": [
    "We can plot the measured and estimated irradiance components. "
   ]
  },
  {
   "cell_type": "code",
   "execution_count": 4,
   "metadata": {},
   "outputs": [
    {
     "data": {
      "text/plain": [
       "<matplotlib.legend.Legend at 0x1f913256e88>"
      ]
     },
     "execution_count": 4,
     "metadata": {},
     "output_type": "execute_result"
    },
    {
     "data": {
      "image/png": "[encoded data removed]",
      "text/plain": [
       "<Figure size 640x480 with 1 Axes>"
      ]
     },
     "metadata": {},
     "output_type": "display_data"
    }
   ],
   "source": [
    "plt.plot(G_normal['G(n)'], \n",
    "         linewidth=2, label='Global')\n",
    "plt.plot(B_normal['Gb(n)'], \n",
    "         linewidth=2, label='Direct')\n",
    "plt.plot(D_normal['Gd(n)'],\n",
    "         linewidth=2, label='Diffuse (measured)')\n",
    "plt.plot(D_normal_estimated,\n",
    "         linewidth=2, linestyle='--',label='Diffuse (estimated)')\n",
    "plt.ylabel('Irradiance (W/m2)')\n",
    "plt.xticks(rotation=70)\n",
    "plt.legend()"
   ]
  },
  {
   "cell_type": "markdown",
   "metadata": {},
   "source": [
    "We calculate the root-mean square error (RMSE) between the estimated and measured diffuse irradiance. "
   ]
  },
  {
   "cell_type": "code",
   "execution_count": 5,
   "metadata": {},
   "outputs": [
    {
     "name": "stdout",
     "output_type": "stream",
     "text": [
      "The RMSE is 10.86 W/m2\n"
     ]
    }
   ],
   "source": [
    "RMSE=np.sqrt(((D_normal['Gd(n)']-D_normal_estimated)**2).mean())\n",
    "RMSE\n",
    "print('The RMSE is ' + str(RMSE.round(2)) + ' W/m2')"
   ]
  },
  {
   "cell_type": "markdown",
   "metadata": {},
   "source": [
    "We can now retrive the solar radiation components measured on a 35$^{\\circ}$ tilt plane."
   ]
  },
  {
   "cell_type": "code",
   "execution_count": 6,
   "metadata": {},
   "outputs": [],
   "source": [
    "G = pd.read_csv('data/Global_35deg.csv', index_col=0, header=0) \n",
    "B = pd.read_csv('data/Direct_35deg.csv', index_col=0, header=0) \n",
    "D = pd.read_csv('data/Diffuse_35deg.csv', index_col=0, header=0) "
   ]
  },
  {
   "cell_type": "markdown",
   "metadata": {},
   "source": [
    "Finally, we can calculate the deviation error for daily irradiation value in every component measured for the normal plane compared to the 35$^{\\circ}$ tilt plane. "
   ]
  },
  {
   "cell_type": "code",
   "execution_count": 7,
   "metadata": {},
   "outputs": [
    {
     "name": "stdout",
     "output_type": "stream",
     "text": [
      "Global component deviation error is 49.7%\n"
     ]
    }
   ],
   "source": [
    "G_diff = 100*(G_normal['G(n)'].sum()/G['G(i)'].sum()-1)\n",
    "print('Global component deviation error is ' + str(G_diff.round(1)) + '%')"
   ]
  },
  {
   "cell_type": "code",
   "execution_count": 8,
   "metadata": {},
   "outputs": [
    {
     "name": "stdout",
     "output_type": "stream",
     "text": [
      "Direct component deviation error is 61.6%\n"
     ]
    }
   ],
   "source": [
    "B_diff = 100*(B_normal['Gb(n)'].sum()/B['Gb(i)'].sum()-1)\n",
    "print('Direct component deviation error is ' + str(B_diff.round(1)) + '%')"
   ]
  },
  {
   "cell_type": "code",
   "execution_count": 9,
   "metadata": {},
   "outputs": [
    {
     "name": "stdout",
     "output_type": "stream",
     "text": [
      "Diffuse component deviation error is 24.3%\n"
     ]
    }
   ],
   "source": [
    "D_diff = 100*(D_normal['Gd(n)'].sum()/D['Gd(i)'].sum()-1)\n",
    "print('Diffuse component deviation error is ' + str(D_diff.round(1)) + '%')"
   ]
  }
 ],
 "metadata": {
  "kernelspec": {
   "display_name": "Python 3 (ipykernel)",
   "language": "python",
   "name": "python3"
  },
  "language_info": {
   "codemirror_mode": {
    "name": "ipython",
    "version": 3
   },
   "file_extension": ".py",
   "mimetype": "text/x-python",
   "name": "python",
   "nbconvert_exporter": "python",
   "pygments_lexer": "ipython3",
   "version": "3.7.12"
  }
 },
 "nbformat": 4,
 "nbformat_minor": 4
}
