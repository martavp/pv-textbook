{
 "cells": [
  {
   "cell_type": "markdown",
   "metadata": {},
   "source": [
    "# Problem 12.8"
   ]
  },
  {
   "cell_type": "markdown",
   "metadata": {},
   "source": [
    "**Fundamentals of Solar Cells and Photovoltaic Systems Engineering**\n",
    "\n",
    "**Solutions Manual - Chapter 12**\n",
    "\n",
    "**Problem 12.8**\n"
   ]
  },
  {
   "cell_type": "markdown",
   "metadata": {},
   "source": [
    "**For the spectra in Problem S12.7 and assuming that the lamps are located at the correct position, what is the error that is made at each of the nine 100 nm broadbands from 300 to 1200 nm for each of the lamps with respect to the solar spectrum?**"
   ]
  },
  {
   "cell_type": "markdown",
   "metadata": {},
   "source": [
    "We will use the package [pandas](https://pandas.pydata.org/) to handle the data and [matplotlib.pyplot](https://matplotlib.org/stable/index.html) to plot the results."
   ]
  },
  {
   "cell_type": "code",
   "execution_count": 1,
   "metadata": {},
   "outputs": [],
   "source": [
    "import pandas as pd\n",
    "import numpy as np\n",
    "import matplotlib.pyplot as plt"
   ]
  },
  {
   "cell_type": "markdown",
   "metadata": {},
   "source": [
    "We start by importing the data for the solar spectra."
   ]
  },
  {
   "cell_type": "code",
   "execution_count": 2,
   "metadata": {},
   "outputs": [
    {
     "data": {
      "text/html": [
       "<div>\n",
       "<style scoped>\n",
       "    .dataframe tbody tr th:only-of-type {\n",
       "        vertical-align: middle;\n",
       "    }\n",
       "\n",
       "    .dataframe tbody tr th {\n",
       "        vertical-align: top;\n",
       "    }\n",
       "\n",
       "    .dataframe thead th {\n",
       "        text-align: right;\n",
       "    }\n",
       "</style>\n",
       "<table border=\"1\" class=\"dataframe\">\n",
       "  <thead>\n",
       "    <tr style=\"text-align: right;\">\n",
       "      <th></th>\n",
       "      <th>AM0</th>\n",
       "      <th>AM1.5G</th>\n",
       "      <th>AM1.5D</th>\n",
       "    </tr>\n",
       "  </thead>\n",
       "  <tbody>\n",
       "    <tr>\n",
       "      <th>Wvlgth nm</th>\n",
       "      <td>Etr W*m-2*nm-1</td>\n",
       "      <td>Global tilt  W*m-2*nm-1</td>\n",
       "      <td>Direct+circumsolar W*m-2*nm-1</td>\n",
       "    </tr>\n",
       "    <tr>\n",
       "      <th>280</th>\n",
       "      <td>8.20E-02</td>\n",
       "      <td>4.73E-23</td>\n",
       "      <td>2.54E-26</td>\n",
       "    </tr>\n",
       "    <tr>\n",
       "      <th>280.5</th>\n",
       "      <td>9.90E-02</td>\n",
       "      <td>1.23E-21</td>\n",
       "      <td>1.09E-24</td>\n",
       "    </tr>\n",
       "    <tr>\n",
       "      <th>281</th>\n",
       "      <td>1.50E-01</td>\n",
       "      <td>5.69E-21</td>\n",
       "      <td>6.13E-24</td>\n",
       "    </tr>\n",
       "    <tr>\n",
       "      <th>281.5</th>\n",
       "      <td>2.12E-01</td>\n",
       "      <td>1.57E-19</td>\n",
       "      <td>2.75E-22</td>\n",
       "    </tr>\n",
       "    <tr>\n",
       "      <th>...</th>\n",
       "      <td>...</td>\n",
       "      <td>...</td>\n",
       "      <td>...</td>\n",
       "    </tr>\n",
       "    <tr>\n",
       "      <th>3980</th>\n",
       "      <td>8.84E-03</td>\n",
       "      <td>7.39E-03</td>\n",
       "      <td>7.40E-03</td>\n",
       "    </tr>\n",
       "    <tr>\n",
       "      <th>3985</th>\n",
       "      <td>8.80E-03</td>\n",
       "      <td>7.43E-03</td>\n",
       "      <td>7.45E-03</td>\n",
       "    </tr>\n",
       "    <tr>\n",
       "      <th>3990</th>\n",
       "      <td>8.78E-03</td>\n",
       "      <td>7.37E-03</td>\n",
       "      <td>7.39E-03</td>\n",
       "    </tr>\n",
       "    <tr>\n",
       "      <th>3995</th>\n",
       "      <td>8.70E-03</td>\n",
       "      <td>7.21E-03</td>\n",
       "      <td>7.23E-03</td>\n",
       "    </tr>\n",
       "    <tr>\n",
       "      <th>4000</th>\n",
       "      <td>8.68E-03</td>\n",
       "      <td>7.10E-03</td>\n",
       "      <td>7.12E-03</td>\n",
       "    </tr>\n",
       "  </tbody>\n",
       "</table>\n",
       "<p>2003 rows × 3 columns</p>\n",
       "</div>"
      ],
      "text/plain": [
       "                      AM0                   AM1.5G  \\\n",
       "Wvlgth nm  Etr W*m-2*nm-1  Global tilt  W*m-2*nm-1   \n",
       "280              8.20E-02                 4.73E-23   \n",
       "280.5            9.90E-02                 1.23E-21   \n",
       "281              1.50E-01                 5.69E-21   \n",
       "281.5            2.12E-01                 1.57E-19   \n",
       "...                   ...                      ...   \n",
       "3980             8.84E-03                 7.39E-03   \n",
       "3985             8.80E-03                 7.43E-03   \n",
       "3990             8.78E-03                 7.37E-03   \n",
       "3995             8.70E-03                 7.21E-03   \n",
       "4000             8.68E-03                 7.10E-03   \n",
       "\n",
       "                                  AM1.5D  \n",
       "Wvlgth nm  Direct+circumsolar W*m-2*nm-1  \n",
       "280                             2.54E-26  \n",
       "280.5                           1.09E-24  \n",
       "281                             6.13E-24  \n",
       "281.5                           2.75E-22  \n",
       "...                                  ...  \n",
       "3980                            7.40E-03  \n",
       "3985                            7.45E-03  \n",
       "3990                            7.39E-03  \n",
       "3995                            7.23E-03  \n",
       "4000                            7.12E-03  \n",
       "\n",
       "[2003 rows x 3 columns]"
      ]
     },
     "execution_count": 2,
     "metadata": {},
     "output_type": "execute_result"
    }
   ],
   "source": [
    "reference = pd.read_csv('data/Reference_spectrum_ASTM-G173-03.csv', index_col=0, header=0) \n",
    "reference"
   ]
  },
  {
   "cell_type": "code",
   "execution_count": 3,
   "metadata": {},
   "outputs": [],
   "source": [
    "reference.drop(reference.index[0], inplace=True)   # remove row including information on units\n",
    "reference=reference.astype(float)                  # convert values to float for easy operation\n",
    "reference.index=reference.index.astype(float)      # convert indexes to float for easy operation"
   ]
  },
  {
   "cell_type": "markdown",
   "metadata": {},
   "source": [
    "We import the data for the Xe-arc lamp."
   ]
  },
  {
   "cell_type": "code",
   "execution_count": 4,
   "metadata": {},
   "outputs": [
    {
     "data": {
      "text/html": [
       "<div>\n",
       "<style scoped>\n",
       "    .dataframe tbody tr th:only-of-type {\n",
       "        vertical-align: middle;\n",
       "    }\n",
       "\n",
       "    .dataframe tbody tr th {\n",
       "        vertical-align: top;\n",
       "    }\n",
       "\n",
       "    .dataframe thead th {\n",
       "        text-align: right;\n",
       "    }\n",
       "</style>\n",
       "<table border=\"1\" class=\"dataframe\">\n",
       "  <thead>\n",
       "    <tr style=\"text-align: right;\">\n",
       "      <th></th>\n",
       "      <th>Xe arc lamp (W*m-2*nm-1)</th>\n",
       "    </tr>\n",
       "    <tr>\n",
       "      <th>wavelength (nm)</th>\n",
       "      <th></th>\n",
       "    </tr>\n",
       "  </thead>\n",
       "  <tbody>\n",
       "    <tr>\n",
       "      <th>300.36966</th>\n",
       "      <td>0.000793</td>\n",
       "    </tr>\n",
       "    <tr>\n",
       "      <th>300.58005</th>\n",
       "      <td>0.000816</td>\n",
       "    </tr>\n",
       "    <tr>\n",
       "      <th>300.79044</th>\n",
       "      <td>0.000837</td>\n",
       "    </tr>\n",
       "    <tr>\n",
       "      <th>301.00082</th>\n",
       "      <td>0.000858</td>\n",
       "    </tr>\n",
       "    <tr>\n",
       "      <th>301.21124</th>\n",
       "      <td>0.000876</td>\n",
       "    </tr>\n",
       "    <tr>\n",
       "      <th>...</th>\n",
       "      <td>...</td>\n",
       "    </tr>\n",
       "    <tr>\n",
       "      <th>1199.77246</th>\n",
       "      <td>0.213920</td>\n",
       "    </tr>\n",
       "    <tr>\n",
       "      <th>1199.84302</th>\n",
       "      <td>0.213600</td>\n",
       "    </tr>\n",
       "    <tr>\n",
       "      <th>1199.91345</th>\n",
       "      <td>0.213280</td>\n",
       "    </tr>\n",
       "    <tr>\n",
       "      <th>1199.98401</th>\n",
       "      <td>0.212960</td>\n",
       "    </tr>\n",
       "    <tr>\n",
       "      <th>1200.05444</th>\n",
       "      <td>0.212640</td>\n",
       "    </tr>\n",
       "  </tbody>\n",
       "</table>\n",
       "<p>6283 rows × 1 columns</p>\n",
       "</div>"
      ],
      "text/plain": [
       "                 Xe arc lamp (W*m-2*nm-1)\n",
       "wavelength (nm)                          \n",
       "300.36966                        0.000793\n",
       "300.58005                        0.000816\n",
       "300.79044                        0.000837\n",
       "301.00082                        0.000858\n",
       "301.21124                        0.000876\n",
       "...                                   ...\n",
       "1199.77246                       0.213920\n",
       "1199.84302                       0.213600\n",
       "1199.91345                       0.213280\n",
       "1199.98401                       0.212960\n",
       "1200.05444                       0.212640\n",
       "\n",
       "[6283 rows x 1 columns]"
      ]
     },
     "execution_count": 4,
     "metadata": {},
     "output_type": "execute_result"
    }
   ],
   "source": [
    "xe_arc = pd.read_csv('data/Xe lamp spectral irradiance.csv', index_col=0, header=0) \n",
    "xe_arc"
   ]
  },
  {
   "cell_type": "markdown",
   "metadata": {},
   "source": [
    "We import the data for the quartz tungsten lamp."
   ]
  },
  {
   "cell_type": "code",
   "execution_count": 5,
   "metadata": {},
   "outputs": [
    {
     "data": {
      "text/html": [
       "<div>\n",
       "<style scoped>\n",
       "    .dataframe tbody tr th:only-of-type {\n",
       "        vertical-align: middle;\n",
       "    }\n",
       "\n",
       "    .dataframe tbody tr th {\n",
       "        vertical-align: top;\n",
       "    }\n",
       "\n",
       "    .dataframe thead th {\n",
       "        text-align: right;\n",
       "    }\n",
       "</style>\n",
       "<table border=\"1\" class=\"dataframe\">\n",
       "  <thead>\n",
       "    <tr style=\"text-align: right;\">\n",
       "      <th></th>\n",
       "      <th>W halogen lamp (W*m-2*nm-1)</th>\n",
       "    </tr>\n",
       "    <tr>\n",
       "      <th>wavelength (nm)</th>\n",
       "      <th></th>\n",
       "    </tr>\n",
       "  </thead>\n",
       "  <tbody>\n",
       "    <tr>\n",
       "      <th>300</th>\n",
       "      <td>0.000001</td>\n",
       "    </tr>\n",
       "    <tr>\n",
       "      <th>301</th>\n",
       "      <td>0.000010</td>\n",
       "    </tr>\n",
       "    <tr>\n",
       "      <th>302</th>\n",
       "      <td>0.000100</td>\n",
       "    </tr>\n",
       "    <tr>\n",
       "      <th>303</th>\n",
       "      <td>0.000200</td>\n",
       "    </tr>\n",
       "    <tr>\n",
       "      <th>304</th>\n",
       "      <td>0.000300</td>\n",
       "    </tr>\n",
       "    <tr>\n",
       "      <th>...</th>\n",
       "      <td>...</td>\n",
       "    </tr>\n",
       "    <tr>\n",
       "      <th>1196</th>\n",
       "      <td>0.654304</td>\n",
       "    </tr>\n",
       "    <tr>\n",
       "      <th>1197</th>\n",
       "      <td>0.653941</td>\n",
       "    </tr>\n",
       "    <tr>\n",
       "      <th>1198</th>\n",
       "      <td>0.651544</td>\n",
       "    </tr>\n",
       "    <tr>\n",
       "      <th>1199</th>\n",
       "      <td>0.647531</td>\n",
       "    </tr>\n",
       "    <tr>\n",
       "      <th>1200</th>\n",
       "      <td>0.644677</td>\n",
       "    </tr>\n",
       "  </tbody>\n",
       "</table>\n",
       "<p>901 rows × 1 columns</p>\n",
       "</div>"
      ],
      "text/plain": [
       "                 W halogen lamp (W*m-2*nm-1)\n",
       "wavelength (nm)                             \n",
       "300                                 0.000001\n",
       "301                                 0.000010\n",
       "302                                 0.000100\n",
       "303                                 0.000200\n",
       "304                                 0.000300\n",
       "...                                      ...\n",
       "1196                                0.654304\n",
       "1197                                0.653941\n",
       "1198                                0.651544\n",
       "1199                                0.647531\n",
       "1200                                0.644677\n",
       "\n",
       "[901 rows x 1 columns]"
      ]
     },
     "execution_count": 5,
     "metadata": {},
     "output_type": "execute_result"
    }
   ],
   "source": [
    "quartz_w = pd.read_csv('data/W lamp spectral irradiance.csv', index_col=0, header=0) \n",
    "quartz_w"
   ]
  },
  {
   "cell_type": "markdown",
   "metadata": {},
   "source": [
    "We can also plot the AM1.5G spectra, the Xe-arc lamp, and the quarz tungsten lamp spectra."
   ]
  },
  {
   "cell_type": "code",
   "execution_count": 6,
   "metadata": {},
   "outputs": [
    {
     "data": {
      "text/plain": [
       "<matplotlib.legend.Legend at 0x238d2d4fd88>"
      ]
     },
     "execution_count": 6,
     "metadata": {},
     "output_type": "execute_result"
    },
    {
     "data": {
      "image/png": "[encoded data removed]",
      "text/plain": [
       "<Figure size 640x480 with 1 Axes>"
      ]
     },
     "metadata": {},
     "output_type": "display_data"
    }
   ],
   "source": [
    "plt.plot(reference['AM1.5G'], \n",
    "         linewidth=2, label='AM1.5G')\n",
    "plt.plot(xe_arc, \n",
    "         linewidth=2, label='Xe-arc lamp')\n",
    "plt.plot(quartz_w, \n",
    "         linewidth=2, label='Quartz tungsten lamp')\n",
    "plt.ylabel('Spectral distribution (W*m-2*nm-1)')\n",
    "plt.xlabel('Wavelength (nm)')\n",
    "plt.xlim([250,1300])\n",
    "plt.legend()"
   ]
  },
  {
   "cell_type": "markdown",
   "metadata": {},
   "source": [
    "We can calculate the total irradiance from every spectra in each 100 nm-bands from 300 to 1200 nm. "
   ]
  },
  {
   "cell_type": "code",
   "execution_count": 7,
   "metadata": {},
   "outputs": [
    {
     "data": {
      "text/html": [
       "<div>\n",
       "<style scoped>\n",
       "    .dataframe tbody tr th:only-of-type {\n",
       "        vertical-align: middle;\n",
       "    }\n",
       "\n",
       "    .dataframe tbody tr th {\n",
       "        vertical-align: top;\n",
       "    }\n",
       "\n",
       "    .dataframe thead th {\n",
       "        text-align: right;\n",
       "    }\n",
       "</style>\n",
       "<table border=\"1\" class=\"dataframe\">\n",
       "  <thead>\n",
       "    <tr style=\"text-align: right;\">\n",
       "      <th></th>\n",
       "      <th>AM1.5G</th>\n",
       "      <th>Xe arc lamp</th>\n",
       "      <th>Quartz W halogen lamp</th>\n",
       "    </tr>\n",
       "  </thead>\n",
       "  <tbody>\n",
       "    <tr>\n",
       "      <th>300</th>\n",
       "      <td>46.3471</td>\n",
       "      <td>7.745697</td>\n",
       "      <td>4.3254</td>\n",
       "    </tr>\n",
       "    <tr>\n",
       "      <th>400</th>\n",
       "      <td>137.925</td>\n",
       "      <td>59.513764</td>\n",
       "      <td>22.750901</td>\n",
       "    </tr>\n",
       "    <tr>\n",
       "      <th>500</th>\n",
       "      <td>151.4</td>\n",
       "      <td>68.860502</td>\n",
       "      <td>51.50123</td>\n",
       "    </tr>\n",
       "    <tr>\n",
       "      <th>600</th>\n",
       "      <td>140.4</td>\n",
       "      <td>71.229846</td>\n",
       "      <td>77.502158</td>\n",
       "    </tr>\n",
       "    <tr>\n",
       "      <th>700</th>\n",
       "      <td>111.44</td>\n",
       "      <td>58.938656</td>\n",
       "      <td>93.554867</td>\n",
       "    </tr>\n",
       "    <tr>\n",
       "      <th>800</th>\n",
       "      <td>95.685</td>\n",
       "      <td>118.622972</td>\n",
       "      <td>99.165299</td>\n",
       "    </tr>\n",
       "    <tr>\n",
       "      <th>900</th>\n",
       "      <td>56.28</td>\n",
       "      <td>112.40382</td>\n",
       "      <td>97.922396</td>\n",
       "    </tr>\n",
       "    <tr>\n",
       "      <th>1000</th>\n",
       "      <td>64.92</td>\n",
       "      <td>38.525673</td>\n",
       "      <td>85.919091</td>\n",
       "    </tr>\n",
       "    <tr>\n",
       "      <th>1100</th>\n",
       "      <td>31.3655</td>\n",
       "      <td>30.108108</td>\n",
       "      <td>74.070708</td>\n",
       "    </tr>\n",
       "    <tr>\n",
       "      <th>1200</th>\n",
       "      <td>43.635</td>\n",
       "      <td>21.265237</td>\n",
       "      <td>64.467675</td>\n",
       "    </tr>\n",
       "  </tbody>\n",
       "</table>\n",
       "</div>"
      ],
      "text/plain": [
       "       AM1.5G Xe arc lamp Quartz W halogen lamp\n",
       "300   46.3471    7.745697                4.3254\n",
       "400   137.925   59.513764             22.750901\n",
       "500     151.4   68.860502              51.50123\n",
       "600     140.4   71.229846             77.502158\n",
       "700    111.44   58.938656             93.554867\n",
       "800    95.685  118.622972             99.165299\n",
       "900     56.28   112.40382             97.922396\n",
       "1000    64.92   38.525673             85.919091\n",
       "1100  31.3655   30.108108             74.070708\n",
       "1200   43.635   21.265237             64.467675"
      ]
     },
     "execution_count": 7,
     "metadata": {},
     "output_type": "execute_result"
    }
   ],
   "source": [
    "bands = np.array(np.arange(300,1300,100))\n",
    "w=5\n",
    "irradiance_bands = pd.DataFrame(columns=['AM1.5G', 'Xe arc lamp', 'Quartz W halogen lamp'])\n",
    "AM15G=reference['AM1.5G']\n",
    "Xe=xe_arc['Xe arc lamp (W*m-2*nm-1)']\n",
    "Quartz_W=quartz_w['W halogen lamp (W*m-2*nm-1)']\n",
    "for band in bands:    \n",
    "    AM15G_interpolated=np.interp(np.arange(band, band+100, w), AM15G.index, AM15G.values)   \n",
    "    irradiance_bands.loc[band,'AM1.5G'] = AM15G_interpolated.sum()*w\n",
    "    \n",
    "    Xe_interpolated=np.interp(np.arange(band, band+100, w), Xe.index, Xe.values)   \n",
    "    irradiance_bands.loc[band,'Xe arc lamp'] = Xe_interpolated.sum()*w\n",
    "    \n",
    "    Quartz_W_interpolated=np.interp(np.arange(band, band+100, w), Quartz_W.index, Quartz_W.values)   \n",
    "    irradiance_bands.loc[band,'Quartz W halogen lamp'] = Quartz_W_interpolated.sum()*w\n",
    "irradiance_bands"
   ]
  },
  {
   "cell_type": "markdown",
   "metadata": {},
   "source": [
    "We can plot the total irradiance per band from the different lamps. "
   ]
  },
  {
   "cell_type": "code",
   "execution_count": 8,
   "metadata": {},
   "outputs": [
    {
     "data": {
      "text/plain": [
       "Text(0.5, 0, 'Wavelength (nm)')"
      ]
     },
     "execution_count": 8,
     "metadata": {},
     "output_type": "execute_result"
    },
    {
     "data": {
      "image/png": "[encoded data removed]",
      "text/plain": [
       "<Figure size 640x480 with 1 Axes>"
      ]
     },
     "metadata": {},
     "output_type": "display_data"
    }
   ],
   "source": [
    "ax = irradiance_bands.plot.bar(rot=0)\n",
    "plt.ylabel('Irradiance (W*m-2)')\n",
    "plt.xlabel('Wavelength (nm)')"
   ]
  },
  {
   "cell_type": "markdown",
   "metadata": {},
   "source": [
    "We can also calculate the errors in percentage. "
   ]
  },
  {
   "cell_type": "code",
   "execution_count": 9,
   "metadata": {},
   "outputs": [
    {
     "data": {
      "text/html": [
       "<div>\n",
       "<style scoped>\n",
       "    .dataframe tbody tr th:only-of-type {\n",
       "        vertical-align: middle;\n",
       "    }\n",
       "\n",
       "    .dataframe tbody tr th {\n",
       "        vertical-align: top;\n",
       "    }\n",
       "\n",
       "    .dataframe thead th {\n",
       "        text-align: right;\n",
       "    }\n",
       "</style>\n",
       "<table border=\"1\" class=\"dataframe\">\n",
       "  <thead>\n",
       "    <tr style=\"text-align: right;\">\n",
       "      <th></th>\n",
       "      <th>AM1.5G</th>\n",
       "      <th>Xe arc lamp</th>\n",
       "      <th>Quartz W halogen lamp</th>\n",
       "      <th>error Xe arc lamp</th>\n",
       "      <th>error Quartz W halogen lamp</th>\n",
       "    </tr>\n",
       "  </thead>\n",
       "  <tbody>\n",
       "    <tr>\n",
       "      <th>300</th>\n",
       "      <td>46.3471</td>\n",
       "      <td>7.745697</td>\n",
       "      <td>4.3254</td>\n",
       "      <td>-83.287635</td>\n",
       "      <td>-90.667377</td>\n",
       "    </tr>\n",
       "    <tr>\n",
       "      <th>400</th>\n",
       "      <td>137.925</td>\n",
       "      <td>59.513764</td>\n",
       "      <td>22.750901</td>\n",
       "      <td>-56.850633</td>\n",
       "      <td>-83.504875</td>\n",
       "    </tr>\n",
       "    <tr>\n",
       "      <th>500</th>\n",
       "      <td>151.4</td>\n",
       "      <td>68.860502</td>\n",
       "      <td>51.50123</td>\n",
       "      <td>-54.517502</td>\n",
       "      <td>-65.983335</td>\n",
       "    </tr>\n",
       "    <tr>\n",
       "      <th>600</th>\n",
       "      <td>140.4</td>\n",
       "      <td>71.229846</td>\n",
       "      <td>77.502158</td>\n",
       "      <td>-49.266492</td>\n",
       "      <td>-44.799033</td>\n",
       "    </tr>\n",
       "    <tr>\n",
       "      <th>700</th>\n",
       "      <td>111.44</td>\n",
       "      <td>58.938656</td>\n",
       "      <td>93.554867</td>\n",
       "      <td>-47.111759</td>\n",
       "      <td>-16.049114</td>\n",
       "    </tr>\n",
       "    <tr>\n",
       "      <th>800</th>\n",
       "      <td>95.685</td>\n",
       "      <td>118.622972</td>\n",
       "      <td>99.165299</td>\n",
       "      <td>23.97238</td>\n",
       "      <td>3.637246</td>\n",
       "    </tr>\n",
       "    <tr>\n",
       "      <th>900</th>\n",
       "      <td>56.28</td>\n",
       "      <td>112.40382</td>\n",
       "      <td>97.922396</td>\n",
       "      <td>99.722494</td>\n",
       "      <td>73.991465</td>\n",
       "    </tr>\n",
       "    <tr>\n",
       "      <th>1000</th>\n",
       "      <td>64.92</td>\n",
       "      <td>38.525673</td>\n",
       "      <td>85.919091</td>\n",
       "      <td>-40.656696</td>\n",
       "      <td>32.346104</td>\n",
       "    </tr>\n",
       "    <tr>\n",
       "      <th>1100</th>\n",
       "      <td>31.3655</td>\n",
       "      <td>30.108108</td>\n",
       "      <td>74.070708</td>\n",
       "      <td>-4.008838</td>\n",
       "      <td>136.153444</td>\n",
       "    </tr>\n",
       "    <tr>\n",
       "      <th>1200</th>\n",
       "      <td>43.635</td>\n",
       "      <td>21.265237</td>\n",
       "      <td>64.467675</td>\n",
       "      <td>-51.265643</td>\n",
       "      <td>47.743038</td>\n",
       "    </tr>\n",
       "  </tbody>\n",
       "</table>\n",
       "</div>"
      ],
      "text/plain": [
       "       AM1.5G Xe arc lamp Quartz W halogen lamp error Xe arc lamp  \\\n",
       "300   46.3471    7.745697                4.3254        -83.287635   \n",
       "400   137.925   59.513764             22.750901        -56.850633   \n",
       "500     151.4   68.860502              51.50123        -54.517502   \n",
       "600     140.4   71.229846             77.502158        -49.266492   \n",
       "700    111.44   58.938656             93.554867        -47.111759   \n",
       "800    95.685  118.622972             99.165299          23.97238   \n",
       "900     56.28   112.40382             97.922396         99.722494   \n",
       "1000    64.92   38.525673             85.919091        -40.656696   \n",
       "1100  31.3655   30.108108             74.070708         -4.008838   \n",
       "1200   43.635   21.265237             64.467675        -51.265643   \n",
       "\n",
       "     error Quartz W halogen lamp  \n",
       "300                   -90.667377  \n",
       "400                   -83.504875  \n",
       "500                   -65.983335  \n",
       "600                   -44.799033  \n",
       "700                   -16.049114  \n",
       "800                     3.637246  \n",
       "900                    73.991465  \n",
       "1000                   32.346104  \n",
       "1100                  136.153444  \n",
       "1200                   47.743038  "
      ]
     },
     "execution_count": 9,
     "metadata": {},
     "output_type": "execute_result"
    }
   ],
   "source": [
    "irradiance_bands['error Xe arc lamp'] = 100*(irradiance_bands['Xe arc lamp']/irradiance_bands['AM1.5G']-1)\n",
    "irradiance_bands['error Quartz W halogen lamp'] = 100*(irradiance_bands['Quartz W halogen lamp']/irradiance_bands['AM1.5G']-1)\n",
    "\n",
    "irradiance_bands"
   ]
  }
 ],
 "metadata": {
  "kernelspec": {
   "display_name": "Python 3 (ipykernel)",
   "language": "python",
   "name": "python3"
  },
  "language_info": {
   "codemirror_mode": {
    "name": "ipython",
    "version": 3
   },
   "file_extension": ".py",
   "mimetype": "text/x-python",
   "name": "python",
   "nbconvert_exporter": "python",
   "pygments_lexer": "ipython3",
   "version": "3.7.12"
  }
 },
 "nbformat": 4,
 "nbformat_minor": 4
}
