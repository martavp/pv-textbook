{
 "cells": [
  {
   "cell_type": "markdown",
   "metadata": {},
   "source": [
    "# Problem 14.4"
   ]
  },
  {
   "cell_type": "markdown",
   "metadata": {},
   "source": [
    "**Fundamentals of Solar Cells and Photovoltaic Systems Engineering**\n",
    "\n",
    "**Solutions Manual**\n",
    "\n",
    "**Problem 14.4**\n"
   ]
  },
  {
   "cell_type": "markdown",
   "metadata": {},
   "source": [
    "**Determine the dominant frequencies for solar PV and wind power fluctuations by calculating the Fast Fourier Transform (FFT) of the solar PV and wind power time series corresponding to the country in Problem 14.3 and plotting the power spectra.**"
   ]
  },
  {
   "cell_type": "markdown",
   "metadata": {},
   "source": [
    "We downloaded solar PV and wind time series for Spain from https://model.energy/ and saved it in the data folder."
   ]
  },
  {
   "cell_type": "markdown",
   "metadata": {},
   "source": [
    "We will use the packages [pandas](https://pandas.org/), [numpy](https://numpy.org/), and [matplotlib.pyplot](https://matplotlib.org/stable/index.html) to plot the results"
   ]
  },
  {
   "cell_type": "code",
   "execution_count": 1,
   "metadata": {},
   "outputs": [],
   "source": [
    "import pandas as pd\n",
    "import numpy as np\n",
    "import matplotlib.pyplot as  plt\n",
    "import matplotlib.gridspec as gridspec"
   ]
  },
  {
   "cell_type": "markdown",
   "metadata": {},
   "source": [
    "First, we retrieve the time series. "
   ]
  },
  {
   "cell_type": "code",
   "execution_count": 2,
   "metadata": {},
   "outputs": [
    {
     "data": {
      "text/html": [
       "<div>\n",
       "<style scoped>\n",
       "    .dataframe tbody tr th:only-of-type {\n",
       "        vertical-align: middle;\n",
       "    }\n",
       "\n",
       "    .dataframe tbody tr th {\n",
       "        vertical-align: top;\n",
       "    }\n",
       "\n",
       "    .dataframe thead th {\n",
       "        text-align: right;\n",
       "    }\n",
       "</style>\n",
       "<table border=\"1\" class=\"dataframe\">\n",
       "  <thead>\n",
       "    <tr style=\"text-align: right;\">\n",
       "      <th></th>\n",
       "      <th>onwind</th>\n",
       "      <th>solar</th>\n",
       "    </tr>\n",
       "  </thead>\n",
       "  <tbody>\n",
       "    <tr>\n",
       "      <th>2011-01-01 00:00:00</th>\n",
       "      <td>0.021</td>\n",
       "      <td>0.0</td>\n",
       "    </tr>\n",
       "    <tr>\n",
       "      <th>2011-01-01 01:00:00</th>\n",
       "      <td>0.021</td>\n",
       "      <td>0.0</td>\n",
       "    </tr>\n",
       "    <tr>\n",
       "      <th>2011-01-01 02:00:00</th>\n",
       "      <td>0.020</td>\n",
       "      <td>0.0</td>\n",
       "    </tr>\n",
       "    <tr>\n",
       "      <th>2011-01-01 03:00:00</th>\n",
       "      <td>0.018</td>\n",
       "      <td>0.0</td>\n",
       "    </tr>\n",
       "    <tr>\n",
       "      <th>2011-01-01 04:00:00</th>\n",
       "      <td>0.016</td>\n",
       "      <td>0.0</td>\n",
       "    </tr>\n",
       "  </tbody>\n",
       "</table>\n",
       "</div>"
      ],
      "text/plain": [
       "                     onwind  solar\n",
       "2011-01-01 00:00:00   0.021    0.0\n",
       "2011-01-01 01:00:00   0.021    0.0\n",
       "2011-01-01 02:00:00   0.020    0.0\n",
       "2011-01-01 03:00:00   0.018    0.0\n",
       "2011-01-01 04:00:00   0.016    0.0"
      ]
     },
     "execution_count": 2,
     "metadata": {},
     "output_type": "execute_result"
    }
   ],
   "source": [
    "CF=pd.read_csv('data/time-series-SPAIN.csv',\n",
    "                  sep=',', index_col=0)\n",
    "CF.head()"
   ]
  },
  {
   "cell_type": "markdown",
   "metadata": {},
   "source": [
    "We calculate the Fast Fourier Transform (FFT) of the solar PV capacity factor time series. "
   ]
  },
  {
   "cell_type": "code",
   "execution_count": 3,
   "metadata": {},
   "outputs": [
    {
     "name": "stderr",
     "output_type": "stream",
     "text": [
      "C:\\Users\\34620\\.conda\\envs\\env_pv_textbook\\lib\\site-packages\\ipykernel_launcher.py:7: RuntimeWarning: divide by zero encountered in double_scalars\n",
      "  import sys\n"
     ]
    }
   ],
   "source": [
    "t_sampling=1 # sampling rate, 1 data per hour\n",
    "x = np.arange(1,8761, t_sampling) \n",
    "y = CF['solar']\n",
    "n = len(x)\n",
    "y_fft = np.fft.fft(y)/n #n for normalization    \n",
    "frq = np.arange(0,1/t_sampling,1/(t_sampling*n))        \n",
    "period = np.array([1/f for f in frq])  "
   ]
  },
  {
   "cell_type": "markdown",
   "metadata": {},
   "source": [
    "We plot the power spectra for solar CF time series."
   ]
  },
  {
   "cell_type": "code",
   "execution_count": 5,
   "metadata": {},
   "outputs": [
    {
     "data": {
      "text/plain": [
       "Text(740, 0.95, 'month')"
      ]
     },
     "execution_count": 5,
     "metadata": {},
     "output_type": "execute_result"
    },
    {
     "data": {
      "image/png": "[encoded data removed]",
      "text/plain": [
       "<Figure size 720x288 with 1 Axes>"
      ]
     },
     "metadata": {
      "needs_background": "light"
     },
     "output_type": "display_data"
    }
   ],
   "source": [
    "plt.figure(figsize=(10, 4))\n",
    "gs = gridspec.GridSpec(1, 1)\n",
    "ax0 = plt.subplot(gs[0,0])\n",
    "ax0.semilogx(period[1:n//2],\n",
    "             abs(y_fft[1:n//2])/np.max(abs(y_fft[1:n//2])), \n",
    "             color='orange',\n",
    "             linewidth=2, label='solar PV')  \n",
    "ax0.legend(loc='best', shadow=True, fancybox=True)\n",
    "ax0.set_xticks([1, 10, 100, 1000, 10000])\n",
    "ax0.set_xticklabels(['1', '10', '100', '1000', '10000'])\n",
    "ax0.set_xlabel('cycling period (hours)')\n",
    "\n",
    "#We add lines indicating day, week, month \n",
    "plt.axvline(x=24, color='lightgrey', linestyle='--')\n",
    "plt.axvline(x=24*7, color='lightgrey', linestyle='--')\n",
    "plt.axvline(x=24*30, color='lightgrey', linestyle='--')\n",
    "plt.axvline(x=8760, color='lightgrey', linestyle='--') \n",
    "plt.text(26, 0.95, 'day', horizontalalignment='left', color='dimgrey', fontsize=14)\n",
    "plt.text(24*7+20, 0.95, 'week', horizontalalignment='left', color='dimgrey', fontsize=14)\n",
    "plt.text(24*30+20, 0.95, 'month', horizontalalignment='left', color='dimgrey', fontsize=14)"
   ]
  },
  {
   "cell_type": "markdown",
   "metadata": {},
   "source": [
    "We calculate the Fast Fourier Transform (FFT) of the onshore wind capacity factor time series. "
   ]
  },
  {
   "cell_type": "code",
   "execution_count": 6,
   "metadata": {},
   "outputs": [
    {
     "name": "stderr",
     "output_type": "stream",
     "text": [
      "C:\\Users\\34620\\.conda\\envs\\env_pv_textbook\\lib\\site-packages\\ipykernel_launcher.py:7: RuntimeWarning: divide by zero encountered in double_scalars\n",
      "  import sys\n"
     ]
    }
   ],
   "source": [
    "t_sampling=1 # sampling rate, 1 data per hour\n",
    "x = np.arange(1,8761, t_sampling) \n",
    "y = CF['onwind']\n",
    "n = len(x)\n",
    "y_fft=np.fft.fft(y)/n #n for normalization    \n",
    "frq=np.arange(0,1/t_sampling,1/(t_sampling*n))        \n",
    "period=np.array([1/f for f in frq])  "
   ]
  },
  {
   "cell_type": "markdown",
   "metadata": {},
   "source": [
    "We plot the power spectra for onshore wind CF time series."
   ]
  },
  {
   "cell_type": "code",
   "execution_count": 7,
   "metadata": {},
   "outputs": [
    {
     "data": {
      "text/plain": [
       "Text(740, 0.95, 'month')"
      ]
     },
     "execution_count": 7,
     "metadata": {},
     "output_type": "execute_result"
    },
    {
     "data": {
      "image/png": "[encoded data removed]",
      "text/plain": [
       "<Figure size 720x288 with 1 Axes>"
      ]
     },
     "metadata": {
      "needs_background": "light"
     },
     "output_type": "display_data"
    }
   ],
   "source": [
    "plt.figure(figsize=(10, 4))\n",
    "gs = gridspec.GridSpec(1, 1)\n",
    "ax0 = plt.subplot(gs[0,0])\n",
    "ax0.semilogx(period[1:n//2],\n",
    "             abs(y_fft[1:n//2])/np.max(abs(y_fft[1:n//2])), \n",
    "             color='blue',\n",
    "             linewidth=2, label='onshore wind')  \n",
    "ax0.legend(loc='best', shadow=True, fancybox=True)\n",
    "ax0.set_xticks([1, 10, 100, 1000, 10000])\n",
    "ax0.set_xticklabels(['1', '10', '100', '1000', '10000'])\n",
    "ax0.set_xlabel('cycling period (hours)')\n",
    "\n",
    "#We add lines indicating day, week, month \n",
    "plt.axvline(x=24, color='lightgrey', linestyle='--')\n",
    "plt.axvline(x=24*7, color='lightgrey', linestyle='--')\n",
    "plt.axvline(x=24*30, color='lightgrey', linestyle='--')\n",
    "plt.axvline(x=8760, color='lightgrey', linestyle='--') \n",
    "plt.text(26, 0.95, 'day', horizontalalignment='left', color='dimgrey', fontsize=14)\n",
    "plt.text(24*7+20, 0.95, 'week', horizontalalignment='left', color='dimgrey', fontsize=14)\n",
    "plt.text(24*30+20, 0.95, 'month', horizontalalignment='left', color='dimgrey', fontsize=14)"
   ]
  },
  {
   "cell_type": "code",
   "execution_count": null,
   "metadata": {},
   "outputs": [],
   "source": []
  }
 ],
 "metadata": {
  "kernelspec": {
   "display_name": "Python 3 (ipykernel)",
   "language": "python",
   "name": "python3"
  },
  "language_info": {
   "codemirror_mode": {
    "name": "ipython",
    "version": 3
   },
   "file_extension": ".py",
   "mimetype": "text/x-python",
   "name": "python",
   "nbconvert_exporter": "python",
   "pygments_lexer": "ipython3",
   "version": "3.7.12"
  }
 },
 "nbformat": 4,
 "nbformat_minor": 4
}
