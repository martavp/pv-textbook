{
 "cells": [
  {
   "cell_type": "markdown",
   "id": "4f0ca2a4",
   "metadata": {},
   "source": [
    "# Problem 5.3\n"
   ]
  },
  {
   "cell_type": "markdown",
   "id": "c3b3d6b6",
   "metadata": {},
   "source": [
    "**\"Calculate the reflectivity of silicon as a function of wavelength. Then calculate the reflectivity if the surface is textured so that the light impinges the surface twice. How much light power density of the solar global spectrum is reflected in each case, in the range up to the bandgap of silicon (1100 nm)?. \"**"
   ]
  },
  {
   "cell_type": "markdown",
   "id": "7e72fb5e",
   "metadata": {},
   "source": [
    "First, we import the Python modules used"
   ]
  },
  {
   "cell_type": "code",
   "execution_count": 1,
   "id": "0e83057f",
   "metadata": {},
   "outputs": [],
   "source": [
    "import math\n",
    "import numpy as np\n",
    "import matplotlib.pyplot as plt\n"
   ]
  },
  {
   "cell_type": "markdown",
   "id": "5d016b6c",
   "metadata": {},
   "source": [
    "We load the data for silicon refractive index and AM1.5G solar spectrum"
   ]
  },
  {
   "cell_type": "code",
   "execution_count": 2,
   "id": "547eb66b",
   "metadata": {},
   "outputs": [],
   "source": [
    "# Load nk and solar spectrum data\n",
    "# We assume the data is in the same folder as the notebook file\n",
    "\n",
    "#Data columns: wavelength(nm) refractive_index extinction_coefficient\n",
    "Si_nk = np.loadtxt(\"data/Si_nk.txt\", skiprows=2, delimiter='\\t')\n",
    "\n",
    "#Data columns: wavelength(nm) spectral_irradiance (W·m-2·nm-1)\n",
    "AM15G = np.loadtxt(\"data/am15g_G173_W.txt\", skiprows=1, delimiter='\\t')\n"
   ]
  },
  {
   "cell_type": "markdown",
   "id": "f7d57bc2",
   "metadata": {},
   "source": [
    "Calculate the spectral reflectivity at normal incidence"
   ]
  },
  {
   "cell_type": "code",
   "execution_count": 3,
   "id": "2bee8370",
   "metadata": {},
   "outputs": [],
   "source": [
    "nData = Si_nk.shape[0]\n",
    "Rfl = np.zeros((nData,2))\n",
    "Rfl[:,0] = np.arange(Si_nk[0,0], Si_nk[0,0]+nData, 1)\n",
    "\n",
    "for x in range(nData):\n",
    "    nSi = np.interp(Rfl[x,0], Si_nk[:,0],Si_nk[:,1])\n",
    "    Rfl[x,1] = ((1-nSi)/(1+nSi))**2\n",
    "\n",
    "Rfl_txtred = Rfl.copy()\n",
    "\n",
    "Rfl_txtred[:,1] *= Rfl_txtred[:,1]"
   ]
  },
  {
   "cell_type": "markdown",
   "id": "d44a37d8",
   "metadata": {},
   "source": [
    "Plot the data"
   ]
  },
  {
   "cell_type": "code",
   "execution_count": 6,
   "id": "e62c8f96",
   "metadata": {},
   "outputs": [
    {
     "data": {
      "image/png": "[encoded data removed]",
      "text/plain": [
       "<Figure size 432x288 with 1 Axes>"
      ]
     },
     "metadata": {
      "needs_background": "light"
     },
     "output_type": "display_data"
    }
   ],
   "source": [
    "plt.plot(AM15G[:,0], AM15G[:,1], color='y', label='AM1.5G')\n",
    "plt.plot(Rfl[:,0], Rfl[:,1], color='b', label='Reflectivity')\n",
    "plt.plot(Rfl_txtred[:,0], Rfl_txtred[:,1], color='r', label='Rfl. textured')\n",
    "\n",
    "\n",
    "plt.xlabel('wavelength (nm)', size=14)\n",
    "plt.ylabel('R or spectral irradiance (W·m-2·nm-1)', size=14)\n",
    "plt.ylim()\n",
    "plt.legend()\n",
    "\n",
    "# Save figure\n",
    "plt.savefig(\"fig_S5.3.png\", dpi=300)"
   ]
  },
  {
   "cell_type": "code",
   "execution_count": 7,
   "id": "4c0a15e0",
   "metadata": {},
   "outputs": [
    {
     "name": "stdout",
     "output_type": "stream",
     "text": [
      "Reflected power: 292.5 W/m2 (36.3%)\n",
      "Reflected power with texturing: 108.4 W/m2 (13.5%)\n"
     ]
    }
   ],
   "source": [
    "Rfl_power = Rfl.copy()\n",
    "Rfl_power_txtred = Rfl_txtred.copy()\n",
    "AM15G_SiRange = AM15G.copy()\n",
    "\n",
    "for x in range(nData):\n",
    "    Rfl_power[x,1] *= np.interp(Rfl_power[x,0], AM15G[:,0],AM15G[:,1])\n",
    "    Rfl_power_txtred[x,1] *= np.interp(Rfl_power_txtred[x,0], AM15G[:,0],AM15G[:,1])\n",
    "   \n",
    "    if Rfl_power[x,0] > 1100:   #only up to bandgap of silicon\n",
    "        Rfl_power[x,1]=0\n",
    "        Rfl_power_txtred[x,1]=0\n",
    "        AM15G_SiRange[x,1]=0\n",
    "        \n",
    "\n",
    "Total_W_Si = np.trapz( AM15G_SiRange[:,1], x= AM15G_SiRange[:,0], axis=0)\n",
    "\n",
    "R_W = np.trapz(Rfl_power[:,1], x=Rfl_power[:,0], axis=0)\n",
    "R_W_txtred = np.trapz(Rfl_power_txtred[:,1], x=Rfl_power_txtred[:,0], axis=0)\n",
    "\n",
    "#print(Total_W)\n",
    "print(\"Reflected power: \" + f\"{R_W:.1f}\" + \" W/m2 (\" + f\"{100*R_W/Total_W_Si:.1f}\" + \"%)\" )\n",
    "print(\"Reflected power with texturing: \" + f\"{R_W_txtred:.1f}\" + \" W/m2 (\" + f\"{100*R_W_txtred/Total_W_Si:.1f}\" + \"%)\" )"
   ]
  },
  {
   "cell_type": "markdown",
   "id": "8e191e93",
   "metadata": {},
   "source": [
    "The effect in reducing the reflected light power is demonstrated."
   ]
  }
 ],
 "metadata": {
  "kernelspec": {
   "display_name": "Python 3 (ipykernel)",
   "language": "python",
   "name": "python3"
  },
  "language_info": {
   "codemirror_mode": {
    "name": "ipython",
    "version": 3
   },
   "file_extension": ".py",
   "mimetype": "text/x-python",
   "name": "python",
   "nbconvert_exporter": "python",
   "pygments_lexer": "ipython3",
   "version": "3.7.12"
  }
 },
 "nbformat": 4,
 "nbformat_minor": 5
}
