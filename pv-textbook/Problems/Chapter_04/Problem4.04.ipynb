{
 "cells": [
  {
   "cell_type": "markdown",
   "id": "9486ba7d",
   "metadata": {},
   "source": [
    "# Problem 4.4"
   ]
  },
  {
   "cell_type": "markdown",
   "id": "9e3d0571",
   "metadata": {},
   "source": [
    "**Fundamentals of Solar Cells and Photovoltaic Systems Engineering**\n",
    "\n",
    "**Solutions Manual - Chapter 4**\n",
    "\n",
    "**Problem 4.4**\n"
   ]
  },
  {
   "cell_type": "markdown",
   "id": "c3b3d6b6",
   "metadata": {},
   "source": [
    "**The lower the $V_{OC}$ the more the FF is affected by the $R_S$. Demonstrate this by comparing how the FF varies when increasing the $R_S$ from 0 to 0.01 Ω in the silicon solar cell from Problem 4.2 and in another cell with the same characteristics but a reverse saturation current of $I_0$ = $10^{-12}$ A. Explain this effect by qualitatively analyzing the changes in the I-V curve shape with these parameters.**"
   ]
  },
  {
   "cell_type": "markdown",
   "id": "7e72fb5e",
   "metadata": {},
   "source": [
    "First, we import the Python modules used, define one constant to set the I-V curve data size, and define the Boltzman constant."
   ]
  },
  {
   "cell_type": "code",
   "execution_count": 1,
   "id": "0e83057f",
   "metadata": {},
   "outputs": [],
   "source": [
    "import math\n",
    "import numpy as np\n",
    "import matplotlib.pyplot as plt\n",
    "\n",
    "DATA_SIZE = 500\n",
    "kB = 8.617333e-5  # eV·K-1"
   ]
  },
  {
   "cell_type": "markdown",
   "id": "5d016b6c",
   "metadata": {},
   "source": [
    "We define the variables for the I-V curve data"
   ]
  },
  {
   "cell_type": "code",
   "execution_count": 2,
   "id": "547eb66b",
   "metadata": {},
   "outputs": [],
   "source": [
    "# These are values in the usual range for a typical 16.6 x 16.6 cm2 Si solar cell\n",
    "IL = 9.0 # A\n",
    "I0_1 = 1e-10 # A\n",
    "I0_2 = 1e-12\n",
    "n = 1\n",
    "Rs_a=0\n",
    "Rs_b=0.01\n",
    "Rp=1e6\n",
    "\n",
    "temperature = 25  #ºC\n",
    "cell_area = 15*15 # cm2"
   ]
  },
  {
   "cell_type": "markdown",
   "id": "d780238d",
   "metadata": {},
   "source": [
    "Now we define a function to calculate the I-V curve of the solar cell.\n",
    "Note that we use a number of data points defined as the constant DATA_SIZE. The larger this number, the higher the precision, but also the longer computation time. Since the calculations are not very complex, you can use high numbers with almost instantaenous calculations in modern desktop computers or laptops."
   ]
  },
  {
   "cell_type": "code",
   "execution_count": 3,
   "id": "00bea3db",
   "metadata": {},
   "outputs": [],
   "source": [
    "def model_IV(IL, I0, n, Rs, Rp, temperature):\n",
    "    # Thermal voltage\n",
    "    kBT = kB*(temperature + 273.15)\n",
    "    \n",
    "    #I-V curve stored in a 2-column array: first column for voltages, second column for currents\n",
    "    IVcurve = np.zeros((DATA_SIZE,2))\n",
    "    \n",
    "    # First, we calculate the I-V curve voltage range: from -0.1 V to Voc + 0.01 V\n",
    "    # We want to have the I-V curve crossing the current and voltage axes to see the Isc and Voc\n",
    "    # Voc without Rs/Rp.\n",
    "    Voc0 = n*kBT*math.log(IL/I0)\n",
    "    \n",
    "    #Create the voltage list\n",
    "    #Voltage range used: -0.1 to Voc+0.01\n",
    "    IVcurve[:,0]= np.linspace(-0.1, Voc0+0.01, DATA_SIZE)\n",
    "    \n",
    "    #I-V curve without Rs effect\n",
    "    IVcurve[:,1] = IL - I0*(np.exp(IVcurve[:,0]/(n*kBT))-1) - IVcurve[:,0]/Rp\n",
    "    \n",
    "    #Shift voltages to include Rs effect\n",
    "    IVcurve[:,0] = IVcurve[:,0] - Rs*IVcurve[:,1]\n",
    "    \n",
    "    return IVcurve"
   ]
  },
  {
   "cell_type": "markdown",
   "id": "d44a37d8",
   "metadata": {},
   "source": [
    "We define another function to get the Pmax. Note that this function does not assume that the I-V curve is in the first quadrant. \n",
    "\n",
    "Another two functions are used to calculate the Isc and Voc and detect the quadrant. Then, the function calculating Pmax moves the I-V curve to this quadrant, if it is not there yet. "
   ]
  },
  {
   "cell_type": "code",
   "execution_count": 4,
   "id": "4c0a15e0",
   "metadata": {},
   "outputs": [],
   "source": [
    "# Obtains Isc by linear interpolation around V=0\n",
    "def get_Isc(IVdata):\n",
    "    \"\"\"Returns the Isc of the input raw I-V curve\"\"\"\n",
    "\n",
    "   # Sort data (interpolation function requires sorted data)\n",
    "    IV_sorted = IVdata.copy()\n",
    "    IV_sorted=IVdata[IVdata[:,0].argsort()] #Sort by voltages  \n",
    "    \n",
    "    Isc = np.interp(0,IV_sorted[:,0],IV_sorted[:,1])\n",
    "    \n",
    "    return Isc\n",
    "\n",
    "# Obtains Voc by linear interpolation around I=0\n",
    "def get_Voc(IVdata):\n",
    "    \"\"\"Returns the Voc of the input raw I-V curve\"\"\"\n",
    "\n",
    "   # Sort data (interpolation function requires sorted data)\n",
    "    IV_sorted = IVdata.copy()\n",
    "    IV_sorted=IVdata[IVdata[:,1].argsort()]   #Sort by currents\n",
    "    \n",
    "    Voc = np.interp(0, IV_sorted[:,1],IV_sorted[:,0])\n",
    "    \n",
    "    return Voc\n",
    "\n",
    "# Obtains the Pmax, and also the Vm and Im\n",
    "def get_Pmax(IVdata):\n",
    "  \n",
    "   # Sort data and move to 1st quadrant\n",
    "    IV_sorted = IVdata.copy()\n",
    " \n",
    "    Isc = get_Isc(IV_sorted)\n",
    "    if Isc<0:\n",
    "        Isc*=-1\n",
    "        IV_sorted[:,1]*=-1\n",
    "    \n",
    "    Voc = get_Voc(IV_sorted)\n",
    "    if Voc<0:\n",
    "        Voc*=-1\n",
    "        IV_sorted[:,0]*=-1       \n",
    " \n",
    "    IV_sorted=IV_sorted[IV_sorted[:,0].argsort()]   \n",
    "   \n",
    " \n",
    "    PV = IV_sorted.copy()\n",
    "    PV[:,1] = IV_sorted[:,0]*IV_sorted[:,1]\n",
    "    \n",
    "    Pm = np.amax(PV[:,1])\n",
    "    maxPosition = np.argmax(PV[:,1])\n",
    "    Vm = PV[maxPosition,0]\n",
    "    Im = IV_sorted[maxPosition,1]\n",
    "\n",
    "    return Pm, Vm, Im"
   ]
  },
  {
   "cell_type": "markdown",
   "id": "7c73d09b",
   "metadata": {},
   "source": [
    "We can now plot the I-V curve and calculate the most representative parameters"
   ]
  },
  {
   "cell_type": "code",
   "execution_count": 5,
   "id": "4f8506eb",
   "metadata": {
    "scrolled": true
   },
   "outputs": [
    {
     "data": {
      "image/png": "[encoded data removed]",
      "text/plain": [
       "<Figure size 640x480 with 1 Axes>"
      ]
     },
     "metadata": {},
     "output_type": "display_data"
    },
    {
     "name": "stdout",
     "output_type": "stream",
     "text": [
      "Solar cell with J0=1e-10A, FF changes 0.84 to 0.71\n",
      "Solar cell with J0=1e-12A, FF changes 0.86 to 0.75\n"
     ]
    }
   ],
   "source": [
    "\n",
    "IV_curve_1a = model_IV(IL, I0_1, n, Rs_a, Rp, temperature)\n",
    "Pm, Vm, Im = get_Pmax(IV_curve_1a)\n",
    "Eff_1a = Pm/(cell_area/10000*1000)\n",
    "Voc_1a = get_Voc(IV_curve_1a)\n",
    "Isc_1a = get_Isc(IV_curve_1a)\n",
    "FF_1a= Pm/(Isc_1a*Voc_1a)\n",
    "\n",
    "IV_curve_1b = model_IV(IL, I0_1, n, Rs_b, Rp, temperature)\n",
    "Pm, Vm, Im = get_Pmax(IV_curve_1b)\n",
    "Eff_1b = Pm/(cell_area/10000*1000)\n",
    "Voc_1b = get_Voc(IV_curve_1b)\n",
    "Isc_1b = get_Isc(IV_curve_1b)\n",
    "FF_1b= Pm/(Isc_1b*Voc_1b)\n",
    "\n",
    "\n",
    "IV_curve_2a = model_IV(IL, I0_2, n, Rs_a, Rp, temperature)\n",
    "Pm, Vm, Im = get_Pmax(IV_curve_2a)\n",
    "Eff_2a = Pm/(cell_area/10000*1000)\n",
    "Voc_2a = get_Voc(IV_curve_2a)\n",
    "Isc_2a = get_Isc(IV_curve_2a)\n",
    "FF_2a= Pm/(Isc_2a*Voc_2a)\n",
    "\n",
    "IV_curve_2b = model_IV(IL, I0_2, n, Rs_b, Rp, temperature)\n",
    "Pm, Vm, Im = get_Pmax(IV_curve_2b)\n",
    "Eff_2b = Pm/(cell_area/10000*1000)\n",
    "Voc_2b = get_Voc(IV_curve_2b)\n",
    "Isc_2b = get_Isc(IV_curve_2b)\n",
    "FF_2b= Pm/(Isc_2b*Voc_2b)\n",
    "\n",
    "# Plot the data\n",
    "plt.plot(IV_curve_1a[:,0], IV_curve_1a[:,1], color='b', label=\"High I0, no Rs\")\n",
    "plt.plot(IV_curve_1b[:,0], IV_curve_1b[:,1], color='b', linestyle='dashed', label=\"High I0, Rs\")\n",
    "plt.plot(IV_curve_2a[:,0], IV_curve_2a[:,1], color='r', label=\"Low I0, no Rs\")\n",
    "plt.plot(IV_curve_2b[:,0], IV_curve_2b[:,1], color='r', linestyle='dashed', label=\"Low I0, Rs\")\n",
    "\n",
    "\n",
    "plt.xlabel('V (V)', size=14)\n",
    "plt.ylabel('I (A)', size=14)\n",
    "plt.xlim(0,0.8)\n",
    "plt.ylim(0,9.2)\n",
    "\n",
    "plt.legend(loc='lower left')\n",
    "plt.show()\n",
    "\n",
    "# Report the values\n",
    "sResult = (\"Solar cell with \" +\n",
    "          \"J0=\" + str(I0_1) + \"A, \" +\n",
    "          \"FF changes \" + str(round(FF_1a,2)) + \" to \" + str(round(FF_1b,2)))\n",
    "print(sResult)\n",
    "           \n",
    "sResult = (\"Solar cell with \" +\n",
    "          \"J0=\" + str(I0_2) + \"A, \" +\n",
    "          \"FF changes \" + str(round(FF_2a,2)) + \" to \" + str(round(FF_2b,2)) )\n",
    "print(sResult)"
   ]
  },
  {
   "cell_type": "markdown",
   "id": "20ba07c3",
   "metadata": {},
   "source": [
    "The lower decrease in FF for higher $I_0$ is due to the fact that the $R_S$ causes the same bending of the I-V curve around the maximum power point regardless of the $V_{OC}$. In fact, the effect of $R_S$ only depends on the current. For a higher $V_{OC}$ this area represents a lower fraction of the total area under the I-V curve, hence anything that happens in this area will influence the overall FF to a lower extent. "
   ]
  },
  {
   "cell_type": "code",
   "execution_count": null,
   "id": "7e81dc25",
   "metadata": {},
   "outputs": [],
   "source": []
  }
 ],
 "metadata": {
  "kernelspec": {
   "display_name": "Python 3 (ipykernel)",
   "language": "python",
   "name": "python3"
  },
  "language_info": {
   "codemirror_mode": {
    "name": "ipython",
    "version": 3
   },
   "file_extension": ".py",
   "mimetype": "text/x-python",
   "name": "python",
   "nbconvert_exporter": "python",
   "pygments_lexer": "ipython3",
   "version": "3.7.12"
  }
 },
 "nbformat": 4,
 "nbformat_minor": 5
}
