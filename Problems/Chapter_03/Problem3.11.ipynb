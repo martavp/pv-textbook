{
 "cells": [
  {
   "cell_type": "markdown",
   "metadata": {},
   "source": [
    "***Fundamentals of Solar Cells and Photovoltaic Systems Engineering***\n",
    "\n",
    "**Solutions Manual - Chapter 3**\n",
    "\n",
    "***Problem 3.1***\n"
   ]
  },
  {
   "cell_type": "markdown",
   "metadata": {},
   "source": [
    "We will use the package [scipy.integrate](https://docs.scipy.org/doc/scipy/tutorial/integrate.html) to perform a numeric integration and the package [matplotlib.pyplot](https://matplotlib.org/stable/index.html) to plot the results"
   ]
  },
  {
   "cell_type": "code",
   "execution_count": 1,
   "metadata": {},
   "outputs": [],
   "source": [
    "import numpy as np\n",
    "import matplotlib.pyplot as plt\n",
    "import scipy.integrate as integrate"
   ]
  },
  {
   "cell_type": "markdown",
   "metadata": {},
   "source": [
    "***(a) What percentage of the power of the blackbody radiation is associated with photons of less than 1.12 eV?***"
   ]
  },
  {
   "cell_type": "markdown",
   "metadata": {},
   "source": [
    "We define the relevant constants. "
   ]
  },
  {
   "cell_type": "code",
   "execution_count": 2,
   "metadata": {},
   "outputs": [],
   "source": [
    "h=6.63*10**(-34) # [J·s] Planck constant\n",
    "c =299792458 # [m/s] Light speed\n",
    "k = 1.380649 *10**(-23) #[J/K] Boltzmann constant\n",
    "sigma = 5.6703744*10**(-8) # [W/(m²K⁴)] Stefan-Boltzmann constant"
   ]
  },
  {
   "cell_type": "markdown",
   "metadata": {},
   "source": [
    "The blackbody temperature is 6000 K"
   ]
  },
  {
   "cell_type": "code",
   "execution_count": 3,
   "metadata": {},
   "outputs": [],
   "source": [
    "T = 5780 # [K]"
   ]
  },
  {
   "cell_type": "markdown",
   "metadata": {},
   "source": [
    "The total power emitted by a blackbody is obtained from the Stefan-Boltzmann law (Eq. 2.4 in Chapter 2).\n",
    "\n",
    "$P=\\sigma · T^4$"
   ]
  },
  {
   "cell_type": "code",
   "execution_count": 4,
   "metadata": {},
   "outputs": [
    {
     "data": {
      "text/plain": [
       "63288250.26248946"
      ]
     },
     "execution_count": 4,
     "metadata": {},
     "output_type": "execute_result"
    }
   ],
   "source": [
    "P_total = sigma * T**4 # [W/m²]\n",
    "P_total"
   ]
  },
  {
   "cell_type": "markdown",
   "metadata": {},
   "source": [
    "To calculate the fraction of power P_gap emitted with photons of less than tahn a given energy, we integrate the equation for the blackbody spectral radiant emittance (Eq. 2.2 in Chapter 2).\n",
    "\n",
    "$M_\\lambda = \\frac{2 \\pi h c^2}{\\lambda^5} \\frac{1}{exp(\\frac{hc}{k_B\\lambda T})-1}$"
   ]
  },
  {
   "cell_type": "markdown",
   "metadata": {},
   "source": [
    "First we convert the wavelenght into energy"
   ]
  },
  {
   "cell_type": "code",
   "execution_count": 5,
   "metadata": {},
   "outputs": [],
   "source": [
    "lambda_gap = 1240/1.12 # [nm]"
   ]
  },
  {
   "cell_type": "markdown",
   "metadata": {},
   "source": [
    "We can now do the integration"
   ]
  },
  {
   "cell_type": "code",
   "execution_count": 6,
   "metadata": {},
   "outputs": [
    {
     "data": {
      "text/plain": [
       "14601459.733338425"
      ]
     },
     "execution_count": 6,
     "metadata": {},
     "output_type": "execute_result"
    }
   ],
   "source": [
    "constant = 2*np.pi*h*c**2\n",
    "P_gap = integrate.quad(lambda x: (constant/(x**5))*(1/(np.exp(h*c/(k*x*T))-1)), lambda_gap*10**(-9), np.inf)\n",
    "P_gap[0] # [W/m²]"
   ]
  },
  {
   "cell_type": "markdown",
   "metadata": {},
   "source": [
    "The percentage of the power of the black-body radiation associated with photons of less than 1.12. eV is"
   ]
  },
  {
   "cell_type": "code",
   "execution_count": 10,
   "metadata": {},
   "outputs": [
    {
     "name": "stdout",
     "output_type": "stream",
     "text": [
      "23.1%\n"
     ]
    }
   ],
   "source": [
    "perc = P_gap[0]/P_total*100\n",
    "print ('%.1f' % perc + '%')"
   ]
  },
  {
   "cell_type": "markdown",
   "metadata": {},
   "source": [
    "***(b) What would be the efficiency of an imaginary silicon solar cell that could convert all the absorbed energy into electricity?***"
   ]
  },
  {
   "cell_type": "markdown",
   "metadata": {},
   "source": [
    "The efficiency would be equal to the percentage of power that is absorbed, which corresponds to the fraction of photons with energy higher than 1.12 eV: 76.9%."
   ]
  },
  {
   "cell_type": "markdown",
   "metadata": {},
   "source": [
    "***(c) If the solar cell was made of germanium instead ($E_g = 0.67$ eV), would that result in a higher or a lower efficiency?***"
   ]
  },
  {
   "cell_type": "markdown",
   "metadata": {},
   "source": [
    "It would result in a higher efficiency, as more light would be absorbed."
   ]
  },
  {
   "cell_type": "markdown",
   "metadata": {},
   "source": [
    "***(d) Discuss the results considering the main loss mechanism in actual solar cells.***"
   ]
  },
  {
   "cell_type": "markdown",
   "metadata": {},
   "source": [
    "The previous efficiency calculation only considered the transmission losses of solar cells, which affect the production of photocurrent. When the thermalization losses, which affect the voltage, are also included, a silicon solar cell has a greater efficieny limit than a germanium solar cell."
   ]
  },
  {
   "cell_type": "code",
   "execution_count": null,
   "metadata": {},
   "outputs": [],
   "source": []
  }
 ],
 "metadata": {
  "kernelspec": {
   "display_name": "Python 3 (ipykernel)",
   "language": "python",
   "name": "python3"
  },
  "language_info": {
   "codemirror_mode": {
    "name": "ipython",
    "version": 3
   },
   "file_extension": ".py",
   "mimetype": "text/x-python",
   "name": "python",
   "nbconvert_exporter": "python",
   "pygments_lexer": "ipython3",
   "version": "3.9.7"
  }
 },
 "nbformat": 4,
 "nbformat_minor": 4
}
