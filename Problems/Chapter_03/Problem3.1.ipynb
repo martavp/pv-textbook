{
 "cells": [
  {
   "cell_type": "markdown",
   "metadata": {},
   "source": [
    "***Fundamentals of Solar Cells and Photovoltaic Systems Engineering***\n",
    "\n",
    "**Solutions Manual - Chapter 3**\n",
    "\n",
    "***Problem 3.1***\n"
   ]
  },
  {
   "cell_type": "markdown",
   "metadata": {},
   "source": [
    "***(a) Estimate the UV content (280-400nm) and the total irradiance in the extraterrestrial reference spectrum AM0, the global reference spectrum AM1.5G, and the direct reference spectrum AM1.5D***"
   ]
  },
  {
   "cell_type": "markdown",
   "metadata": {},
   "source": [
    "We will use the package [pandas](https://pandas.pydata.org/) to handle the data and [matplotlib.pyplot](https://matplotlib.org/stable/index.html) to plot the results"
   ]
  },
  {
   "cell_type": "code",
   "execution_count": 78,
   "metadata": {},
   "outputs": [],
   "source": [
    "import pandas as pd\n",
    "import numpy as np\n",
    "import matplotlib.pyplot as plt"
   ]
  },
  {
   "cell_type": "markdown",
   "metadata": {},
   "source": [
    "We start by importing the data."
   ]
  },
  {
   "cell_type": "code",
   "execution_count": 79,
   "metadata": {},
   "outputs": [
    {
     "data": {
      "text/html": [
       "<div>\n",
       "<style scoped>\n",
       "    .dataframe tbody tr th:only-of-type {\n",
       "        vertical-align: middle;\n",
       "    }\n",
       "\n",
       "    .dataframe tbody tr th {\n",
       "        vertical-align: top;\n",
       "    }\n",
       "\n",
       "    .dataframe thead th {\n",
       "        text-align: right;\n",
       "    }\n",
       "</style>\n",
       "<table border=\"1\" class=\"dataframe\">\n",
       "  <thead>\n",
       "    <tr style=\"text-align: right;\">\n",
       "      <th></th>\n",
       "      <th>AM0</th>\n",
       "      <th>AM1.5G</th>\n",
       "      <th>AM1.5D</th>\n",
       "    </tr>\n",
       "  </thead>\n",
       "  <tbody>\n",
       "    <tr>\n",
       "      <th>Wvlgth nm</th>\n",
       "      <td>Etr W*m-2*nm-1</td>\n",
       "      <td>Global tilt  W*m-2*nm-1</td>\n",
       "      <td>Direct+circumsolar W*m-2*nm-1</td>\n",
       "    </tr>\n",
       "    <tr>\n",
       "      <th>280</th>\n",
       "      <td>8.20E-02</td>\n",
       "      <td>4.73E-23</td>\n",
       "      <td>2.54E-26</td>\n",
       "    </tr>\n",
       "    <tr>\n",
       "      <th>280.5</th>\n",
       "      <td>9.90E-02</td>\n",
       "      <td>1.23E-21</td>\n",
       "      <td>1.09E-24</td>\n",
       "    </tr>\n",
       "    <tr>\n",
       "      <th>281</th>\n",
       "      <td>1.50E-01</td>\n",
       "      <td>5.69E-21</td>\n",
       "      <td>6.13E-24</td>\n",
       "    </tr>\n",
       "    <tr>\n",
       "      <th>281.5</th>\n",
       "      <td>2.12E-01</td>\n",
       "      <td>1.57E-19</td>\n",
       "      <td>2.75E-22</td>\n",
       "    </tr>\n",
       "    <tr>\n",
       "      <th>...</th>\n",
       "      <td>...</td>\n",
       "      <td>...</td>\n",
       "      <td>...</td>\n",
       "    </tr>\n",
       "    <tr>\n",
       "      <th>3980</th>\n",
       "      <td>8.84E-03</td>\n",
       "      <td>7.39E-03</td>\n",
       "      <td>7.40E-03</td>\n",
       "    </tr>\n",
       "    <tr>\n",
       "      <th>3985</th>\n",
       "      <td>8.80E-03</td>\n",
       "      <td>7.43E-03</td>\n",
       "      <td>7.45E-03</td>\n",
       "    </tr>\n",
       "    <tr>\n",
       "      <th>3990</th>\n",
       "      <td>8.78E-03</td>\n",
       "      <td>7.37E-03</td>\n",
       "      <td>7.39E-03</td>\n",
       "    </tr>\n",
       "    <tr>\n",
       "      <th>3995</th>\n",
       "      <td>8.70E-03</td>\n",
       "      <td>7.21E-03</td>\n",
       "      <td>7.23E-03</td>\n",
       "    </tr>\n",
       "    <tr>\n",
       "      <th>4000</th>\n",
       "      <td>8.68E-03</td>\n",
       "      <td>7.10E-03</td>\n",
       "      <td>7.12E-03</td>\n",
       "    </tr>\n",
       "  </tbody>\n",
       "</table>\n",
       "<p>2003 rows × 3 columns</p>\n",
       "</div>"
      ],
      "text/plain": [
       "                      AM0                   AM1.5G  \\\n",
       "Wvlgth nm  Etr W*m-2*nm-1  Global tilt  W*m-2*nm-1   \n",
       "280              8.20E-02                 4.73E-23   \n",
       "280.5            9.90E-02                 1.23E-21   \n",
       "281              1.50E-01                 5.69E-21   \n",
       "281.5            2.12E-01                 1.57E-19   \n",
       "...                   ...                      ...   \n",
       "3980             8.84E-03                 7.39E-03   \n",
       "3985             8.80E-03                 7.43E-03   \n",
       "3990             8.78E-03                 7.37E-03   \n",
       "3995             8.70E-03                 7.21E-03   \n",
       "4000             8.68E-03                 7.10E-03   \n",
       "\n",
       "                                  AM1.5D  \n",
       "Wvlgth nm  Direct+circumsolar W*m-2*nm-1  \n",
       "280                             2.54E-26  \n",
       "280.5                           1.09E-24  \n",
       "281                             6.13E-24  \n",
       "281.5                           2.75E-22  \n",
       "...                                  ...  \n",
       "3980                            7.40E-03  \n",
       "3985                            7.45E-03  \n",
       "3990                            7.39E-03  \n",
       "3995                            7.23E-03  \n",
       "4000                            7.12E-03  \n",
       "\n",
       "[2003 rows x 3 columns]"
      ]
     },
     "execution_count": 79,
     "metadata": {},
     "output_type": "execute_result"
    }
   ],
   "source": [
    "datafile = pd.read_csv('data/Reference_spectrum_ASTM-G173-03.csv', index_col=0, header=0) \n",
    "datafile"
   ]
  },
  {
   "cell_type": "code",
   "execution_count": 80,
   "metadata": {},
   "outputs": [],
   "source": [
    "datafile.drop(datafile.index[0], inplace=True) #remove row including information on units\n",
    "datafile=datafile.astype(float) #convert values to float for easy operation\n",
    "datafile.index=datafile.index.astype(float) #convert indexees to float for easy operation\n"
   ]
  },
  {
   "cell_type": "markdown",
   "metadata": {},
   "source": [
    "We start by calculating the total irradiance AM0, AM1.5G and AM1.5D."
   ]
  },
  {
   "cell_type": "code",
   "execution_count": 81,
   "metadata": {},
   "outputs": [
    {
     "name": "stdout",
     "output_type": "stream",
     "text": [
      "Total irradiance in AM0 = 1356.2 W/m2\n",
      "Total irradiance in AM1.5G = 1003.0 W/m2\n",
      "Total irradiance in AM1.5D = 887.7 W/m2\n"
     ]
    }
   ],
   "source": [
    "for spectra in ['AM0', 'AM1.5G', 'AM1.5D']:\n",
    "    irradiance=np.trapz(datafile[spectra])\n",
    "    print('Total irradiance in ' + spectra + ' = ' + str(irradiance.round(1)) + ' W/m2')"
   ]
  },
  {
   "cell_type": "markdown",
   "metadata": {},
   "source": [
    "We can also plot the three spectra"
   ]
  },
  {
   "cell_type": "code",
   "execution_count": 96,
   "metadata": {},
   "outputs": [
    {
     "data": {
      "text/plain": [
       "Text(0.5, 0, 'Wavelength (nm)')"
      ]
     },
     "execution_count": 96,
     "metadata": {},
     "output_type": "execute_result"
    },
    {
     "data": {
      "image/png": "[encoded data removed]",
      "text/plain": [
       "<Figure size 432x288 with 1 Axes>"
      ]
     },
     "metadata": {
      "needs_background": "light"
     },
     "output_type": "display_data"
    }
   ],
   "source": [
    "plt.plot(datafile, \n",
    "         linewidth=2)\n",
    "plt.ylabel('Spectral distribution (Etr W*m-2*nm-1)')\n",
    "plt.xlabel('Wavelength (nm)')"
   ]
  },
  {
   "cell_type": "markdown",
   "metadata": {},
   "source": [
    "We start calculate the UV content in AM0, AM1.5G and AM1.5D."
   ]
  },
  {
   "cell_type": "code",
   "execution_count": 86,
   "metadata": {},
   "outputs": [
    {
     "name": "stdout",
     "output_type": "stream",
     "text": [
      "UV irradiance in AM0 = 204.0 W/m2\n",
      "UV irradiance in AM1.5G = 91.1 W/m2\n",
      "UV irradiance in AM1.5D = 60.2 W/m2\n"
     ]
    }
   ],
   "source": [
    "for spectra in ['AM0', 'AM1.5G', 'AM1.5D']:\n",
    "    irradiance=np.trapz(datafile[spectra][datafile.index<400])\n",
    "    print('UV irradiance in ' + spectra + ' = ' + str(irradiance.round(1)) + ' W/m2')"
   ]
  },
  {
   "cell_type": "markdown",
   "metadata": {},
   "source": [
    "***(b)Using the provided Quantum Efficiency (QE), calculate the Spectral Response (SR) of a Silicon solar cell. Plot the QE and SR as a function of wavelength***"
   ]
  },
  {
   "cell_type": "markdown",
   "metadata": {},
   "source": [
    "We define the relevant constants. "
   ]
  },
  {
   "cell_type": "code",
   "execution_count": 89,
   "metadata": {},
   "outputs": [],
   "source": [
    "h=6.63*10**(-34) # [J·s] Planck constant\n",
    "e=1.60*10**(-19) #C electron charge\n",
    "c =299792458 #[m/s] Light speed"
   ]
  },
  {
   "cell_type": "code",
   "execution_count": 93,
   "metadata": {},
   "outputs": [
    {
     "data": {
      "text/html": [
       "<div>\n",
       "<style scoped>\n",
       "    .dataframe tbody tr th:only-of-type {\n",
       "        vertical-align: middle;\n",
       "    }\n",
       "\n",
       "    .dataframe tbody tr th {\n",
       "        vertical-align: top;\n",
       "    }\n",
       "\n",
       "    .dataframe thead th {\n",
       "        text-align: right;\n",
       "    }\n",
       "</style>\n",
       "<table border=\"1\" class=\"dataframe\">\n",
       "  <thead>\n",
       "    <tr style=\"text-align: right;\">\n",
       "      <th></th>\n",
       "      <th>QE Silicon Solar cell</th>\n",
       "    </tr>\n",
       "    <tr>\n",
       "      <th>nm</th>\n",
       "      <th></th>\n",
       "    </tr>\n",
       "  </thead>\n",
       "  <tbody>\n",
       "    <tr>\n",
       "      <th>305</th>\n",
       "      <td>0.185579</td>\n",
       "    </tr>\n",
       "    <tr>\n",
       "      <th>310</th>\n",
       "      <td>0.243200</td>\n",
       "    </tr>\n",
       "    <tr>\n",
       "      <th>315</th>\n",
       "      <td>0.298992</td>\n",
       "    </tr>\n",
       "    <tr>\n",
       "      <th>320</th>\n",
       "      <td>0.353041</td>\n",
       "    </tr>\n",
       "    <tr>\n",
       "      <th>325</th>\n",
       "      <td>0.405425</td>\n",
       "    </tr>\n",
       "    <tr>\n",
       "      <th>...</th>\n",
       "      <td>...</td>\n",
       "    </tr>\n",
       "    <tr>\n",
       "      <th>1130</th>\n",
       "      <td>0.081951</td>\n",
       "    </tr>\n",
       "    <tr>\n",
       "      <th>1135</th>\n",
       "      <td>0.067769</td>\n",
       "    </tr>\n",
       "    <tr>\n",
       "      <th>1140</th>\n",
       "      <td>0.053712</td>\n",
       "    </tr>\n",
       "    <tr>\n",
       "      <th>1145</th>\n",
       "      <td>0.039777</td>\n",
       "    </tr>\n",
       "    <tr>\n",
       "      <th>1150</th>\n",
       "      <td>0.025964</td>\n",
       "    </tr>\n",
       "  </tbody>\n",
       "</table>\n",
       "<p>170 rows × 1 columns</p>\n",
       "</div>"
      ],
      "text/plain": [
       "      QE Silicon Solar cell\n",
       "nm                         \n",
       "305                0.185579\n",
       "310                0.243200\n",
       "315                0.298992\n",
       "320                0.353041\n",
       "325                0.405425\n",
       "...                     ...\n",
       "1130               0.081951\n",
       "1135               0.067769\n",
       "1140               0.053712\n",
       "1145               0.039777\n",
       "1150               0.025964\n",
       "\n",
       "[170 rows x 1 columns]"
      ]
     },
     "execution_count": 93,
     "metadata": {},
     "output_type": "execute_result"
    }
   ],
   "source": [
    "QE = pd.read_csv('data/QE_Silicon.csv', index_col=0, header=0) \n",
    "QE"
   ]
  },
  {
   "cell_type": "markdown",
   "metadata": {},
   "source": [
    "We plot the Quantum Efficiency and Spectral Response"
   ]
  },
  {
   "cell_type": "code",
   "execution_count": 164,
   "metadata": {},
   "outputs": [],
   "source": [
    "SR=pd.Series(index=QE.index,\n",
    "            data=[QE.loc[i,'QE Silicon Solar cell']*e*i*0.000000001/(h*c) for i in QE.index])\n"
   ]
  },
  {
   "cell_type": "code",
   "execution_count": 165,
   "metadata": {},
   "outputs": [
    {
     "data": {
      "text/plain": [
       "Text(0.5, 0, 'Wavelength (nm)')"
      ]
     },
     "execution_count": 165,
     "metadata": {},
     "output_type": "execute_result"
    },
    {
     "data": {
      "image/png": "[encoded data removed]",
      "text/plain": [
       "<Figure size 432x288 with 1 Axes>"
      ]
     },
     "metadata": {
      "needs_background": "light"
     },
     "output_type": "display_data"
    }
   ],
   "source": [
    "plt.plot(QE, \n",
    "         linewidth=2)\n",
    "plt.ylabel('Quantum Efficiency')\n",
    "plt.xlabel('Wavelength (nm)')"
   ]
  },
  {
   "cell_type": "code",
   "execution_count": 166,
   "metadata": {},
   "outputs": [
    {
     "data": {
      "text/plain": [
       "Text(0.5, 0, 'Wavelength (nm)')"
      ]
     },
     "execution_count": 166,
     "metadata": {},
     "output_type": "execute_result"
    },
    {
     "data": {
      "image/png": "[encoded data removed]",
      "text/plain": [
       "<Figure size 432x288 with 1 Axes>"
      ]
     },
     "metadata": {
      "needs_background": "light"
     },
     "output_type": "display_data"
    }
   ],
   "source": [
    "plt.plot(SR, \n",
    "         linewidth=2)\n",
    "plt.ylabel('Quantum Efficiency')\n",
    "plt.xlabel('Wavelength (nm)')"
   ]
  },
  {
   "cell_type": "markdown",
   "metadata": {},
   "source": [
    "***(c) Estimate the photocurrent generated by a Silicon solar cell illuminated by the refer-ence spectrum AM1.5 G***"
   ]
  },
  {
   "cell_type": "markdown",
   "metadata": {},
   "source": [
    "First, we need to interpolate the spectra at those datapoints included in the SR. "
   ]
  },
  {
   "cell_type": "code",
   "execution_count": 170,
   "metadata": {},
   "outputs": [
    {
     "data": {
      "text/plain": [
       "array([0.0165, 0.0509, 0.136 , 0.205 , 0.279 , 0.471 , 0.464 , 0.502 ,\n",
       "       0.459 , 0.528 , 0.611 , 0.598 , 0.624 , 0.755 , 0.589 , 0.701 ,\n",
       "       0.674 , 0.797 , 0.808 , 1.11  , 1.15  , 1.05  , 1.23  , 1.12  ,\n",
       "       1.25  , 0.875 , 1.25  , 1.35  , 1.46  , 1.56  , 1.52  , 1.53  ,\n",
       "       1.54  , 1.51  , 1.62  , 1.62  , 1.57  , 1.62  , 1.65  , 1.55  ,\n",
       "       1.56  , 1.55  , 1.53  , 1.52  , 1.58  , 1.54  , 1.55  , 1.48  ,\n",
       "       1.54  , 1.54  , 1.56  , 1.47  , 1.52  , 1.48  , 1.48  , 1.5   ,\n",
       "       1.53  , 1.37  , 1.43  , 1.48  , 1.49  , 1.47  , 1.47  , 1.47  ,\n",
       "       1.4   , 1.39  , 1.45  , 1.43  , 1.46  , 1.36  , 1.35  , 1.4   ,\n",
       "       1.42  , 1.42  , 1.4   , 1.4   , 1.37  , 1.18  , 1.27  , 1.28  ,\n",
       "       1.32  , 1.32  , 1.26  , 0.986 , 1.04  , 1.13  , 1.22  , 1.22  ,\n",
       "       1.25  , 1.23  , 1.24  , 0.266 , 0.686 , 1.16  , 1.18  , 1.16  ,\n",
       "       1.16  , 1.09  , 1.09  , 1.07  , 1.05  , 1.06  , 0.895 , 0.862 ,\n",
       "       0.969 , 0.916 , 1.    , 1.02  , 1.02  , 0.894 , 0.913 , 0.988 ,\n",
       "       0.963 , 0.968 , 0.927 , 0.94  , 0.944 , 0.924 , 0.814 , 0.743 ,\n",
       "       0.817 , 0.625 , 0.678 , 0.744 , 0.711 , 0.432 , 0.251 , 0.472 ,\n",
       "       0.368 , 0.147 , 0.341 , 0.421 , 0.504 , 0.635 , 0.59  , 0.605 ,\n",
       "       0.688 , 0.732 , 0.752 , 0.735 , 0.682 , 0.719 , 0.708 , 0.699 ,\n",
       "       0.698 , 0.691 , 0.682 , 0.672 , 0.665 , 0.655 , 0.648 , 0.636 ,\n",
       "       0.629 , 0.605 , 0.593 , 0.597 , 0.593 , 0.556 , 0.521 , 0.486 ,\n",
       "       0.506 , 0.479 , 0.25  , 0.142 , 0.144 , 0.0706, 0.0155, 0.256 ,\n",
       "       0.146 , 0.122 ])"
      ]
     },
     "execution_count": 170,
     "metadata": {},
     "output_type": "execute_result"
    }
   ],
   "source": [
    "spectra=datafile['AM1.5G']\n",
    "spectra_interpolated=np.interp(SR.index, spectra.index, spectra.values)"
   ]
  },
  {
   "cell_type": "markdown",
   "metadata": {},
   "source": [
    "Then, we calculate the integral\n",
    "\n",
    "$J=\\int G(\\lambda)·SR(\\lambda) d \\lambda$"
   ]
  },
  {
   "cell_type": "code",
   "execution_count": 181,
   "metadata": {},
   "outputs": [
    {
     "name": "stdout",
     "output_type": "stream",
     "text": [
      "Photocurrent density = 36.73mA/cm2\n"
     ]
    }
   ],
   "source": [
    "I = np.trapz([x*y for x,y in zip(SR, spectra_interpolated)], x=SR.index)*1000/10000 # A-> mA ; m2 -> cm2\n",
    "print('Photocurrent density = ' + str(I.round(1)) + ' mA/cm2')"
   ]
  }
 ],
 "metadata": {
  "kernelspec": {
   "display_name": "Python 3 (ipykernel)",
   "language": "python",
   "name": "python3"
  },
  "language_info": {
   "codemirror_mode": {
    "name": "ipython",
    "version": 3
   },
   "file_extension": ".py",
   "mimetype": "text/x-python",
   "name": "python",
   "nbconvert_exporter": "python",
   "pygments_lexer": "ipython3",
   "version": "3.7.12"
  }
 },
 "nbformat": 4,
 "nbformat_minor": 4
}
