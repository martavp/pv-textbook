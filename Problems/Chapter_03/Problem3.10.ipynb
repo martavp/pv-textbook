{
 "cells": [
  {
   "cell_type": "markdown",
   "metadata": {},
   "source": [
    "***Fundamentals of Solar Cells and Photovoltaic Systems Engineering***\n",
    "\n",
    "**Solutions Manual - Chapter 3**\n",
    "\n",
    "***Problem 3.10***\n"
   ]
  },
  {
   "cell_type": "markdown",
   "metadata": {},
   "source": [
    "***(a) Calculate the photocurrent for the solar cell under Standard Test Conditions (STC). Let's consider that the solar cell has an area of 12.5x12.5 cm$^2$ and that the solar spectrum under STC $G_{STC}$ can be approximated by the equation\n",
    "$G_{STC}(\\lambda)=3-0.0023 \\cdot \\lambda$ Wm$^{-2}$nm$^{-1}$.***"
   ]
  },
  {
   "cell_type": "markdown",
   "metadata": {},
   "source": [
    "We will use the package [scipy](https://scipy.org/) for function integration and [matplotlib.pyplot](https://matplotlib.org/stable/index.html) to plot the results"
   ]
  },
  {
   "cell_type": "code",
   "execution_count": 1,
   "metadata": {},
   "outputs": [],
   "source": [
    "import pandas as pd\n",
    "import numpy as np\n",
    "from scipy.integrate import quad\n",
    "import matplotlib.pyplot as plt"
   ]
  },
  {
   "cell_type": "markdown",
   "metadata": {},
   "source": [
    "We define the spectral response as a function of the QE"
   ]
  },
  {
   "cell_type": "code",
   "execution_count": 10,
   "metadata": {},
   "outputs": [],
   "source": [
    "h=6.63*10**(-34) # J·s Planck constant\n",
    "e=1.60*10**(-19) #C electron charge\n",
    "c =299792458 #m/s Speed of light\n",
    "\n",
    "def SR(wl):\n",
    "    return 0.9*1e-9*wl*e/(h*c)"
   ]
  },
  {
   "cell_type": "markdown",
   "metadata": {},
   "source": [
    "We define the solar spectrum as function of the wavelength"
   ]
  },
  {
   "cell_type": "code",
   "execution_count": 11,
   "metadata": {},
   "outputs": [],
   "source": [
    "def G1(wl): #wl in nm\n",
    "    return 3-0.0023*wl"
   ]
  },
  {
   "cell_type": "markdown",
   "metadata": {},
   "source": [
    "The photocurrent density is calculated using Eq. 3.5\n",
    "\n",
    "$J = \\int SR(\\lambda) \\cdot \\ G(\\lambda) \\ d\\lambda$\n",
    "\n",
    "The photocurrent is the product of the photocurrent density and the cell's area\n",
    "\n",
    "$I = J \\cdot A$"
   ]
  },
  {
   "cell_type": "code",
   "execution_count": 12,
   "metadata": {},
   "outputs": [
    {
     "name": "stdout",
     "output_type": "stream",
     "text": [
      "The photocurrent density is 36.6 mA/cm2\n",
      "The photocurrent is 5.72 A\n"
     ]
    }
   ],
   "source": [
    "pc_dens=quad(lambda wl: G1(wl) * SR(wl), 350, 900)[0] #mA/m2\n",
    "print ('The photocurrent density is ' + str(round(pc_dens*1e3/1e4, 2)) + ' mA/cm2') #mA-->A, m2-->cm2\n",
    "area = 12.5*12.5 #cm2\n",
    "print (\"The photocurrent is \" + str(round(pc_dens*area/1e4, 2)) + ' A') #cm2-->m2"
   ]
  },
  {
   "cell_type": "markdown",
   "metadata": {},
   "source": [
    "***(b) Calculate the photocurrent for the solar cell in an hour where the spectral distribution of solar radiation is different from the standard and can be approximated by\n",
    "$G(\\lambda)=2-0.001 \\cdot \\lambda$ Wm$^{-2}$nm$^{-1}$.***"
   ]
  },
  {
   "cell_type": "markdown",
   "metadata": {},
   "source": [
    "We redefine the solar spectrum"
   ]
  },
  {
   "cell_type": "code",
   "execution_count": 13,
   "metadata": {},
   "outputs": [],
   "source": [
    "def G2(wl): #x in nm\n",
    "    return 2-0.001*wl"
   ]
  },
  {
   "cell_type": "markdown",
   "metadata": {},
   "source": [
    "We recalculate the photocurrent with the new spectrum"
   ]
  },
  {
   "cell_type": "code",
   "execution_count": 14,
   "metadata": {},
   "outputs": [
    {
     "name": "stdout",
     "output_type": "stream",
     "text": [
      "The photocurrrent density is 33.24 mA/cm2\n",
      "The photocurrrent is 5.19 A\n"
     ]
    }
   ],
   "source": [
    "pc_dens=quad(lambda wl: G2(wl)*SR(wl), 350, 900)[0] #mA/m2\n",
    "print ('The photocurrrent density is ' + str(round(pc_dens/10, 2)) + ' mA/cm2') #mA-->A, m2-->cm2\n",
    "area = 12.5*12.5 #cm2\n",
    "print (\"The photocurrrent is \" + str(round(pc_dens/1e4*area, 2)) + ' A') #cm2-->m2"
   ]
  },
  {
   "cell_type": "code",
   "execution_count": null,
   "metadata": {},
   "outputs": [],
   "source": []
  }
 ],
 "metadata": {
  "kernelspec": {
   "display_name": "Python 3 (ipykernel)",
   "language": "python",
   "name": "python3"
  },
  "language_info": {
   "codemirror_mode": {
    "name": "ipython",
    "version": 3
   },
   "file_extension": ".py",
   "mimetype": "text/x-python",
   "name": "python",
   "nbconvert_exporter": "python",
   "pygments_lexer": "ipython3",
   "version": "3.9.7"
  }
 },
 "nbformat": 4,
 "nbformat_minor": 4
}
