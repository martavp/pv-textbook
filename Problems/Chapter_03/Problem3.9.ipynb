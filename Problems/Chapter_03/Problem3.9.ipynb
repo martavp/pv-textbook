{
 "cells": [
  {
   "cell_type": "markdown",
   "metadata": {},
   "source": [
    "***Fundamentals of Solar Cells and Photovoltaic Systems Engineering***\n",
    "\n",
    "**Solutions Manual - Chapter 3**\n",
    "\n",
    "***Problem 3.X***\n"
   ]
  },
  {
   "cell_type": "markdown",
   "metadata": {},
   "source": [
    "***(a) Calculate the photocurrent for the solar cell under Standard Test Conditions (STC). Let's consider that the solar cell has an area of 12.5x12.5 cm$^2$ and that the solar spectrum under STC corresponds to $G_{STC}=1000$ W/m$^2$ and can be approximated by the equation\n",
    "$G(\\lambda)=3-0.0023 \\cdot \\lambda$ Wm$^{-2}$nm$^{-1}$.***"
   ]
  },
  {
   "cell_type": "markdown",
   "metadata": {},
   "source": [
    "We will use the package [scipy](https://scipy.org/) for data integration and [matplotlib.pyplot](https://matplotlib.org/stable/index.html) to plot the results"
   ]
  },
  {
   "cell_type": "code",
   "execution_count": 1,
   "metadata": {},
   "outputs": [],
   "source": [
    "import pandas as pd\n",
    "import numpy as np\n",
    "from scipy.integrate import quad\n",
    "import matplotlib.pyplot as plt"
   ]
  },
  {
   "cell_type": "markdown",
   "metadata": {},
   "source": [
    "We define the spectral response as a function of the QR"
   ]
  },
  {
   "cell_type": "code",
   "execution_count": 2,
   "metadata": {},
   "outputs": [],
   "source": [
    "h=6.63*10**(-34) # [J·s] Planck constant\n",
    "e=1.60*10**(-19) #C electron charge\n",
    "c =299792458 #[m/s] Light speed\n",
    "\n",
    "def SR(QE, wl):\n",
    "    return QE*1e-9*wl*e/(h*c)"
   ]
  },
  {
   "cell_type": "markdown",
   "metadata": {},
   "source": [
    "We define the solar spectrum as function of the wavelenght"
   ]
  },
  {
   "cell_type": "code",
   "execution_count": 3,
   "metadata": {},
   "outputs": [],
   "source": [
    "def G(wl): #x in nm\n",
    "    return 3-0.0023*wl"
   ]
  },
  {
   "cell_type": "markdown",
   "metadata": {},
   "source": [
    "The photocurrent density will be the integration of the spectal response and the solar spectrum\n",
    "\n",
    "$J_{ph} = \\int SR(\\lambda) \\cdot \\ G(\\lambda) \\ dx$\n",
    "\n",
    "The photocurrent is the product of the photocurren density and the cell's area\n",
    "\n",
    "$I_{ph} = J_{ph} \\cdot A$"
   ]
  },
  {
   "cell_type": "code",
   "execution_count": 4,
   "metadata": {},
   "outputs": [
    {
     "name": "stdout",
     "output_type": "stream",
     "text": [
      "The photcurrrent density is 36.6mA/cm2\n",
      "The photcurrrent is 5.72A\n"
     ]
    }
   ],
   "source": [
    "pc_dens=quad(lambda wl: G(wl)*SR(0.9,wl), 350, 900)[0] #mA/m2\n",
    "print ('The photcurrrent density is ' + str(round(pc_dens/10, 2)) + 'mA/cm2')\n",
    "area = 12.5*12.5 #cm2\n",
    "print (\"The photcurrrent is \" + str(round(pc_dens/1e4*area, 2)) + 'A')"
   ]
  },
  {
   "cell_type": "markdown",
   "metadata": {},
   "source": [
    "***(b) Calculate the photocurrent for the solar cell in an hour where the spectral distribution of solar radiation is different from the standard and can be approximated by\n",
    "$G(\\lambda)=2-0.001 \\cdot \\lambda$ Wm$^{-2}$nm$^{-1}$.***"
   ]
  },
  {
   "cell_type": "markdown",
   "metadata": {},
   "source": [
    "We redefine accordingly the solar spectrum"
   ]
  },
  {
   "cell_type": "code",
   "execution_count": 5,
   "metadata": {},
   "outputs": [],
   "source": [
    "def G(wl): #x in nm\n",
    "    return 2-0.001*wl"
   ]
  },
  {
   "cell_type": "markdown",
   "metadata": {},
   "source": [
    "We recalculate the photocurrent with the new spectrum"
   ]
  },
  {
   "cell_type": "code",
   "execution_count": 6,
   "metadata": {},
   "outputs": [
    {
     "name": "stdout",
     "output_type": "stream",
     "text": [
      "The photcurrrent density is 33.24mA/cm2\n",
      "The photcurrrent is 5.19A\n"
     ]
    }
   ],
   "source": [
    "pc_dens=quad(lambda wl: G(wl)*SR(0.9,wl), 350, 900)[0] #mA/m2\n",
    "print ('The photcurrrent density is ' + str(round(pc_dens/10, 2)) + 'mA/cm2')\n",
    "area = 12.5*12.5 #cm2\n",
    "print (\"The photcurrrent is \" + str(round(pc_dens/1e4*area, 2)) + 'A')"
   ]
  },
  {
   "cell_type": "code",
   "execution_count": null,
   "metadata": {},
   "outputs": [],
   "source": []
  }
 ],
 "metadata": {
  "kernelspec": {
   "display_name": "Python 3 (ipykernel)",
   "language": "python",
   "name": "python3"
  },
  "language_info": {
   "codemirror_mode": {
    "name": "ipython",
    "version": 3
   },
   "file_extension": ".py",
   "mimetype": "text/x-python",
   "name": "python",
   "nbconvert_exporter": "python",
   "pygments_lexer": "ipython3",
   "version": "3.7.13"
  }
 },
 "nbformat": 4,
 "nbformat_minor": 4
}
