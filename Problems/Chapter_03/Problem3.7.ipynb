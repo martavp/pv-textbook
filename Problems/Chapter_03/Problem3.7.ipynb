{
 "cells": [
  {
   "cell_type": "markdown",
   "metadata": {},
   "source": [
    "***Fundamentals of Solar Cells and Photovoltaic Systems Engineering***\n",
    "\n",
    "**Solutions Manual - Chapter 3**\n",
    "\n",
    "***Problem 3.7***\n"
   ]
  },
  {
   "cell_type": "markdown",
   "metadata": {},
   "source": [
    "We will use the package [pandas](https://pandas.pydata.org/) to handle the data and [matplotlib.pyplot](https://matplotlib.org/stable/index.html) to plot the results"
   ]
  },
  {
   "cell_type": "code",
   "execution_count": 2,
   "metadata": {},
   "outputs": [],
   "source": [
    "import pandas as pd\n",
    "import numpy as np\n",
    "import matplotlib.pyplot as plt"
   ]
  },
  {
   "cell_type": "markdown",
   "metadata": {},
   "source": [
    "We start by importing the data"
   ]
  },
  {
   "cell_type": "code",
   "execution_count": 3,
   "metadata": {},
   "outputs": [
    {
     "data": {
      "text/html": [
       "<div>\n",
       "<style scoped>\n",
       "    .dataframe tbody tr th:only-of-type {\n",
       "        vertical-align: middle;\n",
       "    }\n",
       "\n",
       "    .dataframe tbody tr th {\n",
       "        vertical-align: top;\n",
       "    }\n",
       "\n",
       "    .dataframe thead th {\n",
       "        text-align: right;\n",
       "    }\n",
       "</style>\n",
       "<table border=\"1\" class=\"dataframe\">\n",
       "  <thead>\n",
       "    <tr style=\"text-align: right;\">\n",
       "      <th></th>\n",
       "      <th>AM0</th>\n",
       "      <th>AM1.5G</th>\n",
       "      <th>AM1.5D</th>\n",
       "    </tr>\n",
       "  </thead>\n",
       "  <tbody>\n",
       "    <tr>\n",
       "      <th>Wvlgth nm</th>\n",
       "      <td>Etr W*m-2*nm-1</td>\n",
       "      <td>Global tilt  W*m-2*nm-1</td>\n",
       "      <td>Direct+circumsolar W*m-2*nm-1</td>\n",
       "    </tr>\n",
       "    <tr>\n",
       "      <th>280</th>\n",
       "      <td>8.20E-02</td>\n",
       "      <td>4.73E-23</td>\n",
       "      <td>2.54E-26</td>\n",
       "    </tr>\n",
       "    <tr>\n",
       "      <th>280.5</th>\n",
       "      <td>9.90E-02</td>\n",
       "      <td>1.23E-21</td>\n",
       "      <td>1.09E-24</td>\n",
       "    </tr>\n",
       "    <tr>\n",
       "      <th>281</th>\n",
       "      <td>1.50E-01</td>\n",
       "      <td>5.69E-21</td>\n",
       "      <td>6.13E-24</td>\n",
       "    </tr>\n",
       "    <tr>\n",
       "      <th>281.5</th>\n",
       "      <td>2.12E-01</td>\n",
       "      <td>1.57E-19</td>\n",
       "      <td>2.75E-22</td>\n",
       "    </tr>\n",
       "    <tr>\n",
       "      <th>...</th>\n",
       "      <td>...</td>\n",
       "      <td>...</td>\n",
       "      <td>...</td>\n",
       "    </tr>\n",
       "    <tr>\n",
       "      <th>3980</th>\n",
       "      <td>8.84E-03</td>\n",
       "      <td>7.39E-03</td>\n",
       "      <td>7.40E-03</td>\n",
       "    </tr>\n",
       "    <tr>\n",
       "      <th>3985</th>\n",
       "      <td>8.80E-03</td>\n",
       "      <td>7.43E-03</td>\n",
       "      <td>7.45E-03</td>\n",
       "    </tr>\n",
       "    <tr>\n",
       "      <th>3990</th>\n",
       "      <td>8.78E-03</td>\n",
       "      <td>7.37E-03</td>\n",
       "      <td>7.39E-03</td>\n",
       "    </tr>\n",
       "    <tr>\n",
       "      <th>3995</th>\n",
       "      <td>8.70E-03</td>\n",
       "      <td>7.21E-03</td>\n",
       "      <td>7.23E-03</td>\n",
       "    </tr>\n",
       "    <tr>\n",
       "      <th>4000</th>\n",
       "      <td>8.68E-03</td>\n",
       "      <td>7.10E-03</td>\n",
       "      <td>7.12E-03</td>\n",
       "    </tr>\n",
       "  </tbody>\n",
       "</table>\n",
       "<p>2003 rows × 3 columns</p>\n",
       "</div>"
      ],
      "text/plain": [
       "                      AM0                   AM1.5G  \\\n",
       "Wvlgth nm  Etr W*m-2*nm-1  Global tilt  W*m-2*nm-1   \n",
       "280              8.20E-02                 4.73E-23   \n",
       "280.5            9.90E-02                 1.23E-21   \n",
       "281              1.50E-01                 5.69E-21   \n",
       "281.5            2.12E-01                 1.57E-19   \n",
       "...                   ...                      ...   \n",
       "3980             8.84E-03                 7.39E-03   \n",
       "3985             8.80E-03                 7.43E-03   \n",
       "3990             8.78E-03                 7.37E-03   \n",
       "3995             8.70E-03                 7.21E-03   \n",
       "4000             8.68E-03                 7.10E-03   \n",
       "\n",
       "                                  AM1.5D  \n",
       "Wvlgth nm  Direct+circumsolar W*m-2*nm-1  \n",
       "280                             2.54E-26  \n",
       "280.5                           1.09E-24  \n",
       "281                             6.13E-24  \n",
       "281.5                           2.75E-22  \n",
       "...                                  ...  \n",
       "3980                            7.40E-03  \n",
       "3985                            7.45E-03  \n",
       "3990                            7.39E-03  \n",
       "3995                            7.23E-03  \n",
       "4000                            7.12E-03  \n",
       "\n",
       "[2003 rows x 3 columns]"
      ]
     },
     "execution_count": 3,
     "metadata": {},
     "output_type": "execute_result"
    }
   ],
   "source": [
    "datafile = pd.read_csv('data/Reference_spectrum_ASTM-G173-03.csv', index_col=0, header=0) \n",
    "datafile"
   ]
  },
  {
   "cell_type": "code",
   "execution_count": 4,
   "metadata": {},
   "outputs": [],
   "source": [
    "datafile.drop(datafile.index[0], inplace=True) #remove row including information on units\n",
    "datafile=datafile.astype(float) #convert values to float for easy operation\n",
    "datafile.index=datafile.index.astype(float) #convert indexes to float for easy operation"
   ]
  },
  {
   "cell_type": "markdown",
   "metadata": {},
   "source": [
    "We select the AM1.5G spectrum for our calculations"
   ]
  },
  {
   "cell_type": "code",
   "execution_count": 5,
   "metadata": {},
   "outputs": [
    {
     "data": {
      "text/plain": [
       "280.0     4.730000e-23\n",
       "280.5     1.230000e-21\n",
       "281.0     5.690000e-21\n",
       "281.5     1.570000e-19\n",
       "282.0     1.190000e-18\n",
       "              ...     \n",
       "3980.0    7.390000e-03\n",
       "3985.0    7.430000e-03\n",
       "3990.0    7.370000e-03\n",
       "3995.0    7.210000e-03\n",
       "4000.0    7.100000e-03\n",
       "Name: AM1.5G, Length: 2002, dtype: float64"
      ]
     },
     "execution_count": 5,
     "metadata": {},
     "output_type": "execute_result"
    }
   ],
   "source": [
    "G = datafile['AM1.5G']\n",
    "G"
   ]
  },
  {
   "cell_type": "markdown",
   "metadata": {},
   "source": [
    "<br>\n",
    "We will store all the calculated data in a dataframe"
   ]
  },
  {
   "cell_type": "markdown",
   "metadata": {},
   "source": [
    "<br>\n",
    "First we define the targeted bandgap values"
   ]
  },
  {
   "cell_type": "code",
   "execution_count": 6,
   "metadata": {},
   "outputs": [
    {
     "data": {
      "text/html": [
       "<div>\n",
       "<style scoped>\n",
       "    .dataframe tbody tr th:only-of-type {\n",
       "        vertical-align: middle;\n",
       "    }\n",
       "\n",
       "    .dataframe tbody tr th {\n",
       "        vertical-align: top;\n",
       "    }\n",
       "\n",
       "    .dataframe thead th {\n",
       "        text-align: right;\n",
       "    }\n",
       "</style>\n",
       "<table border=\"1\" class=\"dataframe\">\n",
       "  <thead>\n",
       "    <tr style=\"text-align: right;\">\n",
       "      <th></th>\n",
       "      <th>gap nm</th>\n",
       "    </tr>\n",
       "    <tr>\n",
       "      <th>gap eV</th>\n",
       "      <th></th>\n",
       "    </tr>\n",
       "  </thead>\n",
       "  <tbody>\n",
       "    <tr>\n",
       "      <th>0.2</th>\n",
       "      <td>6200.0</td>\n",
       "    </tr>\n",
       "    <tr>\n",
       "      <th>0.6</th>\n",
       "      <td>2066.7</td>\n",
       "    </tr>\n",
       "    <tr>\n",
       "      <th>1.0</th>\n",
       "      <td>1240.0</td>\n",
       "    </tr>\n",
       "    <tr>\n",
       "      <th>1.4</th>\n",
       "      <td>885.7</td>\n",
       "    </tr>\n",
       "    <tr>\n",
       "      <th>1.8</th>\n",
       "      <td>688.9</td>\n",
       "    </tr>\n",
       "    <tr>\n",
       "      <th>2.2</th>\n",
       "      <td>563.6</td>\n",
       "    </tr>\n",
       "    <tr>\n",
       "      <th>2.6</th>\n",
       "      <td>476.9</td>\n",
       "    </tr>\n",
       "  </tbody>\n",
       "</table>\n",
       "</div>"
      ],
      "text/plain": [
       "        gap nm\n",
       "gap eV        \n",
       "0.2     6200.0\n",
       "0.6     2066.7\n",
       "1.0     1240.0\n",
       "1.4      885.7\n",
       "1.8      688.9\n",
       "2.2      563.6\n",
       "2.6      476.9"
      ]
     },
     "execution_count": 6,
     "metadata": {},
     "output_type": "execute_result"
    }
   ],
   "source": [
    "gaps=np.arange(0.2, 2.7, 0.4)\n",
    "df = pd.DataFrame()\n",
    "df['gap eV']=np.round(gaps, 2)\n",
    "df['gap nm']=np.round(1240/np.array(df['gap eV']),1) #bandgaps in wavelength for esay operation\n",
    "df=df.set_index('gap eV') #set bandgap in eV as index column\n",
    "df"
   ]
  },
  {
   "cell_type": "markdown",
   "metadata": {},
   "source": [
    "For each bandgap, we calculate the maximum voltage\n",
    "\n",
    "$V_{max}\\approx 0.75\\ E_g$ (V)"
   ]
  },
  {
   "cell_type": "code",
   "execution_count": 7,
   "metadata": {},
   "outputs": [],
   "source": [
    "df['V_max']=np.round(0.75*df.index,1)"
   ]
  },
  {
   "cell_type": "markdown",
   "metadata": {},
   "source": [
    "We define the adequate constants to calcutale the ideal SR\n",
    "<br>\n",
    "and, with it, we calculate the ideal current density $J_{ideal}$ using Eq. 3.5\n",
    "\n",
    "$J_{ideal}=\\int SR_{ideal}(\\lambda) \\cdot G(\\lambda) \\ d\\lambda$ (A/m2)"
   ]
  },
  {
   "cell_type": "code",
   "execution_count": 8,
   "metadata": {},
   "outputs": [],
   "source": [
    "h=6.63*10**(-34) # [J·s] Planck constant\n",
    "e=1.60*10**(-19) #C electron charge\n",
    "c =299792458 #[m/s] Light speed\n",
    "\n",
    "idealSR=pd.Series(index=G.index,\n",
    "                  data=[wl*0.000000001*e/(h*c) for wl in G.index])\n",
    "def Jideal(wl):\n",
    "    return np.trapz(G[G.index<wl]*idealSR[idealSR.index<wl], x = G.index[G.index < wl]) #A/cm2\n",
    "\n",
    "df['J_ideal']=np.round([Jideal(gap) for gap in df['gap nm']],1)"
   ]
  },
  {
   "cell_type": "markdown",
   "metadata": {},
   "source": [
    "We calculate the approximated maximum power densities<br>\n",
    "and the corresponding maximum efficiencies\n",
    "\n",
    "$P_{max} \\approx 0.8 \\cdot J_{ideal} \\cdot V_{max}$ (W/m2)\n",
    "\n",
    "$\\eta_{max}= {P_{max} \\over 1000}$"
   ]
  },
  {
   "cell_type": "code",
   "execution_count": 9,
   "metadata": {},
   "outputs": [],
   "source": [
    "df['P_max']=np.round(0.8*df['V_max']*df['J_ideal'],1)\n",
    "df['eff_max']=np.round(df['P_max']/1000,2)"
   ]
  },
  {
   "cell_type": "markdown",
   "metadata": {},
   "source": [
    "We visualize the data as a table<br>\n",
    "and plot the approximated maximum efficiency as a function of $E_G$.<br>\n",
    "The bandgap of silicon is indicated with a dashed line."
   ]
  },
  {
   "cell_type": "code",
   "execution_count": 17,
   "metadata": {
    "scrolled": true
   },
   "outputs": [
    {
     "name": "stdout",
     "output_type": "stream",
     "text": [
      "        gap nm  V_max  J_ideal  P_max  eff_max\n",
      "gap eV                                        \n",
      "0.2     6200.0    0.2    688.6  110.2     0.11\n",
      "0.6     2066.7    0.4    620.8  198.7     0.20\n",
      "1.0     1240.0    0.8    480.9  307.8     0.31\n",
      "1.4      885.7    1.0    327.8  262.2     0.26\n",
      "1.8      688.9    1.4    195.6  219.1     0.22\n",
      "2.2      563.6    1.6    105.6  135.2     0.14\n",
      "2.6      476.9    2.0     49.8   79.7     0.08\n"
     ]
    },
    {
     "data": {
      "text/plain": [
       "<matplotlib.lines.Line2D at 0x7f7c86045710>"
      ]
     },
     "execution_count": 17,
     "metadata": {},
     "output_type": "execute_result"
    },
    {
     "data": {
      "image/png": "[encoded data removed]",
      "text/plain": [
       "<Figure size 640x480 with 1 Axes>"
      ]
     },
     "metadata": {},
     "output_type": "display_data"
    }
   ],
   "source": [
    "print(df)\n",
    "plt.plot(df['eff_max'],'o')\n",
    "plt.ylabel(r'Approximated maximum efficiency, $\\eta_{max}$')\n",
    "plt.xlabel('Bandgap, $E_g$ (eV)')\n",
    "plt.axvline(1.12, c='red', ls='--')"
   ]
  },
  {
   "cell_type": "markdown",
   "metadata": {},
   "source": [
    "***Discusion***"
   ]
  },
  {
   "cell_type": "markdown",
   "metadata": {},
   "source": [
    "Silicon is used in solar cells because its bandgap allows a very efficient photovoltaic conversion of the sunlight as the overall transmission and thermalization losses are minimized, or, in other words, the trade-off between high current and voltage is maximized."
   ]
  },
  {
   "cell_type": "code",
   "execution_count": null,
   "metadata": {},
   "outputs": [],
   "source": []
  }
 ],
 "metadata": {
  "kernelspec": {
   "display_name": "Python 3 (ipykernel)",
   "language": "python",
   "name": "python3"
  },
  "language_info": {
   "codemirror_mode": {
    "name": "ipython",
    "version": 3
   },
   "file_extension": ".py",
   "mimetype": "text/x-python",
   "name": "python",
   "nbconvert_exporter": "python",
   "pygments_lexer": "ipython3",
   "version": "3.7.13"
  }
 },
 "nbformat": 4,
 "nbformat_minor": 4
}
