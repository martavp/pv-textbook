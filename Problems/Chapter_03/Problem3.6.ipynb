{
 "cells": [
  {
   "cell_type": "markdown",
   "metadata": {},
   "source": [
    "**Fundamentals of Solar Cells and Photovoltaic Systems Engineering**\n",
    "\n",
    "**Solutions Manual - Chapter 3**\n",
    "\n",
    "**Problem 3.6**"
   ]
  },
  {
   "cell_type": "markdown",
   "metadata": {},
   "source": [
    "**Using the provided Quantum Efficiency (QE), calculate the Spectral Response (SR) of a Silicon solar cell. Plot the QE and SR as a function of wavelength**"
   ]
  },
  {
   "cell_type": "markdown",
   "metadata": {},
   "source": [
    "We will use the package [pandas](https://pandas.pydata.org/) to handle the data and [matplotlib.pyplot](https://matplotlib.org/stable/index.html) to plot the results"
   ]
  },
  {
   "cell_type": "code",
   "execution_count": 1,
   "metadata": {},
   "outputs": [],
   "source": [
    "import pandas as pd\n",
    "import numpy as np\n",
    "import matplotlib.pyplot as plt"
   ]
  },
  {
   "cell_type": "markdown",
   "metadata": {},
   "source": [
    "We start by importing the data."
   ]
  },
  {
   "cell_type": "code",
   "execution_count": 2,
   "metadata": {},
   "outputs": [
    {
     "data": {
      "text/html": [
       "<div>\n",
       "<style scoped>\n",
       "    .dataframe tbody tr th:only-of-type {\n",
       "        vertical-align: middle;\n",
       "    }\n",
       "\n",
       "    .dataframe tbody tr th {\n",
       "        vertical-align: top;\n",
       "    }\n",
       "\n",
       "    .dataframe thead th {\n",
       "        text-align: right;\n",
       "    }\n",
       "</style>\n",
       "<table border=\"1\" class=\"dataframe\">\n",
       "  <thead>\n",
       "    <tr style=\"text-align: right;\">\n",
       "      <th></th>\n",
       "      <th>AM0</th>\n",
       "      <th>AM1.5G</th>\n",
       "      <th>AM1.5D</th>\n",
       "    </tr>\n",
       "  </thead>\n",
       "  <tbody>\n",
       "    <tr>\n",
       "      <th>Wvlgth nm</th>\n",
       "      <td>Etr W*m-2*nm-1</td>\n",
       "      <td>Global tilt  W*m-2*nm-1</td>\n",
       "      <td>Direct+circumsolar W*m-2*nm-1</td>\n",
       "    </tr>\n",
       "    <tr>\n",
       "      <th>280</th>\n",
       "      <td>8.20E-02</td>\n",
       "      <td>4.73E-23</td>\n",
       "      <td>2.54E-26</td>\n",
       "    </tr>\n",
       "    <tr>\n",
       "      <th>280.5</th>\n",
       "      <td>9.90E-02</td>\n",
       "      <td>1.23E-21</td>\n",
       "      <td>1.09E-24</td>\n",
       "    </tr>\n",
       "    <tr>\n",
       "      <th>281</th>\n",
       "      <td>1.50E-01</td>\n",
       "      <td>5.69E-21</td>\n",
       "      <td>6.13E-24</td>\n",
       "    </tr>\n",
       "    <tr>\n",
       "      <th>281.5</th>\n",
       "      <td>2.12E-01</td>\n",
       "      <td>1.57E-19</td>\n",
       "      <td>2.75E-22</td>\n",
       "    </tr>\n",
       "    <tr>\n",
       "      <th>...</th>\n",
       "      <td>...</td>\n",
       "      <td>...</td>\n",
       "      <td>...</td>\n",
       "    </tr>\n",
       "    <tr>\n",
       "      <th>3980</th>\n",
       "      <td>8.84E-03</td>\n",
       "      <td>7.39E-03</td>\n",
       "      <td>7.40E-03</td>\n",
       "    </tr>\n",
       "    <tr>\n",
       "      <th>3985</th>\n",
       "      <td>8.80E-03</td>\n",
       "      <td>7.43E-03</td>\n",
       "      <td>7.45E-03</td>\n",
       "    </tr>\n",
       "    <tr>\n",
       "      <th>3990</th>\n",
       "      <td>8.78E-03</td>\n",
       "      <td>7.37E-03</td>\n",
       "      <td>7.39E-03</td>\n",
       "    </tr>\n",
       "    <tr>\n",
       "      <th>3995</th>\n",
       "      <td>8.70E-03</td>\n",
       "      <td>7.21E-03</td>\n",
       "      <td>7.23E-03</td>\n",
       "    </tr>\n",
       "    <tr>\n",
       "      <th>4000</th>\n",
       "      <td>8.68E-03</td>\n",
       "      <td>7.10E-03</td>\n",
       "      <td>7.12E-03</td>\n",
       "    </tr>\n",
       "  </tbody>\n",
       "</table>\n",
       "<p>2003 rows × 3 columns</p>\n",
       "</div>"
      ],
      "text/plain": [
       "                      AM0                   AM1.5G  \\\n",
       "Wvlgth nm  Etr W*m-2*nm-1  Global tilt  W*m-2*nm-1   \n",
       "280              8.20E-02                 4.73E-23   \n",
       "280.5            9.90E-02                 1.23E-21   \n",
       "281              1.50E-01                 5.69E-21   \n",
       "281.5            2.12E-01                 1.57E-19   \n",
       "...                   ...                      ...   \n",
       "3980             8.84E-03                 7.39E-03   \n",
       "3985             8.80E-03                 7.43E-03   \n",
       "3990             8.78E-03                 7.37E-03   \n",
       "3995             8.70E-03                 7.21E-03   \n",
       "4000             8.68E-03                 7.10E-03   \n",
       "\n",
       "                                  AM1.5D  \n",
       "Wvlgth nm  Direct+circumsolar W*m-2*nm-1  \n",
       "280                             2.54E-26  \n",
       "280.5                           1.09E-24  \n",
       "281                             6.13E-24  \n",
       "281.5                           2.75E-22  \n",
       "...                                  ...  \n",
       "3980                            7.40E-03  \n",
       "3985                            7.45E-03  \n",
       "3990                            7.39E-03  \n",
       "3995                            7.23E-03  \n",
       "4000                            7.12E-03  \n",
       "\n",
       "[2003 rows x 3 columns]"
      ]
     },
     "execution_count": 2,
     "metadata": {},
     "output_type": "execute_result"
    }
   ],
   "source": [
    "datafile = pd.read_csv('data/Reference_spectrum_ASTM-G173-03.csv', index_col=0, header=0) \n",
    "datafile"
   ]
  },
  {
   "cell_type": "code",
   "execution_count": 3,
   "metadata": {},
   "outputs": [],
   "source": [
    "datafile.drop(datafile.index[0], inplace=True) #remove row including information on units\n",
    "datafile=datafile.astype(float) #convert values to float for easy operation\n",
    "datafile.index=datafile.index.astype(float) #convert indexes to float for easy operation"
   ]
  },
  {
   "cell_type": "markdown",
   "metadata": {},
   "source": [
    "We can plot the spectra."
   ]
  },
  {
   "cell_type": "code",
   "execution_count": 12,
   "metadata": {},
   "outputs": [
    {
     "data": {
      "text/plain": [
       "<matplotlib.legend.Legend at 0x1440ed04588>"
      ]
     },
     "execution_count": 12,
     "metadata": {},
     "output_type": "execute_result"
    },
    {
     "data": {
      "image/png": "[encoded data removed]",
      "text/plain": [
       "<Figure size 432x288 with 1 Axes>"
      ]
     },
     "metadata": {
      "needs_background": "light"
     },
     "output_type": "display_data"
    }
   ],
   "source": [
    "plt.plot(datafile, linewidth=2, label=datafile.columns)\n",
    "plt.ylabel('Spectral distribution (Etr W*m-2*nm-1)')\n",
    "plt.xlabel('Wavelength (nm)')\n",
    "plt.legend()"
   ]
  },
  {
   "cell_type": "markdown",
   "metadata": {},
   "source": [
    "We define the relevant constants. "
   ]
  },
  {
   "cell_type": "code",
   "execution_count": 5,
   "metadata": {},
   "outputs": [],
   "source": [
    "h=6.63*10**(-34) # [J·s] Planck constant\n",
    "e=1.60*10**(-19) #C electron charge\n",
    "c =299792458 #[m/s] Light speed"
   ]
  },
  {
   "cell_type": "code",
   "execution_count": 6,
   "metadata": {},
   "outputs": [
    {
     "data": {
      "text/html": [
       "<div>\n",
       "<style scoped>\n",
       "    .dataframe tbody tr th:only-of-type {\n",
       "        vertical-align: middle;\n",
       "    }\n",
       "\n",
       "    .dataframe tbody tr th {\n",
       "        vertical-align: top;\n",
       "    }\n",
       "\n",
       "    .dataframe thead th {\n",
       "        text-align: right;\n",
       "    }\n",
       "</style>\n",
       "<table border=\"1\" class=\"dataframe\">\n",
       "  <thead>\n",
       "    <tr style=\"text-align: right;\">\n",
       "      <th></th>\n",
       "      <th>QE Silicon Solar cell</th>\n",
       "    </tr>\n",
       "    <tr>\n",
       "      <th>nm</th>\n",
       "      <th></th>\n",
       "    </tr>\n",
       "  </thead>\n",
       "  <tbody>\n",
       "    <tr>\n",
       "      <th>305</th>\n",
       "      <td>0.185579</td>\n",
       "    </tr>\n",
       "    <tr>\n",
       "      <th>310</th>\n",
       "      <td>0.243200</td>\n",
       "    </tr>\n",
       "    <tr>\n",
       "      <th>315</th>\n",
       "      <td>0.298992</td>\n",
       "    </tr>\n",
       "    <tr>\n",
       "      <th>320</th>\n",
       "      <td>0.353041</td>\n",
       "    </tr>\n",
       "    <tr>\n",
       "      <th>325</th>\n",
       "      <td>0.405425</td>\n",
       "    </tr>\n",
       "    <tr>\n",
       "      <th>...</th>\n",
       "      <td>...</td>\n",
       "    </tr>\n",
       "    <tr>\n",
       "      <th>1130</th>\n",
       "      <td>0.081951</td>\n",
       "    </tr>\n",
       "    <tr>\n",
       "      <th>1135</th>\n",
       "      <td>0.067769</td>\n",
       "    </tr>\n",
       "    <tr>\n",
       "      <th>1140</th>\n",
       "      <td>0.053712</td>\n",
       "    </tr>\n",
       "    <tr>\n",
       "      <th>1145</th>\n",
       "      <td>0.039777</td>\n",
       "    </tr>\n",
       "    <tr>\n",
       "      <th>1150</th>\n",
       "      <td>0.025964</td>\n",
       "    </tr>\n",
       "  </tbody>\n",
       "</table>\n",
       "<p>170 rows × 1 columns</p>\n",
       "</div>"
      ],
      "text/plain": [
       "      QE Silicon Solar cell\n",
       "nm                         \n",
       "305                0.185579\n",
       "310                0.243200\n",
       "315                0.298992\n",
       "320                0.353041\n",
       "325                0.405425\n",
       "...                     ...\n",
       "1130               0.081951\n",
       "1135               0.067769\n",
       "1140               0.053712\n",
       "1145               0.039777\n",
       "1150               0.025964\n",
       "\n",
       "[170 rows x 1 columns]"
      ]
     },
     "execution_count": 6,
     "metadata": {},
     "output_type": "execute_result"
    }
   ],
   "source": [
    "QE = pd.read_csv('data/QE_Silicon.csv', index_col=0, header=0) \n",
    "QE"
   ]
  },
  {
   "cell_type": "markdown",
   "metadata": {},
   "source": [
    "We plot the Quantum Efficiency and Spectral Response"
   ]
  },
  {
   "cell_type": "code",
   "execution_count": 7,
   "metadata": {},
   "outputs": [
    {
     "data": {
      "text/plain": [
       "nm\n",
       "305     0.045563\n",
       "310     0.060689\n",
       "315     0.075815\n",
       "320     0.090941\n",
       "325     0.106067\n",
       "          ...   \n",
       "1130    0.074545\n",
       "1135    0.061918\n",
       "1140    0.049290\n",
       "1145    0.036663\n",
       "1150    0.024036\n",
       "Length: 170, dtype: float64"
      ]
     },
     "execution_count": 7,
     "metadata": {},
     "output_type": "execute_result"
    }
   ],
   "source": [
    "SR=pd.Series(index=QE.index,\n",
    "            data=[QE.loc[i,'QE Silicon Solar cell']*e*i*0.000000001/(h*c) for i in QE.index])\n",
    "SR"
   ]
  },
  {
   "cell_type": "code",
   "execution_count": 8,
   "metadata": {},
   "outputs": [
    {
     "data": {
      "image/png": "[encoded data removed]",
      "text/plain": [
       "<Figure size 432x288 with 1 Axes>"
      ]
     },
     "metadata": {
      "needs_background": "light"
     },
     "output_type": "display_data"
    }
   ],
   "source": [
    "plt.plot(QE, \n",
    "         linewidth=2)\n",
    "plt.ylabel('Quantum Efficiency, $QE$')\n",
    "plt.xlabel('Wavelength, $\\lambda$ (nm)');"
   ]
  },
  {
   "cell_type": "code",
   "execution_count": 9,
   "metadata": {},
   "outputs": [
    {
     "data": {
      "image/png": "[encoded data removed]",
      "text/plain": [
       "<Figure size 432x288 with 1 Axes>"
      ]
     },
     "metadata": {
      "needs_background": "light"
     },
     "output_type": "display_data"
    }
   ],
   "source": [
    "plt.plot(SR, \n",
    "         linewidth=2)\n",
    "plt.ylabel('Spectral response, $SR$')\n",
    "plt.xlabel(r'Wavelength, $\\lambda$ (nm)');"
   ]
  },
  {
   "cell_type": "markdown",
   "metadata": {},
   "source": [
    "***(c) Estimate the photocurrent generated by a Silicon solar cell illuminated by the reference spectrum AM1.5 G***"
   ]
  },
  {
   "cell_type": "markdown",
   "metadata": {},
   "source": [
    "First, we need to interpolate the spectra at those datapoints included in the SR. "
   ]
  },
  {
   "cell_type": "code",
   "execution_count": 10,
   "metadata": {},
   "outputs": [],
   "source": [
    "spectra=datafile['AM1.5G']\n",
    "spectra_interpolated=np.interp(SR.index, spectra.index, spectra.values)"
   ]
  },
  {
   "cell_type": "markdown",
   "metadata": {},
   "source": [
    "Then, we calculate the photocurrent using Eq. 3.5.\n",
    "\n",
    "$J=\\int SR(\\lambda) \\cdot G(\\lambda) \\ d\\lambda$"
   ]
  },
  {
   "cell_type": "code",
   "execution_count": 11,
   "metadata": {},
   "outputs": [
    {
     "name": "stdout",
     "output_type": "stream",
     "text": [
      "Photocurrent density = 36.7 mA/cm2\n"
     ]
    }
   ],
   "source": [
    "J = np.trapz([x*y for x,y in zip(SR, spectra_interpolated)], x=SR.index)*1000/10000 # A-> mA ; m2 -> cm2\n",
    "print('Photocurrent density = ' + str(J.round(1)) + ' mA/cm2')"
   ]
  }
 ],
 "metadata": {
  "kernelspec": {
   "display_name": "Python 3 (ipykernel)",
   "language": "python",
   "name": "python3"
  },
  "language_info": {
   "codemirror_mode": {
    "name": "ipython",
    "version": 3
   },
   "file_extension": ".py",
   "mimetype": "text/x-python",
   "name": "python",
   "nbconvert_exporter": "python",
   "pygments_lexer": "ipython3",
   "version": "3.7.12"
  }
 },
 "nbformat": 4,
 "nbformat_minor": 4
}
