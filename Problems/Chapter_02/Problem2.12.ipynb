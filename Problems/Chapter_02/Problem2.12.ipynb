{
 "cells": [
  {
   "cell_type": "markdown",
   "metadata": {},
   "source": [
    "***Fundamentals of Solar Cells and Photovoltaic Systems Engineering***\n",
    "\n",
    "**Solutions Manual - Chapter 2**\n",
    "\n",
    "***Problem 2.12***\n"
   ]
  },
  {
   "cell_type": "markdown",
   "metadata": {},
   "source": [
    "***Estimate the global irradiance G(α,β) reaching the plane of array (POA) of a north-facing, 20° tilted generator over grass (reflectivity=0.2) located at a PV plant in Antananarivo, Madagascar (18° 56′ 0″ S, 47° 31′ 0″ E) at midday (true solar time) on May 12, 2022.***\n",
    "\n",
    "***Solve the problem using pvlib-python and selecting the same day from the typical meteorological year (TMY) obtained from PVGIS.***"
   ]
  },
  {
   "cell_type": "markdown",
   "metadata": {},
   "source": [
    "We will use the packages [pvlib](https://pvlib-python.readthedocs.io/en/stable/), [pandas](https://pandas.pydata.org/) and [matplotlib.pyplot](https://matplotlib.org/stable/index.html) to plot the results. "
   ]
  },
  {
   "cell_type": "code",
   "execution_count": 1,
   "metadata": {},
   "outputs": [],
   "source": [
    "import pvlib\n",
    "import pandas as pd\n",
    "import matplotlib.pyplot as plt"
   ]
  },
  {
   "cell_type": "markdown",
   "metadata": {},
   "source": [
    "We start by defining the location, date and time. \n",
    "We will implement the calculation for every hour on May 12, 2022. "
   ]
  },
  {
   "cell_type": "code",
   "execution_count": 2,
   "metadata": {},
   "outputs": [],
   "source": [
    "# Antananarivo, Madagascar\n",
    "lat, lon = 18.93, 47.52\n",
    "tz = 'Africa/Mbabane' #existing timezones can be checked using pytz.all_timezones[::20]\n",
    "\n",
    "date = '2022-05-12'\n",
    "\n",
    "# surface angles beta, alpha\n",
    "tilt, orientation = 20, 0 # pvlib sets orientation origin at North -> North=0\n",
    "\n",
    "# location\n",
    "location = pvlib.location.Location(lat, lon, tz=tz)\n",
    "\n",
    "# albedo\n",
    "albedo = 0.20 #grass reflectivity\n",
    "\n",
    "# datetimes\n",
    "times = pd.date_range(start=date, freq='1H', periods=24, tz=tz)\n"
   ]
  },
  {
   "cell_type": "markdown",
   "metadata": {},
   "source": [
    "Retrieve typical meteorological year (TMY) data from PVGIS."
   ]
  },
  {
   "cell_type": "code",
   "execution_count": 9,
   "metadata": {},
   "outputs": [],
   "source": [
    "tmy, _, _, _ = pvlib.iotools.get_pvgis_tmy(latitude=lat, longitude=lon, map_variables=True)\n",
    "\n",
    "tmy.index = tmy.index.tz_convert(tz) #use local time\n",
    "\n",
    "#select the hourly values corresponding to the day=May 12 (day=132)\n",
    "tmy_day = tmy[tmy.index.dayofyear == times.dayofyear.unique()[0]]"
   ]
  },
  {
   "cell_type": "markdown",
   "metadata": {},
   "source": [
    "We calculate the Sun's coordinates and calculate the irradiance on the plane of array (POA)"
   ]
  },
  {
   "cell_type": "code",
   "execution_count": 10,
   "metadata": {},
   "outputs": [],
   "source": [
    "# calculates Sun's coordinates\n",
    "solar_position_tmy = location.get_solarposition(times=tmy_day.index)\n",
    "\n",
    "poa_fixed_tmy_irradiance = pvlib.irradiance.get_total_irradiance(\n",
    "    surface_tilt=tilt,\n",
    "    surface_azimuth=orientation,\n",
    "    dni=tmy_day['dni'],\n",
    "    ghi=tmy_day['ghi'],\n",
    "    dhi=tmy_day['dhi'],\n",
    "    solar_zenith=solar_position_tmy['apparent_zenith'],\n",
    "    solar_azimuth=solar_position_tmy['azimuth'])\n"
   ]
  },
  {
   "cell_type": "markdown",
   "metadata": {},
   "source": [
    "We can plot the daily evolution of direct, diffuse, and global irradiance"
   ]
  },
  {
   "cell_type": "code",
   "execution_count": 13,
   "metadata": {},
   "outputs": [
    {
     "data": {
      "text/plain": [
       "Text(0, 0.5, 'Radiation (W/m2)')"
      ]
     },
     "execution_count": 13,
     "metadata": {},
     "output_type": "execute_result"
    },
    {
     "data": {
      "image/png": "[encoded data removed]",
      "text/plain": [
       "<Figure size 432x288 with 1 Axes>"
      ]
     },
     "metadata": {
      "needs_background": "light"
     },
     "output_type": "display_data"
    }
   ],
   "source": [
    "poa_fixed_tmy_irradiance.plot()\n",
    "plt.ylabel('Radiation (W/m2)')"
   ]
  },
  {
   "cell_type": "markdown",
   "metadata": {},
   "source": [
    "And obtain the value at midday. "
   ]
  },
  {
   "cell_type": "code",
   "execution_count": 25,
   "metadata": {},
   "outputs": [
    {
     "data": {
      "text/plain": [
       "poa_global            941.334819\n",
       "poa_direct            691.357434\n",
       "poa_diffuse           249.977385\n",
       "poa_sky_diffuse       242.461578\n",
       "poa_ground_diffuse      7.515807\n",
       "Name: 2008-05-11 12:00:00+02:00, dtype: float64"
      ]
     },
     "execution_count": 25,
     "metadata": {},
     "output_type": "execute_result"
    }
   ],
   "source": [
    "poa_fixed_tmy_irradiance.loc[poa_fixed_tmy_irradiance.index[12]]"
   ]
  },
  {
   "cell_type": "markdown",
   "metadata": {},
   "source": [
    "We can also obtain the values at any other time step."
   ]
  },
  {
   "cell_type": "code",
   "execution_count": 26,
   "metadata": {},
   "outputs": [
    {
     "data": {
      "text/html": [
       "<div>\n",
       "<style scoped>\n",
       "    .dataframe tbody tr th:only-of-type {\n",
       "        vertical-align: middle;\n",
       "    }\n",
       "\n",
       "    .dataframe tbody tr th {\n",
       "        vertical-align: top;\n",
       "    }\n",
       "\n",
       "    .dataframe thead th {\n",
       "        text-align: right;\n",
       "    }\n",
       "</style>\n",
       "<table border=\"1\" class=\"dataframe\">\n",
       "  <thead>\n",
       "    <tr style=\"text-align: right;\">\n",
       "      <th></th>\n",
       "      <th>poa_global</th>\n",
       "      <th>poa_direct</th>\n",
       "      <th>poa_diffuse</th>\n",
       "      <th>poa_sky_diffuse</th>\n",
       "      <th>poa_ground_diffuse</th>\n",
       "    </tr>\n",
       "    <tr>\n",
       "      <th>time(UTC)</th>\n",
       "      <th></th>\n",
       "      <th></th>\n",
       "      <th></th>\n",
       "      <th></th>\n",
       "      <th></th>\n",
       "    </tr>\n",
       "  </thead>\n",
       "  <tbody>\n",
       "    <tr>\n",
       "      <th>2008-05-11 00:00:00+02:00</th>\n",
       "      <td>0.000000</td>\n",
       "      <td>-0.000000</td>\n",
       "      <td>0.000000</td>\n",
       "      <td>0.000000</td>\n",
       "      <td>0.000000</td>\n",
       "    </tr>\n",
       "    <tr>\n",
       "      <th>2008-05-11 01:00:00+02:00</th>\n",
       "      <td>0.000000</td>\n",
       "      <td>-0.000000</td>\n",
       "      <td>0.000000</td>\n",
       "      <td>0.000000</td>\n",
       "      <td>0.000000</td>\n",
       "    </tr>\n",
       "    <tr>\n",
       "      <th>2008-05-11 02:00:00+02:00</th>\n",
       "      <td>0.000000</td>\n",
       "      <td>-0.000000</td>\n",
       "      <td>0.000000</td>\n",
       "      <td>0.000000</td>\n",
       "      <td>0.000000</td>\n",
       "    </tr>\n",
       "    <tr>\n",
       "      <th>2008-05-11 03:00:00+02:00</th>\n",
       "      <td>0.000000</td>\n",
       "      <td>-0.000000</td>\n",
       "      <td>0.000000</td>\n",
       "      <td>0.000000</td>\n",
       "      <td>0.000000</td>\n",
       "    </tr>\n",
       "    <tr>\n",
       "      <th>2008-05-11 04:00:00+02:00</th>\n",
       "      <td>0.000000</td>\n",
       "      <td>0.000000</td>\n",
       "      <td>0.000000</td>\n",
       "      <td>0.000000</td>\n",
       "      <td>0.000000</td>\n",
       "    </tr>\n",
       "    <tr>\n",
       "      <th>2008-05-11 05:00:00+02:00</th>\n",
       "      <td>37.336697</td>\n",
       "      <td>7.015155</td>\n",
       "      <td>30.321542</td>\n",
       "      <td>30.065236</td>\n",
       "      <td>0.256306</td>\n",
       "    </tr>\n",
       "    <tr>\n",
       "      <th>2008-05-11 06:00:00+02:00</th>\n",
       "      <td>307.494565</td>\n",
       "      <td>185.205787</td>\n",
       "      <td>122.288778</td>\n",
       "      <td>120.260942</td>\n",
       "      <td>2.027836</td>\n",
       "    </tr>\n",
       "    <tr>\n",
       "      <th>2008-05-11 07:00:00+02:00</th>\n",
       "      <td>532.616873</td>\n",
       "      <td>354.237633</td>\n",
       "      <td>178.379239</td>\n",
       "      <td>174.572336</td>\n",
       "      <td>3.806903</td>\n",
       "    </tr>\n",
       "    <tr>\n",
       "      <th>2008-05-11 08:00:00+02:00</th>\n",
       "      <td>715.651532</td>\n",
       "      <td>487.227063</td>\n",
       "      <td>228.424470</td>\n",
       "      <td>223.064651</td>\n",
       "      <td>5.359818</td>\n",
       "    </tr>\n",
       "    <tr>\n",
       "      <th>2008-05-11 09:00:00+02:00</th>\n",
       "      <td>866.316210</td>\n",
       "      <td>620.092667</td>\n",
       "      <td>246.223542</td>\n",
       "      <td>239.552039</td>\n",
       "      <td>6.671504</td>\n",
       "    </tr>\n",
       "    <tr>\n",
       "      <th>2008-05-11 10:00:00+02:00</th>\n",
       "      <td>949.605042</td>\n",
       "      <td>683.208116</td>\n",
       "      <td>266.396926</td>\n",
       "      <td>258.948965</td>\n",
       "      <td>7.447961</td>\n",
       "    </tr>\n",
       "    <tr>\n",
       "      <th>2008-05-11 11:00:00+02:00</th>\n",
       "      <td>989.053450</td>\n",
       "      <td>743.586068</td>\n",
       "      <td>245.467382</td>\n",
       "      <td>237.612346</td>\n",
       "      <td>7.855036</td>\n",
       "    </tr>\n",
       "    <tr>\n",
       "      <th>2008-05-11 12:00:00+02:00</th>\n",
       "      <td>941.334819</td>\n",
       "      <td>691.357434</td>\n",
       "      <td>249.977385</td>\n",
       "      <td>242.461578</td>\n",
       "      <td>7.515807</td>\n",
       "    </tr>\n",
       "    <tr>\n",
       "      <th>2008-05-11 13:00:00+02:00</th>\n",
       "      <td>841.287192</td>\n",
       "      <td>609.566114</td>\n",
       "      <td>231.721078</td>\n",
       "      <td>225.004344</td>\n",
       "      <td>6.716734</td>\n",
       "    </tr>\n",
       "    <tr>\n",
       "      <th>2008-05-11 14:00:00+02:00</th>\n",
       "      <td>604.211858</td>\n",
       "      <td>299.780142</td>\n",
       "      <td>304.431716</td>\n",
       "      <td>299.682510</td>\n",
       "      <td>4.749206</td>\n",
       "    </tr>\n",
       "    <tr>\n",
       "      <th>2008-05-11 15:00:00+02:00</th>\n",
       "      <td>350.037365</td>\n",
       "      <td>92.261492</td>\n",
       "      <td>257.775873</td>\n",
       "      <td>255.069580</td>\n",
       "      <td>2.706294</td>\n",
       "    </tr>\n",
       "    <tr>\n",
       "      <th>2008-05-11 16:00:00+02:00</th>\n",
       "      <td>239.920554</td>\n",
       "      <td>104.287618</td>\n",
       "      <td>135.632935</td>\n",
       "      <td>133.838791</td>\n",
       "      <td>1.794145</td>\n",
       "    </tr>\n",
       "    <tr>\n",
       "      <th>2008-05-11 17:00:00+02:00</th>\n",
       "      <td>49.278283</td>\n",
       "      <td>15.971818</td>\n",
       "      <td>33.306465</td>\n",
       "      <td>32.974775</td>\n",
       "      <td>0.331691</td>\n",
       "    </tr>\n",
       "    <tr>\n",
       "      <th>2008-05-11 18:00:00+02:00</th>\n",
       "      <td>0.000000</td>\n",
       "      <td>-0.000000</td>\n",
       "      <td>0.000000</td>\n",
       "      <td>0.000000</td>\n",
       "      <td>0.000000</td>\n",
       "    </tr>\n",
       "    <tr>\n",
       "      <th>2008-05-11 19:00:00+02:00</th>\n",
       "      <td>0.000000</td>\n",
       "      <td>-0.000000</td>\n",
       "      <td>0.000000</td>\n",
       "      <td>0.000000</td>\n",
       "      <td>0.000000</td>\n",
       "    </tr>\n",
       "    <tr>\n",
       "      <th>2008-05-11 20:00:00+02:00</th>\n",
       "      <td>0.000000</td>\n",
       "      <td>-0.000000</td>\n",
       "      <td>0.000000</td>\n",
       "      <td>0.000000</td>\n",
       "      <td>0.000000</td>\n",
       "    </tr>\n",
       "    <tr>\n",
       "      <th>2008-05-11 21:00:00+02:00</th>\n",
       "      <td>0.000000</td>\n",
       "      <td>-0.000000</td>\n",
       "      <td>0.000000</td>\n",
       "      <td>0.000000</td>\n",
       "      <td>0.000000</td>\n",
       "    </tr>\n",
       "    <tr>\n",
       "      <th>2008-05-11 22:00:00+02:00</th>\n",
       "      <td>0.000000</td>\n",
       "      <td>-0.000000</td>\n",
       "      <td>0.000000</td>\n",
       "      <td>0.000000</td>\n",
       "      <td>0.000000</td>\n",
       "    </tr>\n",
       "    <tr>\n",
       "      <th>2008-05-11 23:00:00+02:00</th>\n",
       "      <td>0.000000</td>\n",
       "      <td>-0.000000</td>\n",
       "      <td>0.000000</td>\n",
       "      <td>0.000000</td>\n",
       "      <td>0.000000</td>\n",
       "    </tr>\n",
       "  </tbody>\n",
       "</table>\n",
       "</div>"
      ],
      "text/plain": [
       "                           poa_global  poa_direct  poa_diffuse  \\\n",
       "time(UTC)                                                        \n",
       "2008-05-11 00:00:00+02:00    0.000000   -0.000000     0.000000   \n",
       "2008-05-11 01:00:00+02:00    0.000000   -0.000000     0.000000   \n",
       "2008-05-11 02:00:00+02:00    0.000000   -0.000000     0.000000   \n",
       "2008-05-11 03:00:00+02:00    0.000000   -0.000000     0.000000   \n",
       "2008-05-11 04:00:00+02:00    0.000000    0.000000     0.000000   \n",
       "2008-05-11 05:00:00+02:00   37.336697    7.015155    30.321542   \n",
       "2008-05-11 06:00:00+02:00  307.494565  185.205787   122.288778   \n",
       "2008-05-11 07:00:00+02:00  532.616873  354.237633   178.379239   \n",
       "2008-05-11 08:00:00+02:00  715.651532  487.227063   228.424470   \n",
       "2008-05-11 09:00:00+02:00  866.316210  620.092667   246.223542   \n",
       "2008-05-11 10:00:00+02:00  949.605042  683.208116   266.396926   \n",
       "2008-05-11 11:00:00+02:00  989.053450  743.586068   245.467382   \n",
       "2008-05-11 12:00:00+02:00  941.334819  691.357434   249.977385   \n",
       "2008-05-11 13:00:00+02:00  841.287192  609.566114   231.721078   \n",
       "2008-05-11 14:00:00+02:00  604.211858  299.780142   304.431716   \n",
       "2008-05-11 15:00:00+02:00  350.037365   92.261492   257.775873   \n",
       "2008-05-11 16:00:00+02:00  239.920554  104.287618   135.632935   \n",
       "2008-05-11 17:00:00+02:00   49.278283   15.971818    33.306465   \n",
       "2008-05-11 18:00:00+02:00    0.000000   -0.000000     0.000000   \n",
       "2008-05-11 19:00:00+02:00    0.000000   -0.000000     0.000000   \n",
       "2008-05-11 20:00:00+02:00    0.000000   -0.000000     0.000000   \n",
       "2008-05-11 21:00:00+02:00    0.000000   -0.000000     0.000000   \n",
       "2008-05-11 22:00:00+02:00    0.000000   -0.000000     0.000000   \n",
       "2008-05-11 23:00:00+02:00    0.000000   -0.000000     0.000000   \n",
       "\n",
       "                           poa_sky_diffuse  poa_ground_diffuse  \n",
       "time(UTC)                                                       \n",
       "2008-05-11 00:00:00+02:00         0.000000            0.000000  \n",
       "2008-05-11 01:00:00+02:00         0.000000            0.000000  \n",
       "2008-05-11 02:00:00+02:00         0.000000            0.000000  \n",
       "2008-05-11 03:00:00+02:00         0.000000            0.000000  \n",
       "2008-05-11 04:00:00+02:00         0.000000            0.000000  \n",
       "2008-05-11 05:00:00+02:00        30.065236            0.256306  \n",
       "2008-05-11 06:00:00+02:00       120.260942            2.027836  \n",
       "2008-05-11 07:00:00+02:00       174.572336            3.806903  \n",
       "2008-05-11 08:00:00+02:00       223.064651            5.359818  \n",
       "2008-05-11 09:00:00+02:00       239.552039            6.671504  \n",
       "2008-05-11 10:00:00+02:00       258.948965            7.447961  \n",
       "2008-05-11 11:00:00+02:00       237.612346            7.855036  \n",
       "2008-05-11 12:00:00+02:00       242.461578            7.515807  \n",
       "2008-05-11 13:00:00+02:00       225.004344            6.716734  \n",
       "2008-05-11 14:00:00+02:00       299.682510            4.749206  \n",
       "2008-05-11 15:00:00+02:00       255.069580            2.706294  \n",
       "2008-05-11 16:00:00+02:00       133.838791            1.794145  \n",
       "2008-05-11 17:00:00+02:00        32.974775            0.331691  \n",
       "2008-05-11 18:00:00+02:00         0.000000            0.000000  \n",
       "2008-05-11 19:00:00+02:00         0.000000            0.000000  \n",
       "2008-05-11 20:00:00+02:00         0.000000            0.000000  \n",
       "2008-05-11 21:00:00+02:00         0.000000            0.000000  \n",
       "2008-05-11 22:00:00+02:00         0.000000            0.000000  \n",
       "2008-05-11 23:00:00+02:00         0.000000            0.000000  "
      ]
     },
     "execution_count": 26,
     "metadata": {},
     "output_type": "execute_result"
    }
   ],
   "source": [
    "poa_fixed_tmy_irradiance"
   ]
  },
  {
   "cell_type": "code",
   "execution_count": null,
   "metadata": {},
   "outputs": [],
   "source": []
  }
 ],
 "metadata": {
  "kernelspec": {
   "display_name": "Python 3 (ipykernel)",
   "language": "python",
   "name": "python3"
  },
  "language_info": {
   "codemirror_mode": {
    "name": "ipython",
    "version": 3
   },
   "file_extension": ".py",
   "mimetype": "text/x-python",
   "name": "python",
   "nbconvert_exporter": "python",
   "pygments_lexer": "ipython3",
   "version": "3.7.12"
  }
 },
 "nbformat": 4,
 "nbformat_minor": 4
}
