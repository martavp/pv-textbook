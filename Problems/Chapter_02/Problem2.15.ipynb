{
 "cells": [
  {
   "cell_type": "markdown",
   "metadata": {},
   "source": [
    "**Fundamentals of Solar Cells and Photovoltaic Systems Engineering**\n",
    "\n",
    "**Solutions Manual - Chapter 2**\n",
    "\n",
    "**Problem 2.15**\n"
   ]
  },
  {
   "cell_type": "markdown",
   "metadata": {},
   "source": [
    "***Estimate the global irradiance G(α,β) reaching the plane of array (POA) of a north-facing, 20° tilted generator over grass (reflectivity=0.2) located at a PV plant in Antananarivo, Madagascar (18° 56′ 0″ S, 47° 31′ 0″ E) at midday (true solar time) on May 12, 2022.***\n",
    "\n",
    "***Solve the problem using pvlib-python and the default clear-sky model.***"
   ]
  },
  {
   "cell_type": "markdown",
   "metadata": {},
   "source": [
    "We will use the packages [pvlib](https://pvlib-python.readthedocs.io/en/stable/), [pandas](https://pandas.pydata.org/) and [matplotlib.pyplot](https://matplotlib.org/stable/index.html) to plot the results.\n"
   ]
  },
  {
   "cell_type": "code",
   "execution_count": 1,
   "metadata": {},
   "outputs": [],
   "source": [
    "import pvlib\n",
    "import pandas as pd\n",
    "import matplotlib.pyplot as plt"
   ]
  },
  {
   "cell_type": "markdown",
   "metadata": {},
   "source": [
    "We start by defining the location, date and time. \n",
    "We will implement the calculation for every hour on May 12, 2022. "
   ]
  },
  {
   "cell_type": "code",
   "execution_count": 3,
   "metadata": {},
   "outputs": [],
   "source": [
    "# Antananarivo, Madagascar\n",
    "lat, lon = -18.93, 47.52\n",
    "tz = 'Indian/Antananarivo' #existing timezones can be checked using pytz.all_timezones[::20]\n",
    "\n",
    "date = '2022-05-12'\n",
    "\n",
    "# surface angles beta, alpha\n",
    "tilt, orientation = 20, 0 # pvlib sets orientation origin at North -> North=0\n",
    "\n",
    "# location\n",
    "location = pvlib.location.Location(lat, lon, tz=tz)\n",
    "\n",
    "# albedo\n",
    "albedo = 0.20 # grass reflectivity\n",
    "\n",
    "# datetimes\n",
    "times = pd.date_range(start=date, freq='1H', periods=24, tz=tz)"
   ]
  },
  {
   "cell_type": "markdown",
   "metadata": {},
   "source": [
    "We calculate the clear-sky irradiance using the default options in pvlib. "
   ]
  },
  {
   "cell_type": "code",
   "execution_count": 4,
   "metadata": {},
   "outputs": [],
   "source": [
    "# generates clear-sky ghi, dni, dhi irradiances (decomposition using Ineichen model and turbidity index; pvlib's default)\n",
    "clearsky = location.get_clearsky(times, model='ineichen')"
   ]
  },
  {
   "cell_type": "markdown",
   "metadata": {},
   "source": [
    "We calculate the Sun's coordinates and calculate the irradiance on the plane of array (POA)"
   ]
  },
  {
   "cell_type": "code",
   "execution_count": 6,
   "metadata": {},
   "outputs": [],
   "source": [
    "# calculates Sun's coordinates\n",
    "solar_position = location.get_solarposition(times=times)\n",
    "\n",
    "# calculates POA (transposition using isotropic model)\n",
    "poa_fixed_irradiance = pvlib.irradiance.get_total_irradiance(\n",
    "                        surface_tilt=tilt,\n",
    "                        surface_azimuth=orientation,\n",
    "                        dni=clearsky['dni'],\n",
    "                        ghi=clearsky['ghi'],\n",
    "                        dhi=clearsky['dhi'],\n",
    "                        albedo=albedo,\n",
    "                        solar_zenith=solar_position['apparent_zenith'],\n",
    "                        solar_azimuth=solar_position['azimuth'],\n",
    "                        model='isotropic')"
   ]
  },
  {
   "cell_type": "markdown",
   "metadata": {},
   "source": [
    "We can plot the daily evolution of direct, diffuse, and global irradiance"
   ]
  },
  {
   "cell_type": "code",
   "execution_count": 7,
   "metadata": {},
   "outputs": [
    {
     "data": {
      "text/plain": [
       "Text(0, 0.5, 'Irradiance [$W/m^2$]')"
      ]
     },
     "execution_count": 7,
     "metadata": {},
     "output_type": "execute_result"
    },
    {
     "data": {
      "image/png": "[encoded data removed]",
      "text/plain": [
       "<Figure size 432x288 with 1 Axes>"
      ]
     },
     "metadata": {
      "needs_background": "light"
     },
     "output_type": "display_data"
    }
   ],
   "source": [
    "poa_fixed_irradiance.plot()\n",
    "plt.ylabel('Irradiance [$W/m^2$]')"
   ]
  },
  {
   "cell_type": "markdown",
   "metadata": {},
   "source": [
    "And obtain the value at midday. "
   ]
  },
  {
   "cell_type": "code",
   "execution_count": 8,
   "metadata": {},
   "outputs": [
    {
     "data": {
      "text/plain": [
       "poa_global            951.649954\n",
       "poa_direct            861.213729\n",
       "poa_diffuse            90.436225\n",
       "poa_sky_diffuse        85.570772\n",
       "poa_ground_diffuse      4.865453\n",
       "Name: 2022-05-12 12:00:00+03:00, dtype: float64"
      ]
     },
     "execution_count": 8,
     "metadata": {},
     "output_type": "execute_result"
    }
   ],
   "source": [
    "poa_fixed_irradiance.loc['2022-05-12 12:00']"
   ]
  },
  {
   "cell_type": "markdown",
   "metadata": {},
   "source": [
    "We can also obtain the values at any other time step."
   ]
  },
  {
   "cell_type": "code",
   "execution_count": 7,
   "metadata": {},
   "outputs": [
    {
     "data": {
      "text/html": [
       "<div>\n",
       "<style scoped>\n",
       "    .dataframe tbody tr th:only-of-type {\n",
       "        vertical-align: middle;\n",
       "    }\n",
       "\n",
       "    .dataframe tbody tr th {\n",
       "        vertical-align: top;\n",
       "    }\n",
       "\n",
       "    .dataframe thead th {\n",
       "        text-align: right;\n",
       "    }\n",
       "</style>\n",
       "<table border=\"1\" class=\"dataframe\">\n",
       "  <thead>\n",
       "    <tr style=\"text-align: right;\">\n",
       "      <th></th>\n",
       "      <th>poa_global</th>\n",
       "      <th>poa_direct</th>\n",
       "      <th>poa_diffuse</th>\n",
       "      <th>poa_sky_diffuse</th>\n",
       "      <th>poa_ground_diffuse</th>\n",
       "    </tr>\n",
       "  </thead>\n",
       "  <tbody>\n",
       "    <tr>\n",
       "      <th>2022-05-12 00:00:00+03:00</th>\n",
       "      <td>0.000000</td>\n",
       "      <td>0.000000</td>\n",
       "      <td>0.000000</td>\n",
       "      <td>0.000000</td>\n",
       "      <td>0.000000</td>\n",
       "    </tr>\n",
       "    <tr>\n",
       "      <th>2022-05-12 01:00:00+03:00</th>\n",
       "      <td>0.000000</td>\n",
       "      <td>0.000000</td>\n",
       "      <td>0.000000</td>\n",
       "      <td>0.000000</td>\n",
       "      <td>0.000000</td>\n",
       "    </tr>\n",
       "    <tr>\n",
       "      <th>2022-05-12 02:00:00+03:00</th>\n",
       "      <td>0.000000</td>\n",
       "      <td>0.000000</td>\n",
       "      <td>0.000000</td>\n",
       "      <td>0.000000</td>\n",
       "      <td>0.000000</td>\n",
       "    </tr>\n",
       "    <tr>\n",
       "      <th>2022-05-12 03:00:00+03:00</th>\n",
       "      <td>0.000000</td>\n",
       "      <td>0.000000</td>\n",
       "      <td>0.000000</td>\n",
       "      <td>0.000000</td>\n",
       "      <td>0.000000</td>\n",
       "    </tr>\n",
       "    <tr>\n",
       "      <th>2022-05-12 04:00:00+03:00</th>\n",
       "      <td>0.000000</td>\n",
       "      <td>0.000000</td>\n",
       "      <td>0.000000</td>\n",
       "      <td>0.000000</td>\n",
       "      <td>0.000000</td>\n",
       "    </tr>\n",
       "    <tr>\n",
       "      <th>2022-05-12 05:00:00+03:00</th>\n",
       "      <td>0.000000</td>\n",
       "      <td>0.000000</td>\n",
       "      <td>0.000000</td>\n",
       "      <td>0.000000</td>\n",
       "      <td>0.000000</td>\n",
       "    </tr>\n",
       "    <tr>\n",
       "      <th>2022-05-12 06:00:00+03:00</th>\n",
       "      <td>0.000000</td>\n",
       "      <td>0.000000</td>\n",
       "      <td>0.000000</td>\n",
       "      <td>0.000000</td>\n",
       "      <td>0.000000</td>\n",
       "    </tr>\n",
       "    <tr>\n",
       "      <th>2022-05-12 07:00:00+03:00</th>\n",
       "      <td>178.552469</td>\n",
       "      <td>144.682689</td>\n",
       "      <td>33.869780</td>\n",
       "      <td>33.139604</td>\n",
       "      <td>0.730176</td>\n",
       "    </tr>\n",
       "    <tr>\n",
       "      <th>2022-05-12 08:00:00+03:00</th>\n",
       "      <td>448.361907</td>\n",
       "      <td>389.462201</td>\n",
       "      <td>58.899706</td>\n",
       "      <td>56.795933</td>\n",
       "      <td>2.103773</td>\n",
       "    </tr>\n",
       "    <tr>\n",
       "      <th>2022-05-12 09:00:00+03:00</th>\n",
       "      <td>671.502597</td>\n",
       "      <td>597.574027</td>\n",
       "      <td>73.928571</td>\n",
       "      <td>70.614999</td>\n",
       "      <td>3.313572</td>\n",
       "    </tr>\n",
       "    <tr>\n",
       "      <th>2022-05-12 10:00:00+03:00</th>\n",
       "      <td>835.630298</td>\n",
       "      <td>751.833026</td>\n",
       "      <td>83.797272</td>\n",
       "      <td>79.577127</td>\n",
       "      <td>4.220145</td>\n",
       "    </tr>\n",
       "    <tr>\n",
       "      <th>2022-05-12 11:00:00+03:00</th>\n",
       "      <td>931.000548</td>\n",
       "      <td>841.728537</td>\n",
       "      <td>89.272011</td>\n",
       "      <td>84.521434</td>\n",
       "      <td>4.750576</td>\n",
       "    </tr>\n",
       "    <tr>\n",
       "      <th>2022-05-12 12:00:00+03:00</th>\n",
       "      <td>951.649954</td>\n",
       "      <td>861.213729</td>\n",
       "      <td>90.436225</td>\n",
       "      <td>85.570772</td>\n",
       "      <td>4.865453</td>\n",
       "    </tr>\n",
       "    <tr>\n",
       "      <th>2022-05-12 13:00:00+03:00</th>\n",
       "      <td>896.271048</td>\n",
       "      <td>808.982966</td>\n",
       "      <td>87.288082</td>\n",
       "      <td>82.731655</td>\n",
       "      <td>4.556427</td>\n",
       "    </tr>\n",
       "    <tr>\n",
       "      <th>2022-05-12 14:00:00+03:00</th>\n",
       "      <td>768.372647</td>\n",
       "      <td>688.553706</td>\n",
       "      <td>79.818941</td>\n",
       "      <td>75.972778</td>\n",
       "      <td>3.846163</td>\n",
       "    </tr>\n",
       "    <tr>\n",
       "      <th>2022-05-12 15:00:00+03:00</th>\n",
       "      <td>575.815923</td>\n",
       "      <td>508.047139</td>\n",
       "      <td>67.768785</td>\n",
       "      <td>64.980021</td>\n",
       "      <td>2.788764</td>\n",
       "    </tr>\n",
       "    <tr>\n",
       "      <th>2022-05-12 16:00:00+03:00</th>\n",
       "      <td>329.490855</td>\n",
       "      <td>280.133480</td>\n",
       "      <td>49.357375</td>\n",
       "      <td>47.879474</td>\n",
       "      <td>1.477901</td>\n",
       "    </tr>\n",
       "    <tr>\n",
       "      <th>2022-05-12 17:00:00+03:00</th>\n",
       "      <td>51.371315</td>\n",
       "      <td>37.902478</td>\n",
       "      <td>13.468836</td>\n",
       "      <td>13.292309</td>\n",
       "      <td>0.176528</td>\n",
       "    </tr>\n",
       "    <tr>\n",
       "      <th>2022-05-12 18:00:00+03:00</th>\n",
       "      <td>0.000000</td>\n",
       "      <td>0.000000</td>\n",
       "      <td>0.000000</td>\n",
       "      <td>0.000000</td>\n",
       "      <td>0.000000</td>\n",
       "    </tr>\n",
       "    <tr>\n",
       "      <th>2022-05-12 19:00:00+03:00</th>\n",
       "      <td>0.000000</td>\n",
       "      <td>0.000000</td>\n",
       "      <td>0.000000</td>\n",
       "      <td>0.000000</td>\n",
       "      <td>0.000000</td>\n",
       "    </tr>\n",
       "    <tr>\n",
       "      <th>2022-05-12 20:00:00+03:00</th>\n",
       "      <td>0.000000</td>\n",
       "      <td>0.000000</td>\n",
       "      <td>0.000000</td>\n",
       "      <td>0.000000</td>\n",
       "      <td>0.000000</td>\n",
       "    </tr>\n",
       "    <tr>\n",
       "      <th>2022-05-12 21:00:00+03:00</th>\n",
       "      <td>0.000000</td>\n",
       "      <td>0.000000</td>\n",
       "      <td>0.000000</td>\n",
       "      <td>0.000000</td>\n",
       "      <td>0.000000</td>\n",
       "    </tr>\n",
       "    <tr>\n",
       "      <th>2022-05-12 22:00:00+03:00</th>\n",
       "      <td>0.000000</td>\n",
       "      <td>0.000000</td>\n",
       "      <td>0.000000</td>\n",
       "      <td>0.000000</td>\n",
       "      <td>0.000000</td>\n",
       "    </tr>\n",
       "    <tr>\n",
       "      <th>2022-05-12 23:00:00+03:00</th>\n",
       "      <td>0.000000</td>\n",
       "      <td>0.000000</td>\n",
       "      <td>0.000000</td>\n",
       "      <td>0.000000</td>\n",
       "      <td>0.000000</td>\n",
       "    </tr>\n",
       "  </tbody>\n",
       "</table>\n",
       "</div>"
      ],
      "text/plain": [
       "                           poa_global  poa_direct  poa_diffuse  \\\n",
       "2022-05-12 00:00:00+03:00    0.000000    0.000000     0.000000   \n",
       "2022-05-12 01:00:00+03:00    0.000000    0.000000     0.000000   \n",
       "2022-05-12 02:00:00+03:00    0.000000    0.000000     0.000000   \n",
       "2022-05-12 03:00:00+03:00    0.000000    0.000000     0.000000   \n",
       "2022-05-12 04:00:00+03:00    0.000000    0.000000     0.000000   \n",
       "2022-05-12 05:00:00+03:00    0.000000    0.000000     0.000000   \n",
       "2022-05-12 06:00:00+03:00    0.000000    0.000000     0.000000   \n",
       "2022-05-12 07:00:00+03:00  178.552469  144.682689    33.869780   \n",
       "2022-05-12 08:00:00+03:00  448.361907  389.462201    58.899706   \n",
       "2022-05-12 09:00:00+03:00  671.502597  597.574027    73.928571   \n",
       "2022-05-12 10:00:00+03:00  835.630298  751.833026    83.797272   \n",
       "2022-05-12 11:00:00+03:00  931.000548  841.728537    89.272011   \n",
       "2022-05-12 12:00:00+03:00  951.649954  861.213729    90.436225   \n",
       "2022-05-12 13:00:00+03:00  896.271048  808.982966    87.288082   \n",
       "2022-05-12 14:00:00+03:00  768.372647  688.553706    79.818941   \n",
       "2022-05-12 15:00:00+03:00  575.815923  508.047139    67.768785   \n",
       "2022-05-12 16:00:00+03:00  329.490855  280.133480    49.357375   \n",
       "2022-05-12 17:00:00+03:00   51.371315   37.902478    13.468836   \n",
       "2022-05-12 18:00:00+03:00    0.000000    0.000000     0.000000   \n",
       "2022-05-12 19:00:00+03:00    0.000000    0.000000     0.000000   \n",
       "2022-05-12 20:00:00+03:00    0.000000    0.000000     0.000000   \n",
       "2022-05-12 21:00:00+03:00    0.000000    0.000000     0.000000   \n",
       "2022-05-12 22:00:00+03:00    0.000000    0.000000     0.000000   \n",
       "2022-05-12 23:00:00+03:00    0.000000    0.000000     0.000000   \n",
       "\n",
       "                           poa_sky_diffuse  poa_ground_diffuse  \n",
       "2022-05-12 00:00:00+03:00         0.000000            0.000000  \n",
       "2022-05-12 01:00:00+03:00         0.000000            0.000000  \n",
       "2022-05-12 02:00:00+03:00         0.000000            0.000000  \n",
       "2022-05-12 03:00:00+03:00         0.000000            0.000000  \n",
       "2022-05-12 04:00:00+03:00         0.000000            0.000000  \n",
       "2022-05-12 05:00:00+03:00         0.000000            0.000000  \n",
       "2022-05-12 06:00:00+03:00         0.000000            0.000000  \n",
       "2022-05-12 07:00:00+03:00        33.139604            0.730176  \n",
       "2022-05-12 08:00:00+03:00        56.795933            2.103773  \n",
       "2022-05-12 09:00:00+03:00        70.614999            3.313572  \n",
       "2022-05-12 10:00:00+03:00        79.577127            4.220145  \n",
       "2022-05-12 11:00:00+03:00        84.521434            4.750576  \n",
       "2022-05-12 12:00:00+03:00        85.570772            4.865453  \n",
       "2022-05-12 13:00:00+03:00        82.731655            4.556427  \n",
       "2022-05-12 14:00:00+03:00        75.972778            3.846163  \n",
       "2022-05-12 15:00:00+03:00        64.980021            2.788764  \n",
       "2022-05-12 16:00:00+03:00        47.879474            1.477901  \n",
       "2022-05-12 17:00:00+03:00        13.292309            0.176528  \n",
       "2022-05-12 18:00:00+03:00         0.000000            0.000000  \n",
       "2022-05-12 19:00:00+03:00         0.000000            0.000000  \n",
       "2022-05-12 20:00:00+03:00         0.000000            0.000000  \n",
       "2022-05-12 21:00:00+03:00         0.000000            0.000000  \n",
       "2022-05-12 22:00:00+03:00         0.000000            0.000000  \n",
       "2022-05-12 23:00:00+03:00         0.000000            0.000000  "
      ]
     },
     "execution_count": 7,
     "metadata": {},
     "output_type": "execute_result"
    }
   ],
   "source": [
    "poa_fixed_irradiance"
   ]
  }
 ],
 "metadata": {
  "kernelspec": {
   "display_name": "Python 3 (ipykernel)",
   "language": "python",
   "name": "python3"
  },
  "language_info": {
   "codemirror_mode": {
    "name": "ipython",
    "version": 3
   },
   "file_extension": ".py",
   "mimetype": "text/x-python",
   "name": "python",
   "nbconvert_exporter": "python",
   "pygments_lexer": "ipython3",
   "version": "3.7.12"
  }
 },
 "nbformat": 4,
 "nbformat_minor": 4
}
