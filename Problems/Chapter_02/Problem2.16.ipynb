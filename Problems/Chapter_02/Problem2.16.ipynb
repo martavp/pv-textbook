{
 "cells": [
  {
   "cell_type": "markdown",
   "metadata": {},
   "source": [
    "**Fundamentals of Solar Cells and Photovoltaic Systems Engineering**\n",
    "\n",
    "**Solutions Manual - Chapter 2**\n",
    "\n",
    "**Problem 2.16**\n"
   ]
  },
  {
   "cell_type": "markdown",
   "metadata": {},
   "source": [
    "**Estimate the global irradiance G(α,β) reaching the plane of array (POA) of a north-facing, 20° tilted generator over grass (reflectivity=0.2) located at a PV plant in Antananarivo, Madagascar (18° 56′ 0″ S, 47° 31′ 0″ E) at midday (true solar time) on May 12, 2022.**\n",
    "\n",
    "**Solve the problem using pvlib-python and selecting the same day from the typical meteorological year (TMY) obtained from PVGIS.**"
   ]
  },
  {
   "cell_type": "markdown",
   "metadata": {},
   "source": [
    "We will use the packages [pvlib](https://pvlib-python.readthedocs.io/en/stable/), [pandas](https://pandas.pydata.org/) and [matplotlib.pyplot](https://matplotlib.org/stable/index.html) to plot the results.\n"
   ]
  },
  {
   "cell_type": "code",
   "execution_count": 1,
   "metadata": {},
   "outputs": [],
   "source": [
    "import pvlib\n",
    "import pandas as pd\n",
    "import matplotlib.pyplot as plt"
   ]
  },
  {
   "cell_type": "markdown",
   "metadata": {},
   "source": [
    "We start by defining the location, date and time. \n",
    "We will implement the calculation for every hour on May 12, 2022. "
   ]
  },
  {
   "cell_type": "code",
   "execution_count": 5,
   "metadata": {},
   "outputs": [],
   "source": [
    "# Antananarivo, Madagascar\n",
    "lat, lon = 18.93, 47.52\n",
    "tz = 'Indian/Antananarivo' #existing timezones can be checked using pytz.all_timezones[::20]\n",
    "\n",
    "date = '2022-05-12'\n",
    "\n",
    "# surface angles beta, alpha\n",
    "tilt, orientation = 20, 0 # pvlib sets orientation origin at North -> North=0\n",
    "\n",
    "# location\n",
    "location = pvlib.location.Location(lat, lon, tz=tz)\n",
    "\n",
    "# albedo\n",
    "albedo = 0.20 # grass reflectivity\n",
    "\n",
    "# datetimes\n",
    "times = pd.date_range(start=date, freq='1H', periods=24, tz=tz)"
   ]
  },
  {
   "cell_type": "markdown",
   "metadata": {},
   "source": [
    "Retrieve typical meteorological year (TMY) data from PVGIS."
   ]
  },
  {
   "cell_type": "code",
   "execution_count": 6,
   "metadata": {},
   "outputs": [],
   "source": [
    "tmy, _, _, _ = pvlib.iotools.get_pvgis_tmy(latitude=lat, longitude=lon, map_variables=True)\n",
    "tmy.index = [ts.replace(year=2022) for ts in tmy.index] # homogenizes year to 2022\n",
    "\n",
    "tmy.index = tmy.index.tz_convert(tz) # use local time\n",
    "\n",
    "# select the hourly values corresponding to the day=May 12\n",
    "tmy_day = tmy.loc[date]"
   ]
  },
  {
   "cell_type": "markdown",
   "metadata": {},
   "source": [
    "We calculate the Sun's coordinates and calculate the irradiance on the plane of array (POA)"
   ]
  },
  {
   "cell_type": "code",
   "execution_count": 7,
   "metadata": {},
   "outputs": [],
   "source": [
    "# calculates Sun's coordinates\n",
    "solar_position_tmy = location.get_solarposition(times=tmy_day.index)\n",
    "\n",
    "poa_fixed_tmy_irradiance = pvlib.irradiance.get_total_irradiance(\n",
    "    surface_tilt=tilt,\n",
    "    surface_azimuth=orientation,\n",
    "    dni=tmy_day['dni'],\n",
    "    ghi=tmy_day['ghi'],\n",
    "    dhi=tmy_day['dhi'],\n",
    "    solar_zenith=solar_position_tmy['apparent_zenith'],\n",
    "    solar_azimuth=solar_position_tmy['azimuth'])\n"
   ]
  },
  {
   "cell_type": "markdown",
   "metadata": {},
   "source": [
    "We can plot the daily evolution of direct, diffuse, and global irradiance"
   ]
  },
  {
   "cell_type": "code",
   "execution_count": 8,
   "metadata": {},
   "outputs": [
    {
     "data": {
      "text/plain": [
       "Text(0, 0.5, 'Irradiance [$W/m^2$]')"
      ]
     },
     "execution_count": 8,
     "metadata": {},
     "output_type": "execute_result"
    },
    {
     "data": {
      "image/png": "[encoded data removed]",
      "text/plain": [
       "<Figure size 432x288 with 1 Axes>"
      ]
     },
     "metadata": {
      "needs_background": "light"
     },
     "output_type": "display_data"
    }
   ],
   "source": [
    "poa_fixed_tmy_irradiance.plot()\n",
    "plt.ylabel('Irradiance [$W/m^2$]')"
   ]
  },
  {
   "cell_type": "markdown",
   "metadata": {},
   "source": [
    "And obtain the value at midday. "
   ]
  },
  {
   "cell_type": "code",
   "execution_count": 9,
   "metadata": {},
   "outputs": [
    {
     "data": {
      "text/plain": [
       "poa_global            948.896516\n",
       "poa_direct            637.826352\n",
       "poa_diffuse           311.070164\n",
       "poa_sky_diffuse       303.561895\n",
       "poa_ground_diffuse      7.508269\n",
       "Name: 2022-05-12 12:00:00+03:00, dtype: float64"
      ]
     },
     "execution_count": 9,
     "metadata": {},
     "output_type": "execute_result"
    }
   ],
   "source": [
    "poa_fixed_tmy_irradiance.loc[poa_fixed_tmy_irradiance.index[12]]"
   ]
  },
  {
   "cell_type": "markdown",
   "metadata": {},
   "source": [
    "We can also obtain the values at any other time step."
   ]
  },
  {
   "cell_type": "code",
   "execution_count": 10,
   "metadata": {},
   "outputs": [
    {
     "data": {
      "text/html": [
       "<div>\n",
       "<style scoped>\n",
       "    .dataframe tbody tr th:only-of-type {\n",
       "        vertical-align: middle;\n",
       "    }\n",
       "\n",
       "    .dataframe tbody tr th {\n",
       "        vertical-align: top;\n",
       "    }\n",
       "\n",
       "    .dataframe thead th {\n",
       "        text-align: right;\n",
       "    }\n",
       "</style>\n",
       "<table border=\"1\" class=\"dataframe\">\n",
       "  <thead>\n",
       "    <tr style=\"text-align: right;\">\n",
       "      <th></th>\n",
       "      <th>poa_global</th>\n",
       "      <th>poa_direct</th>\n",
       "      <th>poa_diffuse</th>\n",
       "      <th>poa_sky_diffuse</th>\n",
       "      <th>poa_ground_diffuse</th>\n",
       "    </tr>\n",
       "  </thead>\n",
       "  <tbody>\n",
       "    <tr>\n",
       "      <th>2022-05-12 00:00:00+03:00</th>\n",
       "      <td>0.000000</td>\n",
       "      <td>-0.000000</td>\n",
       "      <td>0.000000</td>\n",
       "      <td>0.000000</td>\n",
       "      <td>0.000000</td>\n",
       "    </tr>\n",
       "    <tr>\n",
       "      <th>2022-05-12 01:00:00+03:00</th>\n",
       "      <td>0.000000</td>\n",
       "      <td>-0.000000</td>\n",
       "      <td>0.000000</td>\n",
       "      <td>0.000000</td>\n",
       "      <td>0.000000</td>\n",
       "    </tr>\n",
       "    <tr>\n",
       "      <th>2022-05-12 02:00:00+03:00</th>\n",
       "      <td>0.000000</td>\n",
       "      <td>-0.000000</td>\n",
       "      <td>0.000000</td>\n",
       "      <td>0.000000</td>\n",
       "      <td>0.000000</td>\n",
       "    </tr>\n",
       "    <tr>\n",
       "      <th>2022-05-12 03:00:00+03:00</th>\n",
       "      <td>0.000000</td>\n",
       "      <td>-0.000000</td>\n",
       "      <td>0.000000</td>\n",
       "      <td>0.000000</td>\n",
       "      <td>0.000000</td>\n",
       "    </tr>\n",
       "    <tr>\n",
       "      <th>2022-05-12 04:00:00+03:00</th>\n",
       "      <td>0.000000</td>\n",
       "      <td>-0.000000</td>\n",
       "      <td>0.000000</td>\n",
       "      <td>0.000000</td>\n",
       "      <td>0.000000</td>\n",
       "    </tr>\n",
       "    <tr>\n",
       "      <th>2022-05-12 05:00:00+03:00</th>\n",
       "      <td>0.000000</td>\n",
       "      <td>0.000000</td>\n",
       "      <td>0.000000</td>\n",
       "      <td>0.000000</td>\n",
       "      <td>0.000000</td>\n",
       "    </tr>\n",
       "    <tr>\n",
       "      <th>2022-05-12 06:00:00+03:00</th>\n",
       "      <td>48.175092</td>\n",
       "      <td>13.921395</td>\n",
       "      <td>34.253696</td>\n",
       "      <td>33.944621</td>\n",
       "      <td>0.309075</td>\n",
       "    </tr>\n",
       "    <tr>\n",
       "      <th>2022-05-12 07:00:00+03:00</th>\n",
       "      <td>311.618935</td>\n",
       "      <td>190.277388</td>\n",
       "      <td>121.341547</td>\n",
       "      <td>119.291096</td>\n",
       "      <td>2.050451</td>\n",
       "    </tr>\n",
       "    <tr>\n",
       "      <th>2022-05-12 08:00:00+03:00</th>\n",
       "      <td>523.917955</td>\n",
       "      <td>335.893022</td>\n",
       "      <td>188.024933</td>\n",
       "      <td>184.270799</td>\n",
       "      <td>3.754134</td>\n",
       "    </tr>\n",
       "    <tr>\n",
       "      <th>2022-05-12 09:00:00+03:00</th>\n",
       "      <td>716.014292</td>\n",
       "      <td>487.589822</td>\n",
       "      <td>228.424470</td>\n",
       "      <td>223.064651</td>\n",
       "      <td>5.359818</td>\n",
       "    </tr>\n",
       "    <tr>\n",
       "      <th>2022-05-12 10:00:00+03:00</th>\n",
       "      <td>856.993783</td>\n",
       "      <td>597.267776</td>\n",
       "      <td>259.726007</td>\n",
       "      <td>253.129887</td>\n",
       "      <td>6.596120</td>\n",
       "    </tr>\n",
       "    <tr>\n",
       "      <th>2022-05-12 11:00:00+03:00</th>\n",
       "      <td>950.219536</td>\n",
       "      <td>683.822610</td>\n",
       "      <td>266.396926</td>\n",
       "      <td>258.948965</td>\n",
       "      <td>7.447961</td>\n",
       "    </tr>\n",
       "    <tr>\n",
       "      <th>2022-05-12 12:00:00+03:00</th>\n",
       "      <td>948.896516</td>\n",
       "      <td>637.826352</td>\n",
       "      <td>311.070164</td>\n",
       "      <td>303.561895</td>\n",
       "      <td>7.508269</td>\n",
       "    </tr>\n",
       "    <tr>\n",
       "      <th>2022-05-12 13:00:00+03:00</th>\n",
       "      <td>917.654662</td>\n",
       "      <td>628.124655</td>\n",
       "      <td>289.530008</td>\n",
       "      <td>282.225276</td>\n",
       "      <td>7.304731</td>\n",
       "    </tr>\n",
       "    <tr>\n",
       "      <th>2022-05-12 14:00:00+03:00</th>\n",
       "      <td>833.275580</td>\n",
       "      <td>587.082191</td>\n",
       "      <td>246.193389</td>\n",
       "      <td>239.552039</td>\n",
       "      <td>6.641350</td>\n",
       "    </tr>\n",
       "    <tr>\n",
       "      <th>2022-05-12 15:00:00+03:00</th>\n",
       "      <td>708.928079</td>\n",
       "      <td>542.309928</td>\n",
       "      <td>166.618151</td>\n",
       "      <td>160.994488</td>\n",
       "      <td>5.623663</td>\n",
       "    </tr>\n",
       "    <tr>\n",
       "      <th>2022-05-12 16:00:00+03:00</th>\n",
       "      <td>485.316637</td>\n",
       "      <td>307.952475</td>\n",
       "      <td>177.364162</td>\n",
       "      <td>173.602490</td>\n",
       "      <td>3.761673</td>\n",
       "    </tr>\n",
       "    <tr>\n",
       "      <th>2022-05-12 17:00:00+03:00</th>\n",
       "      <td>261.937155</td>\n",
       "      <td>136.821761</td>\n",
       "      <td>125.115394</td>\n",
       "      <td>123.170481</td>\n",
       "      <td>1.944913</td>\n",
       "    </tr>\n",
       "    <tr>\n",
       "      <th>2022-05-12 18:00:00+03:00</th>\n",
       "      <td>50.837315</td>\n",
       "      <td>17.523312</td>\n",
       "      <td>33.314004</td>\n",
       "      <td>32.974775</td>\n",
       "      <td>0.339229</td>\n",
       "    </tr>\n",
       "    <tr>\n",
       "      <th>2022-05-12 19:00:00+03:00</th>\n",
       "      <td>0.000000</td>\n",
       "      <td>-0.000000</td>\n",
       "      <td>0.000000</td>\n",
       "      <td>0.000000</td>\n",
       "      <td>0.000000</td>\n",
       "    </tr>\n",
       "    <tr>\n",
       "      <th>2022-05-12 20:00:00+03:00</th>\n",
       "      <td>0.000000</td>\n",
       "      <td>-0.000000</td>\n",
       "      <td>0.000000</td>\n",
       "      <td>0.000000</td>\n",
       "      <td>0.000000</td>\n",
       "    </tr>\n",
       "    <tr>\n",
       "      <th>2022-05-12 21:00:00+03:00</th>\n",
       "      <td>0.000000</td>\n",
       "      <td>-0.000000</td>\n",
       "      <td>0.000000</td>\n",
       "      <td>0.000000</td>\n",
       "      <td>0.000000</td>\n",
       "    </tr>\n",
       "    <tr>\n",
       "      <th>2022-05-12 22:00:00+03:00</th>\n",
       "      <td>0.000000</td>\n",
       "      <td>-0.000000</td>\n",
       "      <td>0.000000</td>\n",
       "      <td>0.000000</td>\n",
       "      <td>0.000000</td>\n",
       "    </tr>\n",
       "    <tr>\n",
       "      <th>2022-05-12 23:00:00+03:00</th>\n",
       "      <td>0.000000</td>\n",
       "      <td>-0.000000</td>\n",
       "      <td>0.000000</td>\n",
       "      <td>0.000000</td>\n",
       "      <td>0.000000</td>\n",
       "    </tr>\n",
       "  </tbody>\n",
       "</table>\n",
       "</div>"
      ],
      "text/plain": [
       "                           poa_global  poa_direct  poa_diffuse  \\\n",
       "2022-05-12 00:00:00+03:00    0.000000   -0.000000     0.000000   \n",
       "2022-05-12 01:00:00+03:00    0.000000   -0.000000     0.000000   \n",
       "2022-05-12 02:00:00+03:00    0.000000   -0.000000     0.000000   \n",
       "2022-05-12 03:00:00+03:00    0.000000   -0.000000     0.000000   \n",
       "2022-05-12 04:00:00+03:00    0.000000   -0.000000     0.000000   \n",
       "2022-05-12 05:00:00+03:00    0.000000    0.000000     0.000000   \n",
       "2022-05-12 06:00:00+03:00   48.175092   13.921395    34.253696   \n",
       "2022-05-12 07:00:00+03:00  311.618935  190.277388   121.341547   \n",
       "2022-05-12 08:00:00+03:00  523.917955  335.893022   188.024933   \n",
       "2022-05-12 09:00:00+03:00  716.014292  487.589822   228.424470   \n",
       "2022-05-12 10:00:00+03:00  856.993783  597.267776   259.726007   \n",
       "2022-05-12 11:00:00+03:00  950.219536  683.822610   266.396926   \n",
       "2022-05-12 12:00:00+03:00  948.896516  637.826352   311.070164   \n",
       "2022-05-12 13:00:00+03:00  917.654662  628.124655   289.530008   \n",
       "2022-05-12 14:00:00+03:00  833.275580  587.082191   246.193389   \n",
       "2022-05-12 15:00:00+03:00  708.928079  542.309928   166.618151   \n",
       "2022-05-12 16:00:00+03:00  485.316637  307.952475   177.364162   \n",
       "2022-05-12 17:00:00+03:00  261.937155  136.821761   125.115394   \n",
       "2022-05-12 18:00:00+03:00   50.837315   17.523312    33.314004   \n",
       "2022-05-12 19:00:00+03:00    0.000000   -0.000000     0.000000   \n",
       "2022-05-12 20:00:00+03:00    0.000000   -0.000000     0.000000   \n",
       "2022-05-12 21:00:00+03:00    0.000000   -0.000000     0.000000   \n",
       "2022-05-12 22:00:00+03:00    0.000000   -0.000000     0.000000   \n",
       "2022-05-12 23:00:00+03:00    0.000000   -0.000000     0.000000   \n",
       "\n",
       "                           poa_sky_diffuse  poa_ground_diffuse  \n",
       "2022-05-12 00:00:00+03:00         0.000000            0.000000  \n",
       "2022-05-12 01:00:00+03:00         0.000000            0.000000  \n",
       "2022-05-12 02:00:00+03:00         0.000000            0.000000  \n",
       "2022-05-12 03:00:00+03:00         0.000000            0.000000  \n",
       "2022-05-12 04:00:00+03:00         0.000000            0.000000  \n",
       "2022-05-12 05:00:00+03:00         0.000000            0.000000  \n",
       "2022-05-12 06:00:00+03:00        33.944621            0.309075  \n",
       "2022-05-12 07:00:00+03:00       119.291096            2.050451  \n",
       "2022-05-12 08:00:00+03:00       184.270799            3.754134  \n",
       "2022-05-12 09:00:00+03:00       223.064651            5.359818  \n",
       "2022-05-12 10:00:00+03:00       253.129887            6.596120  \n",
       "2022-05-12 11:00:00+03:00       258.948965            7.447961  \n",
       "2022-05-12 12:00:00+03:00       303.561895            7.508269  \n",
       "2022-05-12 13:00:00+03:00       282.225276            7.304731  \n",
       "2022-05-12 14:00:00+03:00       239.552039            6.641350  \n",
       "2022-05-12 15:00:00+03:00       160.994488            5.623663  \n",
       "2022-05-12 16:00:00+03:00       173.602490            3.761673  \n",
       "2022-05-12 17:00:00+03:00       123.170481            1.944913  \n",
       "2022-05-12 18:00:00+03:00        32.974775            0.339229  \n",
       "2022-05-12 19:00:00+03:00         0.000000            0.000000  \n",
       "2022-05-12 20:00:00+03:00         0.000000            0.000000  \n",
       "2022-05-12 21:00:00+03:00         0.000000            0.000000  \n",
       "2022-05-12 22:00:00+03:00         0.000000            0.000000  \n",
       "2022-05-12 23:00:00+03:00         0.000000            0.000000  "
      ]
     },
     "execution_count": 10,
     "metadata": {},
     "output_type": "execute_result"
    }
   ],
   "source": [
    "poa_fixed_tmy_irradiance"
   ]
  }
 ],
 "metadata": {
  "kernelspec": {
   "display_name": "Python 3 (ipykernel)",
   "language": "python",
   "name": "python3"
  },
  "language_info": {
   "codemirror_mode": {
    "name": "ipython",
    "version": 3
   },
   "file_extension": ".py",
   "mimetype": "text/x-python",
   "name": "python",
   "nbconvert_exporter": "python",
   "pygments_lexer": "ipython3",
   "version": "3.7.12"
  }
 },
 "nbformat": 4,
 "nbformat_minor": 4
}
