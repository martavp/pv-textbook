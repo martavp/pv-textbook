{
 "cells": [
  {
   "cell_type": "markdown",
   "metadata": {},
   "source": [
    "***Fundamentals of Solar Cells and Photovoltaic Systems Engineering***\n",
    "\n",
    "**Solutions Manual - Chapter 2**\n",
    "\n",
    "***Problem 2.14***"
   ]
  },
  {
   "cell_type": "markdown",
   "metadata": {},
   "source": [
    "***Using pvlib-python and retrieving data from PVGIS:***\n",
    "\n",
    "***(a) calculate the average annual global horizontal irradiation at Montpellier, France (43°36′39″ N, 3°52′38″ E), from both satellite and reanalysis datasets.***\n",
    "\n",
    "***(b) Plot the interannual variability of annual global horizontal irradiation at the same location, from both satellite and reanalysis datasets.***\n"
   ]
  },
  {
   "cell_type": "markdown",
   "metadata": {},
   "source": [
    "We start by importing several packages that will be useful, including [pandas](https://pandas.pydata.org/) and [matplotlib.pyplot](https://matplotlib.org/stable/index.html) to plot the results."
   ]
  },
  {
   "cell_type": "code",
   "execution_count": 40,
   "metadata": {},
   "outputs": [],
   "source": [
    "import requests\n",
    "import datetime as dt\n",
    "from pathlib import Path\n",
    "import matplotlib.pyplot as plt\n",
    "from matplotlib import ticker\n",
    "import pandas as pd"
   ]
  },
  {
   "cell_type": "markdown",
   "metadata": {},
   "source": [
    "We define a function to retrieve data from PVGIS.\n",
    "More details regarding how to download data from PVGIS using an APi can be found in https://joint-research-centre.ec.europa.eu/pvgis-photovoltaic-geographical-information-system/getting-started-pvgis/api-non-interactive-service_en"
   ]
  },
  {
   "cell_type": "code",
   "execution_count": 41,
   "metadata": {},
   "outputs": [],
   "source": [
    "def read_radiation_pvgis(raddatabase):\n",
    "    params = {'lat': lat, 'lon': lon, 'browser': 1, 'outputformat': 'csv', 'raddatabase': raddatabase}\n",
    "    \n",
    "    series_file = Path(f'anual_series_{lat}_{lon}_{raddatabase}.csv')\n",
    "    if not series_file.exists():\n",
    "        resp_series = requests.get('https://re.jrc.ec.europa.eu/api/v5_2/seriescalc', params=params)\n",
    "        with open(series_file, 'wb') as f:\n",
    "            f.write(resp_series.content)\n",
    "    \n",
    "    series = pd.read_csv(series_file, \n",
    "                         skiprows=8, \n",
    "                         index_col='time', \n",
    "                         skipfooter=10, \n",
    "                         parse_dates=True, \n",
    "                         infer_datetime_format=True, \n",
    "                         date_parser=lambda x: dt.datetime.strptime(x, '%Y%m%d:%H%M'))\n",
    "    \n",
    "    series = series.rename({'G(i)': 'ghi'}, axis='columns')\n",
    "    series['hour'] = series.index.hour\n",
    "    series['date'] = series.index.date\n",
    "    \n",
    "    return series"
   ]
  },
  {
   "cell_type": "markdown",
   "metadata": {},
   "source": [
    "We start by defining the location."
   ]
  },
  {
   "cell_type": "code",
   "execution_count": 42,
   "metadata": {},
   "outputs": [],
   "source": [
    "lat, lon = 43.6, 3.87 # Montpellier, France"
   ]
  },
  {
   "cell_type": "markdown",
   "metadata": {},
   "source": [
    "We retrieve all the available data corresponding to the radiation database equal to satellite data (SARAH2) and calculate the average."
   ]
  },
  {
   "cell_type": "code",
   "execution_count": 43,
   "metadata": {},
   "outputs": [
    {
     "name": "stderr",
     "output_type": "stream",
     "text": [
      "C:\\Users\\34620\\.conda\\envs\\env_pv_textbook\\lib\\site-packages\\pandas\\util\\_decorators.py:311: ParserWarning: Falling back to the 'python' engine because the 'c' engine does not support skipfooter; you can avoid this warning by specifying engine='python'.\n",
      "  return func(*args, **kwargs)\n"
     ]
    },
    {
     "name": "stdout",
     "output_type": "stream",
     "text": [
      "16 years of data available.\n",
      "Average satellite anual irradiation = 1577.5 kWh/m2\n"
     ]
    }
   ],
   "source": [
    "satellite = read_radiation_pvgis(raddatabase='PVGIS-SARAH2') \n",
    "num_years = len(satellite.index.year.unique())\n",
    "print(str(num_years)+' years of data available.')\n",
    "print(f'Average satellite anual irradiation = {round(satellite.ghi.sum()/1000 / num_years,1)} kWh/m2')"
   ]
  },
  {
   "cell_type": "markdown",
   "metadata": {},
   "source": [
    "We retrieve all the available data corresponding to the radiation database equal to reanalysis data (ERA5) and calculate the average."
   ]
  },
  {
   "cell_type": "code",
   "execution_count": 44,
   "metadata": {},
   "outputs": [
    {
     "name": "stdout",
     "output_type": "stream",
     "text": [
      "16 years of data available.\n",
      "Average reanalysis anual irradiation = 1601.1 kWh/m2\n"
     ]
    }
   ],
   "source": [
    "reanalysis = read_radiation_pvgis(raddatabase='PVGIS-ERA5') \n",
    "num_years = len(reanalysis.index.year.unique())\n",
    "print(str(num_years)+' years of data available.')\n",
    "print(f'Average reanalysis anual irradiation = {round(reanalysis.ghi.sum()/1000 / num_years,1)} kWh/m2')"
   ]
  },
  {
   "cell_type": "markdown",
   "metadata": {},
   "source": [
    "We calculate the annual values for the two data sources."
   ]
  },
  {
   "cell_type": "code",
   "execution_count": 45,
   "metadata": {},
   "outputs": [],
   "source": [
    "satellite_year=satellite.resample('Y').sum() /1000 # kWh\n",
    "reanalysis_year=reanalysis.resample('Y').sum() /1000 # kWh"
   ]
  },
  {
   "cell_type": "markdown",
   "metadata": {},
   "source": [
    "And plot them. "
   ]
  },
  {
   "cell_type": "code",
   "execution_count": 46,
   "metadata": {},
   "outputs": [
    {
     "data": {
      "text/plain": [
       "([<matplotlib.axis.XTick at 0x19f38b00e08>,\n",
       "  <matplotlib.axis.XTick at 0x19f38ec0b08>],\n",
       " [Text(1, 0, 'Satellite'), Text(2, 0, 'Reanalysis')])"
      ]
     },
     "execution_count": 46,
     "metadata": {},
     "output_type": "execute_result"
    },
    {
     "data": {
      "image/png": "[encoded data removed]",
      "text/plain": [
       "<Figure size 432x288 with 1 Axes>"
      ]
     },
     "metadata": {
      "needs_background": "light"
     },
     "output_type": "display_data"
    }
   ],
   "source": [
    "plt.boxplot([satellite_year['ghi'],reanalysis_year['ghi']])\n",
    "plt.ylabel('Radiation (W/m2)')\n",
    "plt.xticks([1,2],['Satellite','Reanalysis'])"
   ]
  },
  {
   "cell_type": "markdown",
   "metadata": {},
   "source": [
    "We can also plot a colormap showing the hourly values throughout the year. "
   ]
  },
  {
   "cell_type": "code",
   "execution_count": 47,
   "metadata": {},
   "outputs": [
    {
     "data": {
      "text/plain": [
       "<matplotlib.colorbar.Colorbar at 0x19f38652c88>"
      ]
     },
     "execution_count": 47,
     "metadata": {},
     "output_type": "execute_result"
    },
    {
     "data": {
      "image/png": "[encoded data removed]",
      "text/plain": [
       "<Figure size 864x576 with 3 Axes>"
      ]
     },
     "metadata": {
      "needs_background": "light"
     },
     "output_type": "display_data"
    }
   ],
   "source": [
    "#%% 1-year satellite vs reanalysis\n",
    "YEAR = 2010\n",
    "\n",
    "satellite_1year = satellite[satellite.index.year == YEAR]\n",
    "reanalysis_1year = reanalysis[reanalysis.index.year == YEAR]\n",
    "\n",
    "fig, (ax_satellite_1year, ax_reanalysis_1year) = plt.subplots(nrows=1, \n",
    "                                                              ncols=2, \n",
    "                                                              figsize=(12, 8), \n",
    "                                                              sharey=True, \n",
    "                                                              squeeze=True)\n",
    "plt.subplots_adjust(wspace=0.05)\n",
    "\n",
    "im = ax_satellite_1year.pcolormesh(satellite_1year.pivot_table(values='ghi', \n",
    "                                                               index='hour', \n",
    "                                                               columns='date', \n",
    "                                                               fill_value=0))\n",
    "ax_satellite_1year.axis('off')\n",
    "ax_satellite_1year.set_title('satellite data')\n",
    "im = ax_reanalysis_1year.pcolormesh(reanalysis_1year.pivot_table(values='ghi', \n",
    "                                                                 index='hour', \n",
    "                                                                 columns='date', \n",
    "                                                                 fill_value=0))\n",
    "ax_reanalysis_1year.axis('off')\n",
    "ax_reanalysis_1year.set_title('reanalysis data')\n",
    "cbar_ax = fig.add_axes([0.91, 0.115, 0.015, 0.765])\n",
    "fig.colorbar(im, cax=cbar_ax, label='Global Irradiance [$W·m^{-2}]$')\n",
    "\n",
    "# plt.savefig('exercise_pvgis_1year_satVSrean.png', bbox_inches='tight', dpi=300)"
   ]
  }
 ],
 "metadata": {
  "kernelspec": {
   "display_name": "Python 3 (ipykernel)",
   "language": "python",
   "name": "python3"
  },
  "language_info": {
   "codemirror_mode": {
    "name": "ipython",
    "version": 3
   },
   "file_extension": ".py",
   "mimetype": "text/x-python",
   "name": "python",
   "nbconvert_exporter": "python",
   "pygments_lexer": "ipython3",
   "version": "3.7.12"
  }
 },
 "nbformat": 4,
 "nbformat_minor": 4
}
