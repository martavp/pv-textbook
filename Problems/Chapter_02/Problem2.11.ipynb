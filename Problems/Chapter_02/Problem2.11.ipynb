{
 "cells": [
  {
   "cell_type": "markdown",
   "metadata": {},
   "source": [
    "***Fundamentals of Solar Cells and Photovoltaic Systems Engineering***\n",
    "\n",
    "**Solutions Manual - Chapter 2**\n",
    "\n",
    "***Problem 2.11***\n"
   ]
  },
  {
   "cell_type": "markdown",
   "metadata": {},
   "source": [
    "***Estimate the global irradiance G(α,β) reaching the plane of array (POA) of a north-facing, 20° tilted generator over grass located at a PV plant in Antananarivo, Madagascar (18° 56′ 0″ S, 47° 31′ 0″ E) at midday (true solar time) on May 12, 2022.***\n",
    "\n",
    "***Solve the problem using pvlib-python and the default clear-sky model***"
   ]
  },
  {
   "cell_type": "markdown",
   "metadata": {},
   "source": [
    "We will use the packages [pvlib](https://pvlib-python.readthedocs.io/en/stable/), [pandas](https://pandas.pydata.org/) and [matplotlib.pyplot](https://matplotlib.org/stable/index.html) to plot the results.\n"
   ]
  },
  {
   "cell_type": "code",
   "execution_count": 9,
   "metadata": {},
   "outputs": [],
   "source": [
    "import pvlib\n",
    "import pandas as pd\n",
    "import matplotlib.pyplot as plt"
   ]
  },
  {
   "cell_type": "markdown",
   "metadata": {},
   "source": [
    "We start by defining the location, date and time. \n",
    "We will implement the calculation "
   ]
  },
  {
   "cell_type": "code",
   "execution_count": 10,
   "metadata": {},
   "outputs": [],
   "source": [
    "# Antananarivo, Madagascar\n",
    "lat, lon = 18.93, 47.52\n",
    "tz = 'Africa/Mbabane'\n",
    "\n",
    "date = '2022-05-12'\n",
    "\n",
    "# surface angles beta, alpha\n",
    "tilt, orientation = 20, 0 # pvlib sets orientation origin at North -> North=180\n",
    "\n",
    "# location\n",
    "location = pvlib.location.Location(lat, lon, tz=tz)\n",
    "\n",
    "# albedo\n",
    "albedo = 0.20\n",
    "\n",
    "# datetimes\n",
    "times = pd.date_range(start=date, freq='1H', periods=24, tz=tz)"
   ]
  },
  {
   "cell_type": "markdown",
   "metadata": {},
   "source": [
    "We calculate the clear-sky irradiance using the default options in pvlib. "
   ]
  },
  {
   "cell_type": "code",
   "execution_count": 11,
   "metadata": {},
   "outputs": [],
   "source": [
    "# generates clear-sky ghi, dni, dhi irradiances (decomposition using Ineichen model and turbidity index; pvlib's default)\n",
    "clearsky = location.get_clearsky(times, model='ineichen')"
   ]
  },
  {
   "cell_type": "markdown",
   "metadata": {},
   "source": [
    "We calculate the Sun's coordinates and calculate the irradiance on the plane of array (POA)"
   ]
  },
  {
   "cell_type": "code",
   "execution_count": 12,
   "metadata": {},
   "outputs": [],
   "source": [
    "# calculates Sun's coordinates\n",
    "solar_position = location.get_solarposition(times=times)\n",
    "\n",
    "# calculates POA (transposition using isotropic model)\n",
    "poa_fixed_irradiance = pvlib.irradiance.get_total_irradiance(\n",
    "    surface_tilt=tilt,\n",
    "    surface_azimuth=orientation,\n",
    "    dni=clearsky['dni'],\n",
    "    ghi=clearsky['ghi'],\n",
    "    dhi=clearsky['dhi'],\n",
    "    albedo=albedo,\n",
    "    solar_zenith=solar_position['apparent_zenith'],\n",
    "    solar_azimuth=solar_position['azimuth'],\n",
    "    model='isotropic')"
   ]
  },
  {
   "cell_type": "markdown",
   "metadata": {},
   "source": [
    "We can plot the daily evolution of direct, diffuse, and global irradiance"
   ]
  },
  {
   "cell_type": "code",
   "execution_count": 13,
   "metadata": {},
   "outputs": [
    {
     "data": {
      "text/plain": [
       "Text(0, 0.5, 'Radiation (W/m2)')"
      ]
     },
     "execution_count": 13,
     "metadata": {},
     "output_type": "execute_result"
    },
    {
     "data": {
      "image/png": "[encoded data removed]",
      "text/plain": [
       "<Figure size 432x288 with 1 Axes>"
      ]
     },
     "metadata": {
      "needs_background": "light"
     },
     "output_type": "display_data"
    }
   ],
   "source": [
    "poa_fixed_irradiance.plot()\n",
    "plt.ylabel('Radiation (W/m2)')"
   ]
  },
  {
   "cell_type": "markdown",
   "metadata": {},
   "source": [
    "And obatain the value at midday. "
   ]
  },
  {
   "cell_type": "code",
   "execution_count": 17,
   "metadata": {},
   "outputs": [
    {
     "data": {
      "text/plain": [
       "poa_global            858.215396\n",
       "poa_direct            674.701625\n",
       "poa_diffuse           183.513772\n",
       "poa_sky_diffuse       178.080865\n",
       "poa_ground_diffuse      5.432906\n",
       "Name: 2022-05-12 12:00:00+02:00, dtype: float64"
      ]
     },
     "execution_count": 17,
     "metadata": {},
     "output_type": "execute_result"
    }
   ],
   "source": [
    "poa_fixed_irradiance.loc['2022-05-12 12:00:00+02:00']"
   ]
  },
  {
   "cell_type": "markdown",
   "metadata": {},
   "source": [
    "We can also obtain the values at any other time step"
   ]
  },
  {
   "cell_type": "code",
   "execution_count": 18,
   "metadata": {},
   "outputs": [
    {
     "data": {
      "text/html": [
       "<div>\n",
       "<style scoped>\n",
       "    .dataframe tbody tr th:only-of-type {\n",
       "        vertical-align: middle;\n",
       "    }\n",
       "\n",
       "    .dataframe tbody tr th {\n",
       "        vertical-align: top;\n",
       "    }\n",
       "\n",
       "    .dataframe thead th {\n",
       "        text-align: right;\n",
       "    }\n",
       "</style>\n",
       "<table border=\"1\" class=\"dataframe\">\n",
       "  <thead>\n",
       "    <tr style=\"text-align: right;\">\n",
       "      <th></th>\n",
       "      <th>poa_global</th>\n",
       "      <th>poa_direct</th>\n",
       "      <th>poa_diffuse</th>\n",
       "      <th>poa_sky_diffuse</th>\n",
       "      <th>poa_ground_diffuse</th>\n",
       "    </tr>\n",
       "  </thead>\n",
       "  <tbody>\n",
       "    <tr>\n",
       "      <th>2022-05-12 00:00:00+02:00</th>\n",
       "      <td>0.000000</td>\n",
       "      <td>-0.000000</td>\n",
       "      <td>0.000000</td>\n",
       "      <td>0.000000</td>\n",
       "      <td>0.000000</td>\n",
       "    </tr>\n",
       "    <tr>\n",
       "      <th>2022-05-12 01:00:00+02:00</th>\n",
       "      <td>0.000000</td>\n",
       "      <td>-0.000000</td>\n",
       "      <td>0.000000</td>\n",
       "      <td>0.000000</td>\n",
       "      <td>0.000000</td>\n",
       "    </tr>\n",
       "    <tr>\n",
       "      <th>2022-05-12 02:00:00+02:00</th>\n",
       "      <td>0.000000</td>\n",
       "      <td>-0.000000</td>\n",
       "      <td>0.000000</td>\n",
       "      <td>0.000000</td>\n",
       "      <td>0.000000</td>\n",
       "    </tr>\n",
       "    <tr>\n",
       "      <th>2022-05-12 03:00:00+02:00</th>\n",
       "      <td>0.000000</td>\n",
       "      <td>-0.000000</td>\n",
       "      <td>0.000000</td>\n",
       "      <td>0.000000</td>\n",
       "      <td>0.000000</td>\n",
       "    </tr>\n",
       "    <tr>\n",
       "      <th>2022-05-12 04:00:00+02:00</th>\n",
       "      <td>0.000000</td>\n",
       "      <td>0.000000</td>\n",
       "      <td>0.000000</td>\n",
       "      <td>0.000000</td>\n",
       "      <td>0.000000</td>\n",
       "    </tr>\n",
       "    <tr>\n",
       "      <th>2022-05-12 05:00:00+02:00</th>\n",
       "      <td>62.700116</td>\n",
       "      <td>27.491646</td>\n",
       "      <td>35.208470</td>\n",
       "      <td>34.884099</td>\n",
       "      <td>0.324371</td>\n",
       "    </tr>\n",
       "    <tr>\n",
       "      <th>2022-05-12 06:00:00+02:00</th>\n",
       "      <td>286.589251</td>\n",
       "      <td>183.744253</td>\n",
       "      <td>102.844997</td>\n",
       "      <td>101.220979</td>\n",
       "      <td>1.624019</td>\n",
       "    </tr>\n",
       "    <tr>\n",
       "      <th>2022-05-12 07:00:00+02:00</th>\n",
       "      <td>500.574431</td>\n",
       "      <td>360.062535</td>\n",
       "      <td>140.511896</td>\n",
       "      <td>137.509177</td>\n",
       "      <td>3.002719</td>\n",
       "    </tr>\n",
       "    <tr>\n",
       "      <th>2022-05-12 08:00:00+02:00</th>\n",
       "      <td>678.528120</td>\n",
       "      <td>514.695691</td>\n",
       "      <td>163.832429</td>\n",
       "      <td>159.632945</td>\n",
       "      <td>4.199484</td>\n",
       "    </tr>\n",
       "    <tr>\n",
       "      <th>2022-05-12 09:00:00+02:00</th>\n",
       "      <td>809.532612</td>\n",
       "      <td>631.064616</td>\n",
       "      <td>178.467996</td>\n",
       "      <td>173.370556</td>\n",
       "      <td>5.097440</td>\n",
       "    </tr>\n",
       "    <tr>\n",
       "      <th>2022-05-12 10:00:00+02:00</th>\n",
       "      <td>885.663938</td>\n",
       "      <td>699.361788</td>\n",
       "      <td>186.302150</td>\n",
       "      <td>180.678371</td>\n",
       "      <td>5.623780</td>\n",
       "    </tr>\n",
       "    <tr>\n",
       "      <th>2022-05-12 11:00:00+02:00</th>\n",
       "      <td>902.228730</td>\n",
       "      <td>714.276772</td>\n",
       "      <td>187.951958</td>\n",
       "      <td>182.213543</td>\n",
       "      <td>5.738415</td>\n",
       "    </tr>\n",
       "    <tr>\n",
       "      <th>2022-05-12 12:00:00+02:00</th>\n",
       "      <td>858.215396</td>\n",
       "      <td>674.701625</td>\n",
       "      <td>183.513772</td>\n",
       "      <td>178.080865</td>\n",
       "      <td>5.432906</td>\n",
       "    </tr>\n",
       "    <tr>\n",
       "      <th>2022-05-12 13:00:00+02:00</th>\n",
       "      <td>756.357139</td>\n",
       "      <td>583.654353</td>\n",
       "      <td>172.702787</td>\n",
       "      <td>167.972549</td>\n",
       "      <td>4.730237</td>\n",
       "    </tr>\n",
       "    <tr>\n",
       "      <th>2022-05-12 14:00:00+02:00</th>\n",
       "      <td>602.904492</td>\n",
       "      <td>448.424654</td>\n",
       "      <td>154.479837</td>\n",
       "      <td>150.794618</td>\n",
       "      <td>3.685219</td>\n",
       "    </tr>\n",
       "    <tr>\n",
       "      <th>2022-05-12 15:00:00+02:00</th>\n",
       "      <td>407.071922</td>\n",
       "      <td>281.310565</td>\n",
       "      <td>125.761358</td>\n",
       "      <td>123.373519</td>\n",
       "      <td>2.387839</td>\n",
       "    </tr>\n",
       "    <tr>\n",
       "      <th>2022-05-12 16:00:00+02:00</th>\n",
       "      <td>182.403957</td>\n",
       "      <td>105.275269</td>\n",
       "      <td>77.128688</td>\n",
       "      <td>76.136042</td>\n",
       "      <td>0.992646</td>\n",
       "    </tr>\n",
       "    <tr>\n",
       "      <th>2022-05-12 17:00:00+02:00</th>\n",
       "      <td>3.355065</td>\n",
       "      <td>0.633054</td>\n",
       "      <td>2.722011</td>\n",
       "      <td>2.703928</td>\n",
       "      <td>0.018082</td>\n",
       "    </tr>\n",
       "    <tr>\n",
       "      <th>2022-05-12 18:00:00+02:00</th>\n",
       "      <td>0.000000</td>\n",
       "      <td>-0.000000</td>\n",
       "      <td>0.000000</td>\n",
       "      <td>0.000000</td>\n",
       "      <td>0.000000</td>\n",
       "    </tr>\n",
       "    <tr>\n",
       "      <th>2022-05-12 19:00:00+02:00</th>\n",
       "      <td>0.000000</td>\n",
       "      <td>-0.000000</td>\n",
       "      <td>0.000000</td>\n",
       "      <td>0.000000</td>\n",
       "      <td>0.000000</td>\n",
       "    </tr>\n",
       "    <tr>\n",
       "      <th>2022-05-12 20:00:00+02:00</th>\n",
       "      <td>0.000000</td>\n",
       "      <td>-0.000000</td>\n",
       "      <td>0.000000</td>\n",
       "      <td>0.000000</td>\n",
       "      <td>0.000000</td>\n",
       "    </tr>\n",
       "    <tr>\n",
       "      <th>2022-05-12 21:00:00+02:00</th>\n",
       "      <td>0.000000</td>\n",
       "      <td>-0.000000</td>\n",
       "      <td>0.000000</td>\n",
       "      <td>0.000000</td>\n",
       "      <td>0.000000</td>\n",
       "    </tr>\n",
       "    <tr>\n",
       "      <th>2022-05-12 22:00:00+02:00</th>\n",
       "      <td>0.000000</td>\n",
       "      <td>-0.000000</td>\n",
       "      <td>0.000000</td>\n",
       "      <td>0.000000</td>\n",
       "      <td>0.000000</td>\n",
       "    </tr>\n",
       "    <tr>\n",
       "      <th>2022-05-12 23:00:00+02:00</th>\n",
       "      <td>0.000000</td>\n",
       "      <td>-0.000000</td>\n",
       "      <td>0.000000</td>\n",
       "      <td>0.000000</td>\n",
       "      <td>0.000000</td>\n",
       "    </tr>\n",
       "  </tbody>\n",
       "</table>\n",
       "</div>"
      ],
      "text/plain": [
       "                           poa_global  poa_direct  poa_diffuse  \\\n",
       "2022-05-12 00:00:00+02:00    0.000000   -0.000000     0.000000   \n",
       "2022-05-12 01:00:00+02:00    0.000000   -0.000000     0.000000   \n",
       "2022-05-12 02:00:00+02:00    0.000000   -0.000000     0.000000   \n",
       "2022-05-12 03:00:00+02:00    0.000000   -0.000000     0.000000   \n",
       "2022-05-12 04:00:00+02:00    0.000000    0.000000     0.000000   \n",
       "2022-05-12 05:00:00+02:00   62.700116   27.491646    35.208470   \n",
       "2022-05-12 06:00:00+02:00  286.589251  183.744253   102.844997   \n",
       "2022-05-12 07:00:00+02:00  500.574431  360.062535   140.511896   \n",
       "2022-05-12 08:00:00+02:00  678.528120  514.695691   163.832429   \n",
       "2022-05-12 09:00:00+02:00  809.532612  631.064616   178.467996   \n",
       "2022-05-12 10:00:00+02:00  885.663938  699.361788   186.302150   \n",
       "2022-05-12 11:00:00+02:00  902.228730  714.276772   187.951958   \n",
       "2022-05-12 12:00:00+02:00  858.215396  674.701625   183.513772   \n",
       "2022-05-12 13:00:00+02:00  756.357139  583.654353   172.702787   \n",
       "2022-05-12 14:00:00+02:00  602.904492  448.424654   154.479837   \n",
       "2022-05-12 15:00:00+02:00  407.071922  281.310565   125.761358   \n",
       "2022-05-12 16:00:00+02:00  182.403957  105.275269    77.128688   \n",
       "2022-05-12 17:00:00+02:00    3.355065    0.633054     2.722011   \n",
       "2022-05-12 18:00:00+02:00    0.000000   -0.000000     0.000000   \n",
       "2022-05-12 19:00:00+02:00    0.000000   -0.000000     0.000000   \n",
       "2022-05-12 20:00:00+02:00    0.000000   -0.000000     0.000000   \n",
       "2022-05-12 21:00:00+02:00    0.000000   -0.000000     0.000000   \n",
       "2022-05-12 22:00:00+02:00    0.000000   -0.000000     0.000000   \n",
       "2022-05-12 23:00:00+02:00    0.000000   -0.000000     0.000000   \n",
       "\n",
       "                           poa_sky_diffuse  poa_ground_diffuse  \n",
       "2022-05-12 00:00:00+02:00         0.000000            0.000000  \n",
       "2022-05-12 01:00:00+02:00         0.000000            0.000000  \n",
       "2022-05-12 02:00:00+02:00         0.000000            0.000000  \n",
       "2022-05-12 03:00:00+02:00         0.000000            0.000000  \n",
       "2022-05-12 04:00:00+02:00         0.000000            0.000000  \n",
       "2022-05-12 05:00:00+02:00        34.884099            0.324371  \n",
       "2022-05-12 06:00:00+02:00       101.220979            1.624019  \n",
       "2022-05-12 07:00:00+02:00       137.509177            3.002719  \n",
       "2022-05-12 08:00:00+02:00       159.632945            4.199484  \n",
       "2022-05-12 09:00:00+02:00       173.370556            5.097440  \n",
       "2022-05-12 10:00:00+02:00       180.678371            5.623780  \n",
       "2022-05-12 11:00:00+02:00       182.213543            5.738415  \n",
       "2022-05-12 12:00:00+02:00       178.080865            5.432906  \n",
       "2022-05-12 13:00:00+02:00       167.972549            4.730237  \n",
       "2022-05-12 14:00:00+02:00       150.794618            3.685219  \n",
       "2022-05-12 15:00:00+02:00       123.373519            2.387839  \n",
       "2022-05-12 16:00:00+02:00        76.136042            0.992646  \n",
       "2022-05-12 17:00:00+02:00         2.703928            0.018082  \n",
       "2022-05-12 18:00:00+02:00         0.000000            0.000000  \n",
       "2022-05-12 19:00:00+02:00         0.000000            0.000000  \n",
       "2022-05-12 20:00:00+02:00         0.000000            0.000000  \n",
       "2022-05-12 21:00:00+02:00         0.000000            0.000000  \n",
       "2022-05-12 22:00:00+02:00         0.000000            0.000000  \n",
       "2022-05-12 23:00:00+02:00         0.000000            0.000000  "
      ]
     },
     "execution_count": 18,
     "metadata": {},
     "output_type": "execute_result"
    }
   ],
   "source": [
    "poa_fixed_irradiance"
   ]
  },
  {
   "cell_type": "code",
   "execution_count": null,
   "metadata": {},
   "outputs": [],
   "source": []
  }
 ],
 "metadata": {
  "kernelspec": {
   "display_name": "Python 3 (ipykernel)",
   "language": "python",
   "name": "python3"
  },
  "language_info": {
   "codemirror_mode": {
    "name": "ipython",
    "version": 3
   },
   "file_extension": ".py",
   "mimetype": "text/x-python",
   "name": "python",
   "nbconvert_exporter": "python",
   "pygments_lexer": "ipython3",
   "version": "3.7.12"
  }
 },
 "nbformat": 4,
 "nbformat_minor": 4
}
