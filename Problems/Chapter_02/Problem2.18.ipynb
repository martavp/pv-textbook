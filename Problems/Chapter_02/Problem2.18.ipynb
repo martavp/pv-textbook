{
 "cells": [
  {
   "cell_type": "markdown",
   "metadata": {},
   "source": [
    "**Fundamentals of Solar Cells and Photovoltaic Systems Engineering**\n",
    "\n",
    "**Solutions Manual - Chapter 2**\n",
    "\n",
    "**Problem 2.18**"
   ]
  },
  {
   "cell_type": "markdown",
   "metadata": {},
   "source": [
    "**Using pvlib-python and retrieving data from PVGIS:**\n",
    "\n",
    "**(a) Calculate the average annual global horizontal irradiation at Montpellier, France (43°36′39″ N, 3°52′38″ E), from both satellite and reanalysis datasets.**\n",
    "\n",
    "**(b) Plot the interannual variability of annual global horizontal irradiation at the same location, from both satellite and reanalysis datasets.**\n"
   ]
  },
  {
   "cell_type": "markdown",
   "metadata": {},
   "source": [
    "We start by importing several packages that will be useful, including [pandas](https://pandas.pydata.org/) and [matplotlib.pyplot](https://matplotlib.org/stable/index.html) to plot the results."
   ]
  },
  {
   "cell_type": "code",
   "execution_count": 11,
   "metadata": {},
   "outputs": [],
   "source": [
    "import requests\n",
    "import datetime as dt\n",
    "from pathlib import Path\n",
    "import matplotlib.pyplot as plt\n",
    "from matplotlib import ticker\n",
    "import pandas as pd"
   ]
  },
  {
   "cell_type": "markdown",
   "metadata": {},
   "source": [
    "We define a function to retrieve data from PVGIS.\n",
    "More details regarding how to download data from PVGIS using an APi can be found in https://joint-research-centre.ec.europa.eu/pvgis-photovoltaic-geographical-information-system/getting-started-pvgis/api-non-interactive-service_en"
   ]
  },
  {
   "cell_type": "code",
   "execution_count": 12,
   "metadata": {},
   "outputs": [],
   "source": [
    "def read_radiation_pvgis(raddatabase):\n",
    "    params = {'lat': lat, \n",
    "              'lon': lon, \n",
    "              'browser': 1, \n",
    "              'outputformat': 'csv', \n",
    "              'raddatabase': raddatabase}\n",
    "    \n",
    "    series_file = Path(f'anual_series_{lat}_{lon}_{raddatabase}.csv')\n",
    "    if not series_file.exists():\n",
    "        resp_series = requests.get('https://re.jrc.ec.europa.eu/api/v5_2/seriescalc', params=params)\n",
    "        with open(series_file, 'wb') as f:\n",
    "            f.write(resp_series.content)\n",
    "    \n",
    "    series = pd.read_csv(series_file, \n",
    "                         skiprows=8, \n",
    "                         index_col='time', \n",
    "                         skipfooter=10, \n",
    "                         engine='python',\n",
    "                         parse_dates=True, \n",
    "                         infer_datetime_format=True, \n",
    "                         date_parser=lambda x: dt.datetime.strptime(x, '%Y%m%d:%H%M'))\n",
    "    \n",
    "    series = series.rename({'G(i)': 'ghi'}, axis='columns')\n",
    "    series['hour'] = series.index.hour\n",
    "    series['date'] = series.index.date\n",
    "    \n",
    "    return series"
   ]
  },
  {
   "cell_type": "markdown",
   "metadata": {},
   "source": [
    "We start by defining the location."
   ]
  },
  {
   "cell_type": "code",
   "execution_count": 13,
   "metadata": {},
   "outputs": [],
   "source": [
    "lat, lon = 43.6, 3.87 # Montpellier, France"
   ]
  },
  {
   "cell_type": "markdown",
   "metadata": {},
   "source": [
    "We retrieve all the available data corresponding to the radiation database equal to satellite data (SARAH2) and calculate the average."
   ]
  },
  {
   "cell_type": "code",
   "execution_count": 14,
   "metadata": {},
   "outputs": [
    {
     "name": "stdout",
     "output_type": "stream",
     "text": [
      "16 years of data available\n",
      "Average satellite anual irradiation = 1577.5 kWh/m2\n"
     ]
    }
   ],
   "source": [
    "satellite = read_radiation_pvgis(raddatabase='PVGIS-SARAH2') \n",
    "num_years = len(satellite.index.year.unique())\n",
    "print(f'{num_years} years of data available')\n",
    "print(f'Average satellite anual irradiation = {round(satellite.ghi.sum()/1000 / num_years,1)} kWh/m2')"
   ]
  },
  {
   "cell_type": "markdown",
   "metadata": {},
   "source": [
    "We retrieve all the available data corresponding to the radiation database equal to climate reanalysis data (ERA5) and calculate the average."
   ]
  },
  {
   "cell_type": "code",
   "execution_count": 15,
   "metadata": {},
   "outputs": [
    {
     "name": "stdout",
     "output_type": "stream",
     "text": [
      "16 years of data available\n",
      "Average reanalysis anual irradiation = 1601.1 kWh/m2\n"
     ]
    }
   ],
   "source": [
    "reanalysis = read_radiation_pvgis(raddatabase='PVGIS-ERA5')\n",
    "num_years = len(reanalysis.index.year.unique())\n",
    "print(f'{num_years} years of data available')\n",
    "print(f'Average reanalysis anual irradiation = {round(reanalysis.ghi.sum()/1000 / num_years,1)} kWh/m2')"
   ]
  },
  {
   "cell_type": "markdown",
   "metadata": {},
   "source": [
    "We calculate the annual values for the two data sources."
   ]
  },
  {
   "cell_type": "code",
   "execution_count": 22,
   "metadata": {},
   "outputs": [
    {
     "data": {
      "text/html": [
       "<div>\n",
       "<style scoped>\n",
       "    .dataframe tbody tr th:only-of-type {\n",
       "        vertical-align: middle;\n",
       "    }\n",
       "\n",
       "    .dataframe tbody tr th {\n",
       "        vertical-align: top;\n",
       "    }\n",
       "\n",
       "    .dataframe thead th {\n",
       "        text-align: right;\n",
       "    }\n",
       "</style>\n",
       "<table border=\"1\" class=\"dataframe\">\n",
       "  <thead>\n",
       "    <tr style=\"text-align: right;\">\n",
       "      <th></th>\n",
       "      <th>ghi</th>\n",
       "      <th>H_sun</th>\n",
       "      <th>T2m</th>\n",
       "      <th>WS10m</th>\n",
       "      <th>Int</th>\n",
       "      <th>hour</th>\n",
       "    </tr>\n",
       "    <tr>\n",
       "      <th>time</th>\n",
       "      <th></th>\n",
       "      <th></th>\n",
       "      <th></th>\n",
       "      <th></th>\n",
       "      <th></th>\n",
       "      <th></th>\n",
       "    </tr>\n",
       "  </thead>\n",
       "  <tbody>\n",
       "    <tr>\n",
       "      <th>2005-12-31</th>\n",
       "      <td>1560.01627</td>\n",
       "      <td>128.03107</td>\n",
       "      <td>127.37213</td>\n",
       "      <td>39.25466</td>\n",
       "      <td>0.0</td>\n",
       "      <td>100.740</td>\n",
       "    </tr>\n",
       "    <tr>\n",
       "      <th>2006-12-31</th>\n",
       "      <td>1607.89395</td>\n",
       "      <td>128.07220</td>\n",
       "      <td>136.33286</td>\n",
       "      <td>37.31148</td>\n",
       "      <td>0.0</td>\n",
       "      <td>100.740</td>\n",
       "    </tr>\n",
       "    <tr>\n",
       "      <th>2007-12-31</th>\n",
       "      <td>1585.44673</td>\n",
       "      <td>128.35433</td>\n",
       "      <td>130.76191</td>\n",
       "      <td>46.70577</td>\n",
       "      <td>0.0</td>\n",
       "      <td>100.740</td>\n",
       "    </tr>\n",
       "    <tr>\n",
       "      <th>2008-12-31</th>\n",
       "      <td>1482.46071</td>\n",
       "      <td>126.10470</td>\n",
       "      <td>130.13264</td>\n",
       "      <td>38.87815</td>\n",
       "      <td>0.0</td>\n",
       "      <td>101.016</td>\n",
       "    </tr>\n",
       "    <tr>\n",
       "      <th>2009-12-31</th>\n",
       "      <td>1569.51581</td>\n",
       "      <td>125.22906</td>\n",
       "      <td>135.90398</td>\n",
       "      <td>37.50141</td>\n",
       "      <td>0.0</td>\n",
       "      <td>100.740</td>\n",
       "    </tr>\n",
       "    <tr>\n",
       "      <th>2010-12-31</th>\n",
       "      <td>1557.54188</td>\n",
       "      <td>128.31115</td>\n",
       "      <td>125.53143</td>\n",
       "      <td>40.65826</td>\n",
       "      <td>0.0</td>\n",
       "      <td>100.740</td>\n",
       "    </tr>\n",
       "    <tr>\n",
       "      <th>2011-12-31</th>\n",
       "      <td>1595.16585</td>\n",
       "      <td>127.94245</td>\n",
       "      <td>136.48892</td>\n",
       "      <td>36.36240</td>\n",
       "      <td>0.0</td>\n",
       "      <td>100.740</td>\n",
       "    </tr>\n",
       "    <tr>\n",
       "      <th>2012-12-31</th>\n",
       "      <td>1591.65597</td>\n",
       "      <td>128.45416</td>\n",
       "      <td>132.48546</td>\n",
       "      <td>38.42720</td>\n",
       "      <td>0.0</td>\n",
       "      <td>101.016</td>\n",
       "    </tr>\n",
       "    <tr>\n",
       "      <th>2013-12-31</th>\n",
       "      <td>1548.87295</td>\n",
       "      <td>127.83851</td>\n",
       "      <td>128.37378</td>\n",
       "      <td>39.69918</td>\n",
       "      <td>0.0</td>\n",
       "      <td>100.740</td>\n",
       "    </tr>\n",
       "    <tr>\n",
       "      <th>2014-12-31</th>\n",
       "      <td>1557.16930</td>\n",
       "      <td>128.02834</td>\n",
       "      <td>139.83396</td>\n",
       "      <td>72.44112</td>\n",
       "      <td>0.0</td>\n",
       "      <td>100.740</td>\n",
       "    </tr>\n",
       "    <tr>\n",
       "      <th>2015-12-31</th>\n",
       "      <td>1637.08443</td>\n",
       "      <td>128.19827</td>\n",
       "      <td>137.97323</td>\n",
       "      <td>41.03425</td>\n",
       "      <td>0.0</td>\n",
       "      <td>100.740</td>\n",
       "    </tr>\n",
       "    <tr>\n",
       "      <th>2016-12-31</th>\n",
       "      <td>1564.60609</td>\n",
       "      <td>127.70693</td>\n",
       "      <td>136.51382</td>\n",
       "      <td>39.94103</td>\n",
       "      <td>0.0</td>\n",
       "      <td>101.016</td>\n",
       "    </tr>\n",
       "    <tr>\n",
       "      <th>2017-12-31</th>\n",
       "      <td>1615.51963</td>\n",
       "      <td>127.76362</td>\n",
       "      <td>134.20808</td>\n",
       "      <td>54.03006</td>\n",
       "      <td>0.0</td>\n",
       "      <td>100.740</td>\n",
       "    </tr>\n",
       "    <tr>\n",
       "      <th>2018-12-31</th>\n",
       "      <td>1568.00211</td>\n",
       "      <td>128.52581</td>\n",
       "      <td>141.10038</td>\n",
       "      <td>37.03103</td>\n",
       "      <td>0.0</td>\n",
       "      <td>100.740</td>\n",
       "    </tr>\n",
       "    <tr>\n",
       "      <th>2019-12-31</th>\n",
       "      <td>1627.51323</td>\n",
       "      <td>128.35606</td>\n",
       "      <td>138.64854</td>\n",
       "      <td>37.62782</td>\n",
       "      <td>0.0</td>\n",
       "      <td>100.740</td>\n",
       "    </tr>\n",
       "    <tr>\n",
       "      <th>2020-12-31</th>\n",
       "      <td>1571.29919</td>\n",
       "      <td>128.74495</td>\n",
       "      <td>139.15999</td>\n",
       "      <td>37.22285</td>\n",
       "      <td>0.0</td>\n",
       "      <td>101.016</td>\n",
       "    </tr>\n",
       "  </tbody>\n",
       "</table>\n",
       "</div>"
      ],
      "text/plain": [
       "                   ghi      H_sun        T2m     WS10m  Int     hour\n",
       "time                                                                \n",
       "2005-12-31  1560.01627  128.03107  127.37213  39.25466  0.0  100.740\n",
       "2006-12-31  1607.89395  128.07220  136.33286  37.31148  0.0  100.740\n",
       "2007-12-31  1585.44673  128.35433  130.76191  46.70577  0.0  100.740\n",
       "2008-12-31  1482.46071  126.10470  130.13264  38.87815  0.0  101.016\n",
       "2009-12-31  1569.51581  125.22906  135.90398  37.50141  0.0  100.740\n",
       "2010-12-31  1557.54188  128.31115  125.53143  40.65826  0.0  100.740\n",
       "2011-12-31  1595.16585  127.94245  136.48892  36.36240  0.0  100.740\n",
       "2012-12-31  1591.65597  128.45416  132.48546  38.42720  0.0  101.016\n",
       "2013-12-31  1548.87295  127.83851  128.37378  39.69918  0.0  100.740\n",
       "2014-12-31  1557.16930  128.02834  139.83396  72.44112  0.0  100.740\n",
       "2015-12-31  1637.08443  128.19827  137.97323  41.03425  0.0  100.740\n",
       "2016-12-31  1564.60609  127.70693  136.51382  39.94103  0.0  101.016\n",
       "2017-12-31  1615.51963  127.76362  134.20808  54.03006  0.0  100.740\n",
       "2018-12-31  1568.00211  128.52581  141.10038  37.03103  0.0  100.740\n",
       "2019-12-31  1627.51323  128.35606  138.64854  37.62782  0.0  100.740\n",
       "2020-12-31  1571.29919  128.74495  139.15999  37.22285  0.0  101.016"
      ]
     },
     "execution_count": 22,
     "metadata": {},
     "output_type": "execute_result"
    }
   ],
   "source": [
    "satellite.resample('Y').sum()/1000"
   ]
  },
  {
   "cell_type": "code",
   "execution_count": 23,
   "metadata": {},
   "outputs": [],
   "source": [
    "satellite_year = satellite.resample('Y').sum() /1000 # kWh\n",
    "reanalysis_year = reanalysis.resample('Y').sum() /1000 # kWh"
   ]
  },
  {
   "cell_type": "markdown",
   "metadata": {},
   "source": [
    "And plot them. "
   ]
  },
  {
   "cell_type": "code",
   "execution_count": 25,
   "metadata": {},
   "outputs": [
    {
     "data": {
      "text/plain": [
       "([<matplotlib.axis.XTick at 0x1ff606ba208>,\n",
       "  <matplotlib.axis.XTick at 0x1ff606ad408>],\n",
       " [Text(1, 0, 'Satellite'), Text(2, 0, 'Reanalysis')])"
      ]
     },
     "execution_count": 25,
     "metadata": {},
     "output_type": "execute_result"
    },
    {
     "data": {
      "image/png": "[encoded data removed]",
      "text/plain": [
       "<Figure size 432x288 with 1 Axes>"
      ]
     },
     "metadata": {
      "needs_background": "light"
     },
     "output_type": "display_data"
    }
   ],
   "source": [
    "plt.boxplot([satellite_year['ghi'], reanalysis_year['ghi']])\n",
    "plt.ylabel('Radiation [$kWh/m^2$]')\n",
    "plt.xticks([1, 2], ['Satellite', 'Reanalysis'])"
   ]
  },
  {
   "cell_type": "markdown",
   "metadata": {},
   "source": [
    "We can also plot a colormap showing the hourly values throughout the year. "
   ]
  },
  {
   "cell_type": "code",
   "execution_count": 27,
   "metadata": {},
   "outputs": [
    {
     "data": {
      "text/plain": [
       "<matplotlib.colorbar.Colorbar at 0x1ff6236d188>"
      ]
     },
     "execution_count": 27,
     "metadata": {},
     "output_type": "execute_result"
    },
    {
     "data": {
      "image/png": "[encoded data removed]",
      "text/plain": [
       "<Figure size 864x576 with 3 Axes>"
      ]
     },
     "metadata": {
      "needs_background": "light"
     },
     "output_type": "display_data"
    }
   ],
   "source": [
    "#%% 1-year satellite vs reanalysis\n",
    "YEAR = 2010\n",
    "\n",
    "satellite_1year = satellite[satellite.index.year == YEAR]\n",
    "reanalysis_1year = reanalysis[reanalysis.index.year == YEAR]\n",
    "\n",
    "fig, (ax_satellite_1year, ax_reanalysis_1year) = plt.subplots(nrows=1, \n",
    "                                                              ncols=2, \n",
    "                                                              figsize=(12, 8), \n",
    "                                                              sharey=True, \n",
    "                                                              squeeze=True)\n",
    "plt.subplots_adjust(wspace=0.05)\n",
    "\n",
    "im = ax_satellite_1year.pcolormesh(satellite_1year.pivot_table(values='ghi', \n",
    "                                                               index='hour', \n",
    "                                                               columns='date', \n",
    "                                                               fill_value=0))\n",
    "ax_satellite_1year.axis('off')\n",
    "ax_satellite_1year.set_title('Satellite dataset [2005-2020]')\n",
    "im = ax_reanalysis_1year.pcolormesh(reanalysis_1year.pivot_table(values='ghi', \n",
    "                                                                 index='hour', \n",
    "                                                                 columns='date', \n",
    "                                                                 fill_value=0))\n",
    "ax_reanalysis_1year.axis('off')\n",
    "ax_reanalysis_1year.set_title('Climate Reanalysis dataset [2005-2020]')\n",
    "cbar_ax = fig.add_axes([0.91, 0.115, 0.015, 0.765])\n",
    "fig.colorbar(im, cax=cbar_ax, label='Global Horizontal Irradiance [$W/m^2$]')"
   ]
  },
  {
   "cell_type": "markdown",
   "metadata": {},
   "source": [
    "We can also calculate the normalized standard deviation for the annual global horizontal irradiance."
   ]
  },
  {
   "cell_type": "code",
   "execution_count": 37,
   "metadata": {},
   "outputs": [
    {
     "name": "stdout",
     "output_type": "stream",
     "text": [
      "Average satellite anual irradiation = 1577 kWh/m2\n",
      "Normalized standard deviation for satellite anual irradiation = 2.3 %\n"
     ]
    }
   ],
   "source": [
    "satellite_mean = satellite_year['ghi'].mean()\n",
    "satellite_std_n = 100*satellite_year['ghi'].std()/satellite_year['ghi'].mean()\n",
    "\n",
    "print(f'Average satellite anual irradiation = {round(satellite_mean)} kWh/m2')\n",
    "print(f'Normalized standard deviation for satellite anual irradiation = {round(satellite_std_n,1)} %')"
   ]
  },
  {
   "cell_type": "code",
   "execution_count": 36,
   "metadata": {},
   "outputs": [
    {
     "name": "stdout",
     "output_type": "stream",
     "text": [
      "Average reanalysis anual irradiation = 1601 kWh/m2\n",
      "Normalized standard deviation for reanalysis anual irradiation = 2.0 %\n"
     ]
    }
   ],
   "source": [
    "reanalysis_mean = reanalysis_year['ghi'].mean()\n",
    "reanalysis_std_n = 100*reanalysis_year['ghi'].std()/reanalysis_year['ghi'].mean()\n",
    "\n",
    "print(f'Average reanalysis anual irradiation = {round(reanalysis_mean)} kWh/m2')\n",
    "print(f'Normalized standard deviation for reanalysis anual irradiation = {round(reanalysis_std_n,1)} %')"
   ]
  },
  {
   "cell_type": "code",
   "execution_count": null,
   "metadata": {},
   "outputs": [],
   "source": []
  }
 ],
 "metadata": {
  "kernelspec": {
   "display_name": "Python 3 (ipykernel)",
   "language": "python",
   "name": "python3"
  },
  "language_info": {
   "codemirror_mode": {
    "name": "ipython",
    "version": 3
   },
   "file_extension": ".py",
   "mimetype": "text/x-python",
   "name": "python",
   "nbconvert_exporter": "python",
   "pygments_lexer": "ipython3",
   "version": "3.7.12"
  }
 },
 "nbformat": 4,
 "nbformat_minor": 4
}
