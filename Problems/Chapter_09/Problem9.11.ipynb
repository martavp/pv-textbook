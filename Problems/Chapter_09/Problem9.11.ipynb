{
 "cells": [
  {
   "cell_type": "markdown",
   "metadata": {},
   "source": [
    "**Fundamentals of Solar Cells and Photovoltaic Systems Engineering**\n",
    "\n",
    "**Solutions Manual - Chapter 9**\n",
    "\n",
    "**Problem 9.11**\n"
   ]
  },
  {
   "cell_type": "markdown",
   "metadata": {},
   "source": [
    "**This problem represents the first step in the design of a grid-connected PV system installed on the rooftop of a dwelling at a certain location. For this example, we will select Cairo, Egypt (31.233$^{\\circ}$N, 30.033$^{\\circ}$E).**\n",
    "\n",
    "**Using pvlib and retrieving the Typical Meteorological Year (TYM), find the optimum inclination for the PV generator that maximizes the reference yield $Y_R$. The PV generator is assumed to be oriented towards the equator.**"
   ]
  },
  {
   "cell_type": "markdown",
   "metadata": {},
   "source": [
    "We will use the packages [pvlib](https://pvlib-python.readthedocs.io/en/stable/), [pandas](https://pandas.pydata.org/) and [matplotlib.pyplot](https://matplotlib.org/stable/index.html) to plot the results. We will also use the package [pytz](https://pypi.org/project/pytz/) to determine the time zone of Egypt."
   ]
  },
  {
   "cell_type": "code",
   "execution_count": 23,
   "metadata": {},
   "outputs": [],
   "source": [
    "import pvlib\n",
    "import pandas as pd\n",
    "import matplotlib.pyplot as plt\n",
    "import pytz"
   ]
  },
  {
   "cell_type": "markdown",
   "metadata": {},
   "source": [
    "We start by defining the location, date, and time. "
   ]
  },
  {
   "cell_type": "code",
   "execution_count": 24,
   "metadata": {},
   "outputs": [],
   "source": [
    "# Cairo, Egypt\n",
    "lat, lon =  31.233, 30.033\n",
    "\n",
    "tz = pytz.country_timezones('EG')[0] # timezone corresponding to country 'EG' (Egypt)\n",
    "\n",
    "# location\n",
    "location = pvlib.location.Location(lat, lon, tz=tz)\n",
    "\n",
    "orientation = 180 # pvlib sets orientation origin at North -> South=180"
   ]
  },
  {
   "cell_type": "markdown",
   "metadata": {},
   "source": [
    "We retrieve typical meteorological year (TMY) data from PVGIS."
   ]
  },
  {
   "cell_type": "code",
   "execution_count": 25,
   "metadata": {},
   "outputs": [],
   "source": [
    "tmy, _, _, _ = pvlib.iotools.get_pvgis_tmy(latitude=lat, longitude=lon, map_variables=True)\n",
    "\n",
    "tmy.index = tmy.index.tz_convert(tz) # use local time"
   ]
  },
  {
   "cell_type": "markdown",
   "metadata": {},
   "source": [
    "We calculate the Sun's coordinates and calculate the irradiance on the plane of array (POA)"
   ]
  },
  {
   "cell_type": "code",
   "execution_count": 26,
   "metadata": {},
   "outputs": [],
   "source": [
    "# calculate Sun's coordinates\n",
    "solar_position = location.get_solarposition(times=tmy.index)\n",
    "\n",
    "# list of potential tilt angle\n",
    "tilts=range(0,90,1)\n",
    "\n",
    "annual_irradiation = pd.Series(index=tilts, dtype=float)\n",
    "\n",
    "for tilt in tilts: \n",
    "    # calculate irradiance at the plane of the array (poa)\n",
    "    poa_irradiance = pvlib.irradiance.get_total_irradiance(surface_tilt=tilt,\n",
    "                                                           surface_azimuth=orientation,\n",
    "                                                           dni=tmy['dni'],\n",
    "                                                           ghi=tmy['ghi'],\n",
    "                                                           dhi=tmy['dhi'],\n",
    "                                                           solar_zenith=solar_position['apparent_zenith'],\n",
    "                                                           solar_azimuth=solar_position['azimuth'])\n",
    "    \n",
    "    #save annual irradiation on the plane of array (POA) in kWh\n",
    "    annual_irradiation[tilt]=0.001*poa_irradiance['poa_global'].sum() # Wh->kWh\n"
   ]
  },
  {
   "cell_type": "markdown",
   "metadata": {},
   "source": [
    "We can plot the annual effective irradiance (reference yield) as a function of the tilt angle."
   ]
  },
  {
   "cell_type": "code",
   "execution_count": 27,
   "metadata": {},
   "outputs": [
    {
     "data": {
      "text/plain": [
       "Text(0.5, 0, 'Tilt angle (degrees)')"
      ]
     },
     "execution_count": 27,
     "metadata": {},
     "output_type": "execute_result"
    },
    {
     "data": {
      "image/png": "[encoded data removed]",
      "text/plain": [
       "<Figure size 432x288 with 1 Axes>"
      ]
     },
     "metadata": {
      "needs_background": "light"
     },
     "output_type": "display_data"
    }
   ],
   "source": [
    "annual_irradiation.plot()\n",
    "plt.ylabel('Annual irradiation, \\n reference yield $Y_R$ (kWh/year)')\n",
    "plt.xlabel('Tilt angle (degrees)')"
   ]
  },
  {
   "cell_type": "markdown",
   "metadata": {},
   "source": [
    "The reference yield is maximized for a tilt angle of 23 degrees."
   ]
  },
  {
   "cell_type": "code",
   "execution_count": 28,
   "metadata": {},
   "outputs": [
    {
     "data": {
      "text/plain": [
       "23"
      ]
     },
     "execution_count": 28,
     "metadata": {},
     "output_type": "execute_result"
    }
   ],
   "source": [
    "annual_irradiation.idxmax()"
   ]
  },
  {
   "cell_type": "code",
   "execution_count": null,
   "metadata": {},
   "outputs": [],
   "source": []
  }
 ],
 "metadata": {
  "kernelspec": {
   "display_name": "Python 3 (ipykernel)",
   "language": "python",
   "name": "python3"
  },
  "language_info": {
   "codemirror_mode": {
    "name": "ipython",
    "version": 3
   },
   "file_extension": ".py",
   "mimetype": "text/x-python",
   "name": "python",
   "nbconvert_exporter": "python",
   "pygments_lexer": "ipython3",
   "version": "3.7.12"
  }
 },
 "nbformat": 4,
 "nbformat_minor": 4
}
