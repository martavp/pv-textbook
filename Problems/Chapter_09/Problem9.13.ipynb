{
 "cells": [
  {
   "cell_type": "markdown",
   "metadata": {},
   "source": [
    "**Fundamentals of Solar Cells and Photovoltaic Systems Engineering**\n",
    "\n",
    "**Solutions Manual - Chapter 9**\n",
    "\n",
    "**Problem 9.13**\n"
   ]
  },
  {
   "cell_type": "markdown",
   "metadata": {},
   "source": [
    "**Assume a PV system is installed on the rooftop of a dwelling in Dakar, Senegal (14.7166$^{\\circ}$N, 17.4676$^{\\circ}$W). \n",
    "The system includes one PV panel LG290N1C (oriented towards the south) and one microinverter ABB-MICRO-0.25. For the cell temperature estimation, assume that the PV module is glass-glass, and mounted on the rooftop surface (close mount).\n",
    "Use pvlib and the Typical Meteorological Year (TYM) to:**\n",
    "\n",
    "**(a) find the optimum inclination for the PV generator that maximizes the reference yield $Y_R$**\n",
    "\n",
    "**(b) find the optimum inclination for the PV generator that maximizes the final yield $Y_F$**\n",
    "\n",
    "**Discuss the results.**"
   ]
  },
  {
   "cell_type": "markdown",
   "metadata": {},
   "source": [
    "We will use the packages [pvlib](https://pvlib-python.readthedocs.io/en/stable/), [pandas](https://pandas.pydata.org/) and [matplotlib.pyplot](https://matplotlib.org/stable/index.html) to plot the results. We will also use the package [pytz](https://pypi.org/project/pytz/) to determine the time zone of Egypt."
   ]
  },
  {
   "cell_type": "code",
   "execution_count": 1,
   "metadata": {},
   "outputs": [],
   "source": [
    "import pvlib\n",
    "import pandas as pd\n",
    "import matplotlib.pyplot as plt\n",
    "import pytz"
   ]
  },
  {
   "cell_type": "markdown",
   "metadata": {},
   "source": [
    "We start by defining the location, date, and time. "
   ]
  },
  {
   "cell_type": "code",
   "execution_count": 2,
   "metadata": {},
   "outputs": [],
   "source": [
    "# Dakar, Senegal\n",
    "lat, lon =  14.7166, -17.4676\n",
    "altitude = 22\n",
    "\n",
    "tz = pytz.country_timezones('SN')[0] # timezone corresponding to country 'EG' (Egypt)\n",
    "\n",
    "# location\n",
    "location = pvlib.location.Location(lat, lon, tz=tz)\n",
    "\n",
    "orientation = 180 # pvlib sets orientation origin at North -> South=180"
   ]
  },
  {
   "cell_type": "markdown",
   "metadata": {},
   "source": [
    "We retrieve typical meteorological year (TMY) data from PVGIS."
   ]
  },
  {
   "cell_type": "code",
   "execution_count": 3,
   "metadata": {},
   "outputs": [],
   "source": [
    "tmy, _, _, _ = pvlib.iotools.get_pvgis_tmy(latitude=lat, longitude=lon, map_variables=True)\n",
    "\n",
    "tmy.index = tmy.index.tz_convert(tz) # use local time"
   ]
  },
  {
   "cell_type": "markdown",
   "metadata": {},
   "source": [
    "We retrieve the PV modules and inverter specifications from the database at the [NREL SAM (System Advisory Monitoring)](https://sam.nrel.gov/). \n"
   ]
  },
  {
   "cell_type": "code",
   "execution_count": 4,
   "metadata": {},
   "outputs": [],
   "source": [
    "sandia_modules = pvlib.pvsystem.retrieve_sam('SandiaMod')\n",
    "\n",
    "sapm_inverters = pvlib.pvsystem.retrieve_sam('cecinverter')\n",
    "\n",
    "module = sandia_modules['LG_LG290N1C_G3__2013_'] # module LG290N1C\n",
    "\n",
    "inverter = sapm_inverters['ABB__MICRO_0_25_I_OUTD_US_208__208V_']"
   ]
  },
  {
   "cell_type": "markdown",
   "metadata": {},
   "source": [
    "For the temperature parameters, we assume a close mount glass-glass configuration. "
   ]
  },
  {
   "cell_type": "code",
   "execution_count": 5,
   "metadata": {},
   "outputs": [],
   "source": [
    "temperature_model_parameters = pvlib.temperature.TEMPERATURE_MODEL_PARAMETERS['sapm'] ['close_mount_glass_glass']"
   ]
  },
  {
   "cell_type": "markdown",
   "metadata": {},
   "source": [
    "We calculate the Sun's coordinates "
   ]
  },
  {
   "cell_type": "code",
   "execution_count": 6,
   "metadata": {},
   "outputs": [],
   "source": [
    "# calculate Sun's coordinates\n",
    "solar_position = location.get_solarposition(times=tmy.index)"
   ]
  },
  {
   "cell_type": "markdown",
   "metadata": {},
   "source": [
    "We calculate the reference and final yields for different tilt angles."
   ]
  },
  {
   "cell_type": "code",
   "execution_count": 7,
   "metadata": {},
   "outputs": [],
   "source": [
    "#list of potential tilt angle\n",
    "tilts=range(0,90,1)\n",
    "\n",
    "Y_F = pd.Series(index=tilts, dtype=float)\n",
    "Y_R = pd.Series(index=tilts, dtype=float)\n",
    "\n",
    "for tilt in tilts: \n",
    "    # calculate irradiante at the plane of the array (poa)\n",
    "    poa_irradiance = pvlib.irradiance.get_total_irradiance(surface_tilt=tilt,\n",
    "                                                           surface_azimuth=orientation,\n",
    "                                                           dni=tmy['dni'],\n",
    "                                                           ghi=tmy['ghi'],\n",
    "                                                           dhi=tmy['dhi'],\n",
    "                                                           solar_zenith=solar_position['apparent_zenith'],\n",
    "                                                           solar_azimuth=solar_position['azimuth'])\n",
    "    \n",
    "    #save reference yield\n",
    "    Y_R[tilt]=0.001*poa_irradiance['poa_global'].sum()\n",
    "\n",
    "    #calculate airmass \n",
    "    airmass = pvlib.atmosphere.get_relative_airmass(solar_position['apparent_zenith'])\n",
    "    pressure = pvlib.atmosphere.alt2pres(altitude)\n",
    "    am_abs = pvlib.atmosphere.get_absolute_airmass(airmass, pressure)\n",
    "    \n",
    "    #calculate the angle of incidence (aoi)\n",
    "    aoi = pvlib.irradiance.aoi(surface_tilt=tilt,\n",
    "                               surface_azimuth=orientation,\n",
    "                               solar_zenith=solar_position['apparent_zenith'],\n",
    "                               solar_azimuth=solar_position['azimuth'])\n",
    "\n",
    "    #calculate the effective irradiance\n",
    "    effective_irradiance = pvlib.pvsystem.sapm_effective_irradiance(poa_irradiance['poa_direct'],\n",
    "                                                                    poa_irradiance['poa_diffuse'],\n",
    "                                                                    am_abs,\n",
    "                                                                    aoi,\n",
    "                                                                    module)\n",
    "    #calculate the cell temperature\n",
    "    cell_temperature = pvlib.temperature.sapm_cell(poa_irradiance['poa_global'],\n",
    "                                                   tmy[\"temp_air\"],\n",
    "                                                   tmy[\"wind_speed\"],\n",
    "                                                   **temperature_model_parameters,)\n",
    "    \n",
    "    #calculate the DC and AC energy generation in every hour\n",
    "    dc_power = pvlib.pvsystem.sapm(effective_irradiance, cell_temperature, module)\n",
    "\n",
    "    ac_power = pvlib.inverter.sandia(dc_power['v_mp'], dc_power['p_mp'], inverter)\n",
    "\n",
    "    #save the final yield\n",
    "    P_STC=module['Impo']*module['Vmpo']\n",
    "\n",
    "    Y_F[tilt] = ac_power.sum()/P_STC \n"
   ]
  },
  {
   "cell_type": "markdown",
   "metadata": {},
   "source": [
    "We can plot the reference yield and the final yield as a function of the tilt angle."
   ]
  },
  {
   "cell_type": "code",
   "execution_count": 8,
   "metadata": {},
   "outputs": [
    {
     "data": {
      "text/plain": [
       "<matplotlib.legend.Legend at 0x20cdd317788>"
      ]
     },
     "execution_count": 8,
     "metadata": {},
     "output_type": "execute_result"
    },
    {
     "data": {
      "image/png": "[encoded data removed]",
      "text/plain": [
       "<Figure size 432x288 with 1 Axes>"
      ]
     },
     "metadata": {
      "needs_background": "light"
     },
     "output_type": "display_data"
    }
   ],
   "source": [
    "Y_R.plot(label=\"reference yield, $Y_R$\", color='dodgerblue')\n",
    "Y_F.plot(label=\"final yield, $Y_F$\", color='firebrick')\n",
    "plt.ylabel('Yield (kWh)')\n",
    "plt.xlabel('Tilt angle')\n",
    "plt.legend()"
   ]
  },
  {
   "cell_type": "markdown",
   "metadata": {},
   "source": [
    "Both, the reference and final yields are maximized for a tilt angle of 14 degrees."
   ]
  },
  {
   "cell_type": "code",
   "execution_count": 9,
   "metadata": {},
   "outputs": [
    {
     "data": {
      "text/plain": [
       "14"
      ]
     },
     "execution_count": 9,
     "metadata": {},
     "output_type": "execute_result"
    }
   ],
   "source": [
    "Y_R.idxmax()"
   ]
  },
  {
   "cell_type": "code",
   "execution_count": 10,
   "metadata": {},
   "outputs": [
    {
     "data": {
      "text/plain": [
       "14"
      ]
     },
     "execution_count": 10,
     "metadata": {},
     "output_type": "execute_result"
    }
   ],
   "source": [
    "Y_F.idxmax()"
   ]
  }
 ],
 "metadata": {
  "kernelspec": {
   "display_name": "Python 3 (ipykernel)",
   "language": "python",
   "name": "python3"
  },
  "language_info": {
   "codemirror_mode": {
    "name": "ipython",
    "version": 3
   },
   "file_extension": ".py",
   "mimetype": "text/x-python",
   "name": "python",
   "nbconvert_exporter": "python",
   "pygments_lexer": "ipython3",
   "version": "3.7.12"
  }
 },
 "nbformat": 4,
 "nbformat_minor": 4
}
