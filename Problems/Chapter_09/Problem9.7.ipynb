{
 "cells": [
  {
   "cell_type": "markdown",
   "metadata": {},
   "source": [
    "**Fundamentals of Solar Cells and Photovoltaic Systems Engineering**\n",
    "\n",
    "**Solutions Manual - Chapter 9**\n",
    "\n",
    "**Problem 9.7**"
   ]
  },
  {
   "cell_type": "markdown",
   "metadata": {},
   "source": [
    "**Consider a PV generator composed of PV modules ~~with the electrical characteristics indicated in Table 10.3 ()~~, 'Trina_TSM_240PA05__2013_' which will be installed on a rooftop with optimal inclination and orientation.**\n",
    "\n",
    "**The capacity of the PV generator will be chosen to match on average the current electricity consumption of the dwelling, which is 3,000kWh per year.**\n",
    "\n",
    "**(a) Assuming a performance ratio PR=80%, estimate the number of modules required for the PV generator.**\n",
    "\n",
    "**~~Search online for a commercial inverter with the appropriate nominal power.~~**\n",
    "\n",
    "**(b) Selecting the inverter 'ABB__PVI_3_0_OUTD_S_US__208V_' from the SAM database, configure the PV generator by connecting the PV modules in series and parallel to ensure compatibility with the inverter. In particular, ensure that the voltage of the PV generator does not exceed the maximum input voltage of the inverter and that the maximum power point is within the specified range.**"
   ]
  },
  {
   "cell_type": "markdown",
   "metadata": {},
   "source": [
    "We will use the packages [pvlib](https://pvlib-python.readthedocs.io/en/stable/), [pandas](https://pandas.pydata.org/) and [matplotlib.pyplot](https://matplotlib.org/stable/index.html) to plot the results. We will also use the package [pytz](https://pypi.org/project/pytz/) to determine the time zone of Egypt."
   ]
  },
  {
   "cell_type": "code",
   "execution_count": 53,
   "metadata": {},
   "outputs": [],
   "source": [
    "import pvlib\n",
    "import pandas as pd\n",
    "import matplotlib.pyplot as plt\n",
    "import pytz\n",
    "import math"
   ]
  },
  {
   "cell_type": "markdown",
   "metadata": {},
   "source": [
    "We start by defining the location, date, and time. "
   ]
  },
  {
   "cell_type": "code",
   "execution_count": 54,
   "metadata": {},
   "outputs": [],
   "source": [
    "# El Cairo, Egypt\n",
    "lat, lon =  31.233, 30.033\n",
    "altitude = 23\n",
    "\n",
    "tz = pytz.country_timezones('EG')[0]\n",
    "\n",
    "# location\n",
    "location = pvlib.location.Location(lat, lon, tz=tz)\n",
    "\n",
    "orientation = 180 # pvlib sets orientation origin at North -> South=0"
   ]
  },
  {
   "cell_type": "markdown",
   "metadata": {},
   "source": [
    "We retrieve typical meteorological year (TMY) data from PVGIS."
   ]
  },
  {
   "cell_type": "code",
   "execution_count": 55,
   "metadata": {},
   "outputs": [],
   "source": [
    "tmy, _, _, _ = pvlib.iotools.get_pvgis_tmy(latitude=lat, longitude=lon, map_variables=True)\n",
    "\n",
    "tmy.index = tmy.index.tz_convert(tz) #use local time"
   ]
  },
  {
   "cell_type": "markdown",
   "metadata": {},
   "source": [
    "We retrieve the PV modules specifications from the database at the [NREL SAM (System Advisory Monitoring)](https://sam.nrel.gov/). "
   ]
  },
  {
   "cell_type": "code",
   "execution_count": 56,
   "metadata": {},
   "outputs": [
    {
     "name": "stdout",
     "output_type": "stream",
     "text": [
      "Module power = 241.1 W\n"
     ]
    }
   ],
   "source": [
    "sandia_modules = pvlib.pvsystem.retrieve_sam('SandiaMod')\n",
    "\n",
    "module = sandia_modules['Trina_TSM_240PA05__2013_']\n",
    "\n",
    "module_pmp=module['Impo']*module['Vmpo']\n",
    "\n",
    "print(\"Module power = \" + str(round(module_pmp,1)) + \" W\")"
   ]
  },
  {
   "cell_type": "markdown",
   "metadata": {},
   "source": [
    "We calculate the Sun's coordinates and calculate the irradiance on the plane of array (POA)"
   ]
  },
  {
   "cell_type": "code",
   "execution_count": 57,
   "metadata": {},
   "outputs": [],
   "source": [
    "# calculate Sun's coordinates\n",
    "solar_position = location.get_solarposition(times=tmy.index)\n",
    "\n",
    "#list of potential tilt angle\n",
    "tilt = 24 #Optimal tilt calculated in Problem 9.5\n",
    "\n",
    "# calculate irradiante at the plane of the array (poa)\n",
    "poa_irradiance = pvlib.irradiance.get_total_irradiance(surface_tilt=tilt,\n",
    "                                                        surface_azimuth=orientation,\n",
    "                                                        dni=tmy['dni'],\n",
    "                                                        ghi=tmy['ghi'],\n",
    "                                                        dhi=tmy['dhi'],\n",
    "                                                        solar_zenith=solar_position['apparent_zenith'],\n",
    "                                                        solar_azimuth=solar_position['azimuth'])\n",
    "    \n",
    "#save annual irradiation on the plane of array (POA) in kWh\n",
    "annual_irradiation = 0.001*poa_irradiance['poa_global'].sum()\n"
   ]
  },
  {
   "cell_type": "markdown",
   "metadata": {},
   "source": [
    "Assuming a PR of 80%, the number of PV modules to produce 3,000 kWh can be calculated as"
   ]
  },
  {
   "cell_type": "code",
   "execution_count": 58,
   "metadata": {},
   "outputs": [
    {
     "name": "stdout",
     "output_type": "stream",
     "text": [
      "Number of modules = 8\n",
      "PV generator nominal capacity = 1929 W\n"
     ]
    }
   ],
   "source": [
    "PR=0.8\n",
    "annual_energy_yield_per_module = module_pmp*(annual_irradiation/1000)*0.8\n",
    "N_modules = math.ceil(3000/annual_energy_yield_per_module)\n",
    "generator_capacity = N_modules*module_pmp\n",
    "print(\"Number of modules = \" + str(N_modules))\n",
    "print(\"PV generator nominal capacity = \" + str(round(generator_capacity))+' W')"
   ]
  },
  {
   "cell_type": "markdown",
   "metadata": {},
   "source": [
    "We retrieve the inverter data from the SAM database."
   ]
  },
  {
   "cell_type": "code",
   "execution_count": 59,
   "metadata": {},
   "outputs": [],
   "source": [
    "sapm_inverters = pvlib.pvsystem.retrieve_sam('cecinverter')\n",
    "inverter = sapm_inverters['ABB__PVI_3_0_OUTD_S_US__208V_']"
   ]
  },
  {
   "cell_type": "markdown",
   "metadata": {},
   "source": [
    "The maximum number of PV modules that can be conected in series is determined by the inverter input voltage"
   ]
  },
  {
   "cell_type": "code",
   "execution_count": 60,
   "metadata": {},
   "outputs": [
    {
     "data": {
      "text/plain": [
       "16.514140232574142"
      ]
     },
     "execution_count": 60,
     "metadata": {},
     "output_type": "execute_result"
    }
   ],
   "source": [
    "modules_in_series = inverter['Vdcmax']/module['Vmpo']\n",
    "modules_in_series"
   ]
  },
  {
   "cell_type": "markdown",
   "metadata": {},
   "source": [
    "Hence, the 8 PV modules can be conected in series. "
   ]
  },
  {
   "cell_type": "markdown",
   "metadata": {},
   "source": [
    "The voltage produced by the 8 series-connected PV modules is within the maximum and minimum voltage acepted by the inverter. "
   ]
  },
  {
   "cell_type": "code",
   "execution_count": 61,
   "metadata": {},
   "outputs": [
    {
     "data": {
      "text/plain": [
       "232.528"
      ]
     },
     "execution_count": 61,
     "metadata": {},
     "output_type": "execute_result"
    }
   ],
   "source": [
    "N_modules*module['Vmpo']"
   ]
  },
  {
   "cell_type": "code",
   "execution_count": 62,
   "metadata": {},
   "outputs": [
    {
     "data": {
      "text/plain": [
       "480.0"
      ]
     },
     "execution_count": 62,
     "metadata": {},
     "output_type": "execute_result"
    }
   ],
   "source": [
    "inverter['Mppt_high']"
   ]
  },
  {
   "cell_type": "code",
   "execution_count": 63,
   "metadata": {},
   "outputs": [
    {
     "data": {
      "text/plain": [
       "100.0"
      ]
     },
     "execution_count": 63,
     "metadata": {},
     "output_type": "execute_result"
    }
   ],
   "source": [
    "inverter['Mppt_low']"
   ]
  },
  {
   "cell_type": "code",
   "execution_count": null,
   "metadata": {},
   "outputs": [],
   "source": []
  }
 ],
 "metadata": {
  "kernelspec": {
   "display_name": "Python 3 (ipykernel)",
   "language": "python",
   "name": "python3"
  },
  "language_info": {
   "codemirror_mode": {
    "name": "ipython",
    "version": 3
   },
   "file_extension": ".py",
   "mimetype": "text/x-python",
   "name": "python",
   "nbconvert_exporter": "python",
   "pygments_lexer": "ipython3",
   "version": "3.7.12"
  }
 },
 "nbformat": 4,
 "nbformat_minor": 4
}
