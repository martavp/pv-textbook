{
 "cells": [
  {
   "cell_type": "markdown",
   "metadata": {},
   "source": [
    "**Fundamentals of Solar Cells and Photovoltaic Systems Engineering**\n",
    "\n",
    "**Solutions Manual - Chapter 9**\n",
    "\n",
    "**Problem 9.16**\n"
   ]
  },
  {
   "cell_type": "markdown",
   "metadata": {},
   "source": [
    "**In this problem you are asked to evaluate the impact of the PV generator capacity on the self-consumption ratio (SCR) and self-sufficiency ratio (SSR) for a distributed PV system suplying a household demand. \n",
    "Use pvlib and the Typical Meteorological Year (TYM) and assume that the system is installed in Munich, Germany (48.1371$^{\\circ}$N, 11.5761$^{\\circ}$E). The PV panels are oriented towards the south with inclination angle $\\beta=30^{\\circ}$).** \n",
    "\n",
    "**Assume that the power production in every hour is proportional to the irradiance on the plane of the array (POA), i.e., we neglect the impact of the cell temperature on the efficiency. Assume also that capture losses and system losses are constant in time and equal to 5% and 6%, respectively.**\n"
   ]
  },
  {
   "cell_type": "markdown",
   "metadata": {},
   "source": [
    "We will use the packages [pvlib](https://pvlib-python.readthedocs.io/en/stable/), [pandas](https://pandas.pydata.org/) and [matplotlib.pyplot](https://matplotlib.org/stable/index.html) to plot the results. We will also use the package [pytz](https://pypi.org/project/pytz/) to determine the time zone of Germany."
   ]
  },
  {
   "cell_type": "code",
   "execution_count": 78,
   "metadata": {},
   "outputs": [],
   "source": [
    "import pvlib\n",
    "import pandas as pd\n",
    "import matplotlib.pyplot as plt\n",
    "import pytz\n",
    "import numpy as np"
   ]
  },
  {
   "cell_type": "markdown",
   "metadata": {},
   "source": [
    "We start by defining the location, date, and time. We also define the orientation and tilt angles."
   ]
  },
  {
   "cell_type": "code",
   "execution_count": 79,
   "metadata": {},
   "outputs": [],
   "source": [
    "# Munich, Germany\n",
    "lat, lon =  48.1371, 11.5761\n",
    "\n",
    "tz = pytz.country_timezones('DE')[0] # timezone corresponding to country 'DE' (Germany)\n",
    "\n",
    "# location\n",
    "location = pvlib.location.Location(lat, lon, tz=tz)\n",
    "\n",
    "orientation = 180 # pvlib sets orientation origin at North -> South=180\n",
    "tilt = 30"
   ]
  },
  {
   "cell_type": "markdown",
   "metadata": {},
   "source": [
    "We retrieve typical meteorological year (TMY) data from PVGIS."
   ]
  },
  {
   "cell_type": "code",
   "execution_count": 80,
   "metadata": {},
   "outputs": [],
   "source": [
    "tmy, _, _, _ = pvlib.iotools.get_pvgis_tmy(latitude=lat, longitude=lon, map_variables=True)\n",
    "\n",
    "tmy.index = tmy.index.tz_convert(tz) # use local time"
   ]
  },
  {
   "cell_type": "markdown",
   "metadata": {},
   "source": [
    "We calculate the Sun's coordinates and the irradiance on the plane of array (POA)."
   ]
  },
  {
   "cell_type": "code",
   "execution_count": 81,
   "metadata": {},
   "outputs": [],
   "source": [
    "# calculate Sun's coordinates\n",
    "solar_position = location.get_solarposition(times=tmy.index)\n",
    "\n",
    "# calculate irradiante at the plane of the array (poa)\n",
    "poa_irradiance = pvlib.irradiance.get_total_irradiance(surface_tilt=tilt,\n",
    "                                                       surface_azimuth=orientation,\n",
    "                                                       dni=tmy['dni'],\n",
    "                                                       ghi=tmy['ghi'],\n",
    "                                                       dhi=tmy['dhi'],\n",
    "                                                       solar_zenith=solar_position['apparent_zenith'],\n",
    "                                                       solar_azimuth=solar_position['azimuth'])"
   ]
  },
  {
   "cell_type": "markdown",
   "metadata": {},
   "source": [
    "We retrieve the load profile corresponding to residential appartment 5 included in the household dataset provided at the [Open Power System Data Platform](https://data.open-power-system-data.org/household_data/2020-04-15)"
   ]
  },
  {
   "cell_type": "code",
   "execution_count": 82,
   "metadata": {},
   "outputs": [],
   "source": [
    "data=pd.read_csv('data/household_data_60min_singleindex_filtered.csv', index_col=0)\n",
    "data.index = pd.to_datetime(data.index)\n",
    "date = '2018-01-01'\n",
    "times = pd.date_range(start=date, freq='1H', periods=8760, tz='UTC')\n",
    "total_load=data.loc[times,'DE_KN_residential5_grid_import'] #cumulative load, kWh\n",
    "load=total_load.diff().dropna()"
   ]
  },
  {
   "cell_type": "markdown",
   "metadata": {},
   "source": [
    "We can plot the average hourly demand to get an idea of the profile. "
   ]
  },
  {
   "cell_type": "code",
   "execution_count": 83,
   "metadata": {},
   "outputs": [
    {
     "data": {
      "image/png": "[encoded data removed]",
      "text/plain": [
       "<Figure size 432x288 with 1 Axes>"
      ]
     },
     "metadata": {
      "needs_background": "light"
     },
     "output_type": "display_data"
    }
   ],
   "source": [
    "plt.figure()\n",
    "plt.plot(load.groupby(load.index.hour).mean())\n",
    "plt.grid(alpha=0.5)\n",
    "plt.xlabel('hour')\n",
    "plt.ylabel('Averag demand [kW]')\n",
    "plt.show()"
   ]
  },
  {
   "cell_type": "markdown",
   "metadata": {},
   "source": [
    "For different ratios $r$ (PV system generation to load consumption), we calculate the self-consumption ratio (SCR) and the self-sufficiency ratio (SSR) . "
   ]
  },
  {
   "cell_type": "code",
   "execution_count": 84,
   "metadata": {},
   "outputs": [],
   "source": [
    "L_C = 0.05 # capture losses\n",
    "L_S = 0.06 # system losses\n",
    "annual_pv_generation = (1-L_C)*(1-L_S)*poa_irradiance['poa_global'].sum()*0.001 \n",
    "annual_demand = load.sum()\n",
    "PV_capacity_ref = annual_demand/annual_pv_generation # PV capacity needed to make PV generation=demand\n",
    "\n",
    "ratios=0.1*np.arange(1,41)\n",
    "SCR=pd.Series(index=ratios, dtype='float')\n",
    "SSR=pd.Series(index=ratios, dtype='float')\n",
    "\n",
    "for r in ratios:\n",
    "    pv_generation = r*PV_capacity_ref*(1-L_C)*(1-L_S)*poa_irradiance['poa_global']*0.001\n",
    "    self_consumption = [load[h] if load[h]<pv_generation[h] else pv_generation[h] for h in np.arange(0,8759)]\n",
    "    SCR[r] = 100*sum(self_consumption)/pv_generation.sum()\n",
    "    SSR[r] = 100*sum(self_consumption)/load.sum()"
   ]
  },
  {
   "cell_type": "code",
   "execution_count": 85,
   "metadata": {},
   "outputs": [
    {
     "data": {
      "text/plain": [
       "(0.0, 100.0)"
      ]
     },
     "execution_count": 85,
     "metadata": {},
     "output_type": "execute_result"
    },
    {
     "data": {
      "image/png": "[encoded data removed]",
      "text/plain": [
       "<Figure size 432x288 with 1 Axes>"
      ]
     },
     "metadata": {
      "needs_background": "light"
     },
     "output_type": "display_data"
    }
   ],
   "source": [
    "SCR.plot(color='lightblue', label='Self-consumption ratio (SCR)', linewidth=3)\n",
    "SSR.plot(color='darkred', label='Self-sufficiency ratio (SSR)', linewidth=3, linestyle='dashed')\n",
    "plt.xlabel('PV system generation/load consumption')\n",
    "plt.legend()\n",
    "plt.xlim([0,4])\n",
    "plt.ylim([0,100])"
   ]
  },
  {
   "cell_type": "code",
   "execution_count": null,
   "metadata": {},
   "outputs": [],
   "source": []
  }
 ],
 "metadata": {
  "kernelspec": {
   "display_name": "Python 3 (ipykernel)",
   "language": "python",
   "name": "python3"
  },
  "language_info": {
   "codemirror_mode": {
    "name": "ipython",
    "version": 3
   },
   "file_extension": ".py",
   "mimetype": "text/x-python",
   "name": "python",
   "nbconvert_exporter": "python",
   "pygments_lexer": "ipython3",
   "version": "3.7.12"
  }
 },
 "nbformat": 4,
 "nbformat_minor": 4
}
