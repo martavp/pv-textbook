{
 "cells": [
  {
   "cell_type": "markdown",
   "metadata": {},
   "source": [
    "**Fundamentals of Solar Cells and Photovoltaic Systems Engineering**\n",
    "\n",
    "**Solutions Manual - Chapter 12**\n",
    "\n",
    "**Problem 12.2**\n"
   ]
  },
  {
   "cell_type": "markdown",
   "metadata": {},
   "source": [
    "**Assume that, in addition to the dark I-V curve provided in the previous problem, we have also measured the I-V curve under illumination. The latter has been measured under standard test conditions (STC), that is 1000 W/m$^2$ and AM1.5G spectrum, and is provided in this book online repository. You are asked to verify the superposition principle between the dark I-V curve and the illumination I-V curve, described in Chapter 4. To that end, add a photogenerated current $I_L$ to the dark I-V curve and compare it with the experimental I-V curve under illumination Estimate the $I_L$ value that results in the best fitting of both curves. Take into account that the dark or recombination current and the photogenerated current have opposite signs.**"
   ]
  },
  {
   "cell_type": "markdown",
   "metadata": {},
   "source": [
    "We will use the package [pandas](https://pandas.pydata.org/) to handle the data and [matplotlib.pyplot](https://matplotlib.org/stable/index.html) to plot the results."
   ]
  },
  {
   "cell_type": "code",
   "execution_count": 79,
   "metadata": {},
   "outputs": [],
   "source": [
    "import pandas as pd\n",
    "import numpy as np\n",
    "import matplotlib.pyplot as plt"
   ]
  },
  {
   "cell_type": "markdown",
   "metadata": {},
   "source": [
    "We start by importing the data from the dark and illumination I-V curves."
   ]
  },
  {
   "cell_type": "code",
   "execution_count": 80,
   "metadata": {},
   "outputs": [
    {
     "data": {
      "text/html": [
       "<div>\n",
       "<style scoped>\n",
       "    .dataframe tbody tr th:only-of-type {\n",
       "        vertical-align: middle;\n",
       "    }\n",
       "\n",
       "    .dataframe tbody tr th {\n",
       "        vertical-align: top;\n",
       "    }\n",
       "\n",
       "    .dataframe thead th {\n",
       "        text-align: right;\n",
       "    }\n",
       "</style>\n",
       "<table border=\"1\" class=\"dataframe\">\n",
       "  <thead>\n",
       "    <tr style=\"text-align: right;\">\n",
       "      <th></th>\n",
       "      <th>V (V)</th>\n",
       "      <th>I (A)</th>\n",
       "    </tr>\n",
       "  </thead>\n",
       "  <tbody>\n",
       "    <tr>\n",
       "      <th>0</th>\n",
       "      <td>0.1598</td>\n",
       "      <td>0.000003</td>\n",
       "    </tr>\n",
       "    <tr>\n",
       "      <th>1</th>\n",
       "      <td>0.2239</td>\n",
       "      <td>0.000004</td>\n",
       "    </tr>\n",
       "    <tr>\n",
       "      <th>2</th>\n",
       "      <td>0.2657</td>\n",
       "      <td>0.000006</td>\n",
       "    </tr>\n",
       "    <tr>\n",
       "      <th>3</th>\n",
       "      <td>0.3099</td>\n",
       "      <td>0.000008</td>\n",
       "    </tr>\n",
       "    <tr>\n",
       "      <th>4</th>\n",
       "      <td>0.3568</td>\n",
       "      <td>0.000011</td>\n",
       "    </tr>\n",
       "  </tbody>\n",
       "</table>\n",
       "</div>"
      ],
      "text/plain": [
       "    V (V)     I (A)\n",
       "0  0.1598  0.000003\n",
       "1  0.2239  0.000004\n",
       "2  0.2657  0.000006\n",
       "3  0.3099  0.000008\n",
       "4  0.3568  0.000011"
      ]
     },
     "execution_count": 80,
     "metadata": {},
     "output_type": "execute_result"
    }
   ],
   "source": [
    "dark_IV = pd.read_csv('data/dark_I_V_curve.csv',  header=0) \n",
    "dark_IV.head()"
   ]
  },
  {
   "cell_type": "code",
   "execution_count": 81,
   "metadata": {},
   "outputs": [
    {
     "data": {
      "text/html": [
       "<div>\n",
       "<style scoped>\n",
       "    .dataframe tbody tr th:only-of-type {\n",
       "        vertical-align: middle;\n",
       "    }\n",
       "\n",
       "    .dataframe tbody tr th {\n",
       "        vertical-align: top;\n",
       "    }\n",
       "\n",
       "    .dataframe thead th {\n",
       "        text-align: right;\n",
       "    }\n",
       "</style>\n",
       "<table border=\"1\" class=\"dataframe\">\n",
       "  <thead>\n",
       "    <tr style=\"text-align: right;\">\n",
       "      <th></th>\n",
       "      <th>V (V)</th>\n",
       "      <th>I (A)</th>\n",
       "    </tr>\n",
       "  </thead>\n",
       "  <tbody>\n",
       "    <tr>\n",
       "      <th>0</th>\n",
       "      <td>-0.3000</td>\n",
       "      <td>0.226923</td>\n",
       "    </tr>\n",
       "    <tr>\n",
       "      <th>1</th>\n",
       "      <td>-0.2555</td>\n",
       "      <td>0.226572</td>\n",
       "    </tr>\n",
       "    <tr>\n",
       "      <th>2</th>\n",
       "      <td>-0.2110</td>\n",
       "      <td>0.226254</td>\n",
       "    </tr>\n",
       "    <tr>\n",
       "      <th>3</th>\n",
       "      <td>-0.1665</td>\n",
       "      <td>0.225777</td>\n",
       "    </tr>\n",
       "    <tr>\n",
       "      <th>4</th>\n",
       "      <td>-0.1219</td>\n",
       "      <td>0.225872</td>\n",
       "    </tr>\n",
       "  </tbody>\n",
       "</table>\n",
       "</div>"
      ],
      "text/plain": [
       "    V (V)     I (A)\n",
       "0 -0.3000  0.226923\n",
       "1 -0.2555  0.226572\n",
       "2 -0.2110  0.226254\n",
       "3 -0.1665  0.225777\n",
       "4 -0.1219  0.225872"
      ]
     },
     "execution_count": 81,
     "metadata": {},
     "output_type": "execute_result"
    }
   ],
   "source": [
    "illum_IV = pd.read_csv('data/Illumination_I_V_curve.csv',  header=0) \n",
    "illum_IV.head()"
   ]
  },
  {
   "cell_type": "markdown",
   "metadata": {},
   "source": [
    "We can plot both curves."
   ]
  },
  {
   "cell_type": "code",
   "execution_count": 82,
   "metadata": {},
   "outputs": [
    {
     "data": {
      "text/plain": [
       "<matplotlib.legend.Legend at 0x1fdecbe4248>"
      ]
     },
     "execution_count": 82,
     "metadata": {},
     "output_type": "execute_result"
    },
    {
     "data": {
      "image/png": "[encoded data removed]",
      "text/plain": [
       "<Figure size 432x288 with 1 Axes>"
      ]
     },
     "metadata": {
      "needs_background": "light"
     },
     "output_type": "display_data"
    }
   ],
   "source": [
    "plt.plot(dark_IV['V (V)'], dark_IV['I (A)'],\n",
    "         linewidth=2, marker='o', markerfacecolor=\"None\",\n",
    "         label='dark')\n",
    "plt.plot(illum_IV['V (V)'], illum_IV['I (A)'],\n",
    "         linewidth=2, marker='o',markerfacecolor=\"None\",\n",
    "         label='illumination')\n",
    "plt.ylabel('Current (A)')\n",
    "plt.xlabel('Voltage (V)')\n",
    "plt.xlim([0,1])\n",
    "plt.ylim([0,0.3])\n",
    "plt.legend()"
   ]
  },
  {
   "cell_type": "markdown",
   "metadata": {},
   "source": [
    "We can try different values of photogenerated current $I_L$, apply the superposition principle, and plot the measured IV curve under illumination and the estimated IV curve. Visually, we can select the $I_L$ that maximizes the fitting between both curves."
   ]
  },
  {
   "cell_type": "code",
   "execution_count": 88,
   "metadata": {},
   "outputs": [
    {
     "data": {
      "text/plain": [
       "<matplotlib.legend.Legend at 0x1fdeceec508>"
      ]
     },
     "execution_count": 88,
     "metadata": {},
     "output_type": "execute_result"
    },
    {
     "data": {
      "image/png": "[encoded data removed]",
      "text/plain": [
       "<Figure size 432x288 with 1 Axes>"
      ]
     },
     "metadata": {
      "needs_background": "light"
     },
     "output_type": "display_data"
    }
   ],
   "source": [
    "\n",
    "I_L=0.225\n",
    "superposed_IV['V (V)'] = dark_IV['V (V)']\n",
    "superposed_IV['I (A)'] = I_L - dark_IV['I (A)']\n",
    "\n",
    "plt.plot(superposed_IV['V (V)'], superposed_IV['I (A)'],\n",
    "         linewidth=2, marker='o', markerfacecolor=\"None\",\n",
    "         label='superposition principle')\n",
    "plt.plot(illum_IV['V (V)'], illum_IV['I (A)'],\n",
    "         linewidth=2, marker='o', markerfacecolor=\"None\",\n",
    "         label='illumination')\n",
    "plt.ylabel('Current (A)')\n",
    "plt.xlabel('Voltage (V)')\n",
    "plt.xlim([0,1])\n",
    "plt.ylim([0,0.3])\n",
    "plt.legend()"
   ]
  },
  {
   "cell_type": "code",
   "execution_count": null,
   "metadata": {},
   "outputs": [],
   "source": []
  }
 ],
 "metadata": {
  "kernelspec": {
   "display_name": "Python 3 (ipykernel)",
   "language": "python",
   "name": "python3"
  },
  "language_info": {
   "codemirror_mode": {
    "name": "ipython",
    "version": 3
   },
   "file_extension": ".py",
   "mimetype": "text/x-python",
   "name": "python",
   "nbconvert_exporter": "python",
   "pygments_lexer": "ipython3",
   "version": "3.7.12"
  }
 },
 "nbformat": 4,
 "nbformat_minor": 4
}
