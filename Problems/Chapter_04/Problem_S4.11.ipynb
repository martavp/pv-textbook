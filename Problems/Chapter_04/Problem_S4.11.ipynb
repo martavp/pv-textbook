{
 "cells": [
  {
   "cell_type": "markdown",
   "id": "9e3d0571",
   "metadata": {},
   "source": [
    "***Fundamentals of Solar Cells and Photovoltaic Systems Engineering***\n",
    "\n",
    "**Solutions Manual - Chapter 4**\n",
    "\n",
    "***Problem 4.11***\n",
    "\n"
   ]
  },
  {
   "cell_type": "markdown",
   "id": "c3b3d6b6",
   "metadata": {},
   "source": [
    "___Using the same solar cell parameters of Problem S4.4 (with series resistance Rs=1mΩ and parallel resistance Rp=500 Ω), <br>\n",
    "(a)\tgenerate one I-V curve using a high number of datapoints (for example 500) and then extract the one-diode model parameters from it using the 5-point method coded in the python notebook for this problem. Do the Rs and Rp extracted fit the actual values? <br>\n",
    "(b)\tNow decrease the number of datapoints in the I-V curve down to 50 and see how the extracted parameters vary.  Why does that happen? <br>\n",
    "(c)\tFinally, increase the noise in the data and see how the extracted parameters vary. Explain why this happens and propose a way to mitigate this effect.___"
   ]
  },
  {
   "cell_type": "markdown",
   "id": "7e72fb5e",
   "metadata": {},
   "source": [
    "First, we import the Python modules used and define the Boltzman constant"
   ]
  },
  {
   "cell_type": "code",
   "execution_count": 70,
   "id": "0e83057f",
   "metadata": {},
   "outputs": [],
   "source": [
    "import numpy as np\n",
    "import matplotlib.pyplot as plt\n",
    "\n",
    "kB = 8.617333e-5"
   ]
  },
  {
   "cell_type": "markdown",
   "id": "5d016b6c",
   "metadata": {},
   "source": [
    "We define the variables for the I-V curve data"
   ]
  },
  {
   "cell_type": "code",
   "execution_count": 71,
   "id": "547eb66b",
   "metadata": {},
   "outputs": [],
   "source": [
    "# These are values in the usual range for a typical 16.6 x 16.6 cm2 Si solar cell\n",
    "Isc = 10.0 # A\n",
    "I0 = 2e-9 # A\n",
    "Rs = 1e-3 # ohm\n",
    "Rp = 500 # ohm\n",
    "n = 1.2\n",
    "\n",
    "temperature = 25  #ºC\n",
    "cell_area = 16.6*16.6 # cm2"
   ]
  },
  {
   "cell_type": "markdown",
   "id": "d780238d",
   "metadata": {},
   "source": [
    "#### Function to **generate I-V curves** using as input the parameters of the one-diode model"
   ]
  },
  {
   "cell_type": "code",
   "execution_count": 72,
   "id": "00bea3db",
   "metadata": {},
   "outputs": [],
   "source": [
    "# Input data: \n",
    "# · single-diode model parameters\n",
    "# · temperature\n",
    "# · noise in the current, defined as a normal distribution with std dev of I*Inoise\n",
    "# · number of datapoints to use\n",
    "def model_IV(IL, I0, n, Rs, Rp, temperature, Inoise, data_size):\n",
    "    # Thermal voltage\n",
    "    kBT = kB*(temperature + 273.15)\n",
    "    \n",
    "    #I-V curve stored in a 2-column array: first column for voltages, second column for currents\n",
    "    IVcurve = np.zeros((data_size,2))\n",
    "    \n",
    "    # First we calculate the I-V curve voltage range: from -0.1 V to Voc + 0.01 V\n",
    "    # We want to have the I-V curve crossing the current and voltage axis to see the Isc and Voc\n",
    "    \n",
    "    # To determine the voltage range, we calculate first the Voc without Rs/Rp.\n",
    "    Voc0 = n*kBT*np.log(IL/I0)\n",
    "    \n",
    "    #Create the voltage list\n",
    "    #Voltage range used: -0.1 to Voc+0.01\n",
    "    #A \"Rs*IL\" term is added to compensate for the voltage drop in the Rs\n",
    "    IVcurve[:,0]= np.linspace(-0.1+Rs*IL, Voc0+0.01, data_size)\n",
    "    \n",
    "    #I-V curve without Rs effect\n",
    "    IVcurve[:,1]= IL - I0*(np.exp(IVcurve[:,0]/(n*kBT))-1) - IVcurve[:,0]/Rp\n",
    "    \n",
    "    #Shift voltages to include Rs effect\n",
    "    IVcurve[:,0] = IVcurve[:,0] - Rs*IVcurve[:,1]\n",
    "    \n",
    "    # Add noise to the current.\n",
    "    # The noise component follows a normal distribution with std dev of I*Inoise\n",
    "    IVnoise = np.random.default_rng().normal(0, np.absolute(IVcurve[:,1])*Inoise)\n",
    "    IVcurve[:,1]+=IVnoise\n",
    "    \n",
    "   \n",
    "    return IVcurve"
   ]
  },
  {
   "cell_type": "markdown",
   "id": "d44a37d8",
   "metadata": {},
   "source": [
    "#### Function to extract the I-V curve parameters\n",
    "The algorithm is from: <br>\n",
    "* Cotfas, D.T., Cotfas, P.A., Kaplanis, S., 2013. Methods to determine the dc parameters of solar cells: A critical review. Renew. Sustain. Energy Rev. 28, 588–596. https://doi.org/10.1016/j.rser.2013.08.017\n",
    "\n",
    "Note that this function does not assume that the I-V curve is in the first quadrant. \n",
    "\n",
    "Another two functions are used to calculate the Isc and Voc and detect the quadrant. Then, the function calculating Pmax moves the I-V curve to this quadrant, if it is not there yet. "
   ]
  },
  {
   "cell_type": "code",
   "execution_count": 73,
   "id": "ff265feb",
   "metadata": {},
   "outputs": [],
   "source": [
    "# Input data:\n",
    "# · experimental I-V curve\n",
    "# · temperature\n",
    "# · number of points around Isc to calculate the I-V slope\n",
    "# · number of points around Voc to calculate the I-V slope\n",
    "\n",
    "def get_IV_params(rawIV, temperature):\n",
    "    # Thermal voltage\n",
    "    kBT = 8.617333e-5*(temperature + 273.15)\n",
    "    \n",
    "    ## 1) Prepare the I-V curve to be in 1st quadrant and \n",
    "    ##    with increasing values of voltage\n",
    "    # Move I-V curve to first quadrant if it is not there yet\n",
    "    # Sort data and move to first quadrant\n",
    "    IV_1stq = rawIV.copy()\n",
    "    Isc = get_Isc(IV_1stq)\n",
    "    if Isc<0:\n",
    "        Isc*=-1\n",
    "        IV_1stq[:,1]*=-1\n",
    "    \n",
    "    Voc = get_Voc(IV_1stq)\n",
    "    if Voc<0:\n",
    "        Voc*=-1\n",
    "        IV_1stq[:,0]*=-1    \n",
    "\n",
    "    # Sort I-V curve data to have increasing values of voltage\n",
    "    IV_1stq=IV_1stq[IV_1stq[:,0].argsort()]     \n",
    "    ##\n",
    "    \n",
    "    ## 2) Algorithm for the 5-point method\n",
    "    ##\n",
    "    \n",
    "    # Calculate Rp as the inverse of the slope at V=0\n",
    "    # The function \"getSlope_atIsc\" returns the slope and the linear function to be plotted later\n",
    "    slopeIsc, slopeFitIsc = getSlope_atIsc(IV_1stq)\n",
    "    Rp = -1/slopeIsc\n",
    "   \n",
    "     # Calculate the maximum power and V, I at maximum power point\n",
    "    Pm, Vm, Im = get_Pmax(rawIV)\n",
    "    \n",
    "    # Calculate the slope at Voc as intermediate parameter\n",
    "    # The function \"getSlope_atVoc\" returns the slope and the linear function to be plotted later\n",
    "    slopeVoc, slopeFitVoc = getSlope_atVoc(IV_1stq)\n",
    "    \n",
    "    # Intermediate calculations in the 5-point algorithm\n",
    "    Rs0 = -1/slopeVoc\n",
    "    \n",
    "    A = Vm + Rs0*Im-Voc\n",
    "    B = np.log(Isc-Vm/Rp-Im)-np.log(Isc-Voc/Rp)\n",
    "    C = Im/(Isc-Voc/Rp)\n",
    "    n = A/(kBT*(B+C))    \n",
    "    \n",
    "    I0 = (Isc-Voc/Rp)*np.exp(-Voc/(n*kBT))\n",
    "  \n",
    "    Rs = Rs0 -n*(kBT/I0)*np.exp(-Voc/(n*kBT))\n",
    "   \n",
    "    IL = Isc*(1+Rs/Rp) + I0*(np.exp(Isc*Rs/(n*kBT))-1)\n",
    "\n",
    "\n",
    "    return IL, I0, n, Rs, Rp, slopeFitIsc, slopeFitVoc"
   ]
  },
  {
   "cell_type": "markdown",
   "id": "19ae0c48",
   "metadata": {},
   "source": [
    "And ancillary functions to serve \"get_IV_params\""
   ]
  },
  {
   "cell_type": "code",
   "execution_count": 74,
   "id": "4c0a15e0",
   "metadata": {},
   "outputs": [],
   "source": [
    "# Obtains Isc by linear interpolation around V=0\n",
    "def get_Isc(IVdata):\n",
    "    \"\"\"Returns the Isc of the input raw I-V curve\"\"\"\n",
    "\n",
    "   # Sort data\n",
    "    IV_sorted = IVdata.copy()\n",
    "    IV_sorted=IVdata[IVdata[:,0].argsort()]   # Sort by voltages\n",
    "    \n",
    "    Isc = np.interp(0,IV_sorted[:,0],IV_sorted[:,1])\n",
    "    \n",
    "    return Isc\n",
    "\n",
    "# Obtains Voc by linear interpolation around I=0\n",
    "def get_Voc(IVdata):\n",
    "    \"\"\"Returns the Voc of the input raw I-V curve\"\"\"\n",
    "\n",
    "   # Sort data\n",
    "    IV_sorted = IVdata.copy()\n",
    "    IV_sorted=IVdata[IVdata[:,1].argsort()]   # Sort by currents\n",
    "    \n",
    "    Voc = np.interp(0, IV_sorted[:,1],IV_sorted[:,0])\n",
    "    \n",
    "    return Voc\n",
    "\n",
    "# Obtains the Pmax, and also the Vm and Im\n",
    "def get_Pmax(IVdata):\n",
    "  \n",
    "   # Sort data and move to 1st quadrant\n",
    "    IV_sorted = IVdata.copy()\n",
    " \n",
    "    Isc = get_Isc(IV_sorted)\n",
    "    if Isc<0:\n",
    "        Isc*=-1\n",
    "        IV_sorted[:,1]*=-1\n",
    "    \n",
    "    Voc = get_Voc(IV_sorted)\n",
    "    if Voc<0:\n",
    "        Voc*=-1\n",
    "        IV_sorted[:,0]*=-1       \n",
    " \n",
    "    IV_sorted=IV_sorted[IV_sorted[:,0].argsort()]   \n",
    "   \n",
    " \n",
    "    PV = IV_sorted.copy()\n",
    "    PV[:,1] = IV_sorted[:,0]*IV_sorted[:,1]\n",
    "    \n",
    "    Pm = np.amax(PV[:,1])\n",
    "    maxPosition = np.argmax(PV[:,1])\n",
    "    Vm = PV[maxPosition,0]\n",
    "    Im = IV_sorted[maxPosition,1]\n",
    "\n",
    "    return Pm, Vm, Im\n",
    "\n",
    "# Determines the slope of the I-V curve around Voc\n",
    "# I-V curve is assumed to be in 1st quadrant\n",
    "def getSlope_atVoc(data):\n",
    "  \n",
    "    # Find the first negative current point\n",
    "    # Determine the range for the fit according to nPnts\n",
    "    rI = np.where(data[:,1] <= 0)\n",
    "    rangeI = np.asarray(rI)  \n",
    "    rangeI = rangeI.flatten()   \n",
    "    \n",
    "    indexEnd = rangeI[0] + 2\n",
    "    if indexEnd > len(data[:,0])-1:\n",
    "        indexEnd = len(data[:,0])-1\n",
    "    indexStart = rangeI[0] - 2\n",
    "    if indexStart < 0:\n",
    "        indexStart=0\n",
    "    \n",
    "    # Fit to a polynomial of degree 1\n",
    "    polyCoeffs = np.polyfit(data[indexStart:indexEnd+1,0],data[indexStart:indexEnd+1,1],1)\n",
    "\n",
    "    slope = polyCoeffs[0]\n",
    "   \n",
    "    # Create array with fit line\n",
    "    slopeFitVoc = np.zeros((50,2))\n",
    "    slopeFitVoc[:,0]=np.linspace(data[indexStart,0],data[indexEnd,0],50)\n",
    "    slopeFitVoc[:,1] = np.polyval(polyCoeffs, slopeFitVoc[:,0])\n",
    "\n",
    "    return slope, slopeFitVoc\n",
    "\n",
    "# Returns the slope of I-V curve at Isc using\n",
    "# a linear fit for a V range of +-Vrange     \n",
    "def getSlope_atIsc(data):\n",
    "    \n",
    "    # Get data indexes in the Vrange\n",
    "    rV = np.where(data[:,0] <= 0)\n",
    "    rangeV = np.asarray(rV)  \n",
    "    rangeV = rangeV.flatten()   \n",
    "\n",
    "    indexStart = rangeV[-1] -5   \n",
    "    if indexStart < 0:\n",
    "        indexStart=0\n",
    "    indexEnd = rangeV[-1] + 5\n",
    "    if indexEnd > len(data[:,0])-1:\n",
    "        indexEnd = len(data[:,0])-1\n",
    " \n",
    "    # Fit to a polynomial of degree 1\n",
    "    polyCoeffs = np.polyfit(data[indexStart:indexEnd+1,0],data[indexStart:indexEnd+1,1],1)\n",
    "    #Take the slope from the linear fit\n",
    "    slope = polyCoeffs[0]\n",
    " \n",
    "    # Create array with fit line\n",
    "    slopeFitIsc = np.zeros((50,2))\n",
    "    slopeFitIsc[:,0]=np.linspace(data[indexStart,0],data[indexEnd,0],50)\n",
    "    slopeFitIsc[:,1] = np.polyval(polyCoeffs, slopeFitIsc[:,0])\n",
    "\n",
    "\n",
    "    return slope, slopeFitIsc\n"
   ]
  },
  {
   "cell_type": "markdown",
   "id": "7c73d09b",
   "metadata": {},
   "source": [
    "Now we can make I-V curves and test the parameter extraction method"
   ]
  },
  {
   "cell_type": "code",
   "execution_count": 75,
   "id": "9431970f",
   "metadata": {},
   "outputs": [
    {
     "name": "stdout",
     "output_type": "stream",
     "text": [
      "Rp = 499.979\n",
      "Rs = 9.170e-04\n",
      "I0 = 2.41e-09\n",
      "n = 1.210\n",
      "IL = 10.000\n"
     ]
    },
    {
     "data": {
      "image/png": "[encoded data removed]",
      "text/plain": [
       "<Figure size 800x640 with 1 Axes>"
      ]
     },
     "metadata": {
      "needs_background": "light"
     },
     "output_type": "display_data"
    }
   ],
   "source": [
    "data_size = 500\n",
    "I_noise = 0\n",
    "IV_curve = model_IV(Isc, I0, n, Rs, Rp, temperature, I_noise, data_size)\n",
    "\n",
    "IL_extr, I0_extr, n_extr, Rs_extr, Rp_extr, slopeFitIsc, slopeFitVoc = get_IV_params(IV_curve, temperature)\n",
    "\n",
    "IV_curve_extracted = model_IV(Isc_extr, I0_extr, n_extr, Rs_extr, Rp_extr, temperature, 0, 500)\n",
    "\n",
    "# Print the results and errors\n",
    "print(\"Rp = \" + f\"{Rp_extr:.3f}\")\n",
    "#print(\"Error Rp = \" + f\"{100*(Rp_extr-Rp)/Rp:.3f}\" + \" %\")\n",
    "print(\"Rs = \" + f\"{Rs_extr:.3e}\")\n",
    "#print(\"Error Rs = \" + f\"{100*(Rs_extr-Rs)/Rs:.3f}\" + \" %\")\n",
    "print(\"I0 = \" + f\"{I0_extr:.3}\") \n",
    "#print(\"Error I0 = \" + f\"{100*(I0_extr-I0)/I0:.3f}\" + \" %\")\n",
    "print(\"n = \" + f\"{n_extr:.3f}\")\n",
    "#print(\"Error n = \" + f\"{100*(n_extr-n)/n:.3f}\" + \" %\")\n",
    "print(\"IL = \" + f\"{IL_extr:.3f}\")\n",
    "#print(\"Error Isc = \" + f\"{100*(Isc_extr-Isc)/Isc:.3f}\" + \" %\")\n",
    "\n",
    "# Plot the I-V curves\n",
    "plt.figure(figsize=(10, 8),dpi=80)\n",
    "plt.plot(IV_curve[:,0], IV_curve[:,1], 'bo', label=\"Original I-V\")\n",
    "plt.plot(IV_curve_extracted[:,0], IV_curve_extracted[:,1], color='r', label = \"Calculated I-V\")\n",
    "plt.plot(slopeFitIsc[:,0],slopeFitIsc[:,1], '--', linewidth=4, color='y', label = \"Fit slope at Isc\")\n",
    "plt.plot(slopeFitVoc[:,0],slopeFitVoc[:,1], ':', linewidth=4, color='y', label = \"Fit slope at Voc\")\n",
    "#plt.ylim((-0.01, Isc*1.1))\n",
    "plt. axvline(x=0,linewidth=1, color='b')\n",
    "plt. axhline(y=0,linewidth=1, color='b')\n",
    "plt.xlabel('voltage (V)', size=14)\n",
    "plt.ylabel('current (I)', size=14)\n",
    "plt.xticks(fontsize=14)\n",
    "plt.yticks(fontsize=14)\n",
    "plt.legend(fontsize=14)\n",
    "plt.show()"
   ]
  },
  {
   "cell_type": "markdown",
   "id": "b501f364",
   "metadata": {},
   "source": [
    "As you can see, the I-V curve parameters extraction method is accurate provided that the slopes at Voc and Isc are well defined. <br>\n",
    "When the number of datapoints is too low or there is significant noise in the data, these slopes can be difficult to obtain from an I-V curve, giving poor fitting results. <br>\n",
    "You can try to improve the algorithm by, for example, changing the datapoints where the slopes are evaluated <br>"
   ]
  },
  {
   "cell_type": "code",
   "execution_count": null,
   "id": "0b9a763f",
   "metadata": {},
   "outputs": [],
   "source": []
  }
 ],
 "metadata": {
  "kernelspec": {
   "display_name": "Python 3 (ipykernel)",
   "language": "python",
   "name": "python3"
  },
  "language_info": {
   "codemirror_mode": {
    "name": "ipython",
    "version": 3
   },
   "file_extension": ".py",
   "mimetype": "text/x-python",
   "name": "python",
   "nbconvert_exporter": "python",
   "pygments_lexer": "ipython3",
   "version": "3.9.7"
  },
  "vscode": {
   "interpreter": {
    "hash": "aee8b7b246df8f9039afb4144a1f6fd8d2ca17a180786b69acc140d282b71a49"
   }
  }
 },
 "nbformat": 4,
 "nbformat_minor": 5
}
