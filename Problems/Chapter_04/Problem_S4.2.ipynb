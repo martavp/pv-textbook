{
 "cells": [
  {
   "cell_type": "markdown",
   "id": "9e3d0571",
   "metadata": {},
   "source": [
    "***Fundamentals of Solar Cells and Photovoltaic Systems Engineering***\n",
    "\n",
    "**Solutions Manual - Chapter 4**\n",
    "\n",
    "***Problem 4.2***\n"
   ]
  },
  {
   "cell_type": "markdown",
   "id": "c3b3d6b6",
   "metadata": {},
   "source": [
    "***A 15x15 cm silicon solar cell has a short-circuit current $I_{sc}$ = 9 A under Standard Test Conditions (G=1000 W/m$^2$ and $T_{cell}$=25$^{\\circ}$C). The dark saturation current is $I_0$ = 10$^{-10}$ A and the ideality factor $n$=1.***\n",
    "\n",
    "***a) Plot the I-V curve of the solar cell under Standard Test Conditions. Assume $R_S$ = 0, $R_P$ = inf.***\n",
    "\n",
    "***b) Plot the power produced as a function of the voltage. Determine the current and voltage at the maximum power point, the fill factor, and the efficiency of the solar cell.***"
   ]
  },
  {
   "cell_type": "markdown",
   "id": "7e72fb5e",
   "metadata": {},
   "source": [
    "First, we import the Python modules used, define one constant to set the I-V curve data size, and define the Boltzman constant."
   ]
  },
  {
   "cell_type": "code",
   "execution_count": 24,
   "id": "0e83057f",
   "metadata": {},
   "outputs": [],
   "source": [
    "import math\n",
    "import numpy as np\n",
    "import matplotlib.pyplot as plt\n",
    "\n",
    "DATA_SIZE = 500\n",
    "kB = 8.617333e-5  # eV·K-1"
   ]
  },
  {
   "cell_type": "markdown",
   "id": "5d016b6c",
   "metadata": {},
   "source": [
    "We define the variables for the I-V curve data"
   ]
  },
  {
   "cell_type": "code",
   "execution_count": 25,
   "id": "547eb66b",
   "metadata": {},
   "outputs": [],
   "source": [
    "# These are values in the usual range for a typical 16.6 x 16.6 cm2 Si solar cell\n",
    "IL = 9.0 # A\n",
    "I0 = 1e-10 # A\n",
    "n = 1\n",
    "\n",
    "temperature = 25  #ºC\n",
    "cell_area = 15*15 # cm2"
   ]
  },
  {
   "cell_type": "markdown",
   "id": "d780238d",
   "metadata": {},
   "source": [
    "Now we define a function to calculate the I-V curve of the solar cell.\n",
    "Note that we use a number of data points defined as the constant DATA_SIZE. The larger this number, the higher the precision, but also the longer computation time. Since the calculations are not very complex, you can use high numbers with almost instantaenous calculations in modern desktop computers or laptops."
   ]
  },
  {
   "cell_type": "code",
   "execution_count": 26,
   "id": "00bea3db",
   "metadata": {},
   "outputs": [],
   "source": [
    "def model_IV(IL, I0, n, Rs, Rp, temperature):\n",
    "    # Thermal voltage\n",
    "    kBT = kB*(temperature + 273.15)\n",
    "    \n",
    "    #I-V curve stored in a 2-column array: first column for voltages, second column for currents\n",
    "    IVcurve = np.zeros((DATA_SIZE,2))\n",
    "    \n",
    "    # First, we calculate the I-V curve voltage range: from -0.1 V to Voc + 0.01 V\n",
    "    # We want to have the I-V curve crossing the current and voltage axes to see the Isc and Voc\n",
    "    # Voc without Rs/Rp.\n",
    "    Voc0 = n*kBT*math.log(IL/I0)\n",
    "    \n",
    "    #Create the voltage list\n",
    "    #Voltage range used: -0.1 to Voc+0.01\n",
    "    IVcurve[:,0]= np.linspace(-0.1, Voc0+0.01, DATA_SIZE)\n",
    "    \n",
    "    #I-V curve without Rs effect\n",
    "    IVcurve[:,1] = IL - I0*(np.exp(IVcurve[:,0]/(n*kBT))-1) - IVcurve[:,0]/Rp\n",
    "    \n",
    "    #Shift voltages to include Rs effect\n",
    "    IVcurve[:,0] = IVcurve[:,0] - Rs*IVcurve[:,1]\n",
    "    \n",
    "    return IVcurve"
   ]
  },
  {
   "cell_type": "markdown",
   "id": "d44a37d8",
   "metadata": {},
   "source": [
    "We define another function to get the Pmax. Note that this function does not assume that the I-V curve is in the first quadrant. \n",
    "\n",
    "Another two functions are used to calculate the Isc and Voc and detect the quadrant. Then, the function calculating Pmax moves the I-V curve to this quadrant, if it is not there yet. "
   ]
  },
  {
   "cell_type": "code",
   "execution_count": 27,
   "id": "4c0a15e0",
   "metadata": {},
   "outputs": [],
   "source": [
    "# Obtains Isc by linear interpolation around V=0\n",
    "def get_Isc(IVdata):\n",
    "    \"\"\"Returns the Isc of the input raw I-V curve\"\"\"\n",
    "\n",
    "   # Sort data (interpolation function requires sorted data)\n",
    "    IV_sorted = IVdata.copy()\n",
    "    IV_sorted=IVdata[IVdata[:,0].argsort()] #Sort by voltages  \n",
    "    \n",
    "    Isc = np.interp(0,IV_sorted[:,0],IV_sorted[:,1])\n",
    "    \n",
    "    return Isc\n",
    "\n",
    "# Obtains Voc by linear interpolation around I=0\n",
    "def get_Voc(IVdata):\n",
    "    \"\"\"Returns the Voc of the input raw I-V curve\"\"\"\n",
    "\n",
    "   # Sort data (interpolation function requires sorted data)\n",
    "    IV_sorted = IVdata.copy()\n",
    "    IV_sorted=IVdata[IVdata[:,1].argsort()]   #Sort by currents\n",
    "    \n",
    "    Voc = np.interp(0, IV_sorted[:,1],IV_sorted[:,0])\n",
    "    \n",
    "    return Voc\n",
    "\n",
    "# Obtains the Pmax, and also the Vm and Im\n",
    "def get_Pmax(IVdata):\n",
    "  \n",
    "   # Sort data and move to 1st quadrant\n",
    "    IV_sorted = IVdata.copy()\n",
    " \n",
    "    Isc = get_Isc(IV_sorted)\n",
    "    if Isc<0:\n",
    "        Isc*=-1\n",
    "        IV_sorted[:,1]*=-1\n",
    "    \n",
    "    Voc = get_Voc(IV_sorted)\n",
    "    if Voc<0:\n",
    "        Voc*=-1\n",
    "        IV_sorted[:,0]*=-1       \n",
    " \n",
    "    IV_sorted=IV_sorted[IV_sorted[:,0].argsort()]   \n",
    "   \n",
    " \n",
    "    PV = IV_sorted.copy()\n",
    "    PV[:,1] = IV_sorted[:,0]*IV_sorted[:,1]\n",
    "    \n",
    "    Pm = np.amax(PV[:,1])\n",
    "    maxPosition = np.argmax(PV[:,1])\n",
    "    Vm = PV[maxPosition,0]\n",
    "    Im = IV_sorted[maxPosition,1]\n",
    "\n",
    "    return PV, Pm, Vm, Im"
   ]
  },
  {
   "cell_type": "markdown",
   "id": "7c73d09b",
   "metadata": {},
   "source": [
    "We can now plot the IV curve and calculate the most representative parameters"
   ]
  },
  {
   "cell_type": "code",
   "execution_count": 28,
   "id": "4f8506eb",
   "metadata": {
    "scrolled": true
   },
   "outputs": [
    {
     "data": {
      "image/png": "[encoded data removed]",
      "text/plain": [
       "<Figure size 432x288 with 2 Axes>"
      ]
     },
     "metadata": {
      "needs_background": "light"
     },
     "output_type": "display_data"
    },
    {
     "name": "stdout",
     "output_type": "stream",
     "text": [
      "Solar cell with Imp=8.62A, Vmp=0.57V, FF=0.84, Efficiency=0.217\n"
     ]
    }
   ],
   "source": [
    "Rs = 0  # ohm\n",
    "Rp = 1e10 # ohm\n",
    "\n",
    "IV_curve = model_IV(IL, I0, n, Rs, Rp, temperature)\n",
    "PV, Pm, Vm, Im = get_Pmax(IV_curve)\n",
    "Eff = Pm/(cell_area/10000*1000)\n",
    "Voc = get_Voc(IV_curve)\n",
    "Isc = get_Isc(IV_curve)\n",
    "FF= Pm/(Isc*Voc)\n",
    "\n",
    "# Plot the data\n",
    "\n",
    "fig, ax1 = plt.subplots()\n",
    "\n",
    "ax1.set_xlabel('V (V)', size=14)\n",
    "ax1.set_ylabel('I (A)', size=14, color='b')\n",
    "ax1.plot(IV_curve[:,0], IV_curve[:,1], color='b', label=\"I-V\")\n",
    "\n",
    "ax2 = ax1.twinx()\n",
    "\n",
    "ax2.set_ylabel('P (W)', size=14, color='r')\n",
    "ax2.plot(PV[:,0], PV[:,1], color='r')\n",
    "\n",
    "fig.tight_layout()  # otherwise the right y-label is slightly clipped\n",
    "plt.show()\n",
    "\n",
    "# Report the values\n",
    "sResult = (\"Solar cell with \" +\n",
    "          \"Imp=\" + str(round(Im,2)) + \"A, \" +\n",
    "          \"Vmp=\" + str(round(Vm,2)) + \"V, \" +\n",
    "          \"FF=\" + str(round(FF,2))  + \", \"\n",
    "          \"Efficiency=\" + str(round(Eff,3)) )\n",
    "print(sResult)"
   ]
  },
  {
   "cell_type": "markdown",
   "id": "1cdf6c78",
   "metadata": {},
   "source": [
    "***c) Repeat steps 1 and 2 if the solar cell is now illuminated at 500 W/m$^2$. Compare the results.***"
   ]
  },
  {
   "cell_type": "code",
   "execution_count": 29,
   "id": "6f29a600",
   "metadata": {},
   "outputs": [
    {
     "data": {
      "image/png": "[encoded data removed]",
      "text/plain": [
       "<Figure size 432x288 with 2 Axes>"
      ]
     },
     "metadata": {
      "needs_background": "light"
     },
     "output_type": "display_data"
    },
    {
     "name": "stdout",
     "output_type": "stream",
     "text": [
      "Solar cell with Imp=4.3A, Vmp=0.55V, FF=0.83, Efficiency=0.21\n"
     ]
    }
   ],
   "source": [
    "IL = 9/2 #If incident irradiance is divided by 2, the photogenerated current is also divided by 2. \n",
    "Rs = 0  # ohm\n",
    "Rp = 1e10 # ohm\n",
    "\n",
    "IV_curve = model_IV(IL, I0, n, Rs, Rp, temperature)\n",
    "PV, Pm, Vm, Im = get_Pmax(IV_curve)\n",
    "Eff = Pm/(cell_area/10000*500)\n",
    "Voc = get_Voc(IV_curve)\n",
    "Isc = get_Isc(IV_curve)\n",
    "FF= Pm/(Isc*Voc)\n",
    "\n",
    "# Plot the data\n",
    "fig, ax1 = plt.subplots()\n",
    "\n",
    "ax1.set_xlabel('V (V)', size=14)\n",
    "ax1.set_ylabel('I (A)', size=14, color='b')\n",
    "ax1.plot(IV_curve[:,0], IV_curve[:,1], color='b', label=\"I-V\")\n",
    "\n",
    "ax2 = ax1.twinx()\n",
    "\n",
    "ax2.set_ylabel('P (W)', size=14, color='r')\n",
    "ax2.plot(PV[:,0], PV[:,1], color='r')\n",
    "\n",
    "fig.tight_layout()  # otherwise the right y-label is slightly clipped\n",
    "plt.show()\n",
    "\n",
    "# Report the values\n",
    "sResult = (\"Solar cell with \" +\n",
    "          \"Imp=\" + str(round(Im,2)) + \"A, \" +\n",
    "          \"Vmp=\" + str(round(Vm,2)) + \"V, \" +\n",
    "          \"FF=\" + str(round(FF,2))  + \", \"\n",
    "          \"Efficiency=\" + str(round(Eff,3)) )\n",
    "print(sResult)"
   ]
  },
  {
   "cell_type": "markdown",
   "id": "4940f610",
   "metadata": {},
   "source": [
    "***d) Repeat steps 1 and 2 if, due to a manufacturing defect, the parallel resistance is $R_P$=1 Ω.***"
   ]
  },
  {
   "cell_type": "code",
   "execution_count": 30,
   "id": "53189c7a",
   "metadata": {},
   "outputs": [
    {
     "data": {
      "image/png": "[encoded data removed]",
      "text/plain": [
       "<Figure size 432x288 with 2 Axes>"
      ]
     },
     "metadata": {
      "needs_background": "light"
     },
     "output_type": "display_data"
    },
    {
     "name": "stdout",
     "output_type": "stream",
     "text": [
      "Solar cell with Imp=8.1A, Vmp=0.56V, FF=0.79, Efficiency=0.203\n"
     ]
    }
   ],
   "source": [
    "IL = 9\n",
    "Rs = 0  # ohm\n",
    "Rp = 1 # ohm\n",
    "\n",
    "IV_curve = model_IV(IL, I0, n, Rs, Rp, temperature)\n",
    "PV, Pm, Vm, Im = get_Pmax(IV_curve)\n",
    "Eff = Pm/(cell_area/10000*1000)\n",
    "Voc = get_Voc(IV_curve)\n",
    "Isc = get_Isc(IV_curve)\n",
    "FF= Pm/(Isc*Voc)\n",
    "\n",
    "# Plot the data\n",
    "fig, ax1 = plt.subplots()\n",
    "\n",
    "ax1.set_xlabel('V (V)', size=14)\n",
    "ax1.set_ylabel('I (A)', size=14, color='b')\n",
    "ax1.plot(IV_curve[:,0], IV_curve[:,1], color='b', label=\"I-V\")\n",
    "\n",
    "ax2 = ax1.twinx()\n",
    "\n",
    "ax2.set_ylabel('P (W)', size=14, color='r')\n",
    "ax2.plot(PV[:,0], PV[:,1], color='r')\n",
    "\n",
    "fig.tight_layout()  # otherwise the right y-label is slightly clipped\n",
    "plt.show()\n",
    "\n",
    "# Report the values\n",
    "sResult = (\"Solar cell with \" +\n",
    "          \"Imp=\" + str(round(Im,2)) + \"A, \" +\n",
    "          \"Vmp=\" + str(round(Vm,2)) + \"V, \" +\n",
    "          \"FF=\" + str(round(FF,2))  + \", \"\n",
    "          \"Efficiency=\" + str(round(Eff,3)) )\n",
    "print(sResult)"
   ]
  },
  {
   "cell_type": "markdown",
   "id": "9420a509",
   "metadata": {},
   "source": [
    "***d) Repeat steps 1 and 2 if the series resistance is $R_S$=0.01 Ω.***"
   ]
  },
  {
   "cell_type": "code",
   "execution_count": 31,
   "id": "2c8eaf9b",
   "metadata": {},
   "outputs": [
    {
     "data": {
      "image/png": "[encoded data removed]",
      "text/plain": [
       "<Figure size 432x288 with 2 Axes>"
      ]
     },
     "metadata": {
      "needs_background": "light"
     },
     "output_type": "display_data"
    },
    {
     "name": "stdout",
     "output_type": "stream",
     "text": [
      "Solar cell with Imp=8.45A, Vmp=0.49V, FF=0.71, Efficiency=0.185\n"
     ]
    }
   ],
   "source": [
    "IL = 9\n",
    "Rs = 0.01  # ohm\n",
    "Rp = 1e10 # ohm\n",
    "\n",
    "IV_curve = model_IV(IL, I0, n, Rs, Rp, temperature)\n",
    "PV, Pm, Vm, Im = get_Pmax(IV_curve)\n",
    "Eff = Pm/(cell_area/10000*1000)\n",
    "Voc = get_Voc(IV_curve)\n",
    "Isc = get_Isc(IV_curve)\n",
    "FF= Pm/(Isc*Voc)\n",
    "\n",
    "# Plot the data\n",
    "fig, ax1 = plt.subplots()\n",
    "\n",
    "ax1.set_xlabel('V (V)', size=14)\n",
    "ax1.set_ylabel('I (A)', size=14, color='b')\n",
    "ax1.plot(IV_curve[:,0], IV_curve[:,1], color='b', label=\"I-V\")\n",
    "\n",
    "ax2 = ax1.twinx()\n",
    "\n",
    "ax2.set_ylabel('P (W)', size=14, color='r')\n",
    "ax2.plot(PV[:,0], PV[:,1], color='r')\n",
    "\n",
    "fig.tight_layout()  # otherwise the right y-label is slightly clipped\n",
    "plt.show()\n",
    "\n",
    "# Report the values\n",
    "sResult = (\"Solar cell with \" +\n",
    "          \"Imp=\" + str(round(Im,2)) + \"A, \" +\n",
    "          \"Vmp=\" + str(round(Vm,2)) + \"V, \" +\n",
    "          \"FF=\" + str(round(FF,2))  + \", \"\n",
    "          \"Efficiency=\" + str(round(Eff,3)) )\n",
    "print(sResult)"
   ]
  },
  {
   "cell_type": "markdown",
   "id": "f4733700",
   "metadata": {},
   "source": [
    "***Repeat steps 1 and 2 when the solar cell temperature is $T_{cell}$=35$^{\\circ}°$C. At that temperature, $I_0$ = 4·10$^{-10}$ A.***"
   ]
  },
  {
   "cell_type": "code",
   "execution_count": 32,
   "id": "8f23744d",
   "metadata": {},
   "outputs": [
    {
     "data": {
      "image/png": "[encoded data removed]",
      "text/plain": [
       "<Figure size 432x288 with 2 Axes>"
      ]
     },
     "metadata": {
      "needs_background": "light"
     },
     "output_type": "display_data"
    },
    {
     "name": "stdout",
     "output_type": "stream",
     "text": [
      "Solar cell with Imp=8.59A, Vmp=0.55V, FF=0.83, Efficiency=0.21\n"
     ]
    }
   ],
   "source": [
    "IL = 9\n",
    "Rs = 0  # ohm\n",
    "Rp = 1e10 # ohm\n",
    "I0 = 4e-10 # A\n",
    "temperature = 35 #ºC\n",
    "\n",
    "IV_curve = model_IV(IL, I0, n, Rs, Rp, temperature)\n",
    "PV, Pm, Vm, Im = get_Pmax(IV_curve)\n",
    "Eff = Pm/(cell_area/10000*1000)\n",
    "Voc = get_Voc(IV_curve)\n",
    "Isc = get_Isc(IV_curve)\n",
    "FF= Pm/(Isc*Voc)\n",
    "\n",
    "# Plot the data\n",
    "fig, ax1 = plt.subplots()\n",
    "\n",
    "ax1.set_xlabel('V (V)', size=14)\n",
    "ax1.set_ylabel('I (A)', size=14, color='b')\n",
    "ax1.plot(IV_curve[:,0], IV_curve[:,1], color='b', label=\"I-V\")\n",
    "\n",
    "ax2 = ax1.twinx()\n",
    "\n",
    "ax2.set_ylabel('P (W)', size=14, color='r')\n",
    "ax2.plot(PV[:,0], PV[:,1], color='r')\n",
    "\n",
    "\n",
    "fig.tight_layout()  # otherwise the right y-label is slightly clipped\n",
    "plt.show()\n",
    "\n",
    "# Report the values\n",
    "sResult = (\"Solar cell with \" +\n",
    "          \"Imp=\" + str(round(Im,2)) + \"A, \" +\n",
    "          \"Vmp=\" + str(round(Vm,2)) + \"V, \" +\n",
    "          \"FF=\" + str(round(FF,2))  + \", \"\n",
    "          \"Efficiency=\" + str(round(Eff,3)) )\n",
    "print(sResult)"
   ]
  },
  {
   "cell_type": "code",
   "execution_count": null,
   "id": "bee57c83",
   "metadata": {},
   "outputs": [],
   "source": []
  }
 ],
 "metadata": {
  "kernelspec": {
   "display_name": "Python 3 (ipykernel)",
   "language": "python",
   "name": "python3"
  },
  "language_info": {
   "codemirror_mode": {
    "name": "ipython",
    "version": 3
   },
   "file_extension": ".py",
   "mimetype": "text/x-python",
   "name": "python",
   "nbconvert_exporter": "python",
   "pygments_lexer": "ipython3",
   "version": "3.9.7"
  }
 },
 "nbformat": 4,
 "nbformat_minor": 5
}
