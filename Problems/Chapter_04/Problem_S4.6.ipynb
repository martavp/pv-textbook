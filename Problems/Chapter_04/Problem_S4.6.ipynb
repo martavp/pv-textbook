{
 "cells": [
  {
   "cell_type": "markdown",
   "id": "9e3d0571",
   "metadata": {},
   "source": [
    "# Problem S4.6 \n"
   ]
  },
  {
   "cell_type": "markdown",
   "id": "c3b3d6b6",
   "metadata": {},
   "source": [
    "___\"Using the same solar cell parameters, generate I-V curves and then extract the parameters from it using the method explained in Section 4.3.3. Determine the minimum value of RS that produces an error in the extracted Rs above 1%. \"___"
   ]
  },
  {
   "cell_type": "markdown",
   "id": "7e72fb5e",
   "metadata": {},
   "source": [
    "First, we import the Python modules used and define one constant to set the I-V curve data size, and the Boltzman constant"
   ]
  },
  {
   "cell_type": "code",
   "execution_count": 171,
   "id": "0e83057f",
   "metadata": {},
   "outputs": [],
   "source": [
    "import math\n",
    "import numpy as np\n",
    "import matplotlib.pyplot as plt\n",
    "from scipy.optimize import curve_fit\n",
    "\n",
    "DATA_SIZE = 500\n",
    "kB = 8.617333e-5"
   ]
  },
  {
   "cell_type": "markdown",
   "id": "5d016b6c",
   "metadata": {},
   "source": [
    "We define the variables for the I-V curve data"
   ]
  },
  {
   "cell_type": "code",
   "execution_count": 172,
   "id": "547eb66b",
   "metadata": {},
   "outputs": [],
   "source": [
    "# These are values in the usual range for a typical 16.6 x 16.6 cm2 Si solar cell\n",
    "Isc = 10.0 # A\n",
    "I0 = 2e-9 # A\n",
    "n = 1.2\n",
    "\n",
    "temperature = 25  \n",
    "cell_area = 16.6*16.6 # cm2"
   ]
  },
  {
   "cell_type": "markdown",
   "id": "d780238d",
   "metadata": {},
   "source": [
    "Now we define a useful function to calculate the I-V curve of the solar cell.\n",
    "Note that we use a number of datapoints defined as the constant DATA_SIZE. The larger this number, the more precisión, but also the longer computation time. Since the calculations are not complicated, you can use large numbers with almost instantenous calculations in modern desktop computers or laptops."
   ]
  },
  {
   "cell_type": "code",
   "execution_count": 173,
   "id": "00bea3db",
   "metadata": {},
   "outputs": [],
   "source": [
    "def model_IV(IL, I0, n, Rs, Rp, temperature):\n",
    "    # Thermal voltage\n",
    "    kBT = kB*(temperature + 273.15)\n",
    "    \n",
    "    #I-V curve stored in a 2-column array: first column for voltages, second column for currents\n",
    "    IVcurve = np.zeros((DATA_SIZE,2))\n",
    "    \n",
    "    # First we calculate the I-V curve voltage range: from -0.1 V to Voc + 0.01 V\n",
    "    # We want to have the I-V curve crossing the current and voltage axis to see the Isc and Voc\n",
    "    #Voc without Rs/Rp.\n",
    "    Voc0 = n*kBT*math.log(IL/I0)\n",
    "    \n",
    "    #Create the voltage list\n",
    "    #Voltage range used: -0.1 to Voc+0.01\n",
    "    IVcurve[:,0]= np.linspace(-0.1, Voc0+0.01, DATA_SIZE)\n",
    "    \n",
    "    #I-V curve without Rs effect\n",
    "    IVcurve[:,1] = IL - I0*(np.exp(IVcurve[:,0]/(n*kBT))-1) - IVcurve[:,0]/Rp\n",
    "    \n",
    "    #Shift voltages to include Rs effect\n",
    "    IVcurve[:,0] = IVcurve[:,0] - Rs*IVcurve[:,1]\n",
    "    \n",
    "    return IVcurve"
   ]
  },
  {
   "cell_type": "markdown",
   "id": "d44a37d8",
   "metadata": {},
   "source": [
    "Function to extract the I-V curve parameters. <br>\n",
    "The algorithm is from: <br>\n",
    "* Cotfas, D.T., Cotfas, P.A., Kaplanis, S., 2013. Methods to determine the dc parameters of solar cells: A critical review. Renew. Sustain. Energy Rev. 28, 588–596. https://doi.org/10.1016/j.rser.2013.08.017\n",
    "\n",
    "Note that this function does not assume that the I-V curve is in the first quadrant. Another two functions are used to calculate the Isc and Voc and detect the quadrant. Then, the function calculating FF moves the I-V curve to this quadrant, if it is not there yet. "
   ]
  },
  {
   "cell_type": "code",
   "execution_count": 174,
   "id": "ff265feb",
   "metadata": {},
   "outputs": [],
   "source": [
    "def get_IV_params(rawIV, temperature):\n",
    "    # Thermal voltage\n",
    "    kBT = 8.617333e-5*(temperature + 273.15)\n",
    "    \n",
    "    # Sort data and move to first quadrant\n",
    "    IV_1stq = rawIV.copy()\n",
    "    Isc = get_Isc(IV_1stq)\n",
    "    if Isc<0:\n",
    "        Isc*=-1\n",
    "        IV_1stq[:,1]*=-1\n",
    "    \n",
    "    Voc = get_Voc(IV_1stq)\n",
    "    if Voc<0:\n",
    "        Voc*=-1\n",
    "        IV_1stq[:,0]*=-1    \n",
    "\n",
    "    IV_1stq=IV_1stq[IV_1stq[:,0].argsort()]     \n",
    "\n",
    "    # Calculate Rp\n",
    "    Rp=-1/getSlope_atIsc(IV_1stq, 0.1)\n",
    "    # Flat but noisy I-V around V=0 can result in Rp<0\n",
    "    # In this case, assume that Rp is very high\n",
    "    if Rp<0:\n",
    "        Rp=1e4\n",
    "\n",
    "    # Calculate Rs, n, I0\n",
    "    Pm, Vm, Im = get_Pmax(rawIV)\n",
    "    \n",
    "    Rs0= -1/getSlope_atVoc(IV_1stq, Voc)\n",
    "    \n",
    "    A=Vm + Rs0*Im-Voc\n",
    "    B=math.log(Isc-Vm/Rp-Im)-math.log(Isc-Voc/Rp)\n",
    "    C=Im/(Isc-Voc/Rp)\n",
    "    n=A/(kBT*(B+C))    \n",
    "    \n",
    "    I0 = (Isc-Voc/Rp)*math.exp(-Voc/(n*kBT))\n",
    "    \n",
    "    Rs= Rs0 -n*(kBT/I0)*math.exp(-Voc/(n*kBT))\n",
    "    \n",
    "    # Print results\n",
    "    # print(\"Rp = \" + str(Rp))\n",
    "    # print(\"Rs = \" + str(Rs))\n",
    "    # print(\"I0 = \" + str(I0))   \n",
    "    # print(\"n = \" + str(n))\n",
    "    # print(\"Isc = \" + str(Isc))\n",
    "    # print(\"Voc = \" + str(Voc))\n",
    "   \n",
    "    return Isc, I0, n, Rs, Rp "
   ]
  },
  {
   "cell_type": "markdown",
   "id": "19ae0c48",
   "metadata": {},
   "source": [
    "And ancillary functions to serve \"get_IV_params\""
   ]
  },
  {
   "cell_type": "code",
   "execution_count": 175,
   "id": "4c0a15e0",
   "metadata": {},
   "outputs": [],
   "source": [
    "# Obtains Isc by linear interpolation around V=0\n",
    "def get_Isc(IVdata):\n",
    "    \"\"\"Returns the Isc of the input raw I-V curve\"\"\"\n",
    "\n",
    "   # Sort data\n",
    "    IV_sorted = IVdata.copy()\n",
    "    IV_sorted=IVdata[IVdata[:,0].argsort()]   # Sort by voltages\n",
    "    \n",
    "    Isc = np.interp(0,IV_sorted[:,0],IV_sorted[:,1])\n",
    "    \n",
    "    return Isc\n",
    "\n",
    "# Obtains Voc by linear interpolation around I=0\n",
    "def get_Voc(IVdata):\n",
    "    \"\"\"Returns the Voc of the input raw I-V curve\"\"\"\n",
    "\n",
    "   # Sort data\n",
    "    IV_sorted = IVdata.copy()\n",
    "    IV_sorted=IVdata[IVdata[:,1].argsort()]   # Sort by currents\n",
    "    \n",
    "    Voc = np.interp(0, IV_sorted[:,1],IV_sorted[:,0])\n",
    "    \n",
    "    return Voc\n",
    "\n",
    "# Obtains the Pmax, and also the Vm and Im\n",
    "def get_Pmax(IVdata):\n",
    "  \n",
    "   # Sort data and move to 1st quadrant\n",
    "    IV_sorted = IVdata.copy()\n",
    " \n",
    "    Isc = get_Isc(IV_sorted)\n",
    "    if Isc<0:\n",
    "        Isc*=-1\n",
    "        IV_sorted[:,1]*=-1\n",
    "    \n",
    "    Voc = get_Voc(IV_sorted)\n",
    "    if Voc<0:\n",
    "        Voc*=-1\n",
    "        IV_sorted[:,0]*=-1       \n",
    " \n",
    "    IV_sorted=IV_sorted[IV_sorted[:,0].argsort()]   \n",
    "   \n",
    " \n",
    "    PV = IV_sorted.copy()\n",
    "    PV[:,1] = IV_sorted[:,0]*IV_sorted[:,1]\n",
    "    \n",
    "    Pm = np.amax(PV[:,1])\n",
    "    maxPosition = np.argmax(PV[:,1])\n",
    "    Vm = PV[maxPosition,0]\n",
    "    Im = IV_sorted[maxPosition,1]\n",
    "\n",
    "    return Pm, Vm, Im\n",
    "\n",
    "# Determines the slope of the I-V curve around Voc\n",
    "# \n",
    "def getSlope_atVoc(data, Voc):\n",
    "    \n",
    "    #Search first point lower than Voc\n",
    "    rV = np.where(abs(data[:,0]) < Voc)\n",
    "    rangeV = np.asarray(rV)   \n",
    "    rangeV = rangeV.flatten()\n",
    "    indexLow = rangeV[-1] \n",
    "    \n",
    "    #Search first point higher than Voc\n",
    "    rV = np.where(abs(data[:,0]) > Voc)\n",
    "    rangeV = np.asarray(rV)   \n",
    "    rangeV = rangeV.flatten()   \n",
    "    indexHigh = rangeV[0]\n",
    "    \n",
    "    slope = (data[indexHigh,1]-data[indexLow,1])/(data[indexHigh,0]-data[indexLow,0])\n",
    "    \n",
    "    # Return the derivative of the cubic function at xValue\n",
    "    return slope\n",
    "\n",
    "# Returns the slope of I-V curve at Isc using\n",
    "# a linear fit for a V range of +-Vrange     \n",
    "def getSlope_atIsc(data, Vrange):\n",
    "    rV = np.where(abs(data[:,0]) < Vrange )\n",
    "   \n",
    "    rangeV = np.asarray(rV)   \n",
    "    rangeV = rangeV.flatten()   \n",
    "\n",
    "    indexLow = rangeV[0]    \n",
    "    indexHigh = rangeV[-1]\n",
    "    \n",
    "    popt, pcov = curve_fit(fitLine, data[indexLow:indexHigh,0], data[indexLow:indexHigh,1])\n",
    "    \n",
    "    return popt[0]\n",
    "\n",
    "def fitLine(x, a, b):\n",
    "    \n",
    "    line = a*x + b\n",
    "    \n",
    "    return line"
   ]
  },
  {
   "cell_type": "markdown",
   "id": "7c73d09b",
   "metadata": {},
   "source": [
    "Now we make an I-V curve and extract its parameters"
   ]
  },
  {
   "cell_type": "code",
   "execution_count": 176,
   "id": "9431970f",
   "metadata": {},
   "outputs": [
    {
     "name": "stdout",
     "output_type": "stream",
     "text": [
      "Rp = 98459.736\n",
      "Error Rp = -1.540 %\n",
      "Rs = 0.000\n",
      "I0 = 1.74e-09\n",
      "Error I0 = -12.901 %\n",
      "n = 1.193\n",
      "Error n = -0.616 %\n",
      "Isc = 10.000\n",
      "Error Isc = -0.000 %\n",
      "Voc = 0.689\n",
      "Error Voc = -0.001 %\n"
     ]
    },
    {
     "data": {
      "image/png": "[encoded data removed]",
      "text/plain": [
       "<Figure size 432x288 with 1 Axes>"
      ]
     },
     "metadata": {
      "needs_background": "light"
     },
     "output_type": "display_data"
    }
   ],
   "source": [
    "Rs=0\n",
    "Rp=1e5\n",
    "IV_curve = model_IV(Isc, I0, n, Rs, Rp, temperature)\n",
    "Voc = get_Voc(IV_curve)\n",
    "\n",
    "Isc_extr, I0_extr, n_extr, Rs_extr, Rp_extr = get_IV_params(IV_curve, temperature)\n",
    "\n",
    "IV_curve_extracted = model_IV(Isc_extr, I0_extr, n_extr, Rs_extr, Rp_extr, temperature)\n",
    "Voc_extr = get_Voc(IV_curve_extracted)\n",
    "\n",
    "# Print the results and errors\n",
    "print(\"Rp = \" + f\"{Rp_extr:.3f}\")\n",
    "print(\"Error Rp = \" + f\"{100*(Rp_extr-Rp)/Rp:.3f}\" + \" %\")\n",
    "print(\"Rs = \" + f\"{Rs_extr:.3f}\")\n",
    "#print(\"Error Rs = \" + f\"{100*(Rs_extr-Rs)/Rs:.3f}\" + \" %\")\n",
    "print(\"I0 = \" + f\"{I0_extr:.3}\") \n",
    "print(\"Error I0 = \" + f\"{100*(I0_extr-I0)/I0:.3f}\" + \" %\")\n",
    "print(\"n = \" + f\"{n_extr:.3f}\")\n",
    "print(\"Error n = \" + f\"{100*(n_extr-n)/n:.3f}\" + \" %\")\n",
    "print(\"Isc = \" + f\"{Isc_extr:.3f}\")\n",
    "print(\"Error Isc = \" + f\"{100*(Isc_extr-Isc)/Isc:.3f}\" + \" %\")\n",
    "print(\"Voc = \" + f\"{Voc_extr:.3f}\")\n",
    "print(\"Error Voc = \" + f\"{100*(Voc_extr-Voc)/Voc:.3f}\" + \" %\")\n",
    "\n",
    "# Plot the I-V curves\n",
    "plt.plot(IV_curve[:,0], IV_curve[:,1], color='b', label=\"Original I-V\")\n",
    "plt.plot(IV_curve_extracted[:,0], IV_curve_extracted[:,1], color='r', label = \"Extracted I-V\")\n",
    "plt.xlabel('voltage (V)', size=14)\n",
    "plt.ylabel('current (I)', size=14)\n",
    "plt.legend()\n",
    "plt.show()"
   ]
  },
  {
   "cell_type": "markdown",
   "id": "b501f364",
   "metadata": {},
   "source": [
    "As you can see, the I-V curve parameters extraction method is very accurate. <br>\n",
    "Note that the error of I0 seems high, but remember that its influence on the Voc is logarithmic. See how the error in Voc is negligible. <br>\n",
    "The original I-V curve and the I-V curve constructed with the extracted parameters are virtually identical. <br>\n",
    "<br>\n",
    "However, the extraction method is not accurate for high values of Rs and/or Rp. <br>\n",
    "Let´s  see how the method works for significant Rs and Rp values "
   ]
  },
  {
   "cell_type": "code",
   "execution_count": 177,
   "id": "3985d66c",
   "metadata": {},
   "outputs": [
    {
     "name": "stdout",
     "output_type": "stream",
     "text": [
      "Rp = 0.413\n",
      "Error Rp = 3.929 %\n",
      "Rs = 0.015\n",
      "Error Rs = -2.618 %\n",
      "I0 = 4.51e-09\n",
      "Error I0 = 125.544 %\n",
      "n = 1.248\n",
      "Error n = 4.000 %\n",
      "Isc = 9.622\n",
      "Error Isc = -3.781 %\n"
     ]
    },
    {
     "data": {
      "image/png": "[encoded data removed]",
      "text/plain": [
       "<Figure size 432x288 with 1 Axes>"
      ]
     },
     "metadata": {
      "needs_background": "light"
     },
     "output_type": "display_data"
    }
   ],
   "source": [
    "# We choose Rs and Rp values\n",
    "Rs=0.0156\n",
    "Rp=0.397\n",
    "\n",
    "IV_curve = model_IV(Isc, I0, n, Rs, Rp, temperature)\n",
    "\n",
    "Isc_extr, I0_extr, n_extr, Rs_extr, Rp_extr = get_IV_params(IV_curve, temperature)\n",
    "\n",
    "IV_curve_extracted = model_IV(Isc_extr, I0_extr, n_extr, Rs_extr, Rp_extr, temperature)\n",
    "\n",
    "# Print the results and errors\n",
    "print(\"Rp = \" + f\"{Rp_extr:.3f}\")\n",
    "print(\"Error Rp = \" + f\"{100*(Rp_extr-Rp)/Rp:.3f}\" + \" %\")\n",
    "print(\"Rs = \" + f\"{Rs_extr:.3f}\")\n",
    "print(\"Error Rs = \" + f\"{100*(Rs_extr-Rs)/Rs:.3f}\" + \" %\")\n",
    "print(\"I0 = \" + f\"{I0_extr:.3}\") \n",
    "print(\"Error I0 = \" + f\"{100*(I0_extr-I0)/I0:.3f}\" + \" %\")\n",
    "print(\"n = \" + f\"{n_extr:.3f}\")\n",
    "print(\"Error n = \" + f\"{100*(n_extr-n)/n:.3f}\" + \" %\")\n",
    "print(\"Isc = \" + f\"{Isc_extr:.3f}\")\n",
    "print(\"Error Isc = \" + f\"{100*(Isc_extr-Isc)/Isc:.3f}\" + \" %\")\n",
    "\n",
    "# Plot the I-V curves\n",
    "plt.plot(IV_curve[:,0], IV_curve[:,1], color='b', label=\"Original I-V\")\n",
    "plt.plot(IV_curve_extracted[:,0], IV_curve_extracted[:,1], color='r', label = \"Extracted I-V\")\n",
    "plt.xlabel('voltage (V)', size=14)\n",
    "plt.ylabel('current (I)', size=14)\n",
    "plt.legend()\n",
    "plt.show()"
   ]
  },
  {
   "cell_type": "markdown",
   "id": "243d346a",
   "metadata": {},
   "source": [
    "You can see how the Pmax error increases when the effect of Rs and Rp increases. <br>"
   ]
  }
 ],
 "metadata": {
  "kernelspec": {
   "display_name": "Python 3 (ipykernel)",
   "language": "python",
   "name": "python3"
  },
  "language_info": {
   "codemirror_mode": {
    "name": "ipython",
    "version": 3
   },
   "file_extension": ".py",
   "mimetype": "text/x-python",
   "name": "python",
   "nbconvert_exporter": "python",
   "pygments_lexer": "ipython3",
   "version": "3.9.7"
  }
 },
 "nbformat": 4,
 "nbformat_minor": 5
}
