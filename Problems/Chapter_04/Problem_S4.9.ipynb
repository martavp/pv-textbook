{
 "cells": [
  {
   "cell_type": "markdown",
   "id": "9e3d0571",
   "metadata": {},
   "source": [
    "# Problem S4.5 \n"
   ]
  },
  {
   "cell_type": "markdown",
   "id": "c3b3d6b6",
   "metadata": {},
   "source": [
    "___For the same solar cell parameters of Problem S4.4, study the effect of the ideality factor $n$ on the fill factor FF. Plot the FF vs n for a range n=[1, 2]. Do the same but adjusting the saturation current I$_0$ for each ideality factor $n$ so that the V$_{oc}$ remains constant. Discuss the results.___"
   ]
  },
  {
   "cell_type": "markdown",
   "id": "7e72fb5e",
   "metadata": {},
   "source": [
    "First, we import the Python modules used, define one constant to set the I-V curve data size, and define the Boltzman constant"
   ]
  },
  {
   "cell_type": "code",
   "execution_count": 1,
   "id": "0e83057f",
   "metadata": {},
   "outputs": [],
   "source": [
    "import math\n",
    "import numpy as np\n",
    "import matplotlib.pyplot as plt\n",
    "\n",
    "DATA_SIZE = 500\n",
    "kB = 8.617333e-5"
   ]
  },
  {
   "cell_type": "markdown",
   "id": "5d016b6c",
   "metadata": {},
   "source": [
    "We define the variables for the I-V curve data"
   ]
  },
  {
   "cell_type": "code",
   "execution_count": 2,
   "id": "547eb66b",
   "metadata": {},
   "outputs": [],
   "source": [
    "# These are values in the usual range for a typical 16.6 x 16.6 cm2 Si solar cell\n",
    "Isc = 10.0 # A\n",
    "I0 = 2e-9 # A\n",
    "n = 1.2\n",
    "\n",
    "temperature = 25  #ºC\n",
    "cell_area = 16.6*16.6 # cm2"
   ]
  },
  {
   "cell_type": "markdown",
   "id": "d780238d",
   "metadata": {},
   "source": [
    "Now we define a function to calculate the I-V curve of the solar cell.\n",
    "Note that we use a number of data points defined as the constant DATA_SIZE. The larger this number, the higher the precision, but also the longer computation time. Since the calculations are not very complex, you can use high numbers with almost instantaenous calculations in modern desktop computers or laptops."
   ]
  },
  {
   "cell_type": "code",
   "execution_count": 3,
   "id": "00bea3db",
   "metadata": {},
   "outputs": [],
   "source": [
    "def model_IV(IL, I0, n, Rs, Rp, temperature):\n",
    "    # Thermal voltage\n",
    "    kBT = kB*(temperature + 273.15)\n",
    "    \n",
    "    #I-V curve stored in a 2-column array: first column for voltages, second column for currents\n",
    "    IVcurve = np.zeros((DATA_SIZE,2))\n",
    "    \n",
    "    # First we calculate the I-V curve voltage range: from -0.1 V to Voc + 0.01 V\n",
    "    # We want to have the I-V curve crossing the current and voltage axis to see the Isc and Voc\n",
    "    #Voc without Rs/Rp.\n",
    "    Voc0 = n*kBT*math.log(IL/I0)\n",
    "    \n",
    "    #Create the voltage list\n",
    "    #Voltage range used: -0.1 to Voc+0.01\n",
    "    IVcurve[:,0]= np.linspace(-0.1, Voc0+0.01, DATA_SIZE)\n",
    "    \n",
    "    #I-V curve without Rs effect\n",
    "    IVcurve[:,1] = IL - I0*(np.exp(IVcurve[:,0]/(n*kBT))-1) - IVcurve[:,0]/Rp\n",
    "    \n",
    "    #Shift voltages to include Rs effect\n",
    "    IVcurve[:,0] = IVcurve[:,0] - Rs*IVcurve[:,1]\n",
    "    \n",
    "    return IVcurve"
   ]
  },
  {
   "cell_type": "markdown",
   "id": "d44a37d8",
   "metadata": {},
   "source": [
    "And another function to get the FF. <br>\n",
    "Note that this function does not assume that the I-V curve is in the first quadrant. Another two functions are used to calculate the Isc and Voc and detect the quadrant. Then, the function calculating FF moves the I-V curve to this quadrant, if it is not there yet. "
   ]
  },
  {
   "cell_type": "code",
   "execution_count": 4,
   "id": "4c0a15e0",
   "metadata": {},
   "outputs": [],
   "source": [
    "# Obtains Isc by linear interpolation around V=0\n",
    "def get_Isc(IVdata):\n",
    "    \"\"\"Returns the Isc of the input raw I-V curve\"\"\"\n",
    "\n",
    "   # Sort data\n",
    "    IV_sorted = IVdata.copy()\n",
    "    IV_sorted=IVdata[IVdata[:,0].argsort()]  # Sort by voltages\n",
    "    \n",
    "    Isc = np.interp(0,IV_sorted[:,0],IV_sorted[:,1])\n",
    "    \n",
    "    return Isc\n",
    "\n",
    "# Obtains Voc by linear interpolation around I=0\n",
    "def get_Voc(IVdata):\n",
    "    \"\"\"Returns the Voc of the input raw I-V curve\"\"\"\n",
    "\n",
    "   # Sort data\n",
    "    IV_sorted = IVdata.copy()\n",
    "    IV_sorted=IVdata[IVdata[:,1].argsort()]   # Sort by currents\n",
    "    \n",
    "    Voc = np.interp(0, IV_sorted[:,1],IV_sorted[:,0])\n",
    "    \n",
    "    return Voc\n",
    "\n",
    "# Obtains the FF\n",
    "def get_FF(IVdata):\n",
    "  \n",
    "   # Sort data and move to 1st quadrant\n",
    "    IV_sorted = IVdata.copy()\n",
    " \n",
    "    Isc = get_Isc(IV_sorted)\n",
    "    if Isc<0:\n",
    "        Isc*=-1\n",
    "        IV_sorted[:,1]*=-1\n",
    "    \n",
    "    Voc = get_Voc(IV_sorted)\n",
    "    if Voc<0:\n",
    "        Voc*=-1\n",
    "        IV_sorted[:,0]*=-1       \n",
    " \n",
    "    IV_sorted=IV_sorted[IV_sorted[:,0].argsort()]   \n",
    "   \n",
    " \n",
    "    PV = IV_sorted.copy()\n",
    "    PV[:,1] = IV_sorted[:,0]*IV_sorted[:,1]\n",
    "    \n",
    "    Pm = np.amax(PV[:,1])\n",
    "    FF= abs(Pm/(Isc*Voc))\n",
    "    \n",
    "    return FF\n",
    "\n"
   ]
  },
  {
   "cell_type": "markdown",
   "id": "7c73d09b",
   "metadata": {},
   "source": [
    "We make a graph of fill factor FF vs ideality factor $n$."
   ]
  },
  {
   "cell_type": "code",
   "execution_count": 5,
   "id": "4f8506eb",
   "metadata": {},
   "outputs": [
    {
     "data": {
      "image/png": "[encoded data removed]",
      "text/plain": [
       "<Figure size 432x288 with 1 Axes>"
      ]
     },
     "metadata": {
      "needs_background": "light"
     },
     "output_type": "display_data"
    }
   ],
   "source": [
    "# Two-column arrays for FF vs n\n",
    "# Create the n list in the first colum\n",
    "n_min = 1\n",
    "n_max = 2\n",
    "FF_vs_n = np.zeros((DATA_SIZE,2))\n",
    "FF_vs_n[:,0] = np.linspace(n_min, n_max, DATA_SIZE)\n",
    "\n",
    "FF_vs_n_adjustJ0 = np.zeros((DATA_SIZE,2))\n",
    "FF_vs_n_adjustJ0[:,0] = np.linspace(n_min, n_max, DATA_SIZE)\n",
    "\n",
    "# Calculate the Voc for n=1\n",
    "kBT = kB*(temperature + 273.15)\n",
    "Voc_n1 = kBT*math.log(Isc/I0+1)\n",
    "\n",
    "# Calculate the FF for each n\n",
    "for x in range(DATA_SIZE):\n",
    "    IV_curve = model_IV(Isc, I0, FF_vs_n[x,0], 0, 1e6, temperature)\n",
    "    FF = get_FF(IV_curve)\n",
    "    FF_vs_n[x,1] = FF\n",
    "    \n",
    "    adjustedI0 = (Isc/(np.exp(Voc_n1/(FF_vs_n[x,0]*kBT) )-1))\n",
    "    IV_curve = model_IV(Isc, adjustedI0, FF_vs_n_adjustJ0[x,0], 0, 1e6, temperature)\n",
    "    FF = get_FF(IV_curve)\n",
    "    FF_vs_n_adjustJ0[x,1] = FF    \n",
    "    \n",
    "# Plot the FF vs n \n",
    "plt.plot(FF_vs_n[:,0], FF_vs_n[:,1], color='b')\n",
    "plt.plot(FF_vs_n_adjustJ0[:,0], FF_vs_n_adjustJ0[:,1], color='r')\n",
    "\n",
    "plt.xlabel('n ', size=14)\n",
    "plt.ylabel('FF ', size=14)\n",
    "plt.show()\n",
    "\n",
    "\n",
    "    "
   ]
  },
  {
   "cell_type": "markdown",
   "id": "b501f364",
   "metadata": {},
   "source": [
    "As you can see, the ideality factor n by itself does not affect the FF. <br>\n",
    "However, if the J$_0$ is adjusted to keep V$_{oc}$ constant, it does. <br>\n",
    "<br>\n",
    "Let´s see why by plotting the I-V curves for n=1, n=2 and n=2 adjusting Voc to be constant:"
   ]
  },
  {
   "cell_type": "code",
   "execution_count": 30,
   "id": "742c6f45",
   "metadata": {},
   "outputs": [
    {
     "name": "stdout",
     "output_type": "stream",
     "text": [
      "FF for cell with n=1 : 0.823\n",
      "FF for cell with n=2 : 0.823\n",
      "FF for cell with n=2 and J0 adjusted: 0.714\n"
     ]
    },
    {
     "data": {
      "image/png": "[encoded data removed]",
      "text/plain": [
       "<Figure size 432x288 with 1 Axes>"
      ]
     },
     "metadata": {
      "needs_background": "light"
     },
     "output_type": "display_data"
    }
   ],
   "source": [
    "n1 = 1\n",
    "n2 = 2\n",
    "IV_curve_n1 = model_IV(Isc, I0, n1, 0, 1e6, temperature)\n",
    "IV_curve_n2 = model_IV(Isc, I0, n2, 0, 1e6, temperature)\n",
    "\n",
    "Voc_n1 = kBT*math.log(Isc/I0+1)\n",
    "adjustedI0 = (Isc/(np.exp(Voc_n1/(2*kBT) )-1))\n",
    "IV_curve_n2_adj = model_IV(Isc, adjustedI0, 2, 0, 1e6, temperature)\n",
    "\n",
    "plt.plot(IV_curve_n1[:,0], IV_curve_n1[:,1], color='b', label=\"n=\"+str(n1))\n",
    "plt.plot(IV_curve_n2[:,0], IV_curve_n2[:,1], color='r', label=\"n=\"+str(n2))\n",
    "plt.plot(IV_curve_n2_adj[:,0], IV_curve_n2_adj[:,1], color='r', linestyle='dashed', label=\"n=\"+str(n2)+\", J0 ajusted\")\n",
    "plt.legend()\n",
    "\n",
    "FF_n1 = get_FF(IV_curve_n1)\n",
    "FF_n2 = get_FF(IV_curve_n2)\n",
    "FF_n2_adj = get_FF(IV_curve_n2_adj)\n",
    "\n",
    "print(\"FF for cell with n=\"+ str(n1) + \" : \" + f\"{FF_n1:.3f}\")\n",
    "print(\"FF for cell with n=\"+ str(n2) + \" : \" + f\"{FF_n2:.3f}\")\n",
    "print(\"FF for cell with n=\"+ str(n2) + \" and J0 adjusted: \" + f\"{FF_n2_adj:.3f}\")"
   ]
  },
  {
   "cell_type": "markdown",
   "id": "243d346a",
   "metadata": {},
   "source": [
    "You can see that the ideality factor affects the squareness of the I-V curve elbow. If the ideality factor is increased alone, then the increase in Voc compensates for the effect on the FF of this loss in squareness. However, in practice, solar cells with higher ideality factors have usually a higher J$_0$ too, resulting in a lower V$_{oc}$ and FF."
   ]
  },
  {
   "cell_type": "code",
   "execution_count": null,
   "id": "ab5452f1",
   "metadata": {},
   "outputs": [],
   "source": []
  }
 ],
 "metadata": {
  "kernelspec": {
   "display_name": "Python 3 (ipykernel)",
   "language": "python",
   "name": "python3"
  },
  "language_info": {
   "codemirror_mode": {
    "name": "ipython",
    "version": 3
   },
   "file_extension": ".py",
   "mimetype": "text/x-python",
   "name": "python",
   "nbconvert_exporter": "python",
   "pygments_lexer": "ipython3",
   "version": "3.7.12"
  }
 },
 "nbformat": 4,
 "nbformat_minor": 5
}
