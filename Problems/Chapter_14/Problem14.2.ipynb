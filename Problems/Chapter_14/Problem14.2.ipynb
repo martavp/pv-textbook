{
 "cells": [
  {
   "cell_type": "markdown",
   "metadata": {},
   "source": [
    "***Fundamentals of Solar Cells and Photovoltaic Systems Engineering***\n",
    "\n",
    "**Solutions Manual**\n",
    "\n",
    "***Problem 14.2***\n"
   ]
  },
  {
   "cell_type": "markdown",
   "metadata": {},
   "source": [
    "This problem is based on the paper by Heide et al. (2010) *Seasonal optimal mix of wind and solar power in a future, highly renewable Europe*, Renewable Energy 35 https://doi.org/10.1016/j.renene.2010.03.012"
   ]
  },
  {
   "cell_type": "markdown",
   "metadata": {},
   "source": [
    "**a) Assume that the installed capacities for wind and solar are those required to produce, on average, 50% of the annual electricity demand with every technology**"
   ]
  },
  {
   "cell_type": "markdown",
   "metadata": {},
   "source": [
    "The mismatch is define as the difference between the renewable generation and electricity load.\n",
    "\n",
    "$\\Delta = W + S - L = C_S · CF_S (1+sin (\\frac{2\\pi}{24}t) + C_W · CF_W (1+sin (\\frac{2\\pi}{168}t)-L$ \n",
    "\n",
    "The capacity factors for solar and wind are $CF_S$=0.15 and $CF_W$=0.25. The installed capacities for solar and wind are $C_S$=3.33 GW, $C_W$=2GW"
   ]
  },
  {
   "cell_type": "markdown",
   "metadata": {},
   "source": [
    "We will use the packages [numpy](https://numpy.org/) to operate with arrays and [matplotlib.pyplot](https://matplotlib.org/stable/index.html) to plot the results"
   ]
  },
  {
   "cell_type": "code",
   "execution_count": 1,
   "metadata": {},
   "outputs": [],
   "source": [
    "import numpy as np\n",
    "import matplotlib.pyplot as  plt"
   ]
  },
  {
   "cell_type": "code",
   "execution_count": 3,
   "metadata": {},
   "outputs": [],
   "source": [
    "Delta = np.array([3.33*0.15*(1-np.sin(2*np.pi*t/24))+ 2*0.25*(1-np.sin(2*np.pi*t/168.4423))-1 for t in np.arange(0,8759)])"
   ]
  },
  {
   "cell_type": "markdown",
   "metadata": {},
   "source": [
    "We can plot the mismatch for the first week of the year."
   ]
  },
  {
   "cell_type": "code",
   "execution_count": 4,
   "metadata": {},
   "outputs": [
    {
     "data": {
      "text/plain": [
       "[<matplotlib.lines.Line2D at 0x257a1e05888>]"
      ]
     },
     "execution_count": 4,
     "metadata": {},
     "output_type": "execute_result"
    },
    {
     "data": {
      "image/png": "[encoded data removed]",
      "text/plain": [
       "<Figure size 432x288 with 1 Axes>"
      ]
     },
     "metadata": {
      "needs_background": "light"
     },
     "output_type": "display_data"
    }
   ],
   "source": [
    "plt.plot(Delta[0:168])"
   ]
  },
  {
   "cell_type": "markdown",
   "metadata": {},
   "source": [
    "The average mismatch throughout the year is zero, i.e., on average renewable generation equals demand."
   ]
  },
  {
   "cell_type": "code",
   "execution_count": 5,
   "metadata": {},
   "outputs": [
    {
     "data": {
      "text/plain": [
       "-0.0005147592629695106"
      ]
     },
     "execution_count": 5,
     "metadata": {},
     "output_type": "execute_result"
    }
   ],
   "source": [
    "np.mean(Delta)"
   ]
  },
  {
   "cell_type": "markdown",
   "metadata": {},
   "source": [
    "The total backup energy can be calculated as the sum of the negative mismatch."
   ]
  },
  {
   "cell_type": "code",
   "execution_count": 6,
   "metadata": {},
   "outputs": [
    {
     "data": {
      "text/plain": [
       "-1776.4192547803914"
      ]
     },
     "execution_count": 6,
     "metadata": {},
     "output_type": "execute_result"
    }
   ],
   "source": [
    "np.sum(Delta[Delta<0])"
   ]
  },
  {
   "cell_type": "markdown",
   "metadata": {},
   "source": [
    "The system will require 1,776GWh of backup energy."
   ]
  },
  {
   "cell_type": "markdown",
   "metadata": {},
   "source": [
    "The capacity for backup generation can be calculated as the maximum of the negative mismatch values. "
   ]
  },
  {
   "cell_type": "code",
   "execution_count": 7,
   "metadata": {},
   "outputs": [
    {
     "data": {
      "text/plain": [
       "0.999999034824324"
      ]
     },
     "execution_count": 7,
     "metadata": {},
     "output_type": "execute_result"
    }
   ],
   "source": [
    "np.max(np.abs(Delta[Delta<0]))"
   ]
  },
  {
   "cell_type": "markdown",
   "metadata": {},
   "source": [
    "The system will require 0.99GW of backup capacity."
   ]
  },
  {
   "cell_type": "markdown",
   "metadata": {},
   "source": [
    "The curtailed energy can be calculated as the sum of the positive mismatch."
   ]
  },
  {
   "cell_type": "code",
   "execution_count": 8,
   "metadata": {},
   "outputs": [
    {
     "data": {
      "text/plain": [
       "1771.9104783960415"
      ]
     },
     "execution_count": 8,
     "metadata": {},
     "output_type": "execute_result"
    }
   ],
   "source": [
    "np.sum(Delta[Delta>0])"
   ]
  },
  {
   "cell_type": "markdown",
   "metadata": {},
   "source": [
    "Required backup energy and curtailed energy are equal in this system."
   ]
  },
  {
   "cell_type": "markdown",
   "metadata": {},
   "source": [
    "**b) Assume $\\gamma$=1. Calculate and plot the total backup energy $E_B$, backup capacity $C_B$, and curtailed energy $E_C$, for $\\alpha$ values ranging from 0 to 1.**"
   ]
  },
  {
   "cell_type": "code",
   "execution_count": 9,
   "metadata": {},
   "outputs": [],
   "source": [
    "L = 1\n",
    "CF_W = 0.25\n",
    "CF_S = 0.15\n",
    "E_B_array = []\n",
    "C_B_array = []\n",
    "E_C_array = []\n",
    "alphas = np.arange(0,1.1,0.1)\n",
    "for alpha in alphas:\n",
    "    C_W = alpha*L/CF_W\n",
    "    C_S = (1-alpha)*L/CF_S\n",
    "    Delta = np.array([C_S*CF_S*(1-np.sin(2*np.pi*t/24))+ C_W*CF_W*(1-np.sin(2*np.pi*t/168.4423))-1 for t in np.arange(0,8759)])\n",
    "    E_B = np.sum(Delta[Delta<0])\n",
    "    C_B = np.max(np.abs(Delta[Delta<0]))\n",
    "    E_C = np.sum(Delta[Delta>0])\n",
    "    E_B_array.append(E_B)\n",
    "    C_B_array.append(C_B)\n",
    "    E_C_array.append(E_C)"
   ]
  },
  {
   "cell_type": "markdown",
   "metadata": {},
   "source": [
    "The backup energy is minimized when $\\alpha$=0.5"
   ]
  },
  {
   "cell_type": "code",
   "execution_count": 10,
   "metadata": {},
   "outputs": [
    {
     "data": {
      "text/plain": [
       "[<matplotlib.lines.Line2D at 0x257a34d1088>]"
      ]
     },
     "execution_count": 10,
     "metadata": {},
     "output_type": "execute_result"
    },
    {
     "data": {
      "image/png": "[encoded data removed]",
      "text/plain": [
       "<Figure size 432x288 with 1 Axes>"
      ]
     },
     "metadata": {
      "needs_background": "light"
     },
     "output_type": "display_data"
    }
   ],
   "source": [
    "plt.plot(alphas,E_B_array)"
   ]
  },
  {
   "cell_type": "markdown",
   "metadata": {},
   "source": [
    "The backup capacity is minimized when $\\alpha$=0.9"
   ]
  },
  {
   "cell_type": "code",
   "execution_count": 11,
   "metadata": {},
   "outputs": [
    {
     "data": {
      "text/plain": [
       "[<matplotlib.lines.Line2D at 0x257a3e395c8>]"
      ]
     },
     "execution_count": 11,
     "metadata": {},
     "output_type": "execute_result"
    },
    {
     "data": {
      "image/png": "[encoded data removed]",
      "text/plain": [
       "<Figure size 432x288 with 1 Axes>"
      ]
     },
     "metadata": {
      "needs_background": "light"
     },
     "output_type": "display_data"
    }
   ],
   "source": [
    "plt.plot(alphas,C_B_array)"
   ]
  },
  {
   "cell_type": "markdown",
   "metadata": {},
   "source": [
    "The curtailed energy is minimized when $\\alpha$=0.5"
   ]
  },
  {
   "cell_type": "code",
   "execution_count": 12,
   "metadata": {},
   "outputs": [
    {
     "data": {
      "text/plain": [
       "[<matplotlib.lines.Line2D at 0x257a3ebe148>]"
      ]
     },
     "execution_count": 12,
     "metadata": {},
     "output_type": "execute_result"
    },
    {
     "data": {
      "image/png": "[encoded data removed]",
      "text/plain": [
       "<Figure size 432x288 with 1 Axes>"
      ]
     },
     "metadata": {
      "needs_background": "light"
     },
     "output_type": "display_data"
    }
   ],
   "source": [
    "plt.plot(alphas,E_C_array)"
   ]
  },
  {
   "cell_type": "markdown",
   "metadata": {},
   "source": [
    "**c) Calculate and plot the total backup energy $E_B$, backup capacity $C_B$, and curtailed energy $E_C$, for $\\alpha$ values ranging from 0 to 1 and $\\gamma$ values ranging from 0 to 1.**"
   ]
  },
  {
   "cell_type": "code",
   "execution_count": 13,
   "metadata": {},
   "outputs": [],
   "source": [
    "CF_W = 0.25\n",
    "CF_S = 0.15\n",
    "E_B_matrix = []\n",
    "C_B_matrix = []\n",
    "E_C_matrix = []\n",
    "gammas = np.arange(0,1.1,0.1)\n",
    "for gamma in gammas:\n",
    "    E_B_array =[]\n",
    "    C_B_array =[]\n",
    "    E_C_array =[]\n",
    "    for alpha in alphas:\n",
    "        C_W = alpha*gamma*L/CF_W\n",
    "        C_S = (1-alpha)*gamma*L/CF_S\n",
    "        Delta = np.array([C_S*CF_S*(1-np.sin(2*np.pi*t/24))+ C_W*CF_W*(1-np.sin(2*np.pi*t/168.4423))-1 for t in np.arange(0,8759)])\n",
    "        E_B = np.sum(Delta[Delta<0])\n",
    "        C_B = np.max(np.abs(Delta[Delta<0]))\n",
    "        E_C = np.sum(Delta[Delta>0])\n",
    "        E_B_array.append(E_B)\n",
    "        C_B_array.append(C_B)\n",
    "        E_C_array.append(E_C)\n",
    "\n",
    "    E_B_matrix.append(E_B_array)\n",
    "    C_B_matrix.append(C_B_array)\n",
    "    E_C_matrix.append(E_C_array)"
   ]
  },
  {
   "cell_type": "markdown",
   "metadata": {},
   "source": [
    "The required backup energy is minimized for $\\gamma$=1 and $\\alpha$=0.5"
   ]
  },
  {
   "cell_type": "code",
   "execution_count": 14,
   "metadata": {},
   "outputs": [
    {
     "data": {
      "text/plain": [
       "<matplotlib.contour.QuadContourSet at 0x257a3f3b248>"
      ]
     },
     "execution_count": 14,
     "metadata": {},
     "output_type": "execute_result"
    },
    {
     "data": {
      "image/png": "[encoded data removed]",
      "text/plain": [
       "<Figure size 432x288 with 1 Axes>"
      ]
     },
     "metadata": {
      "needs_background": "light"
     },
     "output_type": "display_data"
    }
   ],
   "source": [
    "plt.contourf(np.arange(0,1.1,0.1), np.arange(0,1.1,0.1), E_B_matrix)\n"
   ]
  },
  {
   "cell_type": "markdown",
   "metadata": {},
   "source": [
    "The required backup capacity is minimized for $\\gamma$=1 and $\\alpha$=0.9."
   ]
  },
  {
   "cell_type": "code",
   "execution_count": 15,
   "metadata": {},
   "outputs": [
    {
     "data": {
      "text/plain": [
       "<matplotlib.contour.QuadContourSet at 0x257a3fb25c8>"
      ]
     },
     "execution_count": 15,
     "metadata": {},
     "output_type": "execute_result"
    },
    {
     "data": {
      "image/png": "[encoded data removed]",
      "text/plain": [
       "<Figure size 432x288 with 1 Axes>"
      ]
     },
     "metadata": {
      "needs_background": "light"
     },
     "output_type": "display_data"
    }
   ],
   "source": [
    "plt.contourf(np.arange(0,1.1,0.1), np.arange(0,1.1,0.1), C_B_matrix)"
   ]
  },
  {
   "cell_type": "markdown",
   "metadata": {},
   "source": [
    "The curtialed energy is minimized for $\\gamma$=1 and $\\alpha$=0.5"
   ]
  },
  {
   "cell_type": "code",
   "execution_count": 16,
   "metadata": {},
   "outputs": [
    {
     "data": {
      "text/plain": [
       "<matplotlib.contour.QuadContourSet at 0x257a405b688>"
      ]
     },
     "execution_count": 16,
     "metadata": {},
     "output_type": "execute_result"
    },
    {
     "data": {
      "image/png": "[encoded data removed]",
      "text/plain": [
       "<Figure size 432x288 with 1 Axes>"
      ]
     },
     "metadata": {
      "needs_background": "light"
     },
     "output_type": "display_data"
    }
   ],
   "source": [
    "plt.contourf(np.arange(0,1.1,0.1), np.arange(0,1.1,0.1), E_B_matrix)"
   ]
  },
  {
   "cell_type": "code",
   "execution_count": null,
   "metadata": {},
   "outputs": [],
   "source": []
  }
 ],
 "metadata": {
  "kernelspec": {
   "display_name": "Python 3 (ipykernel)",
   "language": "python",
   "name": "python3"
  },
  "language_info": {
   "codemirror_mode": {
    "name": "ipython",
    "version": 3
   },
   "file_extension": ".py",
   "mimetype": "text/x-python",
   "name": "python",
   "nbconvert_exporter": "python",
   "pygments_lexer": "ipython3",
   "version": "3.7.10"
  }
 },
 "nbformat": 4,
 "nbformat_minor": 4
}
