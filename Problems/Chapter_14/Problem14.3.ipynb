{
 "cells": [
  {
   "cell_type": "markdown",
   "metadata": {},
   "source": [
    "**Fundamentals of Solar Cells and Photovoltaic Systems Engineering**\n",
    "\n",
    "**Solutions Manual**\n",
    "\n",
    "**Problem 14.3**\n"
   ]
  },
  {
   "cell_type": "markdown",
   "metadata": {},
   "source": [
    "**Select one country and one city within the country. Plot the duration curve of capacity factor time series for solar PV and wind in both cases.**"
   ]
  },
  {
   "cell_type": "markdown",
   "metadata": {},
   "source": [
    "We downloaded solar PV and wind time series for Spain and Madrid from https://model.energy/ and saved it in the data folder."
   ]
  },
  {
   "cell_type": "markdown",
   "metadata": {},
   "source": [
    "We will use the packages [pandas](https://pandas.org/) and [matplotlib.pyplot](https://matplotlib.org/stable/index.html) to plot the results"
   ]
  },
  {
   "cell_type": "code",
   "execution_count": 1,
   "metadata": {},
   "outputs": [],
   "source": [
    "import pandas as pd\n",
    "import matplotlib.pyplot as  plt\n",
    "import matplotlib.gridspec as gridspec"
   ]
  },
  {
   "cell_type": "markdown",
   "metadata": {},
   "source": [
    "First, we load the time series. "
   ]
  },
  {
   "cell_type": "code",
   "execution_count": 2,
   "metadata": {},
   "outputs": [
    {
     "data": {
      "text/html": [
       "<div>\n",
       "<style scoped>\n",
       "    .dataframe tbody tr th:only-of-type {\n",
       "        vertical-align: middle;\n",
       "    }\n",
       "\n",
       "    .dataframe tbody tr th {\n",
       "        vertical-align: top;\n",
       "    }\n",
       "\n",
       "    .dataframe thead th {\n",
       "        text-align: right;\n",
       "    }\n",
       "</style>\n",
       "<table border=\"1\" class=\"dataframe\">\n",
       "  <thead>\n",
       "    <tr style=\"text-align: right;\">\n",
       "      <th></th>\n",
       "      <th>solar</th>\n",
       "      <th>onwind</th>\n",
       "    </tr>\n",
       "    <tr>\n",
       "      <th>time</th>\n",
       "      <th></th>\n",
       "      <th></th>\n",
       "    </tr>\n",
       "  </thead>\n",
       "  <tbody>\n",
       "    <tr>\n",
       "      <th>2011-01-01 00:00:00</th>\n",
       "      <td>0.0</td>\n",
       "      <td>0.003</td>\n",
       "    </tr>\n",
       "    <tr>\n",
       "      <th>2011-01-01 01:00:00</th>\n",
       "      <td>0.0</td>\n",
       "      <td>0.000</td>\n",
       "    </tr>\n",
       "    <tr>\n",
       "      <th>2011-01-01 02:00:00</th>\n",
       "      <td>0.0</td>\n",
       "      <td>0.000</td>\n",
       "    </tr>\n",
       "    <tr>\n",
       "      <th>2011-01-01 03:00:00</th>\n",
       "      <td>0.0</td>\n",
       "      <td>0.001</td>\n",
       "    </tr>\n",
       "    <tr>\n",
       "      <th>2011-01-01 04:00:00</th>\n",
       "      <td>0.0</td>\n",
       "      <td>0.001</td>\n",
       "    </tr>\n",
       "  </tbody>\n",
       "</table>\n",
       "</div>"
      ],
      "text/plain": [
       "                     solar  onwind\n",
       "time                              \n",
       "2011-01-01 00:00:00    0.0   0.003\n",
       "2011-01-01 01:00:00    0.0   0.000\n",
       "2011-01-01 02:00:00    0.0   0.000\n",
       "2011-01-01 03:00:00    0.0   0.001\n",
       "2011-01-01 04:00:00    0.0   0.001"
      ]
     },
     "execution_count": 2,
     "metadata": {},
     "output_type": "execute_result"
    }
   ],
   "source": [
    "CF_city=pd.read_csv('data/time-series-MADRID.csv',\n",
    "                  sep=',', index_col=0)\n",
    "\n",
    "CF_country=pd.read_csv('data/time-series-SPAIN.csv',\n",
    "                  sep=',', index_col=0)\n",
    "CF_city.head()"
   ]
  },
  {
   "cell_type": "markdown",
   "metadata": {},
   "source": [
    "We start by plotting the duration curve for solar PV capacity factors"
   ]
  },
  {
   "cell_type": "code",
   "execution_count": 3,
   "metadata": {},
   "outputs": [
    {
     "data": {
      "text/plain": [
       "Text(0, 0.5, 'CF onshore wind')"
      ]
     },
     "execution_count": 3,
     "metadata": {},
     "output_type": "execute_result"
    },
    {
     "data": {
      "image/png": "[encoded data removed]",
      "text/plain": [
       "<Figure size 360x360 with 1 Axes>"
      ]
     },
     "metadata": {
      "needs_background": "light"
     },
     "output_type": "display_data"
    }
   ],
   "source": [
    "plt.figure(figsize=(5, 5))\n",
    "gs = gridspec.GridSpec(1, 1)\n",
    "ax0 = plt.subplot(gs[0,0])\n",
    "ax0.plot(CF_city['solar'].sort_values(ascending=False).values, \n",
    "             color='orange',\n",
    "             linewidth=2,\n",
    "             label='Madrid')\n",
    "\n",
    "ax0.plot(CF_country['solar'].sort_values(ascending=False).values, \n",
    "             color='orange',\n",
    "             linewidth=2,\n",
    "             linestyle='--',\n",
    "             label='Spain')\n",
    "ax0.legend(fancybox=False, fontsize=16, loc='best', facecolor='white', ncol=1, frameon=True)\n",
    "ax0.set_xlabel('hours')\n",
    "ax0.set_ylabel('CF onshore wind')"
   ]
  },
  {
   "cell_type": "markdown",
   "metadata": {},
   "source": [
    "We plot now the duration curve for onshore wind capacity factors"
   ]
  },
  {
   "cell_type": "code",
   "execution_count": 4,
   "metadata": {},
   "outputs": [
    {
     "data": {
      "text/plain": [
       "Text(0, 0.5, 'CF onshore wind')"
      ]
     },
     "execution_count": 4,
     "metadata": {},
     "output_type": "execute_result"
    },
    {
     "data": {
      "image/png": "[encoded data removed]",
      "text/plain": [
       "<Figure size 360x360 with 1 Axes>"
      ]
     },
     "metadata": {
      "needs_background": "light"
     },
     "output_type": "display_data"
    }
   ],
   "source": [
    "plt.figure(figsize=(5, 5))\n",
    "gs = gridspec.GridSpec(1, 1)\n",
    "ax0 = plt.subplot(gs[0,0])\n",
    "ax0.plot(CF_city['onwind'].sort_values(ascending=False).values, \n",
    "             color='blue',\n",
    "             linewidth=2,\n",
    "             label='Madrid')\n",
    "\n",
    "ax0.plot(CF_country['onwind'].sort_values(ascending=False).values, \n",
    "             color='blue',\n",
    "             linewidth=2,\n",
    "             linestyle='--',\n",
    "             label='Spain')\n",
    "ax0.legend(fancybox=False, fontsize=16, loc='best', facecolor='white', ncol=1, frameon=True)\n",
    "ax0.set_xlabel('hours')\n",
    "ax0.set_ylabel('CF onshore wind')"
   ]
  },
  {
   "cell_type": "markdown",
   "metadata": {},
   "source": [
    "The wind duration curve for the country shows less-extreme maximum and minimum values since wind power gets smoothed by regional integration. This strategy is more effective for wind than for solar due to the shorter correlation length of wind. "
   ]
  },
  {
   "cell_type": "code",
   "execution_count": null,
   "metadata": {},
   "outputs": [],
   "source": []
  }
 ],
 "metadata": {
  "kernelspec": {
   "display_name": "Python 3 (ipykernel)",
   "language": "python",
   "name": "python3"
  },
  "language_info": {
   "codemirror_mode": {
    "name": "ipython",
    "version": 3
   },
   "file_extension": ".py",
   "mimetype": "text/x-python",
   "name": "python",
   "nbconvert_exporter": "python",
   "pygments_lexer": "ipython3",
   "version": "3.7.12"
  }
 },
 "nbformat": 4,
 "nbformat_minor": 4
}
