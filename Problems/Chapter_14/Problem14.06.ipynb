{
 "cells": [
  {
   "cell_type": "markdown",
   "metadata": {},
   "source": [
    "**Fundamentals of Solar Cells and Photovoltaic Systems Engineering**\n",
    "\n",
    "**Solutions Manual**\n",
    "\n",
    "**Problem 14.6**\n"
   ]
  },
  {
   "cell_type": "markdown",
   "metadata": {},
   "source": [
    "**The time series included in the online data repository of this book represents the hourly capacity factor for wind energy in Spain $g_{w}^{Spain}(t)$ and Denmark $g_{w}^{Denmark}(t)$. Assuming a constant electricity demand of 1 GW in every country:**\n",
    "\n",
    "**(a) calculate the required wind capacity in every country to cover, on average, the electricity demand.**"
   ]
  },
  {
   "cell_type": "markdown",
   "metadata": {},
   "source": [
    "We will use the packages [numpy](https://numpy.org/) to operate with arrays and [matplotlib.pyplot](https://matplotlib.org/stable/index.html) to plot the results"
   ]
  },
  {
   "cell_type": "code",
   "execution_count": 12,
   "metadata": {},
   "outputs": [],
   "source": [
    "import pandas as pd\n",
    "import numpy as np\n",
    "import matplotlib.pyplot as  plt"
   ]
  },
  {
   "cell_type": "code",
   "execution_count": 13,
   "metadata": {},
   "outputs": [],
   "source": [
    "CF=pd.read_csv('data/onshore_wind.csv',\n",
    "                      sep=';', index_col=0)\n",
    "CF.index=pd.to_datetime(CF.index)"
   ]
  },
  {
   "cell_type": "markdown",
   "metadata": {},
   "source": [
    "The required capacity to cover on average electricity demand in Denmark can calculated as"
   ]
  },
  {
   "cell_type": "code",
   "execution_count": 14,
   "metadata": {},
   "outputs": [
    {
     "name": "stdout",
     "output_type": "stream",
     "text": [
      "3.6 GW needs to be installed in Denmark\n"
     ]
    }
   ],
   "source": [
    "CF_ave_D = CF['DNK'].mean()\n",
    "G_DNK = 1/CF_ave_D\n",
    "print(str(G_DNK.round(1)) + ' GW needs to be installed in Denmark' )"
   ]
  },
  {
   "cell_type": "markdown",
   "metadata": {},
   "source": [
    "and for Spain"
   ]
  },
  {
   "cell_type": "code",
   "execution_count": 15,
   "metadata": {},
   "outputs": [
    {
     "name": "stdout",
     "output_type": "stream",
     "text": [
      "4.3 GW needs to be installed in Spain\n"
     ]
    }
   ],
   "source": [
    "CF_ave_S = CF['ESP'].mean()\n",
    "G_ESP = 1/CF_ave_S\n",
    "print(str(G_ESP.round(1)) + ' GW needs to be installed in Spain' )"
   ]
  },
  {
   "cell_type": "markdown",
   "metadata": {},
   "source": [
    "**(b) Calculate the required backup energy and power capacity to ensure that demand is covered every hour.**"
   ]
  },
  {
   "cell_type": "markdown",
   "metadata": {},
   "source": [
    "We can define the mismatch as the difference between the renewable generation and electricity load.\n",
    "\n",
    "$\\Delta (t) = g^W(t)- d(t)$ \n",
    "\n",
    "The total backup energy can be calculated as the sum of the negative mismatch."
   ]
  },
  {
   "cell_type": "code",
   "execution_count": 16,
   "metadata": {},
   "outputs": [
    {
     "data": {
      "text/plain": [
       "-2954.3130287540516"
      ]
     },
     "execution_count": 16,
     "metadata": {},
     "output_type": "execute_result"
    }
   ],
   "source": [
    "Delta = np.array([x-1 for x in G_DNK*CF['DNK']])\n",
    "np.sum(Delta[Delta<0])"
   ]
  },
  {
   "cell_type": "markdown",
   "metadata": {},
   "source": [
    "Denmark requires 2,954 GWh of backup energy."
   ]
  },
  {
   "cell_type": "markdown",
   "metadata": {},
   "source": [
    "The capacity for backup generation can be calculated as the maximum of the negative mismatch values. "
   ]
  },
  {
   "cell_type": "code",
   "execution_count": 17,
   "metadata": {},
   "outputs": [
    {
     "data": {
      "text/plain": [
       "0.9923385545773723"
      ]
     },
     "execution_count": 17,
     "metadata": {},
     "output_type": "execute_result"
    }
   ],
   "source": [
    "np.max(np.abs(Delta[Delta<0]))"
   ]
  },
  {
   "cell_type": "markdown",
   "metadata": {},
   "source": [
    "Denmark requires 0.99 GW of backup capacity, i.e., the required capacity is equal to the demand because there would be situations in which the renewable contribution will be zero. "
   ]
  },
  {
   "cell_type": "markdown",
   "metadata": {},
   "source": [
    "For Spain"
   ]
  },
  {
   "cell_type": "code",
   "execution_count": 18,
   "metadata": {},
   "outputs": [
    {
     "data": {
      "text/plain": [
       "-2096.683115772022"
      ]
     },
     "execution_count": 18,
     "metadata": {},
     "output_type": "execute_result"
    }
   ],
   "source": [
    "Delta = np.array([x-1 for x in G_ESP*CF['ESP']])\n",
    "np.sum(Delta[Delta<0])"
   ]
  },
  {
   "cell_type": "code",
   "execution_count": 19,
   "metadata": {},
   "outputs": [
    {
     "data": {
      "text/plain": [
       "0.9003975309781712"
      ]
     },
     "execution_count": 19,
     "metadata": {},
     "output_type": "execute_result"
    }
   ],
   "source": [
    "np.max(np.abs(Delta[Delta<0]))"
   ]
  },
  {
   "cell_type": "markdown",
   "metadata": {},
   "source": [
    "Spain requires 0.9 GW of backup capacity, because there is no situation with wind capacity factor equal to zero in Spain."
   ]
  },
  {
   "cell_type": "code",
   "execution_count": 20,
   "metadata": {},
   "outputs": [
    {
     "data": {
      "text/plain": [
       "0.09960246902182877"
      ]
     },
     "execution_count": 20,
     "metadata": {},
     "output_type": "execute_result"
    }
   ],
   "source": [
    "min(CF['ESP'])*G_ESP"
   ]
  },
  {
   "cell_type": "markdown",
   "metadata": {},
   "source": [
    "**(c) If we assume that Spain and Denmark can be linked by an ideal interconnection (without any losses) and installed capacities are those calculated in section (a). Calculate the required wind capacity, backup energy and power capacity to ensure the hourly supply of demand in both countries.**"
   ]
  },
  {
   "cell_type": "markdown",
   "metadata": {},
   "source": [
    "the mismatch can be defined now as\n",
    "$\\Delta (t) = g^W_{Denmark}(t) + g^W_{Denmark}(t) - 2$ \n",
    "\n",
    "The total backup energy can be calculated as the sum of the negative mismatch."
   ]
  },
  {
   "cell_type": "code",
   "execution_count": 21,
   "metadata": {},
   "outputs": [
    {
     "data": {
      "text/plain": [
       "-3456.6942006056606"
      ]
     },
     "execution_count": 21,
     "metadata": {},
     "output_type": "execute_result"
    }
   ],
   "source": [
    "Delta = np.array([x+y-2 for x,y in zip(G_DNK*CF['DNK'],G_ESP*CF['ESP'])])\n",
    "np.sum(Delta[Delta<0])"
   ]
  },
  {
   "cell_type": "markdown",
   "metadata": {},
   "source": [
    "The two countries will require 3,456 GWh of backup energy, which is significantly lower than the sum of the backup energy that they would required if operated independently."
   ]
  },
  {
   "cell_type": "markdown",
   "metadata": {},
   "source": [
    "The capacity for backup generation can be calculated as the maximum of the negative mismatch values. "
   ]
  },
  {
   "cell_type": "code",
   "execution_count": 22,
   "metadata": {},
   "outputs": [
    {
     "data": {
      "text/plain": [
       "1.7241951029263909"
      ]
     },
     "execution_count": 22,
     "metadata": {},
     "output_type": "execute_result"
    }
   ],
   "source": [
    "np.max(np.abs(Delta[Delta<0]))"
   ]
  },
  {
   "cell_type": "markdown",
   "metadata": {},
   "source": [
    "The two countries require 1.72 GW of backup capacity, which is lower than the backup capacity that they would require if operated independently."
   ]
  }
 ],
 "metadata": {
  "kernelspec": {
   "display_name": "Python 3 (ipykernel)",
   "language": "python",
   "name": "python3"
  },
  "language_info": {
   "codemirror_mode": {
    "name": "ipython",
    "version": 3
   },
   "file_extension": ".py",
   "mimetype": "text/x-python",
   "name": "python",
   "nbconvert_exporter": "python",
   "pygments_lexer": "ipython3",
   "version": "3.7.12"
  }
 },
 "nbformat": 4,
 "nbformat_minor": 4
}
