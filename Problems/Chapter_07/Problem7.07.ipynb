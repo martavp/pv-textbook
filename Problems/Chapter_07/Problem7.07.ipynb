{
 "cells": [
  {
   "cell_type": "markdown",
   "metadata": {},
   "source": [
    "**Fundamentals of Solar Cells and Photovoltaic Systems Engineering**\n",
    "\n",
    "**Solutions Manual - Chapter 7**\n",
    "\n",
    "**Problem 7.7**\n"
   ]
  },
  {
   "cell_type": "markdown",
   "metadata": {},
   "source": [
    "**Use pvlib to translate the single-diode model parameters obtained in Problem 7.4 for the LG345N1W-A5 module at STC into NMOT conditions, and calculate peak power at NMOT. Plot the I-V curve using 100 points and mark the maximum power point.**\n",
    "\n",
    "*Hint: function pvsystem.calcparams_desoto translates the five single-diode model parameters at STC to any other operating conditions*\n"
   ]
  },
  {
   "cell_type": "markdown",
   "metadata": {},
   "source": [
    "We start by importing the package [pvlib](https://pvlib-python.readthedocs.io/en/stable/) and [matplotlib.pyplot](https://matplotlib.org/stable/index.html) to plot the results"
   ]
  },
  {
   "cell_type": "code",
   "execution_count": 6,
   "metadata": {},
   "outputs": [],
   "source": [
    "import pvlib\n",
    "import matplotlib.pyplot as plt"
   ]
  },
  {
   "cell_type": "markdown",
   "metadata": {},
   "source": [
    "We use the single diode model parameters obtained in P7.4:"
   ]
  },
  {
   "cell_type": "code",
   "execution_count": 7,
   "metadata": {},
   "outputs": [],
   "source": [
    "I_L_ref = 10.58 #(A) \n",
    "I_o_ref = 2.55e-11 #(A) \n",
    "R_sh_ref = 155 #(ohms) \n",
    "R_s = 0.21 #(ohms)\n",
    "n_ref = 1\n",
    "# Function pvsystem.calcparams_desoto uses a_ref=n*Ns*Vth instead of just n, so we need to calculate it:\n",
    "cells_in_series = 60 #Ns\n",
    "temp_ref=25+273.15 #K\n",
    "kB=1.38066e-23 #J/K\n",
    "q=1.60218e-19 #C\n",
    "a_ref = n_ref*cells_in_series*kB*temp_ref/q\n",
    "\n",
    "#Furthermore, the function uses thermal coefficients and info on the cell technology.\n",
    "EgRef=1.121 # bandgap of c-Si cells [eV]\n",
    "dEgdT=- 0.0002677 # Sensitivity of bandgap wtih temperature [eV/K]\n",
    "alpha_sc_rel = 0.03 #%/K, given by the manufacturer\n",
    "#pvsystem.calcparams_desoto expects thermal coefficients in absolute units [A/K]\n",
    "i_sc_ref = 10.57 #A, from manufacturer\n",
    "alpha_sc = alpha_sc_rel/100*i_sc_ref #A/K\n"
   ]
  },
  {
   "cell_type": "markdown",
   "metadata": {},
   "source": [
    "Then we use pvsystem.calcparams_desoto to translate the reference single-diode model parameters at STC into NMOT conditions:"
   ]
  },
  {
   "cell_type": "code",
   "execution_count": 9,
   "metadata": {},
   "outputs": [
    {
     "name": "stdout",
     "output_type": "stream",
     "text": [
      "IL = 8.51 (A) I0 = 3.824e-10 (A) Rs = 0.21 (ohms) Rp = 193.8 (ohms) n = 1.0\n"
     ]
    }
   ],
   "source": [
    "# NMOT conditions\n",
    "effective_irradiance=800 #W/m2\n",
    "temp_cell=42 #°C, NMOT\n",
    "\n",
    "# adjust the reference parameters according to the operating\n",
    "# conditions using the De Soto model:\n",
    "I_L_NMOT, I_o_NMOT, R_s_NMOT, R_sh_NMOT, a_NMOT = pvlib.pvsystem.calcparams_desoto(\n",
    "    effective_irradiance,\n",
    "    temp_cell,\n",
    "    alpha_sc,\n",
    "    a_ref,\n",
    "    I_L_ref,\n",
    "    I_o_ref,\n",
    "    R_sh_ref,\n",
    "    R_s,\n",
    "    EgRef,\n",
    "    dEgdT, \n",
    "    irrad_ref=1000, # Reference conditions at which input single diode model parameters are given (STC)\n",
    "    temp_ref=25\n",
    ")\n",
    "n_NMOT=a_NMOT/(cells_in_series*(kB*(temp_cell+273.15)/q))\n",
    "#Print single-diode model parameters\n",
    "print(\"IL =\", round(float(I_L_NMOT), 2), \"(A)\", \"I0 =\", '{:0.3e}'.format(float(I_o_NMOT)), \"(A)\", \"Rs =\", round(float(R_s_NMOT), 3), \"(ohms)\", \"Rp =\", round(float(R_sh_NMOT), 1), \"(ohms)\", \"n =\", round(float(n), 2))\n"
   ]
  },
  {
   "cell_type": "markdown",
   "metadata": {},
   "source": [
    "The translated parameters are identical to those calculated manually in P7.6.\n",
    "\n",
    "Now we calculate the I-V curve for this new set of single-diode model parameters at NMOT:"
   ]
  },
  {
   "cell_type": "code",
   "execution_count": 10,
   "metadata": {},
   "outputs": [],
   "source": [
    "IVcurve=pvlib.pvsystem.singlediode(photocurrent=I_L_NMOT, \n",
    "                             saturation_current=I_o_NMOT, \n",
    "                             resistance_series=R_s_NMOT, \n",
    "                             resistance_shunt=R_sh_NMOT,\n",
    "                             nNsVth=a_NMOT, \n",
    "                             ivcurve_pnts=100, \n",
    "                             method='lambertw')"
   ]
  },
  {
   "cell_type": "code",
   "execution_count": 12,
   "metadata": {},
   "outputs": [
    {
     "name": "stdout",
     "output_type": "stream",
     "text": [
      "Vmp = 32.23 (V) Imp = 7.92 (A) Pmax = 255.2 (W)\n"
     ]
    },
    {
     "data": {
      "image/png": "[encoded data removed]",
      "text/plain": [
       "<Figure size 640x480 with 1 Axes>"
      ]
     },
     "metadata": {},
     "output_type": "display_data"
    }
   ],
   "source": [
    "#Plot the I-V curve\n",
    "plt.plot(IVcurve['v'],IVcurve['i'],'.-', label=\"I-V curve\")\n",
    "plt.ylabel('Voltage (V)')\n",
    "plt.xlabel('Current (A)')\n",
    "\n",
    "#Identify the values of the maximum power point to mark it on the graph\n",
    "v_mp = IVcurve['v_mp']\n",
    "i_mp = IVcurve['i_mp']\n",
    "\n",
    "filled_marker_style = dict(marker='o', markersize=7,\n",
    "                           color='darkgrey',\n",
    "                           markerfacecolor='yellow',\n",
    "                           markeredgecolor='black')\n",
    "#Plot a marker at the maximum power point\n",
    "plt.plot([v_mp], [i_mp], ls='', **filled_marker_style)\n",
    "plt.annotate('$P_{max}$', xy=(33, 8), xycoords='data')\n",
    "\n",
    "#Print Pmax values\n",
    "print(\"Vmp =\", round(float(v_mp), 2), \"(V)\", \"Imp =\", round(float(i_mp), 2), \"(A)\", \"Pmax =\", round(float(v_mp * i_mp), 1), \"(W)\")"
   ]
  },
  {
   "cell_type": "code",
   "execution_count": null,
   "metadata": {},
   "outputs": [],
   "source": []
  }
 ],
 "metadata": {
  "kernelspec": {
   "display_name": "Python 3 (ipykernel)",
   "language": "python",
   "name": "python3"
  },
  "language_info": {
   "codemirror_mode": {
    "name": "ipython",
    "version": 3
   },
   "file_extension": ".py",
   "mimetype": "text/x-python",
   "name": "python",
   "nbconvert_exporter": "python",
   "pygments_lexer": "ipython3",
   "version": "3.8.8"
  }
 },
 "nbformat": 4,
 "nbformat_minor": 4
}
