{
 "cells": [
  {
   "cell_type": "markdown",
   "metadata": {},
   "source": [
    "**Fundamentals of Solar Cells and Photovoltaic Systems Engineering**\n",
    "\n",
    "**Solutions Manual - Chapter 7**\n",
    "\n",
    "**Problem 7.5**\n"
   ]
  },
  {
   "cell_type": "markdown",
   "metadata": {},
   "source": [
    "**Use pvlib to estimate the single-diode model parameters for the LG345N1W-A5 module at STC. Compare them with the parameters you obtained in Problem 7.4. Finally, use pvlib again to plot the resulting I-V curve using 100 points and mark the maximum power point.**\n",
    "\n",
    "*Hint: the function ivtools.sdm.fit_desoto fits the five single-diode model parameters to the I-V parameters provided by the manufacturer at STC. The function solves a system of non-linear equations using the optimize.root function of the Python Scipy library. It is recommended to use the Levenberg-Marquardt algorithm for convergence, passing the argument root_kwargs={\"method\": 'lm'} to the fit_desoto function. Also, note that the diode ideality factor is managed as a part of the product n·NS·VT (nNsVth or a parameters in pvlib) instead of just n. The functions pvlib.pvsystem.i_from_v or pvsystem.singlediode solve the single diode model for any input parameters to obtain the resulting I-V curve.*\n"
   ]
  },
  {
   "cell_type": "markdown",
   "metadata": {},
   "source": [
    "We start by importing the package [pvlib](https://pvlib-python.readthedocs.io/en/stable/) and [matplotlib.pyplot](https://matplotlib.org/stable/index.html) to plot the results"
   ]
  },
  {
   "cell_type": "code",
   "execution_count": 1,
   "metadata": {},
   "outputs": [],
   "source": [
    "import pvlib\n",
    "import matplotlib.pyplot as plt"
   ]
  },
  {
   "cell_type": "markdown",
   "metadata": {},
   "source": [
    "We define the values in the manufacturer's datasheet and use the funcion pvlib.ivtools.sdm.fit_desoto()"
   ]
  },
  {
   "cell_type": "code",
   "execution_count": 3,
   "metadata": {},
   "outputs": [],
   "source": [
    "i_sc= 10.69 #A\n",
    "v_oc = 48.59 #V\n",
    "i_mp = 10.18 #A\n",
    "v_mp = 40.77 #V\n",
    "alpha_sc = 0.04 #&/K\n",
    "beta_voc = -0.27 #%/K\n",
    "cells_in_series = 72\n",
    "single_diodo_parameters = pvlib.ivtools.sdm.fit_desoto(v_mp, \n",
    "                             i_mp, \n",
    "                             v_oc, \n",
    "                             i_sc, \n",
    "                             alpha_sc, \n",
    "                             beta_voc, \n",
    "                             cells_in_series, \n",
    "                             EgRef=1.121, \n",
    "                             dEgdT=- 0.0002677, \n",
    "                             temp_ref=25, \n",
    "                             irrad_ref=1000, \n",
    "                             root_kwargs={\"method\": 'lm'})"
   ]
  },
  {
   "cell_type": "markdown",
   "metadata": {},
   "source": [
    "The 5 parameters for the single-diode model are:"
   ]
  },
  {
   "cell_type": "code",
   "execution_count": 4,
   "metadata": {},
   "outputs": [],
   "source": [
    "I_L=single_diodo_parameters[0]['I_L_ref']\n",
    "I_o=single_diodo_parameters[0]['I_o_ref']\n",
    "R_s=single_diodo_parameters[0]['R_s']\n",
    "R_sh=single_diodo_parameters[0]['R_sh_ref']\n",
    "n=1"
   ]
  },
  {
   "cell_type": "markdown",
   "metadata": {},
   "source": [
    "The thermal voltage can be estimated as:"
   ]
  },
  {
   "cell_type": "code",
   "execution_count": 5,
   "metadata": {},
   "outputs": [],
   "source": [
    "nNsVth=n*cells_in_series*0.025"
   ]
  },
  {
   "cell_type": "markdown",
   "metadata": {},
   "source": [
    "Once the parameters have been obtained, PVLIB provides a function to compute the resulting I V curve with any given number of data points. The user can choose between Lambert W exact solution or numerical optimization methods (Newton-Raphson or Brent’s bisection search)."
   ]
  },
  {
   "cell_type": "code",
   "execution_count": 6,
   "metadata": {},
   "outputs": [],
   "source": [
    "IVcurve=pvlib.pvsystem.singlediode(photocurrent=I_L, \n",
    "                             saturation_current=I_o, \n",
    "                             resistance_series=R_s, \n",
    "                             resistance_shunt=R_sh,\n",
    "                             nNsVth=nNsVth, \n",
    "                             ivcurve_pnts=10, \n",
    "                             method='lambertw')"
   ]
  },
  {
   "cell_type": "code",
   "execution_count": 7,
   "metadata": {},
   "outputs": [
    {
     "data": {
      "text/plain": [
       "Text(0.5, 0, 'Current (A)')"
      ]
     },
     "execution_count": 7,
     "metadata": {},
     "output_type": "execute_result"
    },
    {
     "data": {
      "image/png": "[encoded data removed]",
      "text/plain": [
       "<Figure size 432x288 with 1 Axes>"
      ]
     },
     "metadata": {
      "needs_background": "light"
     },
     "output_type": "display_data"
    }
   ],
   "source": [
    "plt.plot(IVcurve['v'],IVcurve['i'],'.-')\n",
    "plt.ylabel('Voltage (V)')\n",
    "plt.xlabel('Current (A)')"
   ]
  },
  {
   "cell_type": "markdown",
   "metadata": {},
   "source": [
    "We can now plot the IV curve again considering 100 points. "
   ]
  },
  {
   "cell_type": "code",
   "execution_count": 8,
   "metadata": {},
   "outputs": [],
   "source": [
    "IVcurve100=pvlib.pvsystem.singlediode(photocurrent=I_L, \n",
    "                             saturation_current=I_o, \n",
    "                             resistance_series=R_s, \n",
    "                             resistance_shunt=R_sh,\n",
    "                             nNsVth=nNsVth, \n",
    "                             ivcurve_pnts=100, \n",
    "                             method='lambertw')"
   ]
  },
  {
   "cell_type": "code",
   "execution_count": 9,
   "metadata": {},
   "outputs": [
    {
     "data": {
      "text/plain": [
       "Text(0.5, 0, 'Current (A)')"
      ]
     },
     "execution_count": 9,
     "metadata": {},
     "output_type": "execute_result"
    },
    {
     "data": {
      "image/png": "[encoded data removed]",
      "text/plain": [
       "<Figure size 432x288 with 1 Axes>"
      ]
     },
     "metadata": {
      "needs_background": "light"
     },
     "output_type": "display_data"
    }
   ],
   "source": [
    "plt.plot(IVcurve100['v'],IVcurve100['i'],'.-')\n",
    "plt.ylabel('Voltage (V)')\n",
    "plt.xlabel('Current (A)')"
   ]
  },
  {
   "cell_type": "code",
   "execution_count": null,
   "metadata": {},
   "outputs": [],
   "source": []
  }
 ],
 "metadata": {
  "kernelspec": {
   "display_name": "Python 3 (ipykernel)",
   "language": "python",
   "name": "python3"
  },
  "language_info": {
   "codemirror_mode": {
    "name": "ipython",
    "version": 3
   },
   "file_extension": ".py",
   "mimetype": "text/x-python",
   "name": "python",
   "nbconvert_exporter": "python",
   "pygments_lexer": "ipython3",
   "version": "3.7.12"
  }
 },
 "nbformat": 4,
 "nbformat_minor": 4
}
